{
 "cells": [
  {
   "cell_type": "code",
   "execution_count": 1,
   "id": "initial_id",
   "metadata": {
    "collapsed": true,
    "ExecuteTime": {
     "end_time": "2023-11-16T10:22:48.062392700Z",
     "start_time": "2023-11-16T10:22:48.050174400Z"
    }
   },
   "outputs": [],
   "source": [
    "# Importing libraries\n",
    "import pandas as pd\n",
    "import numpy as np\n",
    "import os\n",
    "import matplotlib.pyplot as plt\n",
    "import seaborn as sns\n",
    "plt.style.use('dark_background')\n",
    "import scipy"
   ]
  },
  {
   "cell_type": "code",
   "execution_count": 2,
   "outputs": [],
   "source": [
    "path = r'C:\\Users\\honoc\\Documents\\CareerFoundry Folder\\Advanced Analytics and Dashboard Design\\Zomato Folder'\n",
    "path\n",
    "df_zomato = pd.read_csv(os.path.join(path, 'Original data', 'zomato.csv'), index_col = False)"
   ],
   "metadata": {
    "collapsed": false,
    "ExecuteTime": {
     "end_time": "2023-11-16T10:23:31.465502600Z",
     "start_time": "2023-11-16T10:23:24.080715Z"
    }
   },
   "id": "b9bc4b3e072adbf2"
  },
  {
   "cell_type": "code",
   "execution_count": 3,
   "outputs": [
    {
     "data": {
      "text/plain": "                                                 url  \\\n0  https://www.zomato.com/bangalore/jalsa-banasha...   \n1  https://www.zomato.com/bangalore/spice-elephan...   \n2  https://www.zomato.com/SanchurroBangalore?cont...   \n3  https://www.zomato.com/bangalore/addhuri-udupi...   \n4  https://www.zomato.com/bangalore/grand-village...   \n\n                                             address                   name  \\\n0  942, 21st Main Road, 2nd Stage, Banashankari, ...                  Jalsa   \n1  2nd Floor, 80 Feet Road, Near Big Bazaar, 6th ...         Spice Elephant   \n2  1112, Next to KIMS Medical College, 17th Cross...        San Churro Cafe   \n3  1st Floor, Annakuteera, 3rd Stage, Banashankar...  Addhuri Udupi Bhojana   \n4  10, 3rd Floor, Lakshmi Associates, Gandhi Baza...          Grand Village   \n\n  online_order book_table   rate  votes                             phone  \\\n0          Yes        Yes  4.1/5    775    080 42297555\\r\\n+91 9743772233   \n1          Yes         No  4.1/5    787                      080 41714161   \n2          Yes         No  3.8/5    918                    +91 9663487993   \n3           No         No  3.7/5     88                    +91 9620009302   \n4           No         No  3.8/5    166  +91 8026612447\\r\\n+91 9901210005   \n\n       location            rest_type  \\\n0  Banashankari        Casual Dining   \n1  Banashankari        Casual Dining   \n2  Banashankari  Cafe, Casual Dining   \n3  Banashankari          Quick Bites   \n4  Basavanagudi        Casual Dining   \n\n                                          dish_liked  \\\n0  Pasta, Lunch Buffet, Masala Papad, Paneer Laja...   \n1  Momos, Lunch Buffet, Chocolate Nirvana, Thai G...   \n2  Churros, Cannelloni, Minestrone Soup, Hot Choc...   \n3                                        Masala Dosa   \n4                                Panipuri, Gol Gappe   \n\n                         cuisines approx_cost(for two people)  \\\n0  North Indian, Mughlai, Chinese                         800   \n1     Chinese, North Indian, Thai                         800   \n2          Cafe, Mexican, Italian                         800   \n3      South Indian, North Indian                         300   \n4        North Indian, Rajasthani                         600   \n\n                                        reviews_list menu_item  \\\n0  [('Rated 4.0', 'RATED\\n  A beautiful place to ...        []   \n1  [('Rated 4.0', 'RATED\\n  Had been here for din...        []   \n2  [('Rated 3.0', \"RATED\\n  Ambience is not that ...        []   \n3  [('Rated 4.0', \"RATED\\n  Great food and proper...        []   \n4  [('Rated 4.0', 'RATED\\n  Very good restaurant ...        []   \n\n  listed_in(type) listed_in(city)  \n0          Buffet    Banashankari  \n1          Buffet    Banashankari  \n2          Buffet    Banashankari  \n3          Buffet    Banashankari  \n4          Buffet    Banashankari  ",
      "text/html": "<div>\n<style scoped>\n    .dataframe tbody tr th:only-of-type {\n        vertical-align: middle;\n    }\n\n    .dataframe tbody tr th {\n        vertical-align: top;\n    }\n\n    .dataframe thead th {\n        text-align: right;\n    }\n</style>\n<table border=\"1\" class=\"dataframe\">\n  <thead>\n    <tr style=\"text-align: right;\">\n      <th></th>\n      <th>url</th>\n      <th>address</th>\n      <th>name</th>\n      <th>online_order</th>\n      <th>book_table</th>\n      <th>rate</th>\n      <th>votes</th>\n      <th>phone</th>\n      <th>location</th>\n      <th>rest_type</th>\n      <th>dish_liked</th>\n      <th>cuisines</th>\n      <th>approx_cost(for two people)</th>\n      <th>reviews_list</th>\n      <th>menu_item</th>\n      <th>listed_in(type)</th>\n      <th>listed_in(city)</th>\n    </tr>\n  </thead>\n  <tbody>\n    <tr>\n      <th>0</th>\n      <td>https://www.zomato.com/bangalore/jalsa-banasha...</td>\n      <td>942, 21st Main Road, 2nd Stage, Banashankari, ...</td>\n      <td>Jalsa</td>\n      <td>Yes</td>\n      <td>Yes</td>\n      <td>4.1/5</td>\n      <td>775</td>\n      <td>080 42297555\\r\\n+91 9743772233</td>\n      <td>Banashankari</td>\n      <td>Casual Dining</td>\n      <td>Pasta, Lunch Buffet, Masala Papad, Paneer Laja...</td>\n      <td>North Indian, Mughlai, Chinese</td>\n      <td>800</td>\n      <td>[('Rated 4.0', 'RATED\\n  A beautiful place to ...</td>\n      <td>[]</td>\n      <td>Buffet</td>\n      <td>Banashankari</td>\n    </tr>\n    <tr>\n      <th>1</th>\n      <td>https://www.zomato.com/bangalore/spice-elephan...</td>\n      <td>2nd Floor, 80 Feet Road, Near Big Bazaar, 6th ...</td>\n      <td>Spice Elephant</td>\n      <td>Yes</td>\n      <td>No</td>\n      <td>4.1/5</td>\n      <td>787</td>\n      <td>080 41714161</td>\n      <td>Banashankari</td>\n      <td>Casual Dining</td>\n      <td>Momos, Lunch Buffet, Chocolate Nirvana, Thai G...</td>\n      <td>Chinese, North Indian, Thai</td>\n      <td>800</td>\n      <td>[('Rated 4.0', 'RATED\\n  Had been here for din...</td>\n      <td>[]</td>\n      <td>Buffet</td>\n      <td>Banashankari</td>\n    </tr>\n    <tr>\n      <th>2</th>\n      <td>https://www.zomato.com/SanchurroBangalore?cont...</td>\n      <td>1112, Next to KIMS Medical College, 17th Cross...</td>\n      <td>San Churro Cafe</td>\n      <td>Yes</td>\n      <td>No</td>\n      <td>3.8/5</td>\n      <td>918</td>\n      <td>+91 9663487993</td>\n      <td>Banashankari</td>\n      <td>Cafe, Casual Dining</td>\n      <td>Churros, Cannelloni, Minestrone Soup, Hot Choc...</td>\n      <td>Cafe, Mexican, Italian</td>\n      <td>800</td>\n      <td>[('Rated 3.0', \"RATED\\n  Ambience is not that ...</td>\n      <td>[]</td>\n      <td>Buffet</td>\n      <td>Banashankari</td>\n    </tr>\n    <tr>\n      <th>3</th>\n      <td>https://www.zomato.com/bangalore/addhuri-udupi...</td>\n      <td>1st Floor, Annakuteera, 3rd Stage, Banashankar...</td>\n      <td>Addhuri Udupi Bhojana</td>\n      <td>No</td>\n      <td>No</td>\n      <td>3.7/5</td>\n      <td>88</td>\n      <td>+91 9620009302</td>\n      <td>Banashankari</td>\n      <td>Quick Bites</td>\n      <td>Masala Dosa</td>\n      <td>South Indian, North Indian</td>\n      <td>300</td>\n      <td>[('Rated 4.0', \"RATED\\n  Great food and proper...</td>\n      <td>[]</td>\n      <td>Buffet</td>\n      <td>Banashankari</td>\n    </tr>\n    <tr>\n      <th>4</th>\n      <td>https://www.zomato.com/bangalore/grand-village...</td>\n      <td>10, 3rd Floor, Lakshmi Associates, Gandhi Baza...</td>\n      <td>Grand Village</td>\n      <td>No</td>\n      <td>No</td>\n      <td>3.8/5</td>\n      <td>166</td>\n      <td>+91 8026612447\\r\\n+91 9901210005</td>\n      <td>Basavanagudi</td>\n      <td>Casual Dining</td>\n      <td>Panipuri, Gol Gappe</td>\n      <td>North Indian, Rajasthani</td>\n      <td>600</td>\n      <td>[('Rated 4.0', 'RATED\\n  Very good restaurant ...</td>\n      <td>[]</td>\n      <td>Buffet</td>\n      <td>Banashankari</td>\n    </tr>\n  </tbody>\n</table>\n</div>"
     },
     "execution_count": 3,
     "metadata": {},
     "output_type": "execute_result"
    }
   ],
   "source": [
    "df_zomato.head()"
   ],
   "metadata": {
    "collapsed": false,
    "ExecuteTime": {
     "end_time": "2023-11-16T10:23:54.102106200Z",
     "start_time": "2023-11-16T10:23:53.915640300Z"
    }
   },
   "id": "426db65e3b5edf6a"
  },
  {
   "cell_type": "code",
   "execution_count": 4,
   "outputs": [
    {
     "data": {
      "text/plain": "(51717, 17)"
     },
     "execution_count": 4,
     "metadata": {},
     "output_type": "execute_result"
    }
   ],
   "source": [
    "df_zomato.shape"
   ],
   "metadata": {
    "collapsed": false,
    "ExecuteTime": {
     "end_time": "2023-11-16T10:31:55.197737200Z",
     "start_time": "2023-11-16T10:31:55.167815600Z"
    }
   },
   "id": "4febda4ab68c895d"
  },
  {
   "cell_type": "code",
   "execution_count": 5,
   "outputs": [
    {
     "data": {
      "text/plain": "Index(['url', 'address', 'name', 'online_order', 'book_table', 'rate', 'votes',\n       'phone', 'location', 'rest_type', 'dish_liked', 'cuisines',\n       'approx_cost(for two people)', 'reviews_list', 'menu_item',\n       'listed_in(type)', 'listed_in(city)'],\n      dtype='object')"
     },
     "execution_count": 5,
     "metadata": {},
     "output_type": "execute_result"
    }
   ],
   "source": [
    "df_zomato.columns"
   ],
   "metadata": {
    "collapsed": false,
    "ExecuteTime": {
     "end_time": "2023-11-16T10:32:20.725782200Z",
     "start_time": "2023-11-16T10:32:20.592616700Z"
    }
   },
   "id": "6c922059a66cee5d"
  },
  {
   "cell_type": "markdown",
   "source": [
    "Dropping columns not important for this project"
   ],
   "metadata": {
    "collapsed": false
   },
   "id": "1105dab7189a7fd4"
  },
  {
   "cell_type": "code",
   "execution_count": 6,
   "outputs": [],
   "source": [
    "df_zomato = df_zomato.drop(['url', 'address', 'phone', 'menu_item', 'dish_liked', 'reviews_list'], axis=1)"
   ],
   "metadata": {
    "collapsed": false,
    "ExecuteTime": {
     "end_time": "2023-11-16T10:37:11.727816Z",
     "start_time": "2023-11-16T10:37:11.693902800Z"
    }
   },
   "id": "8329d1eca4a9a61f"
  },
  {
   "cell_type": "code",
   "execution_count": 7,
   "outputs": [
    {
     "data": {
      "text/plain": "                    name online_order book_table   rate  votes      location  \\\n0                  Jalsa          Yes        Yes  4.1/5    775  Banashankari   \n1         Spice Elephant          Yes         No  4.1/5    787  Banashankari   \n2        San Churro Cafe          Yes         No  3.8/5    918  Banashankari   \n3  Addhuri Udupi Bhojana           No         No  3.7/5     88  Banashankari   \n4          Grand Village           No         No  3.8/5    166  Basavanagudi   \n\n             rest_type                        cuisines  \\\n0        Casual Dining  North Indian, Mughlai, Chinese   \n1        Casual Dining     Chinese, North Indian, Thai   \n2  Cafe, Casual Dining          Cafe, Mexican, Italian   \n3          Quick Bites      South Indian, North Indian   \n4        Casual Dining        North Indian, Rajasthani   \n\n  approx_cost(for two people) listed_in(type) listed_in(city)  \n0                         800          Buffet    Banashankari  \n1                         800          Buffet    Banashankari  \n2                         800          Buffet    Banashankari  \n3                         300          Buffet    Banashankari  \n4                         600          Buffet    Banashankari  ",
      "text/html": "<div>\n<style scoped>\n    .dataframe tbody tr th:only-of-type {\n        vertical-align: middle;\n    }\n\n    .dataframe tbody tr th {\n        vertical-align: top;\n    }\n\n    .dataframe thead th {\n        text-align: right;\n    }\n</style>\n<table border=\"1\" class=\"dataframe\">\n  <thead>\n    <tr style=\"text-align: right;\">\n      <th></th>\n      <th>name</th>\n      <th>online_order</th>\n      <th>book_table</th>\n      <th>rate</th>\n      <th>votes</th>\n      <th>location</th>\n      <th>rest_type</th>\n      <th>cuisines</th>\n      <th>approx_cost(for two people)</th>\n      <th>listed_in(type)</th>\n      <th>listed_in(city)</th>\n    </tr>\n  </thead>\n  <tbody>\n    <tr>\n      <th>0</th>\n      <td>Jalsa</td>\n      <td>Yes</td>\n      <td>Yes</td>\n      <td>4.1/5</td>\n      <td>775</td>\n      <td>Banashankari</td>\n      <td>Casual Dining</td>\n      <td>North Indian, Mughlai, Chinese</td>\n      <td>800</td>\n      <td>Buffet</td>\n      <td>Banashankari</td>\n    </tr>\n    <tr>\n      <th>1</th>\n      <td>Spice Elephant</td>\n      <td>Yes</td>\n      <td>No</td>\n      <td>4.1/5</td>\n      <td>787</td>\n      <td>Banashankari</td>\n      <td>Casual Dining</td>\n      <td>Chinese, North Indian, Thai</td>\n      <td>800</td>\n      <td>Buffet</td>\n      <td>Banashankari</td>\n    </tr>\n    <tr>\n      <th>2</th>\n      <td>San Churro Cafe</td>\n      <td>Yes</td>\n      <td>No</td>\n      <td>3.8/5</td>\n      <td>918</td>\n      <td>Banashankari</td>\n      <td>Cafe, Casual Dining</td>\n      <td>Cafe, Mexican, Italian</td>\n      <td>800</td>\n      <td>Buffet</td>\n      <td>Banashankari</td>\n    </tr>\n    <tr>\n      <th>3</th>\n      <td>Addhuri Udupi Bhojana</td>\n      <td>No</td>\n      <td>No</td>\n      <td>3.7/5</td>\n      <td>88</td>\n      <td>Banashankari</td>\n      <td>Quick Bites</td>\n      <td>South Indian, North Indian</td>\n      <td>300</td>\n      <td>Buffet</td>\n      <td>Banashankari</td>\n    </tr>\n    <tr>\n      <th>4</th>\n      <td>Grand Village</td>\n      <td>No</td>\n      <td>No</td>\n      <td>3.8/5</td>\n      <td>166</td>\n      <td>Basavanagudi</td>\n      <td>Casual Dining</td>\n      <td>North Indian, Rajasthani</td>\n      <td>600</td>\n      <td>Buffet</td>\n      <td>Banashankari</td>\n    </tr>\n  </tbody>\n</table>\n</div>"
     },
     "execution_count": 7,
     "metadata": {},
     "output_type": "execute_result"
    }
   ],
   "source": [
    "df_zomato.head()"
   ],
   "metadata": {
    "collapsed": false,
    "ExecuteTime": {
     "end_time": "2023-11-16T10:37:27.581936100Z",
     "start_time": "2023-11-16T10:37:27.549472300Z"
    }
   },
   "id": "bde9f4b187b2f78f"
  },
  {
   "cell_type": "code",
   "execution_count": 8,
   "outputs": [
    {
     "name": "stdout",
     "output_type": "stream",
     "text": [
      "<class 'pandas.core.frame.DataFrame'>\n",
      "RangeIndex: 51717 entries, 0 to 51716\n",
      "Data columns (total 11 columns):\n",
      " #   Column                       Non-Null Count  Dtype \n",
      "---  ------                       --------------  ----- \n",
      " 0   name                         51717 non-null  object\n",
      " 1   online_order                 51717 non-null  object\n",
      " 2   book_table                   51717 non-null  object\n",
      " 3   rate                         43942 non-null  object\n",
      " 4   votes                        51717 non-null  int64 \n",
      " 5   location                     51696 non-null  object\n",
      " 6   rest_type                    51490 non-null  object\n",
      " 7   cuisines                     51672 non-null  object\n",
      " 8   approx_cost(for two people)  51371 non-null  object\n",
      " 9   listed_in(type)              51717 non-null  object\n",
      " 10  listed_in(city)              51717 non-null  object\n",
      "dtypes: int64(1), object(10)\n",
      "memory usage: 4.3+ MB\n"
     ]
    }
   ],
   "source": [
    "df_zomato.info()"
   ],
   "metadata": {
    "collapsed": false,
    "ExecuteTime": {
     "end_time": "2023-11-16T10:38:08.814821Z",
     "start_time": "2023-11-16T10:38:08.774412200Z"
    }
   },
   "id": "2ba0a81041c3036f"
  },
  {
   "cell_type": "markdown",
   "source": [
    "Checking for Mixed-type columns"
   ],
   "metadata": {
    "collapsed": false
   },
   "id": "ffeff8442a1d4662"
  },
  {
   "cell_type": "code",
   "execution_count": 9,
   "outputs": [
    {
     "name": "stdout",
     "output_type": "stream",
     "text": [
      "rate\n",
      "location\n",
      "rest_type\n",
      "cuisines\n",
      "approx_cost(for two people)\n"
     ]
    }
   ],
   "source": [
    "for col in df_zomato.columns.tolist():\n",
    "    weird = (df_zomato[[col]].applymap(type) != df_zomato[[col]].iloc[0].apply(type)).any(axis = 1)\n",
    "    if len(df_zomato[weird]) > 0:\n",
    "        print(col)"
   ],
   "metadata": {
    "collapsed": false,
    "ExecuteTime": {
     "end_time": "2023-11-16T10:39:23.138426Z",
     "start_time": "2023-11-16T10:39:22.960837500Z"
    }
   },
   "id": "9f0f42213a227296"
  },
  {
   "cell_type": "markdown",
   "source": [
    "Checking for and Dropping Duplicates"
   ],
   "metadata": {
    "collapsed": false
   },
   "id": "df9c1138282480b6"
  },
  {
   "cell_type": "code",
   "execution_count": 10,
   "outputs": [],
   "source": [
    "df_zomato.drop_duplicates(inplace= True)"
   ],
   "metadata": {
    "collapsed": false,
    "ExecuteTime": {
     "end_time": "2023-11-16T10:41:33.434057800Z",
     "start_time": "2023-11-16T10:41:33.351703200Z"
    }
   },
   "id": "7c2c2d71bb6c0e59"
  },
  {
   "cell_type": "code",
   "execution_count": 11,
   "outputs": [
    {
     "data": {
      "text/plain": "(51609, 11)"
     },
     "execution_count": 11,
     "metadata": {},
     "output_type": "execute_result"
    }
   ],
   "source": [
    "df_zomato.shape"
   ],
   "metadata": {
    "collapsed": false,
    "ExecuteTime": {
     "end_time": "2023-11-16T10:41:52.886664600Z",
     "start_time": "2023-11-16T10:41:52.855748600Z"
    }
   },
   "id": "2f691f2c00f9a85e"
  },
  {
   "cell_type": "markdown",
   "source": [
    "108 DUPLICATES DROPPED"
   ],
   "metadata": {
    "collapsed": false
   },
   "id": "2e243ac7d533686b"
  },
  {
   "cell_type": "markdown",
   "source": [
    "CLEANING UP THE MIXED-TYPE COLUMNS"
   ],
   "metadata": {
    "collapsed": false
   },
   "id": "a16f2a3b6c2eda0"
  },
  {
   "cell_type": "markdown",
   "source": [
    "STARTING WITH THE \"rate\" column. The \"rate\" is displayed as a fraction of 5. It has to be changed to a simple float value. That is, instead of 4.1/5, it should be 4.1. It could also possibly have other mixed-data types."
   ],
   "metadata": {
    "collapsed": false
   },
   "id": "a882ef7a62dcb65a"
  },
  {
   "cell_type": "code",
   "execution_count": 12,
   "outputs": [
    {
     "data": {
      "text/plain": "array(['4.1/5', '3.8/5', '3.7/5', '3.6/5', '4.6/5', '4.0/5', '4.2/5',\n       '3.9/5', '3.1/5', '3.0/5', '3.2/5', '3.3/5', '2.8/5', '4.4/5',\n       '4.3/5', 'NEW', '2.9/5', '3.5/5', nan, '2.6/5', '3.8 /5', '3.4/5',\n       '4.5/5', '2.5/5', '2.7/5', '4.7/5', '2.4/5', '2.2/5', '2.3/5',\n       '3.4 /5', '-', '3.6 /5', '4.8/5', '3.9 /5', '4.2 /5', '4.0 /5',\n       '4.1 /5', '3.7 /5', '3.1 /5', '2.9 /5', '3.3 /5', '2.8 /5',\n       '3.5 /5', '2.7 /5', '2.5 /5', '3.2 /5', '2.6 /5', '4.5 /5',\n       '4.3 /5', '4.4 /5', '4.9/5', '2.1/5', '2.0/5', '1.8/5', '4.6 /5',\n       '4.9 /5', '3.0 /5', '4.8 /5', '2.3 /5', '4.7 /5', '2.4 /5',\n       '2.1 /5', '2.2 /5', '2.0 /5', '1.8 /5'], dtype=object)"
     },
     "execution_count": 12,
     "metadata": {},
     "output_type": "execute_result"
    }
   ],
   "source": [
    "df_zomato['rate'].unique()"
   ],
   "metadata": {
    "collapsed": false,
    "ExecuteTime": {
     "end_time": "2023-11-16T10:44:38.319270900Z",
     "start_time": "2023-11-16T10:44:38.310294700Z"
    }
   },
   "id": "50dae5558c005f12"
  },
  {
   "cell_type": "markdown",
   "source": [
    "Upon inspection, the \"rate\" column includes string values like 'NEW', '-', in addition to '/5'\n",
    "Removing \"NEW\", \"-\", and \"/5\" from \"rate\" column"
   ],
   "metadata": {
    "collapsed": false
   },
   "id": "52904167dd096d79"
  },
  {
   "cell_type": "code",
   "execution_count": 13,
   "outputs": [],
   "source": [
    "def cleanrate(value):\n",
    "    if(value=='NEW' or value=='-'):\n",
    "        return np.nan\n",
    "    else:\n",
    "        value = str(value).split('/')\n",
    "        value = value[0]\n",
    "        return float(value)"
   ],
   "metadata": {
    "collapsed": false,
    "ExecuteTime": {
     "end_time": "2023-11-16T10:46:13.401756900Z",
     "start_time": "2023-11-16T10:46:13.374017200Z"
    }
   },
   "id": "d24b8a6f174231ac"
  },
  {
   "cell_type": "code",
   "execution_count": 15,
   "outputs": [
    {
     "data": {
      "text/plain": "                    name online_order book_table  rate  votes      location  \\\n0                  Jalsa          Yes        Yes   4.1    775  Banashankari   \n1         Spice Elephant          Yes         No   4.1    787  Banashankari   \n2        San Churro Cafe          Yes         No   3.8    918  Banashankari   \n3  Addhuri Udupi Bhojana           No         No   3.7     88  Banashankari   \n4          Grand Village           No         No   3.8    166  Basavanagudi   \n\n             rest_type                        cuisines  \\\n0        Casual Dining  North Indian, Mughlai, Chinese   \n1        Casual Dining     Chinese, North Indian, Thai   \n2  Cafe, Casual Dining          Cafe, Mexican, Italian   \n3          Quick Bites      South Indian, North Indian   \n4        Casual Dining        North Indian, Rajasthani   \n\n  approx_cost(for two people) listed_in(type) listed_in(city)  \n0                         800          Buffet    Banashankari  \n1                         800          Buffet    Banashankari  \n2                         800          Buffet    Banashankari  \n3                         300          Buffet    Banashankari  \n4                         600          Buffet    Banashankari  ",
      "text/html": "<div>\n<style scoped>\n    .dataframe tbody tr th:only-of-type {\n        vertical-align: middle;\n    }\n\n    .dataframe tbody tr th {\n        vertical-align: top;\n    }\n\n    .dataframe thead th {\n        text-align: right;\n    }\n</style>\n<table border=\"1\" class=\"dataframe\">\n  <thead>\n    <tr style=\"text-align: right;\">\n      <th></th>\n      <th>name</th>\n      <th>online_order</th>\n      <th>book_table</th>\n      <th>rate</th>\n      <th>votes</th>\n      <th>location</th>\n      <th>rest_type</th>\n      <th>cuisines</th>\n      <th>approx_cost(for two people)</th>\n      <th>listed_in(type)</th>\n      <th>listed_in(city)</th>\n    </tr>\n  </thead>\n  <tbody>\n    <tr>\n      <th>0</th>\n      <td>Jalsa</td>\n      <td>Yes</td>\n      <td>Yes</td>\n      <td>4.1</td>\n      <td>775</td>\n      <td>Banashankari</td>\n      <td>Casual Dining</td>\n      <td>North Indian, Mughlai, Chinese</td>\n      <td>800</td>\n      <td>Buffet</td>\n      <td>Banashankari</td>\n    </tr>\n    <tr>\n      <th>1</th>\n      <td>Spice Elephant</td>\n      <td>Yes</td>\n      <td>No</td>\n      <td>4.1</td>\n      <td>787</td>\n      <td>Banashankari</td>\n      <td>Casual Dining</td>\n      <td>Chinese, North Indian, Thai</td>\n      <td>800</td>\n      <td>Buffet</td>\n      <td>Banashankari</td>\n    </tr>\n    <tr>\n      <th>2</th>\n      <td>San Churro Cafe</td>\n      <td>Yes</td>\n      <td>No</td>\n      <td>3.8</td>\n      <td>918</td>\n      <td>Banashankari</td>\n      <td>Cafe, Casual Dining</td>\n      <td>Cafe, Mexican, Italian</td>\n      <td>800</td>\n      <td>Buffet</td>\n      <td>Banashankari</td>\n    </tr>\n    <tr>\n      <th>3</th>\n      <td>Addhuri Udupi Bhojana</td>\n      <td>No</td>\n      <td>No</td>\n      <td>3.7</td>\n      <td>88</td>\n      <td>Banashankari</td>\n      <td>Quick Bites</td>\n      <td>South Indian, North Indian</td>\n      <td>300</td>\n      <td>Buffet</td>\n      <td>Banashankari</td>\n    </tr>\n    <tr>\n      <th>4</th>\n      <td>Grand Village</td>\n      <td>No</td>\n      <td>No</td>\n      <td>3.8</td>\n      <td>166</td>\n      <td>Basavanagudi</td>\n      <td>Casual Dining</td>\n      <td>North Indian, Rajasthani</td>\n      <td>600</td>\n      <td>Buffet</td>\n      <td>Banashankari</td>\n    </tr>\n  </tbody>\n</table>\n</div>"
     },
     "execution_count": 15,
     "metadata": {},
     "output_type": "execute_result"
    }
   ],
   "source": [
    "df_zomato['rate'] = df_zomato['rate'].apply(cleanrate)\n",
    "df_zomato.head()"
   ],
   "metadata": {
    "collapsed": false,
    "ExecuteTime": {
     "end_time": "2023-11-16T10:46:58.505829300Z",
     "start_time": "2023-11-16T10:46:58.398598400Z"
    }
   },
   "id": "c7f8fb4615815f55"
  },
  {
   "cell_type": "markdown",
   "source": [
    "Checking for null values in \"rate\" column"
   ],
   "metadata": {
    "collapsed": false
   },
   "id": "32714760da5f4638"
  },
  {
   "cell_type": "code",
   "execution_count": 16,
   "outputs": [
    {
     "data": {
      "text/plain": "10019"
     },
     "execution_count": 16,
     "metadata": {},
     "output_type": "execute_result"
    }
   ],
   "source": [
    "df_zomato.rate.isnull().sum()"
   ],
   "metadata": {
    "collapsed": false,
    "ExecuteTime": {
     "end_time": "2023-11-16T10:48:12.958009600Z",
     "start_time": "2023-11-16T10:48:12.919905900Z"
    }
   },
   "id": "bb8a70f9657d31df"
  },
  {
   "cell_type": "markdown",
   "source": [
    "Filling Null Values in \"rate\" Column with Mean"
   ],
   "metadata": {
    "collapsed": false
   },
   "id": "f45898fe0cc6ab89"
  },
  {
   "cell_type": "code",
   "execution_count": 18,
   "outputs": [
    {
     "data": {
      "text/plain": "0"
     },
     "execution_count": 18,
     "metadata": {},
     "output_type": "execute_result"
    }
   ],
   "source": [
    "df_zomato['rate'].fillna(df_zomato['rate'].mean(), inplace= True)\n",
    "df_zomato['rate'].isnull().sum()"
   ],
   "metadata": {
    "collapsed": false,
    "ExecuteTime": {
     "end_time": "2023-11-16T10:50:19.120752400Z",
     "start_time": "2023-11-16T10:50:19.079698900Z"
    }
   },
   "id": "94ef3aa30a6eaf0f"
  },
  {
   "cell_type": "code",
   "execution_count": 19,
   "outputs": [
    {
     "name": "stdout",
     "output_type": "stream",
     "text": [
      "location\n",
      "rest_type\n",
      "cuisines\n",
      "approx_cost(for two people)\n"
     ]
    }
   ],
   "source": [
    "for col in df_zomato.columns.tolist():\n",
    "    weird = (df_zomato[[col]].applymap(type) != df_zomato[[col]].iloc[0].apply(type)).any(axis = 1)\n",
    "    if len(df_zomato[weird]) > 0:\n",
    "        print(col)"
   ],
   "metadata": {
    "collapsed": false,
    "ExecuteTime": {
     "end_time": "2023-11-16T10:51:12.861287300Z",
     "start_time": "2023-11-16T10:51:12.681653400Z"
    }
   },
   "id": "2032a58aa949bc4b"
  },
  {
   "cell_type": "code",
   "execution_count": 20,
   "outputs": [
    {
     "name": "stdout",
     "output_type": "stream",
     "text": [
      "<class 'pandas.core.frame.DataFrame'>\n",
      "Index: 51609 entries, 0 to 51716\n",
      "Data columns (total 11 columns):\n",
      " #   Column                       Non-Null Count  Dtype  \n",
      "---  ------                       --------------  -----  \n",
      " 0   name                         51609 non-null  object \n",
      " 1   online_order                 51609 non-null  object \n",
      " 2   book_table                   51609 non-null  object \n",
      " 3   rate                         51609 non-null  float64\n",
      " 4   votes                        51609 non-null  int64  \n",
      " 5   location                     51588 non-null  object \n",
      " 6   rest_type                    51382 non-null  object \n",
      " 7   cuisines                     51564 non-null  object \n",
      " 8   approx_cost(for two people)  51265 non-null  object \n",
      " 9   listed_in(type)              51609 non-null  object \n",
      " 10  listed_in(city)              51609 non-null  object \n",
      "dtypes: float64(1), int64(1), object(9)\n",
      "memory usage: 4.7+ MB\n"
     ]
    }
   ],
   "source": [
    "df_zomato.info()"
   ],
   "metadata": {
    "collapsed": false,
    "ExecuteTime": {
     "end_time": "2023-11-16T10:51:36.133231Z",
     "start_time": "2023-11-16T10:51:36.076681Z"
    }
   },
   "id": "40f5b553b73ac9d0"
  },
  {
   "cell_type": "markdown",
   "source": [
    "Dropping Null Values for \"location\", \"rest_type\", \"cuisines\", and \"approx_cost(for two people)\". Reason: The Null Values are few and will not have a significant effect on the outcome of the Analysis."
   ],
   "metadata": {
    "collapsed": false
   },
   "id": "4a5460e7b870f2a9"
  },
  {
   "cell_type": "code",
   "execution_count": 22,
   "outputs": [
    {
     "data": {
      "text/plain": "                    name online_order book_table  rate  votes      location  \\\n0                  Jalsa          Yes        Yes   4.1    775  Banashankari   \n1         Spice Elephant          Yes         No   4.1    787  Banashankari   \n2        San Churro Cafe          Yes         No   3.8    918  Banashankari   \n3  Addhuri Udupi Bhojana           No         No   3.7     88  Banashankari   \n4          Grand Village           No         No   3.8    166  Basavanagudi   \n\n             rest_type                        cuisines  \\\n0        Casual Dining  North Indian, Mughlai, Chinese   \n1        Casual Dining     Chinese, North Indian, Thai   \n2  Cafe, Casual Dining          Cafe, Mexican, Italian   \n3          Quick Bites      South Indian, North Indian   \n4        Casual Dining        North Indian, Rajasthani   \n\n  approx_cost(for two people) listed_in(type) listed_in(city)  \n0                         800          Buffet    Banashankari  \n1                         800          Buffet    Banashankari  \n2                         800          Buffet    Banashankari  \n3                         300          Buffet    Banashankari  \n4                         600          Buffet    Banashankari  ",
      "text/html": "<div>\n<style scoped>\n    .dataframe tbody tr th:only-of-type {\n        vertical-align: middle;\n    }\n\n    .dataframe tbody tr th {\n        vertical-align: top;\n    }\n\n    .dataframe thead th {\n        text-align: right;\n    }\n</style>\n<table border=\"1\" class=\"dataframe\">\n  <thead>\n    <tr style=\"text-align: right;\">\n      <th></th>\n      <th>name</th>\n      <th>online_order</th>\n      <th>book_table</th>\n      <th>rate</th>\n      <th>votes</th>\n      <th>location</th>\n      <th>rest_type</th>\n      <th>cuisines</th>\n      <th>approx_cost(for two people)</th>\n      <th>listed_in(type)</th>\n      <th>listed_in(city)</th>\n    </tr>\n  </thead>\n  <tbody>\n    <tr>\n      <th>0</th>\n      <td>Jalsa</td>\n      <td>Yes</td>\n      <td>Yes</td>\n      <td>4.1</td>\n      <td>775</td>\n      <td>Banashankari</td>\n      <td>Casual Dining</td>\n      <td>North Indian, Mughlai, Chinese</td>\n      <td>800</td>\n      <td>Buffet</td>\n      <td>Banashankari</td>\n    </tr>\n    <tr>\n      <th>1</th>\n      <td>Spice Elephant</td>\n      <td>Yes</td>\n      <td>No</td>\n      <td>4.1</td>\n      <td>787</td>\n      <td>Banashankari</td>\n      <td>Casual Dining</td>\n      <td>Chinese, North Indian, Thai</td>\n      <td>800</td>\n      <td>Buffet</td>\n      <td>Banashankari</td>\n    </tr>\n    <tr>\n      <th>2</th>\n      <td>San Churro Cafe</td>\n      <td>Yes</td>\n      <td>No</td>\n      <td>3.8</td>\n      <td>918</td>\n      <td>Banashankari</td>\n      <td>Cafe, Casual Dining</td>\n      <td>Cafe, Mexican, Italian</td>\n      <td>800</td>\n      <td>Buffet</td>\n      <td>Banashankari</td>\n    </tr>\n    <tr>\n      <th>3</th>\n      <td>Addhuri Udupi Bhojana</td>\n      <td>No</td>\n      <td>No</td>\n      <td>3.7</td>\n      <td>88</td>\n      <td>Banashankari</td>\n      <td>Quick Bites</td>\n      <td>South Indian, North Indian</td>\n      <td>300</td>\n      <td>Buffet</td>\n      <td>Banashankari</td>\n    </tr>\n    <tr>\n      <th>4</th>\n      <td>Grand Village</td>\n      <td>No</td>\n      <td>No</td>\n      <td>3.8</td>\n      <td>166</td>\n      <td>Basavanagudi</td>\n      <td>Casual Dining</td>\n      <td>North Indian, Rajasthani</td>\n      <td>600</td>\n      <td>Buffet</td>\n      <td>Banashankari</td>\n    </tr>\n  </tbody>\n</table>\n</div>"
     },
     "execution_count": 22,
     "metadata": {},
     "output_type": "execute_result"
    }
   ],
   "source": [
    "df_zomato.dropna(inplace= True)\n",
    "df_zomato.head()"
   ],
   "metadata": {
    "collapsed": false,
    "ExecuteTime": {
     "end_time": "2023-11-16T10:53:04.740736500Z",
     "start_time": "2023-11-16T10:53:04.686362900Z"
    }
   },
   "id": "33bd98988b72dd63"
  },
  {
   "cell_type": "markdown",
   "source": [
    "Renaming columns: \"approx_cost(for two people)\" to \"Cost2plates\", \"listed_in(type)\" to \"Type\""
   ],
   "metadata": {
    "collapsed": false
   },
   "id": "d2a7704c1f8260ae"
  },
  {
   "cell_type": "code",
   "execution_count": 24,
   "outputs": [
    {
     "data": {
      "text/plain": "                    name online_order book_table  rate  votes      location  \\\n0                  Jalsa          Yes        Yes   4.1    775  Banashankari   \n1         Spice Elephant          Yes         No   4.1    787  Banashankari   \n2        San Churro Cafe          Yes         No   3.8    918  Banashankari   \n3  Addhuri Udupi Bhojana           No         No   3.7     88  Banashankari   \n4          Grand Village           No         No   3.8    166  Basavanagudi   \n\n             rest_type                        cuisines Cost2plates    Type  \\\n0        Casual Dining  North Indian, Mughlai, Chinese         800  Buffet   \n1        Casual Dining     Chinese, North Indian, Thai         800  Buffet   \n2  Cafe, Casual Dining          Cafe, Mexican, Italian         800  Buffet   \n3          Quick Bites      South Indian, North Indian         300  Buffet   \n4        Casual Dining        North Indian, Rajasthani         600  Buffet   \n\n  listed_in(city)  \n0    Banashankari  \n1    Banashankari  \n2    Banashankari  \n3    Banashankari  \n4    Banashankari  ",
      "text/html": "<div>\n<style scoped>\n    .dataframe tbody tr th:only-of-type {\n        vertical-align: middle;\n    }\n\n    .dataframe tbody tr th {\n        vertical-align: top;\n    }\n\n    .dataframe thead th {\n        text-align: right;\n    }\n</style>\n<table border=\"1\" class=\"dataframe\">\n  <thead>\n    <tr style=\"text-align: right;\">\n      <th></th>\n      <th>name</th>\n      <th>online_order</th>\n      <th>book_table</th>\n      <th>rate</th>\n      <th>votes</th>\n      <th>location</th>\n      <th>rest_type</th>\n      <th>cuisines</th>\n      <th>Cost2plates</th>\n      <th>Type</th>\n      <th>listed_in(city)</th>\n    </tr>\n  </thead>\n  <tbody>\n    <tr>\n      <th>0</th>\n      <td>Jalsa</td>\n      <td>Yes</td>\n      <td>Yes</td>\n      <td>4.1</td>\n      <td>775</td>\n      <td>Banashankari</td>\n      <td>Casual Dining</td>\n      <td>North Indian, Mughlai, Chinese</td>\n      <td>800</td>\n      <td>Buffet</td>\n      <td>Banashankari</td>\n    </tr>\n    <tr>\n      <th>1</th>\n      <td>Spice Elephant</td>\n      <td>Yes</td>\n      <td>No</td>\n      <td>4.1</td>\n      <td>787</td>\n      <td>Banashankari</td>\n      <td>Casual Dining</td>\n      <td>Chinese, North Indian, Thai</td>\n      <td>800</td>\n      <td>Buffet</td>\n      <td>Banashankari</td>\n    </tr>\n    <tr>\n      <th>2</th>\n      <td>San Churro Cafe</td>\n      <td>Yes</td>\n      <td>No</td>\n      <td>3.8</td>\n      <td>918</td>\n      <td>Banashankari</td>\n      <td>Cafe, Casual Dining</td>\n      <td>Cafe, Mexican, Italian</td>\n      <td>800</td>\n      <td>Buffet</td>\n      <td>Banashankari</td>\n    </tr>\n    <tr>\n      <th>3</th>\n      <td>Addhuri Udupi Bhojana</td>\n      <td>No</td>\n      <td>No</td>\n      <td>3.7</td>\n      <td>88</td>\n      <td>Banashankari</td>\n      <td>Quick Bites</td>\n      <td>South Indian, North Indian</td>\n      <td>300</td>\n      <td>Buffet</td>\n      <td>Banashankari</td>\n    </tr>\n    <tr>\n      <th>4</th>\n      <td>Grand Village</td>\n      <td>No</td>\n      <td>No</td>\n      <td>3.8</td>\n      <td>166</td>\n      <td>Basavanagudi</td>\n      <td>Casual Dining</td>\n      <td>North Indian, Rajasthani</td>\n      <td>600</td>\n      <td>Buffet</td>\n      <td>Banashankari</td>\n    </tr>\n  </tbody>\n</table>\n</div>"
     },
     "execution_count": 24,
     "metadata": {},
     "output_type": "execute_result"
    }
   ],
   "source": [
    "df_zomato.rename(columns = {'approx_cost(for two people)':'Cost2plates', 'listed_in(type)':'Type'}, inplace = True)\n",
    "df_zomato.head()"
   ],
   "metadata": {
    "collapsed": false,
    "ExecuteTime": {
     "end_time": "2023-11-16T10:54:42.431835500Z",
     "start_time": "2023-11-16T10:54:42.318626800Z"
    }
   },
   "id": "51d3d3ffb97833ab"
  },
  {
   "cell_type": "markdown",
   "source": [
    "Correcting for \"location\" and \"listed_in(city)\", both share same information. Therefore, one should be dropped to keep the dataframe tidier."
   ],
   "metadata": {
    "collapsed": false
   },
   "id": "81799c928295fe61"
  },
  {
   "cell_type": "code",
   "execution_count": 29,
   "outputs": [
    {
     "ename": "KeyError",
     "evalue": "\"['listed_in(city)'] not found in axis\"",
     "output_type": "error",
     "traceback": [
      "\u001B[1;31m---------------------------------------------------------------------------\u001B[0m",
      "\u001B[1;31mKeyError\u001B[0m                                  Traceback (most recent call last)",
      "Cell \u001B[1;32mIn[29], line 1\u001B[0m\n\u001B[1;32m----> 1\u001B[0m df_zomato \u001B[38;5;241m=\u001B[39m \u001B[43mdf_zomato\u001B[49m\u001B[38;5;241;43m.\u001B[39;49m\u001B[43mdrop\u001B[49m\u001B[43m(\u001B[49m\u001B[43m[\u001B[49m\u001B[38;5;124;43m'\u001B[39;49m\u001B[38;5;124;43mlisted_in(city)\u001B[39;49m\u001B[38;5;124;43m'\u001B[39;49m\u001B[43m]\u001B[49m\u001B[43m,\u001B[49m\u001B[43m \u001B[49m\u001B[43maxis\u001B[49m\u001B[38;5;241;43m=\u001B[39;49m\u001B[43m \u001B[49m\u001B[38;5;241;43m1\u001B[39;49m\u001B[43m)\u001B[49m\n",
      "File \u001B[1;32m~\\anaconda3\\lib\\site-packages\\pandas\\core\\frame.py:5258\u001B[0m, in \u001B[0;36mDataFrame.drop\u001B[1;34m(self, labels, axis, index, columns, level, inplace, errors)\u001B[0m\n\u001B[0;32m   5110\u001B[0m \u001B[38;5;28;01mdef\u001B[39;00m \u001B[38;5;21mdrop\u001B[39m(\n\u001B[0;32m   5111\u001B[0m     \u001B[38;5;28mself\u001B[39m,\n\u001B[0;32m   5112\u001B[0m     labels: IndexLabel \u001B[38;5;241m=\u001B[39m \u001B[38;5;28;01mNone\u001B[39;00m,\n\u001B[1;32m   (...)\u001B[0m\n\u001B[0;32m   5119\u001B[0m     errors: IgnoreRaise \u001B[38;5;241m=\u001B[39m \u001B[38;5;124m\"\u001B[39m\u001B[38;5;124mraise\u001B[39m\u001B[38;5;124m\"\u001B[39m,\n\u001B[0;32m   5120\u001B[0m ) \u001B[38;5;241m-\u001B[39m\u001B[38;5;241m>\u001B[39m DataFrame \u001B[38;5;241m|\u001B[39m \u001B[38;5;28;01mNone\u001B[39;00m:\n\u001B[0;32m   5121\u001B[0m     \u001B[38;5;124;03m\"\"\"\u001B[39;00m\n\u001B[0;32m   5122\u001B[0m \u001B[38;5;124;03m    Drop specified labels from rows or columns.\u001B[39;00m\n\u001B[0;32m   5123\u001B[0m \n\u001B[1;32m   (...)\u001B[0m\n\u001B[0;32m   5256\u001B[0m \u001B[38;5;124;03m            weight  1.0     0.8\u001B[39;00m\n\u001B[0;32m   5257\u001B[0m \u001B[38;5;124;03m    \"\"\"\u001B[39;00m\n\u001B[1;32m-> 5258\u001B[0m     \u001B[38;5;28;01mreturn\u001B[39;00m \u001B[38;5;28;43msuper\u001B[39;49m\u001B[43m(\u001B[49m\u001B[43m)\u001B[49m\u001B[38;5;241;43m.\u001B[39;49m\u001B[43mdrop\u001B[49m\u001B[43m(\u001B[49m\n\u001B[0;32m   5259\u001B[0m \u001B[43m        \u001B[49m\u001B[43mlabels\u001B[49m\u001B[38;5;241;43m=\u001B[39;49m\u001B[43mlabels\u001B[49m\u001B[43m,\u001B[49m\n\u001B[0;32m   5260\u001B[0m \u001B[43m        \u001B[49m\u001B[43maxis\u001B[49m\u001B[38;5;241;43m=\u001B[39;49m\u001B[43maxis\u001B[49m\u001B[43m,\u001B[49m\n\u001B[0;32m   5261\u001B[0m \u001B[43m        \u001B[49m\u001B[43mindex\u001B[49m\u001B[38;5;241;43m=\u001B[39;49m\u001B[43mindex\u001B[49m\u001B[43m,\u001B[49m\n\u001B[0;32m   5262\u001B[0m \u001B[43m        \u001B[49m\u001B[43mcolumns\u001B[49m\u001B[38;5;241;43m=\u001B[39;49m\u001B[43mcolumns\u001B[49m\u001B[43m,\u001B[49m\n\u001B[0;32m   5263\u001B[0m \u001B[43m        \u001B[49m\u001B[43mlevel\u001B[49m\u001B[38;5;241;43m=\u001B[39;49m\u001B[43mlevel\u001B[49m\u001B[43m,\u001B[49m\n\u001B[0;32m   5264\u001B[0m \u001B[43m        \u001B[49m\u001B[43minplace\u001B[49m\u001B[38;5;241;43m=\u001B[39;49m\u001B[43minplace\u001B[49m\u001B[43m,\u001B[49m\n\u001B[0;32m   5265\u001B[0m \u001B[43m        \u001B[49m\u001B[43merrors\u001B[49m\u001B[38;5;241;43m=\u001B[39;49m\u001B[43merrors\u001B[49m\u001B[43m,\u001B[49m\n\u001B[0;32m   5266\u001B[0m \u001B[43m    \u001B[49m\u001B[43m)\u001B[49m\n",
      "File \u001B[1;32m~\\anaconda3\\lib\\site-packages\\pandas\\core\\generic.py:4549\u001B[0m, in \u001B[0;36mNDFrame.drop\u001B[1;34m(self, labels, axis, index, columns, level, inplace, errors)\u001B[0m\n\u001B[0;32m   4547\u001B[0m \u001B[38;5;28;01mfor\u001B[39;00m axis, labels \u001B[38;5;129;01min\u001B[39;00m axes\u001B[38;5;241m.\u001B[39mitems():\n\u001B[0;32m   4548\u001B[0m     \u001B[38;5;28;01mif\u001B[39;00m labels \u001B[38;5;129;01mis\u001B[39;00m \u001B[38;5;129;01mnot\u001B[39;00m \u001B[38;5;28;01mNone\u001B[39;00m:\n\u001B[1;32m-> 4549\u001B[0m         obj \u001B[38;5;241m=\u001B[39m \u001B[43mobj\u001B[49m\u001B[38;5;241;43m.\u001B[39;49m\u001B[43m_drop_axis\u001B[49m\u001B[43m(\u001B[49m\u001B[43mlabels\u001B[49m\u001B[43m,\u001B[49m\u001B[43m \u001B[49m\u001B[43maxis\u001B[49m\u001B[43m,\u001B[49m\u001B[43m \u001B[49m\u001B[43mlevel\u001B[49m\u001B[38;5;241;43m=\u001B[39;49m\u001B[43mlevel\u001B[49m\u001B[43m,\u001B[49m\u001B[43m \u001B[49m\u001B[43merrors\u001B[49m\u001B[38;5;241;43m=\u001B[39;49m\u001B[43merrors\u001B[49m\u001B[43m)\u001B[49m\n\u001B[0;32m   4551\u001B[0m \u001B[38;5;28;01mif\u001B[39;00m inplace:\n\u001B[0;32m   4552\u001B[0m     \u001B[38;5;28mself\u001B[39m\u001B[38;5;241m.\u001B[39m_update_inplace(obj)\n",
      "File \u001B[1;32m~\\anaconda3\\lib\\site-packages\\pandas\\core\\generic.py:4591\u001B[0m, in \u001B[0;36mNDFrame._drop_axis\u001B[1;34m(self, labels, axis, level, errors, only_slice)\u001B[0m\n\u001B[0;32m   4589\u001B[0m         new_axis \u001B[38;5;241m=\u001B[39m axis\u001B[38;5;241m.\u001B[39mdrop(labels, level\u001B[38;5;241m=\u001B[39mlevel, errors\u001B[38;5;241m=\u001B[39merrors)\n\u001B[0;32m   4590\u001B[0m     \u001B[38;5;28;01melse\u001B[39;00m:\n\u001B[1;32m-> 4591\u001B[0m         new_axis \u001B[38;5;241m=\u001B[39m \u001B[43maxis\u001B[49m\u001B[38;5;241;43m.\u001B[39;49m\u001B[43mdrop\u001B[49m\u001B[43m(\u001B[49m\u001B[43mlabels\u001B[49m\u001B[43m,\u001B[49m\u001B[43m \u001B[49m\u001B[43merrors\u001B[49m\u001B[38;5;241;43m=\u001B[39;49m\u001B[43merrors\u001B[49m\u001B[43m)\u001B[49m\n\u001B[0;32m   4592\u001B[0m     indexer \u001B[38;5;241m=\u001B[39m axis\u001B[38;5;241m.\u001B[39mget_indexer(new_axis)\n\u001B[0;32m   4594\u001B[0m \u001B[38;5;66;03m# Case for non-unique axis\u001B[39;00m\n\u001B[0;32m   4595\u001B[0m \u001B[38;5;28;01melse\u001B[39;00m:\n",
      "File \u001B[1;32m~\\anaconda3\\lib\\site-packages\\pandas\\core\\indexes\\base.py:6699\u001B[0m, in \u001B[0;36mIndex.drop\u001B[1;34m(self, labels, errors)\u001B[0m\n\u001B[0;32m   6697\u001B[0m \u001B[38;5;28;01mif\u001B[39;00m mask\u001B[38;5;241m.\u001B[39many():\n\u001B[0;32m   6698\u001B[0m     \u001B[38;5;28;01mif\u001B[39;00m errors \u001B[38;5;241m!=\u001B[39m \u001B[38;5;124m\"\u001B[39m\u001B[38;5;124mignore\u001B[39m\u001B[38;5;124m\"\u001B[39m:\n\u001B[1;32m-> 6699\u001B[0m         \u001B[38;5;28;01mraise\u001B[39;00m \u001B[38;5;167;01mKeyError\u001B[39;00m(\u001B[38;5;124mf\u001B[39m\u001B[38;5;124m\"\u001B[39m\u001B[38;5;132;01m{\u001B[39;00m\u001B[38;5;28mlist\u001B[39m(labels[mask])\u001B[38;5;132;01m}\u001B[39;00m\u001B[38;5;124m not found in axis\u001B[39m\u001B[38;5;124m\"\u001B[39m)\n\u001B[0;32m   6700\u001B[0m     indexer \u001B[38;5;241m=\u001B[39m indexer[\u001B[38;5;241m~\u001B[39mmask]\n\u001B[0;32m   6701\u001B[0m \u001B[38;5;28;01mreturn\u001B[39;00m \u001B[38;5;28mself\u001B[39m\u001B[38;5;241m.\u001B[39mdelete(indexer)\n",
      "\u001B[1;31mKeyError\u001B[0m: \"['listed_in(city)'] not found in axis\""
     ]
    }
   ],
   "source": [
    "df_zomato = df_zomato.drop(['listed_in(city)'], axis= 1)"
   ],
   "metadata": {
    "collapsed": false,
    "ExecuteTime": {
     "end_time": "2023-11-16T11:05:41.609966700Z",
     "start_time": "2023-11-16T11:05:41.517698300Z"
    }
   },
   "id": "17d67a77c600086b"
  },
  {
   "cell_type": "code",
   "execution_count": 30,
   "outputs": [
    {
     "name": "stdout",
     "output_type": "stream",
     "text": [
      "<class 'pandas.core.frame.DataFrame'>\n",
      "Index: 51042 entries, 0 to 51716\n",
      "Data columns (total 10 columns):\n",
      " #   Column        Non-Null Count  Dtype  \n",
      "---  ------        --------------  -----  \n",
      " 0   name          51042 non-null  object \n",
      " 1   online_order  51042 non-null  object \n",
      " 2   book_table    51042 non-null  object \n",
      " 3   rate          51042 non-null  float64\n",
      " 4   votes         51042 non-null  int64  \n",
      " 5   location      51042 non-null  object \n",
      " 6   rest_type     51042 non-null  object \n",
      " 7   cuisines      51042 non-null  object \n",
      " 8   Cost2plates   51042 non-null  object \n",
      " 9   Type          51042 non-null  object \n",
      "dtypes: float64(1), int64(1), object(8)\n",
      "memory usage: 4.3+ MB\n"
     ]
    }
   ],
   "source": [
    "df_zomato.info()"
   ],
   "metadata": {
    "collapsed": false,
    "ExecuteTime": {
     "end_time": "2023-11-16T11:06:57.007573200Z",
     "start_time": "2023-11-16T11:06:56.927275200Z"
    }
   },
   "id": "766b1cb3a3a51748"
  },
  {
   "cell_type": "code",
   "execution_count": 31,
   "outputs": [
    {
     "data": {
      "text/plain": "                    name online_order book_table  rate  votes      location  \\\n0                  Jalsa          Yes        Yes   4.1    775  Banashankari   \n1         Spice Elephant          Yes         No   4.1    787  Banashankari   \n2        San Churro Cafe          Yes         No   3.8    918  Banashankari   \n3  Addhuri Udupi Bhojana           No         No   3.7     88  Banashankari   \n4          Grand Village           No         No   3.8    166  Basavanagudi   \n\n             rest_type                        cuisines Cost2plates    Type  \n0        Casual Dining  North Indian, Mughlai, Chinese         800  Buffet  \n1        Casual Dining     Chinese, North Indian, Thai         800  Buffet  \n2  Cafe, Casual Dining          Cafe, Mexican, Italian         800  Buffet  \n3          Quick Bites      South Indian, North Indian         300  Buffet  \n4        Casual Dining        North Indian, Rajasthani         600  Buffet  ",
      "text/html": "<div>\n<style scoped>\n    .dataframe tbody tr th:only-of-type {\n        vertical-align: middle;\n    }\n\n    .dataframe tbody tr th {\n        vertical-align: top;\n    }\n\n    .dataframe thead th {\n        text-align: right;\n    }\n</style>\n<table border=\"1\" class=\"dataframe\">\n  <thead>\n    <tr style=\"text-align: right;\">\n      <th></th>\n      <th>name</th>\n      <th>online_order</th>\n      <th>book_table</th>\n      <th>rate</th>\n      <th>votes</th>\n      <th>location</th>\n      <th>rest_type</th>\n      <th>cuisines</th>\n      <th>Cost2plates</th>\n      <th>Type</th>\n    </tr>\n  </thead>\n  <tbody>\n    <tr>\n      <th>0</th>\n      <td>Jalsa</td>\n      <td>Yes</td>\n      <td>Yes</td>\n      <td>4.1</td>\n      <td>775</td>\n      <td>Banashankari</td>\n      <td>Casual Dining</td>\n      <td>North Indian, Mughlai, Chinese</td>\n      <td>800</td>\n      <td>Buffet</td>\n    </tr>\n    <tr>\n      <th>1</th>\n      <td>Spice Elephant</td>\n      <td>Yes</td>\n      <td>No</td>\n      <td>4.1</td>\n      <td>787</td>\n      <td>Banashankari</td>\n      <td>Casual Dining</td>\n      <td>Chinese, North Indian, Thai</td>\n      <td>800</td>\n      <td>Buffet</td>\n    </tr>\n    <tr>\n      <th>2</th>\n      <td>San Churro Cafe</td>\n      <td>Yes</td>\n      <td>No</td>\n      <td>3.8</td>\n      <td>918</td>\n      <td>Banashankari</td>\n      <td>Cafe, Casual Dining</td>\n      <td>Cafe, Mexican, Italian</td>\n      <td>800</td>\n      <td>Buffet</td>\n    </tr>\n    <tr>\n      <th>3</th>\n      <td>Addhuri Udupi Bhojana</td>\n      <td>No</td>\n      <td>No</td>\n      <td>3.7</td>\n      <td>88</td>\n      <td>Banashankari</td>\n      <td>Quick Bites</td>\n      <td>South Indian, North Indian</td>\n      <td>300</td>\n      <td>Buffet</td>\n    </tr>\n    <tr>\n      <th>4</th>\n      <td>Grand Village</td>\n      <td>No</td>\n      <td>No</td>\n      <td>3.8</td>\n      <td>166</td>\n      <td>Basavanagudi</td>\n      <td>Casual Dining</td>\n      <td>North Indian, Rajasthani</td>\n      <td>600</td>\n      <td>Buffet</td>\n    </tr>\n  </tbody>\n</table>\n</div>"
     },
     "execution_count": 31,
     "metadata": {},
     "output_type": "execute_result"
    }
   ],
   "source": [
    "df_zomato.head()"
   ],
   "metadata": {
    "collapsed": false,
    "ExecuteTime": {
     "end_time": "2023-11-16T11:07:20.767550200Z",
     "start_time": "2023-11-16T11:07:20.731646200Z"
    }
   },
   "id": "98a40036ee87495e"
  },
  {
   "cell_type": "markdown",
   "source": [
    "Let's look at the Unique values in \"Cost2plates\""
   ],
   "metadata": {
    "collapsed": false
   },
   "id": "1f74d9fb25e8a81"
  },
  {
   "cell_type": "code",
   "execution_count": 36,
   "outputs": [
    {
     "data": {
      "text/plain": "array(['800', '300', '600', '700', '550', '500', '450', '650', '400',\n       '900', '200', '750', '150', '850', '100', '1,200', '350', '250',\n       '950', '1,000', '1,500', '1,300', '199', '80', '1,100', '160',\n       '1,600', '230', '130', '50', '190', '1,700', '1,400', '180',\n       '1,350', '2,200', '2,000', '1,800', '1,900', '330', '2,500',\n       '2,100', '3,000', '2,800', '3,400', '40', '1,250', '3,500',\n       '4,000', '2,400', '2,600', '120', '1,450', '469', '70', '3,200',\n       '60', '560', '240', '360', '6,000', '1,050', '2,300', '4,100',\n       '5,000', '3,700', '1,650', '2,700', '4,500', '140'], dtype=object)"
     },
     "execution_count": 36,
     "metadata": {},
     "output_type": "execute_result"
    }
   ],
   "source": [
    "df_zomato['Cost2plates'].unique()"
   ],
   "metadata": {
    "collapsed": false,
    "ExecuteTime": {
     "end_time": "2023-11-16T11:31:22.499166400Z",
     "start_time": "2023-11-16T11:31:22.477226300Z"
    }
   },
   "id": "cb8e5f6e965fc20f"
  },
  {
   "cell_type": "markdown",
   "source": [
    "There are some values in \"Cost2plates\" with commas, and these restrict it the values from becoming integers or floats. So let's convert that data types to integer. "
   ],
   "metadata": {
    "collapsed": false
   },
   "id": "d613d214bbe7b8e2"
  },
  {
   "cell_type": "code",
   "execution_count": 40,
   "outputs": [],
   "source": [
    "import pandas as pd\n",
    "\n",
    "def clean_cost2plates(value):\n",
    "    try:\n",
    "        # Remove commas and convert to integer\n",
    "        cleaned_value = int(value.replace(',', ''))\n",
    "        return cleaned_value\n",
    "    except ValueError:\n",
    "        # Handle cases where conversion to integer is not possible\n",
    "        return None\n",
    "\n",
    "# Assuming df_zomato is your DataFrame\n",
    "df_zomato['Cost2plates'] = df_zomato['Cost2plates'].apply(clean_cost2plates)\n"
   ],
   "metadata": {
    "collapsed": false,
    "ExecuteTime": {
     "end_time": "2023-11-16T11:48:08.817426900Z",
     "start_time": "2023-11-16T11:48:08.760220200Z"
    }
   },
   "id": "529dfc98c4e8dfbb"
  },
  {
   "cell_type": "code",
   "execution_count": 41,
   "outputs": [
    {
     "data": {
      "text/plain": "array([ 800,  300,  600,  700,  550,  500,  450,  650,  400,  900,  200,\n        750,  150,  850,  100, 1200,  350,  250,  950, 1000, 1500, 1300,\n        199,   80, 1100,  160, 1600,  230,  130,   50,  190, 1700, 1400,\n        180, 1350, 2200, 2000, 1800, 1900,  330, 2500, 2100, 3000, 2800,\n       3400,   40, 1250, 3500, 4000, 2400, 2600,  120, 1450,  469,   70,\n       3200,   60,  560,  240,  360, 6000, 1050, 2300, 4100, 5000, 3700,\n       1650, 2700, 4500,  140], dtype=int64)"
     },
     "execution_count": 41,
     "metadata": {},
     "output_type": "execute_result"
    }
   ],
   "source": [
    "df_zomato['Cost2plates'].unique()"
   ],
   "metadata": {
    "collapsed": false,
    "ExecuteTime": {
     "end_time": "2023-11-16T11:49:19.569530Z",
     "start_time": "2023-11-16T11:49:19.549060700Z"
    }
   },
   "id": "42e0968098d3a2e1"
  },
  {
   "cell_type": "code",
   "execution_count": 42,
   "outputs": [],
   "source": [
    "for col in df_zomato.columns.tolist():\n",
    "    weird = (df_zomato[[col]].applymap(type) != df_zomato[[col]].iloc[0].apply(type)).any(axis = 1)\n",
    "    if len(df_zomato[weird]) > 0:\n",
    "        print(col)"
   ],
   "metadata": {
    "collapsed": false,
    "ExecuteTime": {
     "end_time": "2023-11-16T11:51:53.932602100Z",
     "start_time": "2023-11-16T11:51:53.771515200Z"
    }
   },
   "id": "d785ac4518d8c045"
  },
  {
   "cell_type": "code",
   "execution_count": 43,
   "outputs": [
    {
     "data": {
      "text/plain": "                    name online_order book_table  rate  votes      location  \\\n0                  Jalsa          Yes        Yes   4.1    775  Banashankari   \n1         Spice Elephant          Yes         No   4.1    787  Banashankari   \n2        San Churro Cafe          Yes         No   3.8    918  Banashankari   \n3  Addhuri Udupi Bhojana           No         No   3.7     88  Banashankari   \n4          Grand Village           No         No   3.8    166  Basavanagudi   \n\n             rest_type                        cuisines  Cost2plates    Type  \n0        Casual Dining  North Indian, Mughlai, Chinese          800  Buffet  \n1        Casual Dining     Chinese, North Indian, Thai          800  Buffet  \n2  Cafe, Casual Dining          Cafe, Mexican, Italian          800  Buffet  \n3          Quick Bites      South Indian, North Indian          300  Buffet  \n4        Casual Dining        North Indian, Rajasthani          600  Buffet  ",
      "text/html": "<div>\n<style scoped>\n    .dataframe tbody tr th:only-of-type {\n        vertical-align: middle;\n    }\n\n    .dataframe tbody tr th {\n        vertical-align: top;\n    }\n\n    .dataframe thead th {\n        text-align: right;\n    }\n</style>\n<table border=\"1\" class=\"dataframe\">\n  <thead>\n    <tr style=\"text-align: right;\">\n      <th></th>\n      <th>name</th>\n      <th>online_order</th>\n      <th>book_table</th>\n      <th>rate</th>\n      <th>votes</th>\n      <th>location</th>\n      <th>rest_type</th>\n      <th>cuisines</th>\n      <th>Cost2plates</th>\n      <th>Type</th>\n    </tr>\n  </thead>\n  <tbody>\n    <tr>\n      <th>0</th>\n      <td>Jalsa</td>\n      <td>Yes</td>\n      <td>Yes</td>\n      <td>4.1</td>\n      <td>775</td>\n      <td>Banashankari</td>\n      <td>Casual Dining</td>\n      <td>North Indian, Mughlai, Chinese</td>\n      <td>800</td>\n      <td>Buffet</td>\n    </tr>\n    <tr>\n      <th>1</th>\n      <td>Spice Elephant</td>\n      <td>Yes</td>\n      <td>No</td>\n      <td>4.1</td>\n      <td>787</td>\n      <td>Banashankari</td>\n      <td>Casual Dining</td>\n      <td>Chinese, North Indian, Thai</td>\n      <td>800</td>\n      <td>Buffet</td>\n    </tr>\n    <tr>\n      <th>2</th>\n      <td>San Churro Cafe</td>\n      <td>Yes</td>\n      <td>No</td>\n      <td>3.8</td>\n      <td>918</td>\n      <td>Banashankari</td>\n      <td>Cafe, Casual Dining</td>\n      <td>Cafe, Mexican, Italian</td>\n      <td>800</td>\n      <td>Buffet</td>\n    </tr>\n    <tr>\n      <th>3</th>\n      <td>Addhuri Udupi Bhojana</td>\n      <td>No</td>\n      <td>No</td>\n      <td>3.7</td>\n      <td>88</td>\n      <td>Banashankari</td>\n      <td>Quick Bites</td>\n      <td>South Indian, North Indian</td>\n      <td>300</td>\n      <td>Buffet</td>\n    </tr>\n    <tr>\n      <th>4</th>\n      <td>Grand Village</td>\n      <td>No</td>\n      <td>No</td>\n      <td>3.8</td>\n      <td>166</td>\n      <td>Basavanagudi</td>\n      <td>Casual Dining</td>\n      <td>North Indian, Rajasthani</td>\n      <td>600</td>\n      <td>Buffet</td>\n    </tr>\n  </tbody>\n</table>\n</div>"
     },
     "execution_count": 43,
     "metadata": {},
     "output_type": "execute_result"
    }
   ],
   "source": [
    "df_zomato.head()"
   ],
   "metadata": {
    "collapsed": false,
    "ExecuteTime": {
     "end_time": "2023-11-16T12:13:45.595988300Z",
     "start_time": "2023-11-16T12:13:45.544123600Z"
    }
   },
   "id": "d84d4a9d07ca221c"
  },
  {
   "cell_type": "markdown",
   "source": [
    "Cleaning Rest Type column"
   ],
   "metadata": {
    "collapsed": false
   },
   "id": "847454a3e2bc1036"
  },
  {
   "cell_type": "code",
   "execution_count": 44,
   "outputs": [
    {
     "data": {
      "text/plain": "rest_type\nQuick Bites                   19010\nCasual Dining                 10253\nCafe                           3682\nDelivery                       2574\nDessert Parlor                 2242\n                              ...  \nDessert Parlor, Kiosk             2\nFood Court, Beverage Shop         2\nDessert Parlor, Food Court        2\nQuick Bites, Kiosk                1\nSweet Shop, Dessert Parlor        1\nName: count, Length: 93, dtype: int64"
     },
     "execution_count": 44,
     "metadata": {},
     "output_type": "execute_result"
    }
   ],
   "source": [
    "df_zomato['rest_type'].value_counts()"
   ],
   "metadata": {
    "collapsed": false,
    "ExecuteTime": {
     "end_time": "2023-11-16T12:17:38.514953400Z",
     "start_time": "2023-11-16T12:17:38.474275500Z"
    }
   },
   "id": "d24ef795726ba564"
  },
  {
   "cell_type": "code",
   "execution_count": 50,
   "outputs": [
    {
     "data": {
      "text/plain": "rest_type\nQuick Bites                   19010\nCasual Dining                 10253\nCafe                           3682\nDelivery                       2574\nDessert Parlor                 2242\n                              ...  \nDessert Parlor, Kiosk             2\nFood Court, Beverage Shop         2\nDessert Parlor, Food Court        2\nQuick Bites, Kiosk                1\nSweet Shop, Dessert Parlor        1\nName: count, Length: 93, dtype: int64"
     },
     "execution_count": 50,
     "metadata": {},
     "output_type": "execute_result"
    }
   ],
   "source": [
    "rest_types = df_zomato['rest_type'].value_counts(ascending= False)\n",
    "rest_types"
   ],
   "metadata": {
    "collapsed": false,
    "ExecuteTime": {
     "end_time": "2023-11-16T12:29:48.524273800Z",
     "start_time": "2023-11-16T12:29:48.424990700Z"
    }
   },
   "id": "9c2eed2386bf78ff"
  },
  {
   "cell_type": "code",
   "execution_count": 52,
   "outputs": [
    {
     "data": {
      "text/plain": "rest_type\nBeverage Shop                 863\nBar                           686\nFood Court                    616\nSweet Shop                    468\nBar, Casual Dining            411\n                             ... \nDessert Parlor, Kiosk           2\nFood Court, Beverage Shop       2\nDessert Parlor, Food Court      2\nQuick Bites, Kiosk              1\nSweet Shop, Dessert Parlor      1\nName: count, Length: 85, dtype: int64"
     },
     "execution_count": 52,
     "metadata": {},
     "output_type": "execute_result"
    }
   ],
   "source": [
    "rest_types_lessthan1000 = rest_types[rest_types<1000]\n",
    "rest_types_lessthan1000"
   ],
   "metadata": {
    "collapsed": false,
    "ExecuteTime": {
     "end_time": "2023-11-16T12:31:54.941071300Z",
     "start_time": "2023-11-16T12:31:54.903138800Z"
    }
   },
   "id": "8b20adeacc7249c6"
  },
  {
   "cell_type": "markdown",
   "source": [
    "Making Rest Types less than 1000 in frequency as \"Others\""
   ],
   "metadata": {
    "collapsed": false
   },
   "id": "ff6f383578d75171"
  },
  {
   "cell_type": "code",
   "execution_count": 53,
   "outputs": [],
   "source": [
    "def handle_rest_type(value):\n",
    "    if(value in rest_types_lessthan1000):\n",
    "        return 'Others'\n",
    "    else:\n",
    "        return value\n",
    "    "
   ],
   "metadata": {
    "collapsed": false,
    "ExecuteTime": {
     "end_time": "2023-11-16T12:36:30.406406100Z",
     "start_time": "2023-11-16T12:36:30.363423400Z"
    }
   },
   "id": "8ee2ca8717a4b095"
  },
  {
   "cell_type": "code",
   "execution_count": 55,
   "outputs": [
    {
     "data": {
      "text/plain": "rest_type\nQuick Bites           19010\nCasual Dining         10253\nOthers                 9003\nCafe                   3682\nDelivery               2574\nDessert Parlor         2242\nTakeaway, Delivery     2008\nBakery                 1140\nCasual Dining, Bar     1130\nName: count, dtype: int64"
     },
     "execution_count": 55,
     "metadata": {},
     "output_type": "execute_result"
    }
   ],
   "source": [
    "df_zomato['rest_type'] = df_zomato['rest_type'].apply(handle_rest_type)\n",
    "df_zomato['rest_type'].value_counts()"
   ],
   "metadata": {
    "collapsed": false,
    "ExecuteTime": {
     "end_time": "2023-11-16T12:38:09.526869400Z",
     "start_time": "2023-11-16T12:38:09.361651300Z"
    }
   },
   "id": "97bead091efeaa5a"
  },
  {
   "cell_type": "markdown",
   "source": [
    "Cleaning Location Column"
   ],
   "metadata": {
    "collapsed": false
   },
   "id": "f45f16c3387fa03d"
  },
  {
   "cell_type": "code",
   "execution_count": 56,
   "outputs": [
    {
     "data": {
      "text/plain": "location\nBTM                      5056\nHSR                      2494\nKoramangala 5th Block    2479\nJP Nagar                 2218\nWhitefield               2105\n                         ... \nWest Bangalore              6\nYelahanka                   5\nJakkur                      3\nRajarajeshwari Nagar        2\nPeenya                      1\nName: count, Length: 93, dtype: int64"
     },
     "execution_count": 56,
     "metadata": {},
     "output_type": "execute_result"
    }
   ],
   "source": [
    "df_zomato['location'].value_counts()"
   ],
   "metadata": {
    "collapsed": false,
    "ExecuteTime": {
     "end_time": "2023-11-16T12:41:45.208183800Z",
     "start_time": "2023-11-16T12:41:45.170145300Z"
    }
   },
   "id": "7d1c3d414dd0dd6c"
  },
  {
   "cell_type": "markdown",
   "source": [
    "There are locations with as high as 5056 restaurants, and others with as low as 1 restaurant. Therefore, I will group locations having less than 300 restaurants in frequency as \"others\""
   ],
   "metadata": {
    "collapsed": false
   },
   "id": "c5fea933752718d7"
  },
  {
   "cell_type": "code",
   "execution_count": 58,
   "outputs": [],
   "source": [
    "location = df_zomato['location'].value_counts(ascending=False)\n",
    "location_lessthan300 = location[location<300]"
   ],
   "metadata": {
    "collapsed": false,
    "ExecuteTime": {
     "end_time": "2023-11-16T12:50:36.664240200Z",
     "start_time": "2023-11-16T12:50:36.611353700Z"
    }
   },
   "id": "11a6e0237d9a8d6b"
  },
  {
   "cell_type": "code",
   "execution_count": 59,
   "outputs": [],
   "source": [
    "def handle_location(value):\n",
    "    if(value in location_lessthan300):\n",
    "        return 'others'\n",
    "    else:\n",
    "        return value"
   ],
   "metadata": {
    "collapsed": false,
    "ExecuteTime": {
     "end_time": "2023-11-16T12:52:04.667014700Z",
     "start_time": "2023-11-16T12:52:04.634141600Z"
    }
   },
   "id": "efc0c323818e2576"
  },
  {
   "cell_type": "code",
   "execution_count": 61,
   "outputs": [
    {
     "data": {
      "text/plain": "location\nBTM                      5056\nothers                   4954\nHSR                      2494\nKoramangala 5th Block    2479\nJP Nagar                 2218\nWhitefield               2105\nIndiranagar              2026\nJayanagar                1916\nMarathahalli             1805\nBannerghatta Road        1609\nBellandur                1268\nElectronic City          1246\nKoramangala 1st Block    1236\nBrigade Road             1210\nKoramangala 7th Block    1174\nKoramangala 6th Block    1127\nSarjapur Road            1047\nKoramangala 4th Block    1017\nUlsoor                   1011\nBanashankari              902\nMG Road                   893\nKalyan Nagar              841\nRichmond Road             803\nMalleshwaram              721\nFrazer Town               714\nBasavanagudi              684\nResidency Road            671\nBrookefield               656\nNew BEL Road              644\nBanaswadi                 640\nKammanahalli              639\nRajajinagar               591\nChurch Street             566\nLavelle Road              518\nShanti Nagar              508\nShivajinagar              498\nCunningham Road           490\nDomlur                    482\nOld Airport Road          437\nEjipura                   433\nCommercial Street         370\nSt. Marks Road            343\nName: count, dtype: int64"
     },
     "execution_count": 61,
     "metadata": {},
     "output_type": "execute_result"
    }
   ],
   "source": [
    "df_zomato['location'] = df_zomato['location'].apply(handle_location)\n",
    "df_zomato['location'].value_counts()"
   ],
   "metadata": {
    "collapsed": false,
    "ExecuteTime": {
     "end_time": "2023-11-16T12:53:38.153554200Z",
     "start_time": "2023-11-16T12:53:37.986977800Z"
    }
   },
   "id": "633cd38d48845336"
  },
  {
   "cell_type": "code",
   "execution_count": 62,
   "outputs": [
    {
     "data": {
      "text/plain": "                    name online_order book_table  rate  votes      location  \\\n0                  Jalsa          Yes        Yes   4.1    775  Banashankari   \n1         Spice Elephant          Yes         No   4.1    787  Banashankari   \n2        San Churro Cafe          Yes         No   3.8    918  Banashankari   \n3  Addhuri Udupi Bhojana           No         No   3.7     88  Banashankari   \n4          Grand Village           No         No   3.8    166  Basavanagudi   \n\n       rest_type                        cuisines  Cost2plates    Type  \n0  Casual Dining  North Indian, Mughlai, Chinese          800  Buffet  \n1  Casual Dining     Chinese, North Indian, Thai          800  Buffet  \n2         Others          Cafe, Mexican, Italian          800  Buffet  \n3    Quick Bites      South Indian, North Indian          300  Buffet  \n4  Casual Dining        North Indian, Rajasthani          600  Buffet  ",
      "text/html": "<div>\n<style scoped>\n    .dataframe tbody tr th:only-of-type {\n        vertical-align: middle;\n    }\n\n    .dataframe tbody tr th {\n        vertical-align: top;\n    }\n\n    .dataframe thead th {\n        text-align: right;\n    }\n</style>\n<table border=\"1\" class=\"dataframe\">\n  <thead>\n    <tr style=\"text-align: right;\">\n      <th></th>\n      <th>name</th>\n      <th>online_order</th>\n      <th>book_table</th>\n      <th>rate</th>\n      <th>votes</th>\n      <th>location</th>\n      <th>rest_type</th>\n      <th>cuisines</th>\n      <th>Cost2plates</th>\n      <th>Type</th>\n    </tr>\n  </thead>\n  <tbody>\n    <tr>\n      <th>0</th>\n      <td>Jalsa</td>\n      <td>Yes</td>\n      <td>Yes</td>\n      <td>4.1</td>\n      <td>775</td>\n      <td>Banashankari</td>\n      <td>Casual Dining</td>\n      <td>North Indian, Mughlai, Chinese</td>\n      <td>800</td>\n      <td>Buffet</td>\n    </tr>\n    <tr>\n      <th>1</th>\n      <td>Spice Elephant</td>\n      <td>Yes</td>\n      <td>No</td>\n      <td>4.1</td>\n      <td>787</td>\n      <td>Banashankari</td>\n      <td>Casual Dining</td>\n      <td>Chinese, North Indian, Thai</td>\n      <td>800</td>\n      <td>Buffet</td>\n    </tr>\n    <tr>\n      <th>2</th>\n      <td>San Churro Cafe</td>\n      <td>Yes</td>\n      <td>No</td>\n      <td>3.8</td>\n      <td>918</td>\n      <td>Banashankari</td>\n      <td>Others</td>\n      <td>Cafe, Mexican, Italian</td>\n      <td>800</td>\n      <td>Buffet</td>\n    </tr>\n    <tr>\n      <th>3</th>\n      <td>Addhuri Udupi Bhojana</td>\n      <td>No</td>\n      <td>No</td>\n      <td>3.7</td>\n      <td>88</td>\n      <td>Banashankari</td>\n      <td>Quick Bites</td>\n      <td>South Indian, North Indian</td>\n      <td>300</td>\n      <td>Buffet</td>\n    </tr>\n    <tr>\n      <th>4</th>\n      <td>Grand Village</td>\n      <td>No</td>\n      <td>No</td>\n      <td>3.8</td>\n      <td>166</td>\n      <td>Basavanagudi</td>\n      <td>Casual Dining</td>\n      <td>North Indian, Rajasthani</td>\n      <td>600</td>\n      <td>Buffet</td>\n    </tr>\n  </tbody>\n</table>\n</div>"
     },
     "execution_count": 62,
     "metadata": {},
     "output_type": "execute_result"
    }
   ],
   "source": [
    "df_zomato.head()"
   ],
   "metadata": {
    "collapsed": false,
    "ExecuteTime": {
     "end_time": "2023-11-16T13:07:02.603923600Z",
     "start_time": "2023-11-16T13:07:02.530799500Z"
    }
   },
   "id": "e8461f4653c6654"
  },
  {
   "cell_type": "code",
   "execution_count": 63,
   "outputs": [
    {
     "data": {
      "text/plain": "array(['North Indian, Mughlai, Chinese', 'Chinese, North Indian, Thai',\n       'Cafe, Mexican, Italian', ...,\n       'North Indian, Street Food, Biryani', 'Chinese, Mughlai',\n       'North Indian, Chinese, Arabian, Momos'], dtype=object)"
     },
     "execution_count": 63,
     "metadata": {},
     "output_type": "execute_result"
    }
   ],
   "source": [
    "df_zomato['cuisines'].unique()"
   ],
   "metadata": {
    "collapsed": false,
    "ExecuteTime": {
     "end_time": "2023-11-16T13:12:20.919647600Z",
     "start_time": "2023-11-16T13:12:20.851283Z"
    }
   },
   "id": "27f5edb20a37e5a2"
  },
  {
   "cell_type": "markdown",
   "source": [
    "Cleaning Cuisines Column because the column contains many unique values and few cuisines are having like 1 to 2 restaurants. Therefore, let's group cuisines having less than 100 in frequency as 'others'"
   ],
   "metadata": {
    "collapsed": false
   },
   "id": "dde4c604ae45e759"
  },
  {
   "cell_type": "code",
   "execution_count": 65,
   "outputs": [],
   "source": [
    "cuisines = df_zomato['cuisines'].value_counts(ascending=False)\n",
    "cuisines_lessthan100 = cuisines[cuisines<100]"
   ],
   "metadata": {
    "collapsed": false,
    "ExecuteTime": {
     "end_time": "2023-11-16T13:17:02.480060300Z",
     "start_time": "2023-11-16T13:17:02.426204100Z"
    }
   },
   "id": "a73126a761c9a1cb"
  },
  {
   "cell_type": "code",
   "execution_count": 66,
   "outputs": [],
   "source": [
    "def handle_cuisines(value):\n",
    "    if(value in cuisines_lessthan100):\n",
    "        return 'others'\n",
    "    else:\n",
    "        return value"
   ],
   "metadata": {
    "collapsed": false,
    "ExecuteTime": {
     "end_time": "2023-11-16T13:18:43.419198300Z",
     "start_time": "2023-11-16T13:18:43.371325600Z"
    }
   },
   "id": "765510d7c9b49cfc"
  },
  {
   "cell_type": "code",
   "execution_count": 68,
   "outputs": [
    {
     "data": {
      "text/plain": "cuisines\nothers                                 26159\nNorth Indian                            2852\nNorth Indian, Chinese                   2351\nSouth Indian                            1820\nBiryani                                  903\n                                       ...  \nSouth Indian, Chinese, North Indian      105\nNorth Indian, Mughlai, Chinese           104\nSouth Indian, Fast Food                  104\nItalian, Pizza                           102\nNorth Indian, Chinese, Seafood           102\nName: count, Length: 70, dtype: int64"
     },
     "execution_count": 68,
     "metadata": {},
     "output_type": "execute_result"
    }
   ],
   "source": [
    "df_zomato['cuisines'] = df_zomato['cuisines'].apply(handle_cuisines)\n",
    "df_zomato['cuisines'].value_counts()"
   ],
   "metadata": {
    "collapsed": false,
    "ExecuteTime": {
     "end_time": "2023-11-16T13:20:00.664517200Z",
     "start_time": "2023-11-16T13:20:00.449439200Z"
    }
   },
   "id": "e821074101090ab1"
  },
  {
   "cell_type": "code",
   "execution_count": 69,
   "outputs": [
    {
     "data": {
      "text/plain": "Type\nDelivery              25579\nDine-out              17562\nDesserts               3559\nCafes                  1703\nDrinks & nightlife     1084\nBuffet                  869\nPubs and bars           686\nName: count, dtype: int64"
     },
     "execution_count": 69,
     "metadata": {},
     "output_type": "execute_result"
    }
   ],
   "source": [
    "df_zomato['Type'].value_counts()"
   ],
   "metadata": {
    "collapsed": false,
    "ExecuteTime": {
     "end_time": "2023-11-16T13:22:03.364580900Z",
     "start_time": "2023-11-16T13:22:03.284793300Z"
    }
   },
   "id": "acb6cdf8f5812e21"
  },
  {
   "cell_type": "markdown",
   "source": [
    "The \"Type\" column has less unique values, therefore, would be left the way it is."
   ],
   "metadata": {
    "collapsed": false
   },
   "id": "d5700ff3c433d416"
  },
  {
   "cell_type": "markdown",
   "source": [
    "The Data is now Clean. Saving cleaned data to Prepared folder"
   ],
   "metadata": {
    "collapsed": false
   },
   "id": "e35cb32754f2d7b5"
  },
  {
   "cell_type": "code",
   "execution_count": 70,
   "outputs": [],
   "source": [
    "df_zomato.to_pickle(os.path.join(path, 'Prepared Data', 'zomato_cleaned.pkl'))"
   ],
   "metadata": {
    "collapsed": false,
    "ExecuteTime": {
     "end_time": "2023-11-16T13:31:10.728180800Z",
     "start_time": "2023-11-16T13:31:10.660842Z"
    }
   },
   "id": "42dff643a7403712"
  },
  {
   "cell_type": "code",
   "execution_count": 71,
   "outputs": [],
   "source": [
    "df_zomato.to_csv(os.path.join(path, 'Prepared Data', 'zomato_cleaned.csv'))"
   ],
   "metadata": {
    "collapsed": false,
    "ExecuteTime": {
     "end_time": "2023-11-16T15:34:49.855960500Z",
     "start_time": "2023-11-16T15:34:49.509305700Z"
    }
   },
   "id": "bab9a4150662028a"
  }
 ],
 "metadata": {
  "kernelspec": {
   "display_name": "Python 3",
   "language": "python",
   "name": "python3"
  },
  "language_info": {
   "codemirror_mode": {
    "name": "ipython",
    "version": 2
   },
   "file_extension": ".py",
   "mimetype": "text/x-python",
   "name": "python",
   "nbconvert_exporter": "python",
   "pygments_lexer": "ipython2",
   "version": "2.7.6"
  }
 },
 "nbformat": 4,
 "nbformat_minor": 5
}
