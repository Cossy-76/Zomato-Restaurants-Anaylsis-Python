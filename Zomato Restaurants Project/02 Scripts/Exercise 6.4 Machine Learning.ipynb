{
 "cells": [
  {
   "cell_type": "markdown",
   "source": [
    "1. Importing libraries and data"
   ],
   "metadata": {
    "collapsed": false
   },
   "id": "146243d0be5f890a"
  },
  {
   "cell_type": "code",
   "execution_count": 1,
   "outputs": [],
   "source": [
    "import pandas as pd\n",
    "import numpy as np\n",
    "import seaborn as sns\n",
    "import matplotlib\n",
    "import matplotlib.pyplot as plt\n",
    "import os\n",
    "import sklearn\n",
    "from sklearn.model_selection import train_test_split\n",
    "from sklearn.linear_model import LinearRegression\n",
    "from sklearn.metrics import mean_squared_error, r2_score"
   ],
   "metadata": {
    "collapsed": false,
    "ExecuteTime": {
     "end_time": "2023-11-26T07:37:13.140307Z",
     "start_time": "2023-11-26T07:37:12.716481Z"
    }
   },
   "id": "7b2b126cbb8a6e68"
  },
  {
   "cell_type": "code",
   "execution_count": 2,
   "outputs": [],
   "source": [
    "# This option ensures that the graphs you create are displayed within the notebook without the need to \"call\" them specifically.\n",
    "\n",
    "%matplotlib inline"
   ],
   "metadata": {
    "collapsed": false,
    "ExecuteTime": {
     "end_time": "2023-11-26T07:37:13.199142500Z",
     "start_time": "2023-11-26T07:37:13.141301400Z"
    }
   },
   "id": "f20c40f7772e1920"
  },
  {
   "cell_type": "code",
   "execution_count": 3,
   "outputs": [],
   "source": [
    "path = r'C:\\Users\\honoc\\Documents\\CareerFoundry Folder\\Advanced Analytics and Dashboard Design\\Zomato Folder'\n",
    "path\n",
    "df = pd.read_csv(os.path.join(path, 'Original data', 'zomato.csv'), index_col = False)"
   ],
   "metadata": {
    "collapsed": false,
    "ExecuteTime": {
     "end_time": "2023-11-26T07:37:20.465780400Z",
     "start_time": "2023-11-26T07:37:13.171222900Z"
    }
   },
   "id": "6edecb7928174618"
  },
  {
   "cell_type": "markdown",
   "source": [
    "2. Data Cleaning"
   ],
   "metadata": {
    "collapsed": false
   },
   "id": "beadfcf5acc773eb"
  },
  {
   "cell_type": "code",
   "execution_count": 4,
   "outputs": [
    {
     "data": {
      "text/plain": "                                                 url  \\\n0  https://www.zomato.com/bangalore/jalsa-banasha...   \n1  https://www.zomato.com/bangalore/spice-elephan...   \n2  https://www.zomato.com/SanchurroBangalore?cont...   \n3  https://www.zomato.com/bangalore/addhuri-udupi...   \n4  https://www.zomato.com/bangalore/grand-village...   \n\n                                             address                   name  \\\n0  942, 21st Main Road, 2nd Stage, Banashankari, ...                  Jalsa   \n1  2nd Floor, 80 Feet Road, Near Big Bazaar, 6th ...         Spice Elephant   \n2  1112, Next to KIMS Medical College, 17th Cross...        San Churro Cafe   \n3  1st Floor, Annakuteera, 3rd Stage, Banashankar...  Addhuri Udupi Bhojana   \n4  10, 3rd Floor, Lakshmi Associates, Gandhi Baza...          Grand Village   \n\n  online_order book_table   rate  votes                             phone  \\\n0          Yes        Yes  4.1/5    775    080 42297555\\r\\n+91 9743772233   \n1          Yes         No  4.1/5    787                      080 41714161   \n2          Yes         No  3.8/5    918                    +91 9663487993   \n3           No         No  3.7/5     88                    +91 9620009302   \n4           No         No  3.8/5    166  +91 8026612447\\r\\n+91 9901210005   \n\n       location            rest_type  \\\n0  Banashankari        Casual Dining   \n1  Banashankari        Casual Dining   \n2  Banashankari  Cafe, Casual Dining   \n3  Banashankari          Quick Bites   \n4  Basavanagudi        Casual Dining   \n\n                                          dish_liked  \\\n0  Pasta, Lunch Buffet, Masala Papad, Paneer Laja...   \n1  Momos, Lunch Buffet, Chocolate Nirvana, Thai G...   \n2  Churros, Cannelloni, Minestrone Soup, Hot Choc...   \n3                                        Masala Dosa   \n4                                Panipuri, Gol Gappe   \n\n                         cuisines approx_cost(for two people)  \\\n0  North Indian, Mughlai, Chinese                         800   \n1     Chinese, North Indian, Thai                         800   \n2          Cafe, Mexican, Italian                         800   \n3      South Indian, North Indian                         300   \n4        North Indian, Rajasthani                         600   \n\n                                        reviews_list menu_item  \\\n0  [('Rated 4.0', 'RATED\\n  A beautiful place to ...        []   \n1  [('Rated 4.0', 'RATED\\n  Had been here for din...        []   \n2  [('Rated 3.0', \"RATED\\n  Ambience is not that ...        []   \n3  [('Rated 4.0', \"RATED\\n  Great food and proper...        []   \n4  [('Rated 4.0', 'RATED\\n  Very good restaurant ...        []   \n\n  listed_in(type) listed_in(city)  \n0          Buffet    Banashankari  \n1          Buffet    Banashankari  \n2          Buffet    Banashankari  \n3          Buffet    Banashankari  \n4          Buffet    Banashankari  ",
      "text/html": "<div>\n<style scoped>\n    .dataframe tbody tr th:only-of-type {\n        vertical-align: middle;\n    }\n\n    .dataframe tbody tr th {\n        vertical-align: top;\n    }\n\n    .dataframe thead th {\n        text-align: right;\n    }\n</style>\n<table border=\"1\" class=\"dataframe\">\n  <thead>\n    <tr style=\"text-align: right;\">\n      <th></th>\n      <th>url</th>\n      <th>address</th>\n      <th>name</th>\n      <th>online_order</th>\n      <th>book_table</th>\n      <th>rate</th>\n      <th>votes</th>\n      <th>phone</th>\n      <th>location</th>\n      <th>rest_type</th>\n      <th>dish_liked</th>\n      <th>cuisines</th>\n      <th>approx_cost(for two people)</th>\n      <th>reviews_list</th>\n      <th>menu_item</th>\n      <th>listed_in(type)</th>\n      <th>listed_in(city)</th>\n    </tr>\n  </thead>\n  <tbody>\n    <tr>\n      <th>0</th>\n      <td>https://www.zomato.com/bangalore/jalsa-banasha...</td>\n      <td>942, 21st Main Road, 2nd Stage, Banashankari, ...</td>\n      <td>Jalsa</td>\n      <td>Yes</td>\n      <td>Yes</td>\n      <td>4.1/5</td>\n      <td>775</td>\n      <td>080 42297555\\r\\n+91 9743772233</td>\n      <td>Banashankari</td>\n      <td>Casual Dining</td>\n      <td>Pasta, Lunch Buffet, Masala Papad, Paneer Laja...</td>\n      <td>North Indian, Mughlai, Chinese</td>\n      <td>800</td>\n      <td>[('Rated 4.0', 'RATED\\n  A beautiful place to ...</td>\n      <td>[]</td>\n      <td>Buffet</td>\n      <td>Banashankari</td>\n    </tr>\n    <tr>\n      <th>1</th>\n      <td>https://www.zomato.com/bangalore/spice-elephan...</td>\n      <td>2nd Floor, 80 Feet Road, Near Big Bazaar, 6th ...</td>\n      <td>Spice Elephant</td>\n      <td>Yes</td>\n      <td>No</td>\n      <td>4.1/5</td>\n      <td>787</td>\n      <td>080 41714161</td>\n      <td>Banashankari</td>\n      <td>Casual Dining</td>\n      <td>Momos, Lunch Buffet, Chocolate Nirvana, Thai G...</td>\n      <td>Chinese, North Indian, Thai</td>\n      <td>800</td>\n      <td>[('Rated 4.0', 'RATED\\n  Had been here for din...</td>\n      <td>[]</td>\n      <td>Buffet</td>\n      <td>Banashankari</td>\n    </tr>\n    <tr>\n      <th>2</th>\n      <td>https://www.zomato.com/SanchurroBangalore?cont...</td>\n      <td>1112, Next to KIMS Medical College, 17th Cross...</td>\n      <td>San Churro Cafe</td>\n      <td>Yes</td>\n      <td>No</td>\n      <td>3.8/5</td>\n      <td>918</td>\n      <td>+91 9663487993</td>\n      <td>Banashankari</td>\n      <td>Cafe, Casual Dining</td>\n      <td>Churros, Cannelloni, Minestrone Soup, Hot Choc...</td>\n      <td>Cafe, Mexican, Italian</td>\n      <td>800</td>\n      <td>[('Rated 3.0', \"RATED\\n  Ambience is not that ...</td>\n      <td>[]</td>\n      <td>Buffet</td>\n      <td>Banashankari</td>\n    </tr>\n    <tr>\n      <th>3</th>\n      <td>https://www.zomato.com/bangalore/addhuri-udupi...</td>\n      <td>1st Floor, Annakuteera, 3rd Stage, Banashankar...</td>\n      <td>Addhuri Udupi Bhojana</td>\n      <td>No</td>\n      <td>No</td>\n      <td>3.7/5</td>\n      <td>88</td>\n      <td>+91 9620009302</td>\n      <td>Banashankari</td>\n      <td>Quick Bites</td>\n      <td>Masala Dosa</td>\n      <td>South Indian, North Indian</td>\n      <td>300</td>\n      <td>[('Rated 4.0', \"RATED\\n  Great food and proper...</td>\n      <td>[]</td>\n      <td>Buffet</td>\n      <td>Banashankari</td>\n    </tr>\n    <tr>\n      <th>4</th>\n      <td>https://www.zomato.com/bangalore/grand-village...</td>\n      <td>10, 3rd Floor, Lakshmi Associates, Gandhi Baza...</td>\n      <td>Grand Village</td>\n      <td>No</td>\n      <td>No</td>\n      <td>3.8/5</td>\n      <td>166</td>\n      <td>+91 8026612447\\r\\n+91 9901210005</td>\n      <td>Basavanagudi</td>\n      <td>Casual Dining</td>\n      <td>Panipuri, Gol Gappe</td>\n      <td>North Indian, Rajasthani</td>\n      <td>600</td>\n      <td>[('Rated 4.0', 'RATED\\n  Very good restaurant ...</td>\n      <td>[]</td>\n      <td>Buffet</td>\n      <td>Banashankari</td>\n    </tr>\n  </tbody>\n</table>\n</div>"
     },
     "execution_count": 4,
     "metadata": {},
     "output_type": "execute_result"
    }
   ],
   "source": [
    "df.head()"
   ],
   "metadata": {
    "collapsed": false,
    "ExecuteTime": {
     "end_time": "2023-11-26T07:37:20.510657900Z",
     "start_time": "2023-11-26T07:37:20.467775200Z"
    }
   },
   "id": "c244e0deedd5ac34"
  },
  {
   "cell_type": "code",
   "execution_count": 5,
   "outputs": [
    {
     "data": {
      "text/plain": "(51717, 17)"
     },
     "execution_count": 5,
     "metadata": {},
     "output_type": "execute_result"
    }
   ],
   "source": [
    "df.shape"
   ],
   "metadata": {
    "collapsed": false,
    "ExecuteTime": {
     "end_time": "2023-11-26T07:37:20.558526300Z",
     "start_time": "2023-11-26T07:37:20.499687700Z"
    }
   },
   "id": "f3e01da1ba6cabf6"
  },
  {
   "cell_type": "code",
   "execution_count": 6,
   "outputs": [
    {
     "data": {
      "text/plain": "Index(['url', 'address', 'name', 'online_order', 'book_table', 'rate', 'votes',\n       'phone', 'location', 'rest_type', 'dish_liked', 'cuisines',\n       'approx_cost(for two people)', 'reviews_list', 'menu_item',\n       'listed_in(type)', 'listed_in(city)'],\n      dtype='object')"
     },
     "execution_count": 6,
     "metadata": {},
     "output_type": "execute_result"
    }
   ],
   "source": [
    "df.columns"
   ],
   "metadata": {
    "collapsed": false,
    "ExecuteTime": {
     "end_time": "2023-11-26T07:37:20.561519100Z",
     "start_time": "2023-11-26T07:37:20.512652400Z"
    }
   },
   "id": "8e49bb6f43b5a26a"
  },
  {
   "cell_type": "markdown",
   "source": [
    "Dropping Columns not important for this project"
   ],
   "metadata": {
    "collapsed": false
   },
   "id": "22e0415e1476896e"
  },
  {
   "cell_type": "code",
   "execution_count": 7,
   "outputs": [],
   "source": [
    "df = df.drop(['url', 'address', 'phone', 'menu_item', 'dish_liked', 'reviews_list'], axis=1)"
   ],
   "metadata": {
    "collapsed": false,
    "ExecuteTime": {
     "end_time": "2023-11-26T07:37:20.644291700Z",
     "start_time": "2023-11-26T07:37:20.538580800Z"
    }
   },
   "id": "4af10cc99972b293"
  },
  {
   "cell_type": "code",
   "execution_count": 8,
   "outputs": [
    {
     "data": {
      "text/plain": "                    name online_order book_table   rate  votes      location  \\\n0                  Jalsa          Yes        Yes  4.1/5    775  Banashankari   \n1         Spice Elephant          Yes         No  4.1/5    787  Banashankari   \n2        San Churro Cafe          Yes         No  3.8/5    918  Banashankari   \n3  Addhuri Udupi Bhojana           No         No  3.7/5     88  Banashankari   \n4          Grand Village           No         No  3.8/5    166  Basavanagudi   \n\n             rest_type                        cuisines  \\\n0        Casual Dining  North Indian, Mughlai, Chinese   \n1        Casual Dining     Chinese, North Indian, Thai   \n2  Cafe, Casual Dining          Cafe, Mexican, Italian   \n3          Quick Bites      South Indian, North Indian   \n4        Casual Dining        North Indian, Rajasthani   \n\n  approx_cost(for two people) listed_in(type) listed_in(city)  \n0                         800          Buffet    Banashankari  \n1                         800          Buffet    Banashankari  \n2                         800          Buffet    Banashankari  \n3                         300          Buffet    Banashankari  \n4                         600          Buffet    Banashankari  ",
      "text/html": "<div>\n<style scoped>\n    .dataframe tbody tr th:only-of-type {\n        vertical-align: middle;\n    }\n\n    .dataframe tbody tr th {\n        vertical-align: top;\n    }\n\n    .dataframe thead th {\n        text-align: right;\n    }\n</style>\n<table border=\"1\" class=\"dataframe\">\n  <thead>\n    <tr style=\"text-align: right;\">\n      <th></th>\n      <th>name</th>\n      <th>online_order</th>\n      <th>book_table</th>\n      <th>rate</th>\n      <th>votes</th>\n      <th>location</th>\n      <th>rest_type</th>\n      <th>cuisines</th>\n      <th>approx_cost(for two people)</th>\n      <th>listed_in(type)</th>\n      <th>listed_in(city)</th>\n    </tr>\n  </thead>\n  <tbody>\n    <tr>\n      <th>0</th>\n      <td>Jalsa</td>\n      <td>Yes</td>\n      <td>Yes</td>\n      <td>4.1/5</td>\n      <td>775</td>\n      <td>Banashankari</td>\n      <td>Casual Dining</td>\n      <td>North Indian, Mughlai, Chinese</td>\n      <td>800</td>\n      <td>Buffet</td>\n      <td>Banashankari</td>\n    </tr>\n    <tr>\n      <th>1</th>\n      <td>Spice Elephant</td>\n      <td>Yes</td>\n      <td>No</td>\n      <td>4.1/5</td>\n      <td>787</td>\n      <td>Banashankari</td>\n      <td>Casual Dining</td>\n      <td>Chinese, North Indian, Thai</td>\n      <td>800</td>\n      <td>Buffet</td>\n      <td>Banashankari</td>\n    </tr>\n    <tr>\n      <th>2</th>\n      <td>San Churro Cafe</td>\n      <td>Yes</td>\n      <td>No</td>\n      <td>3.8/5</td>\n      <td>918</td>\n      <td>Banashankari</td>\n      <td>Cafe, Casual Dining</td>\n      <td>Cafe, Mexican, Italian</td>\n      <td>800</td>\n      <td>Buffet</td>\n      <td>Banashankari</td>\n    </tr>\n    <tr>\n      <th>3</th>\n      <td>Addhuri Udupi Bhojana</td>\n      <td>No</td>\n      <td>No</td>\n      <td>3.7/5</td>\n      <td>88</td>\n      <td>Banashankari</td>\n      <td>Quick Bites</td>\n      <td>South Indian, North Indian</td>\n      <td>300</td>\n      <td>Buffet</td>\n      <td>Banashankari</td>\n    </tr>\n    <tr>\n      <th>4</th>\n      <td>Grand Village</td>\n      <td>No</td>\n      <td>No</td>\n      <td>3.8/5</td>\n      <td>166</td>\n      <td>Basavanagudi</td>\n      <td>Casual Dining</td>\n      <td>North Indian, Rajasthani</td>\n      <td>600</td>\n      <td>Buffet</td>\n      <td>Banashankari</td>\n    </tr>\n  </tbody>\n</table>\n</div>"
     },
     "execution_count": 8,
     "metadata": {},
     "output_type": "execute_result"
    }
   ],
   "source": [
    "df.head()"
   ],
   "metadata": {
    "collapsed": false,
    "ExecuteTime": {
     "end_time": "2023-11-26T07:37:20.726067900Z",
     "start_time": "2023-11-26T07:37:20.543567600Z"
    }
   },
   "id": "1cfbc76c1e1959b1"
  },
  {
   "cell_type": "code",
   "execution_count": 9,
   "outputs": [
    {
     "name": "stdout",
     "output_type": "stream",
     "text": [
      "<class 'pandas.core.frame.DataFrame'>\n",
      "RangeIndex: 51717 entries, 0 to 51716\n",
      "Data columns (total 11 columns):\n",
      " #   Column                       Non-Null Count  Dtype \n",
      "---  ------                       --------------  ----- \n",
      " 0   name                         51717 non-null  object\n",
      " 1   online_order                 51717 non-null  object\n",
      " 2   book_table                   51717 non-null  object\n",
      " 3   rate                         43942 non-null  object\n",
      " 4   votes                        51717 non-null  int64 \n",
      " 5   location                     51696 non-null  object\n",
      " 6   rest_type                    51490 non-null  object\n",
      " 7   cuisines                     51672 non-null  object\n",
      " 8   approx_cost(for two people)  51371 non-null  object\n",
      " 9   listed_in(type)              51717 non-null  object\n",
      " 10  listed_in(city)              51717 non-null  object\n",
      "dtypes: int64(1), object(10)\n",
      "memory usage: 4.3+ MB\n"
     ]
    }
   ],
   "source": [
    "df.info()"
   ],
   "metadata": {
    "collapsed": false,
    "ExecuteTime": {
     "end_time": "2023-11-26T07:37:20.782912300Z",
     "start_time": "2023-11-26T07:37:20.600412900Z"
    }
   },
   "id": "2a3530c1af6300e0"
  },
  {
   "cell_type": "code",
   "execution_count": 9,
   "outputs": [],
   "source": [],
   "metadata": {
    "collapsed": false,
    "ExecuteTime": {
     "end_time": "2023-11-26T07:37:20.782912300Z",
     "start_time": "2023-11-26T07:37:20.623349100Z"
    }
   },
   "id": "d8d9855c5a99fd23"
  },
  {
   "cell_type": "markdown",
   "source": [
    "Checking for Mixed-type columns"
   ],
   "metadata": {
    "collapsed": false
   },
   "id": "1a52104833859203"
  },
  {
   "cell_type": "code",
   "execution_count": 10,
   "outputs": [
    {
     "name": "stdout",
     "output_type": "stream",
     "text": [
      "rate\n",
      "location\n",
      "rest_type\n",
      "cuisines\n",
      "approx_cost(for two people)\n"
     ]
    }
   ],
   "source": [
    "for col in df.columns.tolist():\n",
    "    weird = (df[[col]].applymap(type) != df[[col]].iloc[0].apply(type)).any(axis = 1)\n",
    "    if len(df[weird]) > 0:\n",
    "        print(col)"
   ],
   "metadata": {
    "collapsed": false,
    "ExecuteTime": {
     "end_time": "2023-11-26T07:37:21.066137600Z",
     "start_time": "2023-11-26T07:37:20.640302300Z"
    }
   },
   "id": "30360e1f9ffd04d5"
  },
  {
   "cell_type": "markdown",
   "source": [
    "Checking for and dropping duplicates"
   ],
   "metadata": {
    "collapsed": false
   },
   "id": "9c36e5367b0ea710"
  },
  {
   "cell_type": "code",
   "execution_count": 11,
   "outputs": [],
   "source": [
    "df.drop_duplicates(inplace= True)"
   ],
   "metadata": {
    "collapsed": false,
    "ExecuteTime": {
     "end_time": "2023-11-26T07:37:21.110362100Z",
     "start_time": "2023-11-26T07:37:20.829785200Z"
    }
   },
   "id": "4662904b4efb0827"
  },
  {
   "cell_type": "code",
   "execution_count": 12,
   "outputs": [
    {
     "data": {
      "text/plain": "(51609, 11)"
     },
     "execution_count": 12,
     "metadata": {},
     "output_type": "execute_result"
    }
   ],
   "source": [
    "df.shape # 108 duplicates dropped"
   ],
   "metadata": {
    "collapsed": false,
    "ExecuteTime": {
     "end_time": "2023-11-26T07:37:21.119333900Z",
     "start_time": "2023-11-26T07:37:20.918541200Z"
    }
   },
   "id": "5cbc181fce66df2b"
  },
  {
   "cell_type": "code",
   "execution_count": 13,
   "outputs": [
    {
     "data": {
      "text/plain": "array([ 775,  787,  918, ..., 4957, 2382,  843], dtype=int64)"
     },
     "execution_count": 13,
     "metadata": {},
     "output_type": "execute_result"
    }
   ],
   "source": [
    "df['votes'].unique()"
   ],
   "metadata": {
    "collapsed": false,
    "ExecuteTime": {
     "end_time": "2023-11-26T07:37:21.120331500Z",
     "start_time": "2023-11-26T07:37:20.931506400Z"
    }
   },
   "id": "f6fde3d251f3a252"
  },
  {
   "cell_type": "markdown",
   "source": [
    "CLEANING UP THE MIXED-TYPE COLUMNS"
   ],
   "metadata": {
    "collapsed": false
   },
   "id": "cca00ec1e0bc0eb2"
  },
  {
   "cell_type": "markdown",
   "source": [
    "STARTING WITH THE \"rate\" column. The \"rate\" is displayed as a fraction of 5. It has to be changed to a simple float value. That is, instead of 4.1/5, it should be 4.1. It could also possibly have other mixed-data types."
   ],
   "metadata": {
    "collapsed": false
   },
   "id": "5c331e91b09ac223"
  },
  {
   "cell_type": "code",
   "execution_count": 14,
   "outputs": [
    {
     "data": {
      "text/plain": "array(['4.1/5', '3.8/5', '3.7/5', '3.6/5', '4.6/5', '4.0/5', '4.2/5',\n       '3.9/5', '3.1/5', '3.0/5', '3.2/5', '3.3/5', '2.8/5', '4.4/5',\n       '4.3/5', 'NEW', '2.9/5', '3.5/5', nan, '2.6/5', '3.8 /5', '3.4/5',\n       '4.5/5', '2.5/5', '2.7/5', '4.7/5', '2.4/5', '2.2/5', '2.3/5',\n       '3.4 /5', '-', '3.6 /5', '4.8/5', '3.9 /5', '4.2 /5', '4.0 /5',\n       '4.1 /5', '3.7 /5', '3.1 /5', '2.9 /5', '3.3 /5', '2.8 /5',\n       '3.5 /5', '2.7 /5', '2.5 /5', '3.2 /5', '2.6 /5', '4.5 /5',\n       '4.3 /5', '4.4 /5', '4.9/5', '2.1/5', '2.0/5', '1.8/5', '4.6 /5',\n       '4.9 /5', '3.0 /5', '4.8 /5', '2.3 /5', '4.7 /5', '2.4 /5',\n       '2.1 /5', '2.2 /5', '2.0 /5', '1.8 /5'], dtype=object)"
     },
     "execution_count": 14,
     "metadata": {},
     "output_type": "execute_result"
    }
   ],
   "source": [
    "df['rate'].unique()"
   ],
   "metadata": {
    "collapsed": false,
    "ExecuteTime": {
     "end_time": "2023-11-26T07:37:21.121328900Z",
     "start_time": "2023-11-26T07:37:20.947462700Z"
    }
   },
   "id": "f8dc580f468d47c7"
  },
  {
   "cell_type": "code",
   "execution_count": 15,
   "outputs": [],
   "source": [
    "def cleanrate(value):\n",
    "    if(value=='NEW' or value=='-'):\n",
    "        return np.nan\n",
    "    else:\n",
    "        value = str(value).split('/')\n",
    "        value = value[0]\n",
    "        return float(value)"
   ],
   "metadata": {
    "collapsed": false,
    "ExecuteTime": {
     "end_time": "2023-11-26T07:37:21.121328900Z",
     "start_time": "2023-11-26T07:37:20.963419200Z"
    }
   },
   "id": "197575178a6bee69"
  },
  {
   "cell_type": "code",
   "execution_count": 16,
   "outputs": [],
   "source": [
    "df['rate'] = df['rate'].apply(cleanrate)"
   ],
   "metadata": {
    "collapsed": false,
    "ExecuteTime": {
     "end_time": "2023-11-26T07:37:21.123322500Z",
     "start_time": "2023-11-26T07:37:20.988351100Z"
    }
   },
   "id": "298664f0c4c6dc58"
  },
  {
   "cell_type": "code",
   "execution_count": 17,
   "outputs": [
    {
     "data": {
      "text/plain": "                    name online_order book_table  rate  votes      location  \\\n0                  Jalsa          Yes        Yes   4.1    775  Banashankari   \n1         Spice Elephant          Yes         No   4.1    787  Banashankari   \n2        San Churro Cafe          Yes         No   3.8    918  Banashankari   \n3  Addhuri Udupi Bhojana           No         No   3.7     88  Banashankari   \n4          Grand Village           No         No   3.8    166  Basavanagudi   \n\n             rest_type                        cuisines  \\\n0        Casual Dining  North Indian, Mughlai, Chinese   \n1        Casual Dining     Chinese, North Indian, Thai   \n2  Cafe, Casual Dining          Cafe, Mexican, Italian   \n3          Quick Bites      South Indian, North Indian   \n4        Casual Dining        North Indian, Rajasthani   \n\n  approx_cost(for two people) listed_in(type) listed_in(city)  \n0                         800          Buffet    Banashankari  \n1                         800          Buffet    Banashankari  \n2                         800          Buffet    Banashankari  \n3                         300          Buffet    Banashankari  \n4                         600          Buffet    Banashankari  ",
      "text/html": "<div>\n<style scoped>\n    .dataframe tbody tr th:only-of-type {\n        vertical-align: middle;\n    }\n\n    .dataframe tbody tr th {\n        vertical-align: top;\n    }\n\n    .dataframe thead th {\n        text-align: right;\n    }\n</style>\n<table border=\"1\" class=\"dataframe\">\n  <thead>\n    <tr style=\"text-align: right;\">\n      <th></th>\n      <th>name</th>\n      <th>online_order</th>\n      <th>book_table</th>\n      <th>rate</th>\n      <th>votes</th>\n      <th>location</th>\n      <th>rest_type</th>\n      <th>cuisines</th>\n      <th>approx_cost(for two people)</th>\n      <th>listed_in(type)</th>\n      <th>listed_in(city)</th>\n    </tr>\n  </thead>\n  <tbody>\n    <tr>\n      <th>0</th>\n      <td>Jalsa</td>\n      <td>Yes</td>\n      <td>Yes</td>\n      <td>4.1</td>\n      <td>775</td>\n      <td>Banashankari</td>\n      <td>Casual Dining</td>\n      <td>North Indian, Mughlai, Chinese</td>\n      <td>800</td>\n      <td>Buffet</td>\n      <td>Banashankari</td>\n    </tr>\n    <tr>\n      <th>1</th>\n      <td>Spice Elephant</td>\n      <td>Yes</td>\n      <td>No</td>\n      <td>4.1</td>\n      <td>787</td>\n      <td>Banashankari</td>\n      <td>Casual Dining</td>\n      <td>Chinese, North Indian, Thai</td>\n      <td>800</td>\n      <td>Buffet</td>\n      <td>Banashankari</td>\n    </tr>\n    <tr>\n      <th>2</th>\n      <td>San Churro Cafe</td>\n      <td>Yes</td>\n      <td>No</td>\n      <td>3.8</td>\n      <td>918</td>\n      <td>Banashankari</td>\n      <td>Cafe, Casual Dining</td>\n      <td>Cafe, Mexican, Italian</td>\n      <td>800</td>\n      <td>Buffet</td>\n      <td>Banashankari</td>\n    </tr>\n    <tr>\n      <th>3</th>\n      <td>Addhuri Udupi Bhojana</td>\n      <td>No</td>\n      <td>No</td>\n      <td>3.7</td>\n      <td>88</td>\n      <td>Banashankari</td>\n      <td>Quick Bites</td>\n      <td>South Indian, North Indian</td>\n      <td>300</td>\n      <td>Buffet</td>\n      <td>Banashankari</td>\n    </tr>\n    <tr>\n      <th>4</th>\n      <td>Grand Village</td>\n      <td>No</td>\n      <td>No</td>\n      <td>3.8</td>\n      <td>166</td>\n      <td>Basavanagudi</td>\n      <td>Casual Dining</td>\n      <td>North Indian, Rajasthani</td>\n      <td>600</td>\n      <td>Buffet</td>\n      <td>Banashankari</td>\n    </tr>\n  </tbody>\n</table>\n</div>"
     },
     "execution_count": 17,
     "metadata": {},
     "output_type": "execute_result"
    }
   ],
   "source": [
    "df.head()"
   ],
   "metadata": {
    "collapsed": false,
    "ExecuteTime": {
     "end_time": "2023-11-26T07:37:21.186150400Z",
     "start_time": "2023-11-26T07:37:21.053174100Z"
    }
   },
   "id": "5ec6843bf4a6ef54"
  },
  {
   "cell_type": "code",
   "execution_count": 17,
   "outputs": [],
   "source": [],
   "metadata": {
    "collapsed": false,
    "ExecuteTime": {
     "end_time": "2023-11-26T07:37:21.202108200Z",
     "start_time": "2023-11-26T07:37:21.070127800Z"
    }
   },
   "id": "e8b2aa45cc7daa93"
  },
  {
   "cell_type": "markdown",
   "source": [
    "Checking for null values in \"rate\" column"
   ],
   "metadata": {
    "collapsed": false
   },
   "id": "ec2fb714dbe50786"
  },
  {
   "cell_type": "code",
   "execution_count": 18,
   "outputs": [
    {
     "data": {
      "text/plain": "10019"
     },
     "execution_count": 18,
     "metadata": {},
     "output_type": "execute_result"
    }
   ],
   "source": [
    "df.rate.isnull().sum()"
   ],
   "metadata": {
    "collapsed": false,
    "ExecuteTime": {
     "end_time": "2023-11-26T07:37:21.370644400Z",
     "start_time": "2023-11-26T07:37:21.086083500Z"
    }
   },
   "id": "77de297ee35e3760"
  },
  {
   "cell_type": "code",
   "execution_count": 19,
   "outputs": [
    {
     "data": {
      "text/plain": "0"
     },
     "execution_count": 19,
     "metadata": {},
     "output_type": "execute_result"
    }
   ],
   "source": [
    "df['rate'].fillna(df['rate'].mean(), inplace= True) # Filling the null values with the mean\n",
    "df['rate'].isnull().sum()"
   ],
   "metadata": {
    "collapsed": false,
    "ExecuteTime": {
     "end_time": "2023-11-26T07:37:21.422502300Z",
     "start_time": "2023-11-26T07:37:21.099047800Z"
    }
   },
   "id": "ff56cf51e3b73121"
  },
  {
   "cell_type": "markdown",
   "source": [
    "Dropping Null Values for \"location\", \"rest_type\", \"cuisines\", and \"approx_cost(for two people)\". Reason: The Null Values are few and will not have a significant effect on the outcome of the Analysis."
   ],
   "metadata": {
    "collapsed": false
   },
   "id": "cd0521602eb8bc41"
  },
  {
   "cell_type": "code",
   "execution_count": 20,
   "outputs": [
    {
     "data": {
      "text/plain": "                    name online_order book_table  rate  votes      location  \\\n0                  Jalsa          Yes        Yes   4.1    775  Banashankari   \n1         Spice Elephant          Yes         No   4.1    787  Banashankari   \n2        San Churro Cafe          Yes         No   3.8    918  Banashankari   \n3  Addhuri Udupi Bhojana           No         No   3.7     88  Banashankari   \n4          Grand Village           No         No   3.8    166  Basavanagudi   \n\n             rest_type                        cuisines  \\\n0        Casual Dining  North Indian, Mughlai, Chinese   \n1        Casual Dining     Chinese, North Indian, Thai   \n2  Cafe, Casual Dining          Cafe, Mexican, Italian   \n3          Quick Bites      South Indian, North Indian   \n4        Casual Dining        North Indian, Rajasthani   \n\n  approx_cost(for two people) listed_in(type) listed_in(city)  \n0                         800          Buffet    Banashankari  \n1                         800          Buffet    Banashankari  \n2                         800          Buffet    Banashankari  \n3                         300          Buffet    Banashankari  \n4                         600          Buffet    Banashankari  ",
      "text/html": "<div>\n<style scoped>\n    .dataframe tbody tr th:only-of-type {\n        vertical-align: middle;\n    }\n\n    .dataframe tbody tr th {\n        vertical-align: top;\n    }\n\n    .dataframe thead th {\n        text-align: right;\n    }\n</style>\n<table border=\"1\" class=\"dataframe\">\n  <thead>\n    <tr style=\"text-align: right;\">\n      <th></th>\n      <th>name</th>\n      <th>online_order</th>\n      <th>book_table</th>\n      <th>rate</th>\n      <th>votes</th>\n      <th>location</th>\n      <th>rest_type</th>\n      <th>cuisines</th>\n      <th>approx_cost(for two people)</th>\n      <th>listed_in(type)</th>\n      <th>listed_in(city)</th>\n    </tr>\n  </thead>\n  <tbody>\n    <tr>\n      <th>0</th>\n      <td>Jalsa</td>\n      <td>Yes</td>\n      <td>Yes</td>\n      <td>4.1</td>\n      <td>775</td>\n      <td>Banashankari</td>\n      <td>Casual Dining</td>\n      <td>North Indian, Mughlai, Chinese</td>\n      <td>800</td>\n      <td>Buffet</td>\n      <td>Banashankari</td>\n    </tr>\n    <tr>\n      <th>1</th>\n      <td>Spice Elephant</td>\n      <td>Yes</td>\n      <td>No</td>\n      <td>4.1</td>\n      <td>787</td>\n      <td>Banashankari</td>\n      <td>Casual Dining</td>\n      <td>Chinese, North Indian, Thai</td>\n      <td>800</td>\n      <td>Buffet</td>\n      <td>Banashankari</td>\n    </tr>\n    <tr>\n      <th>2</th>\n      <td>San Churro Cafe</td>\n      <td>Yes</td>\n      <td>No</td>\n      <td>3.8</td>\n      <td>918</td>\n      <td>Banashankari</td>\n      <td>Cafe, Casual Dining</td>\n      <td>Cafe, Mexican, Italian</td>\n      <td>800</td>\n      <td>Buffet</td>\n      <td>Banashankari</td>\n    </tr>\n    <tr>\n      <th>3</th>\n      <td>Addhuri Udupi Bhojana</td>\n      <td>No</td>\n      <td>No</td>\n      <td>3.7</td>\n      <td>88</td>\n      <td>Banashankari</td>\n      <td>Quick Bites</td>\n      <td>South Indian, North Indian</td>\n      <td>300</td>\n      <td>Buffet</td>\n      <td>Banashankari</td>\n    </tr>\n    <tr>\n      <th>4</th>\n      <td>Grand Village</td>\n      <td>No</td>\n      <td>No</td>\n      <td>3.8</td>\n      <td>166</td>\n      <td>Basavanagudi</td>\n      <td>Casual Dining</td>\n      <td>North Indian, Rajasthani</td>\n      <td>600</td>\n      <td>Buffet</td>\n      <td>Banashankari</td>\n    </tr>\n  </tbody>\n</table>\n</div>"
     },
     "execution_count": 20,
     "metadata": {},
     "output_type": "execute_result"
    }
   ],
   "source": [
    "df.dropna(inplace= True)\n",
    "df.head()"
   ],
   "metadata": {
    "collapsed": false,
    "ExecuteTime": {
     "end_time": "2023-11-26T07:37:21.520234700Z",
     "start_time": "2023-11-26T07:37:21.114348600Z"
    }
   },
   "id": "267f6fa96e1b133f"
  },
  {
   "cell_type": "markdown",
   "source": [
    "Renaming columns: \"approx_cost(for two people)\" to \"Cost2plates\", \"listed_in(type)\" to \"Type\""
   ],
   "metadata": {
    "collapsed": false
   },
   "id": "a0dfece4f6049042"
  },
  {
   "cell_type": "code",
   "execution_count": 21,
   "outputs": [
    {
     "data": {
      "text/plain": "                    name online_order book_table  rate  votes      location  \\\n0                  Jalsa          Yes        Yes   4.1    775  Banashankari   \n1         Spice Elephant          Yes         No   4.1    787  Banashankari   \n2        San Churro Cafe          Yes         No   3.8    918  Banashankari   \n3  Addhuri Udupi Bhojana           No         No   3.7     88  Banashankari   \n4          Grand Village           No         No   3.8    166  Basavanagudi   \n\n             rest_type                        cuisines Cost2plates    Type  \\\n0        Casual Dining  North Indian, Mughlai, Chinese         800  Buffet   \n1        Casual Dining     Chinese, North Indian, Thai         800  Buffet   \n2  Cafe, Casual Dining          Cafe, Mexican, Italian         800  Buffet   \n3          Quick Bites      South Indian, North Indian         300  Buffet   \n4        Casual Dining        North Indian, Rajasthani         600  Buffet   \n\n  listed_in(city)  \n0    Banashankari  \n1    Banashankari  \n2    Banashankari  \n3    Banashankari  \n4    Banashankari  ",
      "text/html": "<div>\n<style scoped>\n    .dataframe tbody tr th:only-of-type {\n        vertical-align: middle;\n    }\n\n    .dataframe tbody tr th {\n        vertical-align: top;\n    }\n\n    .dataframe thead th {\n        text-align: right;\n    }\n</style>\n<table border=\"1\" class=\"dataframe\">\n  <thead>\n    <tr style=\"text-align: right;\">\n      <th></th>\n      <th>name</th>\n      <th>online_order</th>\n      <th>book_table</th>\n      <th>rate</th>\n      <th>votes</th>\n      <th>location</th>\n      <th>rest_type</th>\n      <th>cuisines</th>\n      <th>Cost2plates</th>\n      <th>Type</th>\n      <th>listed_in(city)</th>\n    </tr>\n  </thead>\n  <tbody>\n    <tr>\n      <th>0</th>\n      <td>Jalsa</td>\n      <td>Yes</td>\n      <td>Yes</td>\n      <td>4.1</td>\n      <td>775</td>\n      <td>Banashankari</td>\n      <td>Casual Dining</td>\n      <td>North Indian, Mughlai, Chinese</td>\n      <td>800</td>\n      <td>Buffet</td>\n      <td>Banashankari</td>\n    </tr>\n    <tr>\n      <th>1</th>\n      <td>Spice Elephant</td>\n      <td>Yes</td>\n      <td>No</td>\n      <td>4.1</td>\n      <td>787</td>\n      <td>Banashankari</td>\n      <td>Casual Dining</td>\n      <td>Chinese, North Indian, Thai</td>\n      <td>800</td>\n      <td>Buffet</td>\n      <td>Banashankari</td>\n    </tr>\n    <tr>\n      <th>2</th>\n      <td>San Churro Cafe</td>\n      <td>Yes</td>\n      <td>No</td>\n      <td>3.8</td>\n      <td>918</td>\n      <td>Banashankari</td>\n      <td>Cafe, Casual Dining</td>\n      <td>Cafe, Mexican, Italian</td>\n      <td>800</td>\n      <td>Buffet</td>\n      <td>Banashankari</td>\n    </tr>\n    <tr>\n      <th>3</th>\n      <td>Addhuri Udupi Bhojana</td>\n      <td>No</td>\n      <td>No</td>\n      <td>3.7</td>\n      <td>88</td>\n      <td>Banashankari</td>\n      <td>Quick Bites</td>\n      <td>South Indian, North Indian</td>\n      <td>300</td>\n      <td>Buffet</td>\n      <td>Banashankari</td>\n    </tr>\n    <tr>\n      <th>4</th>\n      <td>Grand Village</td>\n      <td>No</td>\n      <td>No</td>\n      <td>3.8</td>\n      <td>166</td>\n      <td>Basavanagudi</td>\n      <td>Casual Dining</td>\n      <td>North Indian, Rajasthani</td>\n      <td>600</td>\n      <td>Buffet</td>\n      <td>Banashankari</td>\n    </tr>\n  </tbody>\n</table>\n</div>"
     },
     "execution_count": 21,
     "metadata": {},
     "output_type": "execute_result"
    }
   ],
   "source": [
    "df.rename(columns = {'approx_cost(for two people)':'Cost2plates', 'listed_in(type)':'Type'}, inplace = True)\n",
    "df.head()"
   ],
   "metadata": {
    "collapsed": false,
    "ExecuteTime": {
     "end_time": "2023-11-26T07:37:21.544169600Z",
     "start_time": "2023-11-26T07:37:21.188147Z"
    }
   },
   "id": "644111b5e62e6f03"
  },
  {
   "cell_type": "code",
   "execution_count": 22,
   "outputs": [
    {
     "name": "stdout",
     "output_type": "stream",
     "text": [
      "<class 'pandas.core.frame.DataFrame'>\n",
      "Index: 51042 entries, 0 to 51716\n",
      "Data columns (total 11 columns):\n",
      " #   Column           Non-Null Count  Dtype  \n",
      "---  ------           --------------  -----  \n",
      " 0   name             51042 non-null  object \n",
      " 1   online_order     51042 non-null  object \n",
      " 2   book_table       51042 non-null  object \n",
      " 3   rate             51042 non-null  float64\n",
      " 4   votes            51042 non-null  int64  \n",
      " 5   location         51042 non-null  object \n",
      " 6   rest_type        51042 non-null  object \n",
      " 7   cuisines         51042 non-null  object \n",
      " 8   Cost2plates      51042 non-null  object \n",
      " 9   Type             51042 non-null  object \n",
      " 10  listed_in(city)  51042 non-null  object \n",
      "dtypes: float64(1), int64(1), object(9)\n",
      "memory usage: 4.7+ MB\n"
     ]
    }
   ],
   "source": [
    "df.info()"
   ],
   "metadata": {
    "collapsed": false,
    "ExecuteTime": {
     "end_time": "2023-11-26T07:37:21.570100900Z",
     "start_time": "2023-11-26T07:37:21.206097200Z"
    }
   },
   "id": "180e388713f3a205"
  },
  {
   "cell_type": "markdown",
   "source": [
    "Let’s look at the Unique values in “Cost2plates” as it is an integral part of this task"
   ],
   "metadata": {
    "collapsed": false
   },
   "id": "558f872f1ca3a140"
  },
  {
   "cell_type": "code",
   "execution_count": 23,
   "outputs": [
    {
     "data": {
      "text/plain": "array(['800', '300', '600', '700', '550', '500', '450', '650', '400',\n       '900', '200', '750', '150', '850', '100', '1,200', '350', '250',\n       '950', '1,000', '1,500', '1,300', '199', '80', '1,100', '160',\n       '1,600', '230', '130', '50', '190', '1,700', '1,400', '180',\n       '1,350', '2,200', '2,000', '1,800', '1,900', '330', '2,500',\n       '2,100', '3,000', '2,800', '3,400', '40', '1,250', '3,500',\n       '4,000', '2,400', '2,600', '120', '1,450', '469', '70', '3,200',\n       '60', '560', '240', '360', '6,000', '1,050', '2,300', '4,100',\n       '5,000', '3,700', '1,650', '2,700', '4,500', '140'], dtype=object)"
     },
     "execution_count": 23,
     "metadata": {},
     "output_type": "execute_result"
    }
   ],
   "source": [
    "df['Cost2plates'].unique()"
   ],
   "metadata": {
    "collapsed": false,
    "ExecuteTime": {
     "end_time": "2023-11-26T07:37:21.572096200Z",
     "start_time": "2023-11-26T07:37:21.249977400Z"
    }
   },
   "id": "22cb88392679a7f9"
  },
  {
   "cell_type": "markdown",
   "source": [
    "There are some values in “Cost2plates” with commas, and these restrict it the values from becoming integers or floats. So let’s convert that data types to integer."
   ],
   "metadata": {
    "collapsed": false
   },
   "id": "e9594a94acb84669"
  },
  {
   "cell_type": "code",
   "execution_count": 24,
   "outputs": [],
   "source": [
    "import pandas as pd\n",
    "\n",
    "def clean_cost2plates(value):\n",
    "    try:\n",
    "        # Remove commas and convert to integer\n",
    "        cleaned_value = int(value.replace(',', ''))\n",
    "        return cleaned_value\n",
    "    except ValueError:\n",
    "        # Handle cases where conversion to integer is not possible\n",
    "        return None\n",
    "\n",
    "# Assuming df_zomato is your DataFrame\n",
    "df['Cost2plates'] = df['Cost2plates'].apply(clean_cost2plates)"
   ],
   "metadata": {
    "collapsed": false,
    "ExecuteTime": {
     "end_time": "2023-11-26T07:37:21.596029Z",
     "start_time": "2023-11-26T07:37:21.269922200Z"
    }
   },
   "id": "7b4b7c52c0e4c7c7"
  },
  {
   "cell_type": "code",
   "execution_count": 25,
   "outputs": [
    {
     "data": {
      "text/plain": "array([ 800,  300,  600,  700,  550,  500,  450,  650,  400,  900,  200,\n        750,  150,  850,  100, 1200,  350,  250,  950, 1000, 1500, 1300,\n        199,   80, 1100,  160, 1600,  230,  130,   50,  190, 1700, 1400,\n        180, 1350, 2200, 2000, 1800, 1900,  330, 2500, 2100, 3000, 2800,\n       3400,   40, 1250, 3500, 4000, 2400, 2600,  120, 1450,  469,   70,\n       3200,   60,  560,  240,  360, 6000, 1050, 2300, 4100, 5000, 3700,\n       1650, 2700, 4500,  140], dtype=int64)"
     },
     "execution_count": 25,
     "metadata": {},
     "output_type": "execute_result"
    }
   ],
   "source": [
    "df['Cost2plates'].unique()"
   ],
   "metadata": {
    "collapsed": false,
    "ExecuteTime": {
     "end_time": "2023-11-26T07:37:21.597026700Z",
     "start_time": "2023-11-26T07:37:21.327761600Z"
    }
   },
   "id": "edbda7923819f40d"
  },
  {
   "cell_type": "code",
   "execution_count": 26,
   "outputs": [
    {
     "name": "stdout",
     "output_type": "stream",
     "text": [
      "<class 'pandas.core.frame.DataFrame'>\n",
      "Index: 51042 entries, 0 to 51716\n",
      "Data columns (total 11 columns):\n",
      " #   Column           Non-Null Count  Dtype  \n",
      "---  ------           --------------  -----  \n",
      " 0   name             51042 non-null  object \n",
      " 1   online_order     51042 non-null  object \n",
      " 2   book_table       51042 non-null  object \n",
      " 3   rate             51042 non-null  float64\n",
      " 4   votes            51042 non-null  int64  \n",
      " 5   location         51042 non-null  object \n",
      " 6   rest_type        51042 non-null  object \n",
      " 7   cuisines         51042 non-null  object \n",
      " 8   Cost2plates      51042 non-null  int64  \n",
      " 9   Type             51042 non-null  object \n",
      " 10  listed_in(city)  51042 non-null  object \n",
      "dtypes: float64(1), int64(2), object(8)\n",
      "memory usage: 4.7+ MB\n"
     ]
    }
   ],
   "source": [
    "df.info()"
   ],
   "metadata": {
    "collapsed": false,
    "ExecuteTime": {
     "end_time": "2023-11-26T07:37:21.663879900Z",
     "start_time": "2023-11-26T07:37:21.345715Z"
    }
   },
   "id": "3e52a1b0170dc90e"
  },
  {
   "cell_type": "markdown",
   "source": [
    "Extreme Values Checks"
   ],
   "metadata": {
    "collapsed": false
   },
   "id": "bb60c7f34a4b5879"
  },
  {
   "cell_type": "code",
   "execution_count": 27,
   "outputs": [
    {
     "name": "stderr",
     "output_type": "stream",
     "text": [
      "C:\\Users\\honoc\\AppData\\Local\\Temp\\ipykernel_13000\\3404909241.py:1: UserWarning: \n",
      "\n",
      "`distplot` is a deprecated function and will be removed in seaborn v0.14.0.\n",
      "\n",
      "Please adapt your code to use either `displot` (a figure-level function with\n",
      "similar flexibility) or `histplot` (an axes-level function for histograms).\n",
      "\n",
      "For a guide to updating your code to use the new functions, please see\n",
      "https://gist.github.com/mwaskom/de44147ed2974457ad6372750bbe5751\n",
      "\n",
      "  sns.distplot(df['votes'], bins=25) # Shows extreme values\n"
     ]
    },
    {
     "data": {
      "text/plain": "<Axes: xlabel='votes', ylabel='Density'>"
     },
     "execution_count": 27,
     "metadata": {},
     "output_type": "execute_result"
    },
    {
     "data": {
      "text/plain": "<Figure size 640x480 with 1 Axes>",
      "image/png": "[encoded data removed]"
     },
     "metadata": {},
     "output_type": "display_data"
    }
   ],
   "source": [
    "sns.distplot(df['votes'], bins=25) # Shows extreme values"
   ],
   "metadata": {
    "collapsed": false,
    "ExecuteTime": {
     "end_time": "2023-11-26T07:37:22.769570400Z",
     "start_time": "2023-11-26T07:37:21.392587200Z"
    }
   },
   "id": "276d403a9d96bac3"
  },
  {
   "cell_type": "code",
   "execution_count": 28,
   "outputs": [
    {
     "name": "stderr",
     "output_type": "stream",
     "text": [
      "C:\\Users\\honoc\\AppData\\Local\\Temp\\ipykernel_13000\\689529137.py:1: UserWarning: \n",
      "\n",
      "`distplot` is a deprecated function and will be removed in seaborn v0.14.0.\n",
      "\n",
      "Please adapt your code to use either `displot` (a figure-level function with\n",
      "similar flexibility) or `histplot` (an axes-level function for histograms).\n",
      "\n",
      "For a guide to updating your code to use the new functions, please see\n",
      "https://gist.github.com/mwaskom/de44147ed2974457ad6372750bbe5751\n",
      "\n",
      "  sns.distplot(df['Cost2plates'], bins=25) # Shows extreme values\n"
     ]
    },
    {
     "data": {
      "text/plain": "<Axes: xlabel='Cost2plates', ylabel='Density'>"
     },
     "execution_count": 28,
     "metadata": {},
     "output_type": "execute_result"
    },
    {
     "data": {
      "text/plain": "<Figure size 640x480 with 1 Axes>",
      "image/png": "[encoded data removed]"
     },
     "metadata": {},
     "output_type": "display_data"
    }
   ],
   "source": [
    "sns.distplot(df['Cost2plates'], bins=25) # Shows extreme values"
   ],
   "metadata": {
    "collapsed": false,
    "ExecuteTime": {
     "end_time": "2023-11-26T07:37:23.912546Z",
     "start_time": "2023-11-26T07:37:22.796495400Z"
    }
   },
   "id": "2378fc752ffb316e"
  },
  {
   "cell_type": "code",
   "execution_count": 29,
   "outputs": [
    {
     "data": {
      "text/plain": "284.507699541554"
     },
     "execution_count": 29,
     "metadata": {},
     "output_type": "execute_result"
    }
   ],
   "source": [
    "df['votes'].mean() # Check mean"
   ],
   "metadata": {
    "collapsed": false,
    "ExecuteTime": {
     "end_time": "2023-11-26T07:37:24.042189400Z",
     "start_time": "2023-11-26T07:37:23.909589200Z"
    }
   },
   "id": "d9cb625f3567e73a"
  },
  {
   "cell_type": "code",
   "execution_count": 30,
   "outputs": [
    {
     "data": {
      "text/plain": "555.782982641746"
     },
     "execution_count": 30,
     "metadata": {},
     "output_type": "execute_result"
    }
   ],
   "source": [
    "df['Cost2plates'].mean()"
   ],
   "metadata": {
    "collapsed": false,
    "ExecuteTime": {
     "end_time": "2023-11-26T07:37:24.078092200Z",
     "start_time": "2023-11-26T07:37:23.923514600Z"
    }
   },
   "id": "3f91449438a322f2"
  },
  {
   "cell_type": "code",
   "execution_count": 31,
   "outputs": [
    {
     "data": {
      "text/plain": "41.0"
     },
     "execution_count": 31,
     "metadata": {},
     "output_type": "execute_result"
    }
   ],
   "source": [
    "df['votes'].median() # Check median"
   ],
   "metadata": {
    "collapsed": false,
    "ExecuteTime": {
     "end_time": "2023-11-26T07:37:24.079089100Z",
     "start_time": "2023-11-26T07:37:23.942462400Z"
    }
   },
   "id": "523cb46f0ea8f543"
  },
  {
   "cell_type": "code",
   "execution_count": 32,
   "outputs": [
    {
     "data": {
      "text/plain": "400.0"
     },
     "execution_count": 32,
     "metadata": {},
     "output_type": "execute_result"
    }
   ],
   "source": [
    "df['Cost2plates'].median()"
   ],
   "metadata": {
    "collapsed": false,
    "ExecuteTime": {
     "end_time": "2023-11-26T07:37:24.080086Z",
     "start_time": "2023-11-26T07:37:23.957421500Z"
    }
   },
   "id": "3709d7c5828d8793"
  },
  {
   "cell_type": "code",
   "execution_count": 33,
   "outputs": [
    {
     "data": {
      "text/plain": "16832"
     },
     "execution_count": 33,
     "metadata": {},
     "output_type": "execute_result"
    }
   ],
   "source": [
    "df['votes'].max()"
   ],
   "metadata": {
    "collapsed": false,
    "ExecuteTime": {
     "end_time": "2023-11-26T07:37:24.080086Z",
     "start_time": "2023-11-26T07:37:23.971385Z"
    }
   },
   "id": "19607f936e18c4f2"
  },
  {
   "cell_type": "code",
   "execution_count": 34,
   "outputs": [
    {
     "data": {
      "text/plain": "6000"
     },
     "execution_count": 34,
     "metadata": {},
     "output_type": "execute_result"
    }
   ],
   "source": [
    "df['Cost2plates'].max()"
   ],
   "metadata": {
    "collapsed": false,
    "ExecuteTime": {
     "end_time": "2023-11-26T07:37:24.082080300Z",
     "start_time": "2023-11-26T07:37:23.987342900Z"
    }
   },
   "id": "8315ac96bc8877a2"
  },
  {
   "cell_type": "code",
   "execution_count": 35,
   "outputs": [
    {
     "data": {
      "text/plain": "0"
     },
     "execution_count": 35,
     "metadata": {},
     "output_type": "execute_result"
    }
   ],
   "source": [
    "df['votes'].min()"
   ],
   "metadata": {
    "collapsed": false,
    "ExecuteTime": {
     "end_time": "2023-11-26T07:37:24.083078300Z",
     "start_time": "2023-11-26T07:37:24.003298900Z"
    }
   },
   "id": "4f6a73a0a1058d5"
  },
  {
   "cell_type": "code",
   "execution_count": 36,
   "outputs": [
    {
     "data": {
      "text/plain": "40"
     },
     "execution_count": 36,
     "metadata": {},
     "output_type": "execute_result"
    }
   ],
   "source": [
    "df['Cost2plates'].min()"
   ],
   "metadata": {
    "collapsed": false,
    "ExecuteTime": {
     "end_time": "2023-11-26T07:37:24.104020800Z",
     "start_time": "2023-11-26T07:37:24.018256900Z"
    }
   },
   "id": "24318d371ba2fa82"
  },
  {
   "cell_type": "code",
   "execution_count": 36,
   "outputs": [],
   "source": [],
   "metadata": {
    "collapsed": false,
    "ExecuteTime": {
     "end_time": "2023-11-26T07:37:24.108040300Z",
     "start_time": "2023-11-26T07:37:24.041194Z"
    }
   },
   "id": "392365560fb74e26"
  },
  {
   "cell_type": "markdown",
   "source": [
    "3. Data prep for regression analysis"
   ],
   "metadata": {
    "collapsed": false
   },
   "id": "af914e5844a2a1fc"
  },
  {
   "cell_type": "code",
   "execution_count": 37,
   "outputs": [
    {
     "data": {
      "text/plain": "<Figure size 640x480 with 1 Axes>",
      "image/png": "[encoded data removed]"
     },
     "metadata": {},
     "output_type": "display_data"
    }
   ],
   "source": [
    "# Create a scatterplot using matplotlib for another look at how the chosen variables plot against each other.\n",
    "\n",
    "df.plot(x = 'Cost2plates', y='votes',style='o') # The style option creates a scatterplot; without it, we only have lines.\n",
    "plt.title('Cost for two plates vs Votes')\n",
    "plt.xlabel('Cost2plates')\n",
    "plt.ylabel('votes')\n",
    "plt.show()"
   ],
   "metadata": {
    "collapsed": false,
    "ExecuteTime": {
     "end_time": "2023-11-26T07:37:24.717545700Z",
     "start_time": "2023-11-26T07:37:24.048173200Z"
    }
   },
   "id": "50028f1f62987d4c"
  },
  {
   "cell_type": "code",
   "execution_count": 37,
   "outputs": [],
   "source": [],
   "metadata": {
    "collapsed": false,
    "ExecuteTime": {
     "end_time": "2023-11-26T07:37:24.815763900Z",
     "start_time": "2023-11-26T07:37:24.717545700Z"
    }
   },
   "id": "d1f0ac134785e7a6"
  },
  {
   "cell_type": "code",
   "execution_count": 65,
   "outputs": [],
   "source": [
    "df.to_csv(os.path.join(path, 'Prepared Data', 'zomato_scatterplot_first.csv'), index=False)"
   ],
   "metadata": {
    "collapsed": false,
    "ExecuteTime": {
     "end_time": "2023-11-26T07:44:32.605307200Z",
     "start_time": "2023-11-26T07:44:32.224987400Z"
    }
   },
   "id": "baf1810470e01c24"
  },
  {
   "cell_type": "markdown",
   "source": [
    "Hypothesis: If the approximate cost for two plates at Restaurants in Bengaluru is higher, then the total number of votes received by these restaurants tends to be higher."
   ],
   "metadata": {
    "collapsed": false
   },
   "id": "426dae549e454458"
  },
  {
   "cell_type": "code",
   "execution_count": 37,
   "outputs": [],
   "source": [],
   "metadata": {
    "collapsed": false,
    "ExecuteTime": {
     "end_time": "2023-11-26T07:37:24.816761800Z",
     "start_time": "2023-11-26T07:37:24.733501Z"
    }
   },
   "id": "ccd593660fda9f67"
  },
  {
   "cell_type": "code",
   "execution_count": 38,
   "outputs": [],
   "source": [
    "# Reshape the variables into NumPy arrays and put them into separate objects.\n",
    "\n",
    "X = df['Cost2plates'].values.reshape(-1,1)\n",
    "y = df['votes'].values.reshape(-1,1)"
   ],
   "metadata": {
    "collapsed": false,
    "ExecuteTime": {
     "end_time": "2023-11-26T07:37:24.816761800Z",
     "start_time": "2023-11-26T07:37:24.750944900Z"
    }
   },
   "id": "4856144a2732279d"
  },
  {
   "cell_type": "code",
   "execution_count": 39,
   "outputs": [
    {
     "data": {
      "text/plain": "array([[ 800],\n       [ 800],\n       [ 800],\n       ...,\n       [2000],\n       [2500],\n       [1500]], dtype=int64)"
     },
     "execution_count": 39,
     "metadata": {},
     "output_type": "execute_result"
    }
   ],
   "source": [
    "X"
   ],
   "metadata": {
    "collapsed": false,
    "ExecuteTime": {
     "end_time": "2023-11-26T07:37:24.817759Z",
     "start_time": "2023-11-26T07:37:24.765900700Z"
    }
   },
   "id": "4e2c319a2d1abc04"
  },
  {
   "cell_type": "code",
   "execution_count": 40,
   "outputs": [
    {
     "data": {
      "text/plain": "array([[775],\n       [787],\n       [918],\n       ...,\n       [  0],\n       [236],\n       [ 13]], dtype=int64)"
     },
     "execution_count": 40,
     "metadata": {},
     "output_type": "execute_result"
    }
   ],
   "source": [
    "y"
   ],
   "metadata": {
    "collapsed": false,
    "ExecuteTime": {
     "end_time": "2023-11-26T07:37:24.818756700Z",
     "start_time": "2023-11-26T07:37:24.782853900Z"
    }
   },
   "id": "b27b8ab4b4a7a2ff"
  },
  {
   "cell_type": "code",
   "execution_count": 41,
   "outputs": [],
   "source": [
    "# Split data into a training set and a test set.\n",
    "\n",
    "X_train, X_test, y_train, y_test = train_test_split(X, y, test_size=0.3, random_state=0)"
   ],
   "metadata": {
    "collapsed": false,
    "ExecuteTime": {
     "end_time": "2023-11-26T07:37:24.819753400Z",
     "start_time": "2023-11-26T07:37:24.796816Z"
    }
   },
   "id": "d0b6a9d5f01579b2"
  },
  {
   "cell_type": "code",
   "execution_count": 41,
   "outputs": [],
   "source": [],
   "metadata": {
    "collapsed": false,
    "ExecuteTime": {
     "end_time": "2023-11-26T07:37:24.930450600Z",
     "start_time": "2023-11-26T07:37:24.812772300Z"
    }
   },
   "id": "4332eb28166a4e86"
  },
  {
   "cell_type": "markdown",
   "source": [
    "4. Regression analysis"
   ],
   "metadata": {
    "collapsed": false
   },
   "id": "8081e4108f951b61"
  },
  {
   "cell_type": "code",
   "execution_count": 41,
   "outputs": [],
   "source": [],
   "metadata": {
    "collapsed": false,
    "ExecuteTime": {
     "end_time": "2023-11-26T07:37:24.996300500Z",
     "start_time": "2023-11-26T07:37:24.825736800Z"
    }
   },
   "id": "bce1cf0f9238ea58"
  },
  {
   "cell_type": "code",
   "execution_count": 42,
   "outputs": [],
   "source": [
    "# Create a regression object.\n",
    "\n",
    "regression = LinearRegression()  # This is the regression object, which will be fit onto the training set."
   ],
   "metadata": {
    "collapsed": false,
    "ExecuteTime": {
     "end_time": "2023-11-26T07:37:24.997270Z",
     "start_time": "2023-11-26T07:37:24.843688100Z"
    }
   },
   "id": "c4f457dd5232882a"
  },
  {
   "cell_type": "code",
   "execution_count": 43,
   "outputs": [
    {
     "data": {
      "text/plain": "LinearRegression()",
      "text/html": "<style>#sk-container-id-1 {color: black;background-color: white;}#sk-container-id-1 pre{padding: 0;}#sk-container-id-1 div.sk-toggleable {background-color: white;}#sk-container-id-1 label.sk-toggleable__label {cursor: pointer;display: block;width: 100%;margin-bottom: 0;padding: 0.3em;box-sizing: border-box;text-align: center;}#sk-container-id-1 label.sk-toggleable__label-arrow:before {content: \"▸\";float: left;margin-right: 0.25em;color: #696969;}#sk-container-id-1 label.sk-toggleable__label-arrow:hover:before {color: black;}#sk-container-id-1 div.sk-estimator:hover label.sk-toggleable__label-arrow:before {color: black;}#sk-container-id-1 div.sk-toggleable__content {max-height: 0;max-width: 0;overflow: hidden;text-align: left;background-color: #f0f8ff;}#sk-container-id-1 div.sk-toggleable__content pre {margin: 0.2em;color: black;border-radius: 0.25em;background-color: #f0f8ff;}#sk-container-id-1 input.sk-toggleable__control:checked~div.sk-toggleable__content {max-height: 200px;max-width: 100%;overflow: auto;}#sk-container-id-1 input.sk-toggleable__control:checked~label.sk-toggleable__label-arrow:before {content: \"▾\";}#sk-container-id-1 div.sk-estimator input.sk-toggleable__control:checked~label.sk-toggleable__label {background-color: #d4ebff;}#sk-container-id-1 div.sk-label input.sk-toggleable__control:checked~label.sk-toggleable__label {background-color: #d4ebff;}#sk-container-id-1 input.sk-hidden--visually {border: 0;clip: rect(1px 1px 1px 1px);clip: rect(1px, 1px, 1px, 1px);height: 1px;margin: -1px;overflow: hidden;padding: 0;position: absolute;width: 1px;}#sk-container-id-1 div.sk-estimator {font-family: monospace;background-color: #f0f8ff;border: 1px dotted black;border-radius: 0.25em;box-sizing: border-box;margin-bottom: 0.5em;}#sk-container-id-1 div.sk-estimator:hover {background-color: #d4ebff;}#sk-container-id-1 div.sk-parallel-item::after {content: \"\";width: 100%;border-bottom: 1px solid gray;flex-grow: 1;}#sk-container-id-1 div.sk-label:hover label.sk-toggleable__label {background-color: #d4ebff;}#sk-container-id-1 div.sk-serial::before {content: \"\";position: absolute;border-left: 1px solid gray;box-sizing: border-box;top: 0;bottom: 0;left: 50%;z-index: 0;}#sk-container-id-1 div.sk-serial {display: flex;flex-direction: column;align-items: center;background-color: white;padding-right: 0.2em;padding-left: 0.2em;position: relative;}#sk-container-id-1 div.sk-item {position: relative;z-index: 1;}#sk-container-id-1 div.sk-parallel {display: flex;align-items: stretch;justify-content: center;background-color: white;position: relative;}#sk-container-id-1 div.sk-item::before, #sk-container-id-1 div.sk-parallel-item::before {content: \"\";position: absolute;border-left: 1px solid gray;box-sizing: border-box;top: 0;bottom: 0;left: 50%;z-index: -1;}#sk-container-id-1 div.sk-parallel-item {display: flex;flex-direction: column;z-index: 1;position: relative;background-color: white;}#sk-container-id-1 div.sk-parallel-item:first-child::after {align-self: flex-end;width: 50%;}#sk-container-id-1 div.sk-parallel-item:last-child::after {align-self: flex-start;width: 50%;}#sk-container-id-1 div.sk-parallel-item:only-child::after {width: 0;}#sk-container-id-1 div.sk-dashed-wrapped {border: 1px dashed gray;margin: 0 0.4em 0.5em 0.4em;box-sizing: border-box;padding-bottom: 0.4em;background-color: white;}#sk-container-id-1 div.sk-label label {font-family: monospace;font-weight: bold;display: inline-block;line-height: 1.2em;}#sk-container-id-1 div.sk-label-container {text-align: center;}#sk-container-id-1 div.sk-container {/* jupyter's `normalize.less` sets `[hidden] { display: none; }` but bootstrap.min.css set `[hidden] { display: none !important; }` so we also need the `!important` here to be able to override the default hidden behavior on the sphinx rendered scikit-learn.org. See: https://github.com/scikit-learn/scikit-learn/issues/21755 */display: inline-block !important;position: relative;}#sk-container-id-1 div.sk-text-repr-fallback {display: none;}</style><div id=\"sk-container-id-1\" class=\"sk-top-container\"><div class=\"sk-text-repr-fallback\"><pre>LinearRegression()</pre><b>In a Jupyter environment, please rerun this cell to show the HTML representation or trust the notebook. <br />On GitHub, the HTML representation is unable to render, please try loading this page with nbviewer.org.</b></div><div class=\"sk-container\" hidden><div class=\"sk-item\"><div class=\"sk-estimator sk-toggleable\"><input class=\"sk-toggleable__control sk-hidden--visually\" id=\"sk-estimator-id-1\" type=\"checkbox\" checked><label for=\"sk-estimator-id-1\" class=\"sk-toggleable__label sk-toggleable__label-arrow\">LinearRegression</label><div class=\"sk-toggleable__content\"><pre>LinearRegression()</pre></div></div></div></div></div>"
     },
     "execution_count": 43,
     "metadata": {},
     "output_type": "execute_result"
    }
   ],
   "source": [
    "# Fit the regression object onto the training set.\n",
    "\n",
    "regression.fit(X_train, y_train)"
   ],
   "metadata": {
    "collapsed": false,
    "ExecuteTime": {
     "end_time": "2023-11-26T07:37:24.998268500Z",
     "start_time": "2023-11-26T07:37:24.859644300Z"
    }
   },
   "id": "b4bf8fb0f2e7791e"
  },
  {
   "cell_type": "code",
   "execution_count": 44,
   "outputs": [],
   "source": [
    "# Predict the values of y using X.\n",
    "\n",
    "y_predicted = regression.predict(X_test)"
   ],
   "metadata": {
    "collapsed": false,
    "ExecuteTime": {
     "end_time": "2023-11-26T07:37:24.999265500Z",
     "start_time": "2023-11-26T07:37:24.890559800Z"
    }
   },
   "id": "a9bba24a32f90b19"
  },
  {
   "cell_type": "code",
   "execution_count": 45,
   "outputs": [
    {
     "data": {
      "text/plain": "<Figure size 640x480 with 1 Axes>",
      "image/png": "[encoded data removed]"
     },
     "metadata": {},
     "output_type": "display_data"
    }
   ],
   "source": [
    "# Create a plot that shows the regression line from the model on the test set.\n",
    "\n",
    "plot_test = plt\n",
    "plot_test.scatter(X_test, y_test, color='gray', s = 15)\n",
    "plot_test.plot(X_test, y_predicted, color='red', linewidth =3)\n",
    "plot_test.title('Cost for two plates vs Votes (Test set)')\n",
    "plot_test.xlabel('Cost for two')\n",
    "plot_test.ylabel('Votes')\n",
    "plot_test.show()"
   ],
   "metadata": {
    "collapsed": false,
    "ExecuteTime": {
     "end_time": "2023-11-26T07:37:25.349307300Z",
     "start_time": "2023-11-26T07:37:24.935438600Z"
    }
   },
   "id": "cadcbfb640c5645a"
  },
  {
   "cell_type": "markdown",
   "source": [
    "The analysis reveals a positive correlation between the cost of two plates at restaurants in Bengaluru and the number of votes, suggesting that higher establishments tend to attract more attention. Possible explanations include customers valuing a better dining experience, a restaurant's location or image, and the association of higher costs with a better reputation. Causation is cautiously approached, with recognition of potential third variables. Acknowledgment of outliers prompts consideration of data errors or unique restaurants characteristics."
   ],
   "metadata": {
    "collapsed": false
   },
   "id": "3ee3a0f9b1a09e06"
  },
  {
   "cell_type": "code",
   "execution_count": 46,
   "outputs": [],
   "source": [
    "# Create objects that contain the model summary statistics.\n",
    "\n",
    "rmse = mean_squared_error(y_test, y_predicted) # This is the mean squared error\n",
    "r2 = r2_score(y_test, y_predicted) # This is the R2 score. "
   ],
   "metadata": {
    "collapsed": false,
    "ExecuteTime": {
     "end_time": "2023-11-26T07:37:25.445042500Z",
     "start_time": "2023-11-26T07:37:25.350305600Z"
    }
   },
   "id": "b973808b603e9b20"
  },
  {
   "cell_type": "code",
   "execution_count": 47,
   "outputs": [
    {
     "name": "stdout",
     "output_type": "stream",
     "text": [
      "Slope: [[0.7005945]]\n",
      "Mean squared error:  551655.8461262041\n",
      "R2 score:  0.14925785875801667\n"
     ]
    }
   ],
   "source": [
    "# Print the model summary statistics. This is where you evaluate the performance of the model\n",
    "\n",
    "print('Slope:' ,regression.coef_)\n",
    "print('Mean squared error: ', rmse)\n",
    "print('R2 score: ', r2)"
   ],
   "metadata": {
    "collapsed": false,
    "ExecuteTime": {
     "end_time": "2023-11-26T07:37:25.446040500Z",
     "start_time": "2023-11-26T07:37:25.366258300Z"
    }
   },
   "id": "3af63cb908df1fff"
  },
  {
   "cell_type": "code",
   "execution_count": 48,
   "outputs": [
    {
     "data": {
      "text/plain": "array([[ 103.73126739],\n       [ 138.76099261],\n       [1294.74192466],\n       ...,\n       [ 243.85016825],\n       [  -1.35790825],\n       [ 278.87989346]])"
     },
     "execution_count": 48,
     "metadata": {},
     "output_type": "execute_result"
    }
   ],
   "source": [
    "y_predicted"
   ],
   "metadata": {
    "collapsed": false,
    "ExecuteTime": {
     "end_time": "2023-11-26T07:37:25.446040500Z",
     "start_time": "2023-11-26T07:37:25.379222700Z"
    }
   },
   "id": "6024e36d36f4f7be"
  },
  {
   "cell_type": "code",
   "execution_count": 49,
   "outputs": [
    {
     "data": {
      "text/plain": "    Actual    Predicted\n0        0   103.731267\n1       15   138.760993\n2       15  1294.741925\n3        0   -36.387633\n4      847   664.206871\n5        0    33.671817\n6       33   103.731267\n7        6   173.790718\n8     1176    68.701542\n9      227   559.117695\n10       0   103.731267\n11     131   173.790718\n12      49    68.701542\n13      97   664.206871\n14       0   173.790718\n15      25    68.701542\n16     393   208.820443\n17       0   103.731267\n18      81   734.266321\n19     137   243.850168\n20      46    68.701542\n21     802   173.790718\n22     290   173.790718\n23      14    33.671817\n24       7   594.147420\n25      10   103.731267\n26     170   804.325772\n27      26   173.790718\n28       0   103.731267\n29      39    68.701542",
      "text/html": "<div>\n<style scoped>\n    .dataframe tbody tr th:only-of-type {\n        vertical-align: middle;\n    }\n\n    .dataframe tbody tr th {\n        vertical-align: top;\n    }\n\n    .dataframe thead th {\n        text-align: right;\n    }\n</style>\n<table border=\"1\" class=\"dataframe\">\n  <thead>\n    <tr style=\"text-align: right;\">\n      <th></th>\n      <th>Actual</th>\n      <th>Predicted</th>\n    </tr>\n  </thead>\n  <tbody>\n    <tr>\n      <th>0</th>\n      <td>0</td>\n      <td>103.731267</td>\n    </tr>\n    <tr>\n      <th>1</th>\n      <td>15</td>\n      <td>138.760993</td>\n    </tr>\n    <tr>\n      <th>2</th>\n      <td>15</td>\n      <td>1294.741925</td>\n    </tr>\n    <tr>\n      <th>3</th>\n      <td>0</td>\n      <td>-36.387633</td>\n    </tr>\n    <tr>\n      <th>4</th>\n      <td>847</td>\n      <td>664.206871</td>\n    </tr>\n    <tr>\n      <th>5</th>\n      <td>0</td>\n      <td>33.671817</td>\n    </tr>\n    <tr>\n      <th>6</th>\n      <td>33</td>\n      <td>103.731267</td>\n    </tr>\n    <tr>\n      <th>7</th>\n      <td>6</td>\n      <td>173.790718</td>\n    </tr>\n    <tr>\n      <th>8</th>\n      <td>1176</td>\n      <td>68.701542</td>\n    </tr>\n    <tr>\n      <th>9</th>\n      <td>227</td>\n      <td>559.117695</td>\n    </tr>\n    <tr>\n      <th>10</th>\n      <td>0</td>\n      <td>103.731267</td>\n    </tr>\n    <tr>\n      <th>11</th>\n      <td>131</td>\n      <td>173.790718</td>\n    </tr>\n    <tr>\n      <th>12</th>\n      <td>49</td>\n      <td>68.701542</td>\n    </tr>\n    <tr>\n      <th>13</th>\n      <td>97</td>\n      <td>664.206871</td>\n    </tr>\n    <tr>\n      <th>14</th>\n      <td>0</td>\n      <td>173.790718</td>\n    </tr>\n    <tr>\n      <th>15</th>\n      <td>25</td>\n      <td>68.701542</td>\n    </tr>\n    <tr>\n      <th>16</th>\n      <td>393</td>\n      <td>208.820443</td>\n    </tr>\n    <tr>\n      <th>17</th>\n      <td>0</td>\n      <td>103.731267</td>\n    </tr>\n    <tr>\n      <th>18</th>\n      <td>81</td>\n      <td>734.266321</td>\n    </tr>\n    <tr>\n      <th>19</th>\n      <td>137</td>\n      <td>243.850168</td>\n    </tr>\n    <tr>\n      <th>20</th>\n      <td>46</td>\n      <td>68.701542</td>\n    </tr>\n    <tr>\n      <th>21</th>\n      <td>802</td>\n      <td>173.790718</td>\n    </tr>\n    <tr>\n      <th>22</th>\n      <td>290</td>\n      <td>173.790718</td>\n    </tr>\n    <tr>\n      <th>23</th>\n      <td>14</td>\n      <td>33.671817</td>\n    </tr>\n    <tr>\n      <th>24</th>\n      <td>7</td>\n      <td>594.147420</td>\n    </tr>\n    <tr>\n      <th>25</th>\n      <td>10</td>\n      <td>103.731267</td>\n    </tr>\n    <tr>\n      <th>26</th>\n      <td>170</td>\n      <td>804.325772</td>\n    </tr>\n    <tr>\n      <th>27</th>\n      <td>26</td>\n      <td>173.790718</td>\n    </tr>\n    <tr>\n      <th>28</th>\n      <td>0</td>\n      <td>103.731267</td>\n    </tr>\n    <tr>\n      <th>29</th>\n      <td>39</td>\n      <td>68.701542</td>\n    </tr>\n  </tbody>\n</table>\n</div>"
     },
     "execution_count": 49,
     "metadata": {},
     "output_type": "execute_result"
    }
   ],
   "source": [
    "# Create a dataframe comparing the actual and predicted values of y.\n",
    "\n",
    "data = pd.DataFrame({'Actual': y_test.flatten(), 'Predicted': y_predicted.flatten()})\n",
    "data.head(30)"
   ],
   "metadata": {
    "collapsed": false,
    "ExecuteTime": {
     "end_time": "2023-11-26T07:37:25.448034800Z",
     "start_time": "2023-11-26T07:37:25.397173300Z"
    }
   },
   "id": "e761e17d3c892ba0"
  },
  {
   "cell_type": "markdown",
   "source": [
    "The results of the machine learning model show a positive slope of approximately 0.70, indicating a positive relationship between the cost of two plates and the predicted number of votes. However, the relatively high mean squared error of 551,655.85 suggests a considerable level of prediction error. The R2 score of 0.15 indicates that the model explains only 15% of the variance, leaving room for improvement. These metrics collectively indicate that while there is discernible relationship, the model's predictive accuracy may be limited."
   ],
   "metadata": {
    "collapsed": false
   },
   "id": "b6aa1fa1b0a92030"
  },
  {
   "cell_type": "markdown",
   "source": [
    "Compare how the regression fits the training set"
   ],
   "metadata": {
    "collapsed": false
   },
   "id": "99ab3292dc3bae66"
  },
  {
   "cell_type": "code",
   "execution_count": 49,
   "outputs": [],
   "source": [],
   "metadata": {
    "collapsed": false,
    "ExecuteTime": {
     "end_time": "2023-11-26T07:37:25.449031800Z",
     "start_time": "2023-11-26T07:37:25.426094300Z"
    }
   },
   "id": "70335c3d258b061b"
  },
  {
   "cell_type": "code",
   "execution_count": 50,
   "outputs": [],
   "source": [
    "# Predict.\n",
    "\n",
    "y_predicted_train = regression.predict(X_train) # This is predicting X_train!"
   ],
   "metadata": {
    "collapsed": false,
    "ExecuteTime": {
     "end_time": "2023-11-26T07:37:25.540782900Z",
     "start_time": "2023-11-26T07:37:25.443211Z"
    }
   },
   "id": "4e3afa842b6669c1"
  },
  {
   "cell_type": "code",
   "execution_count": 51,
   "outputs": [],
   "source": [
    "rmse = mean_squared_error(y_train, y_predicted_train)\n",
    "r2 = r2_score(y_train, y_predicted_train)"
   ],
   "metadata": {
    "collapsed": false,
    "ExecuteTime": {
     "end_time": "2023-11-26T07:37:25.637515900Z",
     "start_time": "2023-11-26T07:37:25.457010400Z"
    }
   },
   "id": "ea86bc9e6a4119cc"
  },
  {
   "cell_type": "code",
   "execution_count": 52,
   "outputs": [
    {
     "name": "stdout",
     "output_type": "stream",
     "text": [
      "Slope: [[0.7005945]]\n",
      "Mean squared error:  556840.3761844116\n",
      "R2 score:  0.14324050617705586\n"
     ]
    }
   ],
   "source": [
    "print('Slope:' ,regression.coef_)\n",
    "print('Mean squared error: ', rmse)\n",
    "print('R2 score: ', r2)"
   ],
   "metadata": {
    "collapsed": false,
    "ExecuteTime": {
     "end_time": "2023-11-26T07:37:25.656464700Z",
     "start_time": "2023-11-26T07:37:25.472965900Z"
    }
   },
   "id": "154dd07719ab28ae"
  },
  {
   "cell_type": "code",
   "execution_count": 53,
   "outputs": [
    {
     "data": {
      "text/plain": "<Figure size 640x480 with 1 Axes>",
      "image/png": "[encoded data removed]"
     },
     "metadata": {},
     "output_type": "display_data"
    }
   ],
   "source": [
    "# Visualizing the training set results.\n",
    "\n",
    "plot_test = plt\n",
    "plot_test.scatter(X_train, y_train, color='green', s = 15)\n",
    "plot_test.plot(X_train, y_predicted_train, color='red', linewidth =3)\n",
    "plot_test.title('Cost for two plates vs Votes (Train set)')\n",
    "plot_test.xlabel('Cost for two')\n",
    "plot_test.ylabel('Votes')\n",
    "plot_test.show()"
   ],
   "metadata": {
    "collapsed": false,
    "ExecuteTime": {
     "end_time": "2023-11-26T07:37:25.953651400Z",
     "start_time": "2023-11-26T07:37:25.489920500Z"
    }
   },
   "id": "2d4d0b60a6d0796f"
  },
  {
   "cell_type": "code",
   "execution_count": 53,
   "outputs": [],
   "source": [],
   "metadata": {
    "collapsed": false,
    "ExecuteTime": {
     "end_time": "2023-11-26T07:37:26.054375900Z",
     "start_time": "2023-11-26T07:37:25.948664900Z"
    }
   },
   "id": "ae677f3258f46c0b"
  },
  {
   "cell_type": "markdown",
   "source": [
    "Checking performance after removing outliers"
   ],
   "metadata": {
    "collapsed": false
   },
   "id": "cb24e2ae5d56e53d"
  },
  {
   "cell_type": "code",
   "execution_count": 54,
   "outputs": [],
   "source": [
    "# Clean the extreme values from the \"votes\" variable observed during the consistency checks.\n",
    "\n",
    "df_test = df[df['votes'] <=10000] "
   ],
   "metadata": {
    "collapsed": false,
    "ExecuteTime": {
     "end_time": "2023-11-26T07:37:26.055373Z",
     "start_time": "2023-11-26T07:37:25.964623300Z"
    }
   },
   "id": "2579a4dc91b22c35"
  },
  {
   "cell_type": "code",
   "execution_count": 55,
   "outputs": [
    {
     "data": {
      "text/plain": "<Figure size 640x480 with 1 Axes>",
      "image/png": "[encoded data removed]"
     },
     "metadata": {},
     "output_type": "display_data"
    }
   ],
   "source": [
    "# See how the scatterplot looks without outliers.\n",
    "\n",
    "df_test.plot(x = 'Cost2plates', y='votes', style='o')\n",
    "plt.title('Cost for two plates vs Votes')\n",
    "plt.xlabel('Cost for two')\n",
    "plt.ylabel('Votes')\n",
    "plt.show()"
   ],
   "metadata": {
    "collapsed": false,
    "ExecuteTime": {
     "end_time": "2023-11-26T07:37:26.584175200Z",
     "start_time": "2023-11-26T07:37:25.994540800Z"
    }
   },
   "id": "3f71adb1f46e45e5"
  },
  {
   "cell_type": "code",
   "execution_count": 56,
   "outputs": [],
   "source": [
    "# Reshape again.\n",
    "\n",
    "X_2 = df_test['Cost2plates'].values.reshape(-1,1)\n",
    "y_2 = df_test['votes'].values.reshape(-1,1)"
   ],
   "metadata": {
    "collapsed": false,
    "ExecuteTime": {
     "end_time": "2023-11-26T07:37:26.602622400Z",
     "start_time": "2023-11-26T07:37:26.585172900Z"
    }
   },
   "id": "b3dd35bd6a949d6c"
  },
  {
   "cell_type": "code",
   "execution_count": 57,
   "outputs": [],
   "source": [
    "X_train_2, X_test_2, y_train_2, y_test_2 = train_test_split(X_2, y_2, test_size=0.3, random_state=0)"
   ],
   "metadata": {
    "collapsed": false,
    "ExecuteTime": {
     "end_time": "2023-11-26T07:37:26.731270800Z",
     "start_time": "2023-11-26T07:37:26.602622400Z"
    }
   },
   "id": "323fd312a375a898"
  },
  {
   "cell_type": "code",
   "execution_count": 58,
   "outputs": [
    {
     "data": {
      "text/plain": "LinearRegression()",
      "text/html": "<style>#sk-container-id-2 {color: black;background-color: white;}#sk-container-id-2 pre{padding: 0;}#sk-container-id-2 div.sk-toggleable {background-color: white;}#sk-container-id-2 label.sk-toggleable__label {cursor: pointer;display: block;width: 100%;margin-bottom: 0;padding: 0.3em;box-sizing: border-box;text-align: center;}#sk-container-id-2 label.sk-toggleable__label-arrow:before {content: \"▸\";float: left;margin-right: 0.25em;color: #696969;}#sk-container-id-2 label.sk-toggleable__label-arrow:hover:before {color: black;}#sk-container-id-2 div.sk-estimator:hover label.sk-toggleable__label-arrow:before {color: black;}#sk-container-id-2 div.sk-toggleable__content {max-height: 0;max-width: 0;overflow: hidden;text-align: left;background-color: #f0f8ff;}#sk-container-id-2 div.sk-toggleable__content pre {margin: 0.2em;color: black;border-radius: 0.25em;background-color: #f0f8ff;}#sk-container-id-2 input.sk-toggleable__control:checked~div.sk-toggleable__content {max-height: 200px;max-width: 100%;overflow: auto;}#sk-container-id-2 input.sk-toggleable__control:checked~label.sk-toggleable__label-arrow:before {content: \"▾\";}#sk-container-id-2 div.sk-estimator input.sk-toggleable__control:checked~label.sk-toggleable__label {background-color: #d4ebff;}#sk-container-id-2 div.sk-label input.sk-toggleable__control:checked~label.sk-toggleable__label {background-color: #d4ebff;}#sk-container-id-2 input.sk-hidden--visually {border: 0;clip: rect(1px 1px 1px 1px);clip: rect(1px, 1px, 1px, 1px);height: 1px;margin: -1px;overflow: hidden;padding: 0;position: absolute;width: 1px;}#sk-container-id-2 div.sk-estimator {font-family: monospace;background-color: #f0f8ff;border: 1px dotted black;border-radius: 0.25em;box-sizing: border-box;margin-bottom: 0.5em;}#sk-container-id-2 div.sk-estimator:hover {background-color: #d4ebff;}#sk-container-id-2 div.sk-parallel-item::after {content: \"\";width: 100%;border-bottom: 1px solid gray;flex-grow: 1;}#sk-container-id-2 div.sk-label:hover label.sk-toggleable__label {background-color: #d4ebff;}#sk-container-id-2 div.sk-serial::before {content: \"\";position: absolute;border-left: 1px solid gray;box-sizing: border-box;top: 0;bottom: 0;left: 50%;z-index: 0;}#sk-container-id-2 div.sk-serial {display: flex;flex-direction: column;align-items: center;background-color: white;padding-right: 0.2em;padding-left: 0.2em;position: relative;}#sk-container-id-2 div.sk-item {position: relative;z-index: 1;}#sk-container-id-2 div.sk-parallel {display: flex;align-items: stretch;justify-content: center;background-color: white;position: relative;}#sk-container-id-2 div.sk-item::before, #sk-container-id-2 div.sk-parallel-item::before {content: \"\";position: absolute;border-left: 1px solid gray;box-sizing: border-box;top: 0;bottom: 0;left: 50%;z-index: -1;}#sk-container-id-2 div.sk-parallel-item {display: flex;flex-direction: column;z-index: 1;position: relative;background-color: white;}#sk-container-id-2 div.sk-parallel-item:first-child::after {align-self: flex-end;width: 50%;}#sk-container-id-2 div.sk-parallel-item:last-child::after {align-self: flex-start;width: 50%;}#sk-container-id-2 div.sk-parallel-item:only-child::after {width: 0;}#sk-container-id-2 div.sk-dashed-wrapped {border: 1px dashed gray;margin: 0 0.4em 0.5em 0.4em;box-sizing: border-box;padding-bottom: 0.4em;background-color: white;}#sk-container-id-2 div.sk-label label {font-family: monospace;font-weight: bold;display: inline-block;line-height: 1.2em;}#sk-container-id-2 div.sk-label-container {text-align: center;}#sk-container-id-2 div.sk-container {/* jupyter's `normalize.less` sets `[hidden] { display: none; }` but bootstrap.min.css set `[hidden] { display: none !important; }` so we also need the `!important` here to be able to override the default hidden behavior on the sphinx rendered scikit-learn.org. See: https://github.com/scikit-learn/scikit-learn/issues/21755 */display: inline-block !important;position: relative;}#sk-container-id-2 div.sk-text-repr-fallback {display: none;}</style><div id=\"sk-container-id-2\" class=\"sk-top-container\"><div class=\"sk-text-repr-fallback\"><pre>LinearRegression()</pre><b>In a Jupyter environment, please rerun this cell to show the HTML representation or trust the notebook. <br />On GitHub, the HTML representation is unable to render, please try loading this page with nbviewer.org.</b></div><div class=\"sk-container\" hidden><div class=\"sk-item\"><div class=\"sk-estimator sk-toggleable\"><input class=\"sk-toggleable__control sk-hidden--visually\" id=\"sk-estimator-id-2\" type=\"checkbox\" checked><label for=\"sk-estimator-id-2\" class=\"sk-toggleable__label sk-toggleable__label-arrow\">LinearRegression</label><div class=\"sk-toggleable__content\"><pre>LinearRegression()</pre></div></div></div></div></div>"
     },
     "execution_count": 58,
     "metadata": {},
     "output_type": "execute_result"
    }
   ],
   "source": [
    "# Run and fit the regression.\n",
    "\n",
    "regression = LinearRegression()\n",
    "regression.fit(X_train_2, y_train_2)"
   ],
   "metadata": {
    "collapsed": false,
    "ExecuteTime": {
     "end_time": "2023-11-26T07:37:26.733266800Z",
     "start_time": "2023-11-26T07:37:26.618578200Z"
    }
   },
   "id": "d4371221d7cc0fda"
  },
  {
   "cell_type": "code",
   "execution_count": 59,
   "outputs": [],
   "source": [
    "# Predict.\n",
    "\n",
    "y_predicted_2 = regression.predict(X_test_2)"
   ],
   "metadata": {
    "collapsed": false,
    "ExecuteTime": {
     "end_time": "2023-11-26T07:37:26.733266800Z",
     "start_time": "2023-11-26T07:37:26.634534700Z"
    }
   },
   "id": "ea4c2b68eb284dec"
  },
  {
   "cell_type": "code",
   "execution_count": 60,
   "outputs": [],
   "source": [
    "rmse = mean_squared_error(y_test_2, y_predicted_2)\n",
    "r2 = r2_score(y_test_2, y_predicted_2)"
   ],
   "metadata": {
    "collapsed": false,
    "ExecuteTime": {
     "end_time": "2023-11-26T07:37:26.734263100Z",
     "start_time": "2023-11-26T07:37:26.649493600Z"
    }
   },
   "id": "9c7bf420dd0d2187"
  },
  {
   "cell_type": "code",
   "execution_count": 61,
   "outputs": [
    {
     "name": "stdout",
     "output_type": "stream",
     "text": [
      "Slope: [[0.66780433]]\n",
      "Mean squared error:  449065.098255912\n",
      "R2 score:  0.15829924606818213\n"
     ]
    }
   ],
   "source": [
    "print('Slope:' ,regression.coef_)\n",
    "print('Mean squared error: ', rmse)\n",
    "print('R2 score: ', r2)"
   ],
   "metadata": {
    "collapsed": false,
    "ExecuteTime": {
     "end_time": "2023-11-26T07:37:26.734263100Z",
     "start_time": "2023-11-26T07:37:26.662458500Z"
    }
   },
   "id": "ecdd2edd4288d9c0"
  },
  {
   "cell_type": "code",
   "execution_count": 62,
   "outputs": [
    {
     "data": {
      "text/plain": "<Figure size 640x480 with 1 Axes>",
      "image/png": "[encoded data removed]"
     },
     "metadata": {},
     "output_type": "display_data"
    }
   ],
   "source": [
    "# Visualizing the test set results.\n",
    "plot_test = plt\n",
    "plot_test.scatter(X_test_2, y_test_2, color='gray', s = 15)\n",
    "plot_test.plot(X_test_2, y_predicted_2, color='red', linewidth =3)\n",
    "plot_test.title('Cost for two plates vs Votes (Test set)')\n",
    "plot_test.xlabel('Cost for two')\n",
    "plot_test.ylabel('Votes')\n",
    "plot_test.show()"
   ],
   "metadata": {
    "collapsed": false,
    "ExecuteTime": {
     "end_time": "2023-11-26T07:37:27.104101200Z",
     "start_time": "2023-11-26T07:37:26.677416900Z"
    }
   },
   "id": "7426063b818d2626"
  },
  {
   "cell_type": "markdown",
   "source": [
    "The Regression line shows some improvement with the removal of some outliers from the total number of votes."
   ],
   "metadata": {
    "collapsed": false
   },
   "id": "653157870fa84d09"
  },
  {
   "cell_type": "code",
   "execution_count": 63,
   "outputs": [],
   "source": [
    "data = pd.DataFrame({'Actual': y_test_2.flatten(), 'Predicted': y_predicted_2.flatten()})"
   ],
   "metadata": {
    "collapsed": false,
    "ExecuteTime": {
     "end_time": "2023-11-26T07:37:27.203454100Z",
     "start_time": "2023-11-26T07:37:27.100112Z"
    }
   },
   "id": "d53bcfa011b3645f"
  },
  {
   "cell_type": "code",
   "execution_count": 64,
   "outputs": [
    {
     "data": {
      "text/plain": "    Actual    Predicted\n0       22   903.470995\n1        0   102.105799\n2       45   102.105799\n3      424  2239.079655\n4      151   168.886232\n5       59   102.105799\n6      537   202.276448\n7      864   836.690562\n8        7    35.325366\n9     5024  1103.812294\n10     263   369.227531\n11    1123   235.666665\n12      67   235.666665\n13     252   168.886232\n14      68   235.666665\n15     817   436.007964\n16       0    35.325366\n17      62   168.886232\n18      48   168.886232\n19       0    35.325366\n20       0   102.105799\n21       0   302.447098\n22       0     1.935149\n23     352   168.886232\n24    1202  1237.373160\n25       7   168.886232\n26      27    35.325366\n27     807   502.788397\n28      70   302.447098\n29       9   168.886232\n30      41   436.007964\n31    1853   636.349263\n32       0   168.886232\n33      17    35.325366\n34      68    68.715582\n35      58   102.105799\n36       7    35.325366\n37       0    -4.742894\n38     133   369.227531\n39     718   903.470995\n40     148   302.447098\n41     402   703.129696\n42      15   102.105799\n43      10   102.105799\n44      14   102.105799\n45      57   102.105799\n46     104   135.496015\n47      21    35.325366\n48     825   102.105799\n49       0   569.568830",
      "text/html": "<div>\n<style scoped>\n    .dataframe tbody tr th:only-of-type {\n        vertical-align: middle;\n    }\n\n    .dataframe tbody tr th {\n        vertical-align: top;\n    }\n\n    .dataframe thead th {\n        text-align: right;\n    }\n</style>\n<table border=\"1\" class=\"dataframe\">\n  <thead>\n    <tr style=\"text-align: right;\">\n      <th></th>\n      <th>Actual</th>\n      <th>Predicted</th>\n    </tr>\n  </thead>\n  <tbody>\n    <tr>\n      <th>0</th>\n      <td>22</td>\n      <td>903.470995</td>\n    </tr>\n    <tr>\n      <th>1</th>\n      <td>0</td>\n      <td>102.105799</td>\n    </tr>\n    <tr>\n      <th>2</th>\n      <td>45</td>\n      <td>102.105799</td>\n    </tr>\n    <tr>\n      <th>3</th>\n      <td>424</td>\n      <td>2239.079655</td>\n    </tr>\n    <tr>\n      <th>4</th>\n      <td>151</td>\n      <td>168.886232</td>\n    </tr>\n    <tr>\n      <th>5</th>\n      <td>59</td>\n      <td>102.105799</td>\n    </tr>\n    <tr>\n      <th>6</th>\n      <td>537</td>\n      <td>202.276448</td>\n    </tr>\n    <tr>\n      <th>7</th>\n      <td>864</td>\n      <td>836.690562</td>\n    </tr>\n    <tr>\n      <th>8</th>\n      <td>7</td>\n      <td>35.325366</td>\n    </tr>\n    <tr>\n      <th>9</th>\n      <td>5024</td>\n      <td>1103.812294</td>\n    </tr>\n    <tr>\n      <th>10</th>\n      <td>263</td>\n      <td>369.227531</td>\n    </tr>\n    <tr>\n      <th>11</th>\n      <td>1123</td>\n      <td>235.666665</td>\n    </tr>\n    <tr>\n      <th>12</th>\n      <td>67</td>\n      <td>235.666665</td>\n    </tr>\n    <tr>\n      <th>13</th>\n      <td>252</td>\n      <td>168.886232</td>\n    </tr>\n    <tr>\n      <th>14</th>\n      <td>68</td>\n      <td>235.666665</td>\n    </tr>\n    <tr>\n      <th>15</th>\n      <td>817</td>\n      <td>436.007964</td>\n    </tr>\n    <tr>\n      <th>16</th>\n      <td>0</td>\n      <td>35.325366</td>\n    </tr>\n    <tr>\n      <th>17</th>\n      <td>62</td>\n      <td>168.886232</td>\n    </tr>\n    <tr>\n      <th>18</th>\n      <td>48</td>\n      <td>168.886232</td>\n    </tr>\n    <tr>\n      <th>19</th>\n      <td>0</td>\n      <td>35.325366</td>\n    </tr>\n    <tr>\n      <th>20</th>\n      <td>0</td>\n      <td>102.105799</td>\n    </tr>\n    <tr>\n      <th>21</th>\n      <td>0</td>\n      <td>302.447098</td>\n    </tr>\n    <tr>\n      <th>22</th>\n      <td>0</td>\n      <td>1.935149</td>\n    </tr>\n    <tr>\n      <th>23</th>\n      <td>352</td>\n      <td>168.886232</td>\n    </tr>\n    <tr>\n      <th>24</th>\n      <td>1202</td>\n      <td>1237.373160</td>\n    </tr>\n    <tr>\n      <th>25</th>\n      <td>7</td>\n      <td>168.886232</td>\n    </tr>\n    <tr>\n      <th>26</th>\n      <td>27</td>\n      <td>35.325366</td>\n    </tr>\n    <tr>\n      <th>27</th>\n      <td>807</td>\n      <td>502.788397</td>\n    </tr>\n    <tr>\n      <th>28</th>\n      <td>70</td>\n      <td>302.447098</td>\n    </tr>\n    <tr>\n      <th>29</th>\n      <td>9</td>\n      <td>168.886232</td>\n    </tr>\n    <tr>\n      <th>30</th>\n      <td>41</td>\n      <td>436.007964</td>\n    </tr>\n    <tr>\n      <th>31</th>\n      <td>1853</td>\n      <td>636.349263</td>\n    </tr>\n    <tr>\n      <th>32</th>\n      <td>0</td>\n      <td>168.886232</td>\n    </tr>\n    <tr>\n      <th>33</th>\n      <td>17</td>\n      <td>35.325366</td>\n    </tr>\n    <tr>\n      <th>34</th>\n      <td>68</td>\n      <td>68.715582</td>\n    </tr>\n    <tr>\n      <th>35</th>\n      <td>58</td>\n      <td>102.105799</td>\n    </tr>\n    <tr>\n      <th>36</th>\n      <td>7</td>\n      <td>35.325366</td>\n    </tr>\n    <tr>\n      <th>37</th>\n      <td>0</td>\n      <td>-4.742894</td>\n    </tr>\n    <tr>\n      <th>38</th>\n      <td>133</td>\n      <td>369.227531</td>\n    </tr>\n    <tr>\n      <th>39</th>\n      <td>718</td>\n      <td>903.470995</td>\n    </tr>\n    <tr>\n      <th>40</th>\n      <td>148</td>\n      <td>302.447098</td>\n    </tr>\n    <tr>\n      <th>41</th>\n      <td>402</td>\n      <td>703.129696</td>\n    </tr>\n    <tr>\n      <th>42</th>\n      <td>15</td>\n      <td>102.105799</td>\n    </tr>\n    <tr>\n      <th>43</th>\n      <td>10</td>\n      <td>102.105799</td>\n    </tr>\n    <tr>\n      <th>44</th>\n      <td>14</td>\n      <td>102.105799</td>\n    </tr>\n    <tr>\n      <th>45</th>\n      <td>57</td>\n      <td>102.105799</td>\n    </tr>\n    <tr>\n      <th>46</th>\n      <td>104</td>\n      <td>135.496015</td>\n    </tr>\n    <tr>\n      <th>47</th>\n      <td>21</td>\n      <td>35.325366</td>\n    </tr>\n    <tr>\n      <th>48</th>\n      <td>825</td>\n      <td>102.105799</td>\n    </tr>\n    <tr>\n      <th>49</th>\n      <td>0</td>\n      <td>569.568830</td>\n    </tr>\n  </tbody>\n</table>\n</div>"
     },
     "execution_count": 64,
     "metadata": {},
     "output_type": "execute_result"
    }
   ],
   "source": [
    "data.head(50)"
   ],
   "metadata": {
    "collapsed": false,
    "ExecuteTime": {
     "end_time": "2023-11-26T07:37:27.205448800Z",
     "start_time": "2023-11-26T07:37:27.122051Z"
    }
   },
   "id": "bc653aeaf7c38ea1"
  }
 ],
 "metadata": {
  "kernelspec": {
   "display_name": "Python 3",
   "language": "python",
   "name": "python3"
  },
  "language_info": {
   "codemirror_mode": {
    "name": "ipython",
    "version": 2
   },
   "file_extension": ".py",
   "mimetype": "text/x-python",
   "name": "python",
   "nbconvert_exporter": "python",
   "pygments_lexer": "ipython2",
   "version": "2.7.6"
  }
 },
 "nbformat": 4,
 "nbformat_minor": 5
}
