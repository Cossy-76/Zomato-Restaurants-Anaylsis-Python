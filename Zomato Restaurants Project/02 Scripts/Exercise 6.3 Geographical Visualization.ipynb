{
 "cells": [
  {
   "cell_type": "code",
   "execution_count": 1,
   "id": "initial_id",
   "metadata": {
    "collapsed": true,
    "ExecuteTime": {
     "end_time": "2023-11-25T15:44:43.179937800Z",
     "start_time": "2023-11-25T15:44:42.503806Z"
    }
   },
   "outputs": [],
   "source": [
    "import pandas as pd\n",
    "import numpy as np\n",
    "import seaborn as sns\n",
    "import matplotlib\n",
    "import os\n",
    "import folium\n",
    "import json\n",
    "from geopy.geocoders import Nominatim\n",
    "from folium.plugins import FastMarkerCluster\n",
    "import warnings\n",
    "warnings.filterwarnings('ignore')"
   ]
  },
  {
   "cell_type": "code",
   "execution_count": 2,
   "outputs": [],
   "source": [
    "path = r'C:\\Users\\honoc\\Documents\\CareerFoundry Folder\\Advanced Analytics and Dashboard Design\\Zomato Folder'\n",
    "path\n",
    "df = pd.read_csv(os.path.join(path, 'Original data', 'zomato.csv'), index_col = False)"
   ],
   "metadata": {
    "collapsed": false,
    "ExecuteTime": {
     "end_time": "2023-11-25T15:45:10.832469100Z",
     "start_time": "2023-11-25T15:45:03.348391100Z"
    }
   },
   "id": "258ce524c855aa0d"
  },
  {
   "cell_type": "markdown",
   "source": [
    "Performing Data Cleaning for my analysis"
   ],
   "metadata": {
    "collapsed": false
   },
   "id": "fe1cbe91558ab065"
  },
  {
   "cell_type": "code",
   "execution_count": 3,
   "outputs": [
    {
     "data": {
      "text/plain": "                                                 url  \\\n0  https://www.zomato.com/bangalore/jalsa-banasha...   \n1  https://www.zomato.com/bangalore/spice-elephan...   \n2  https://www.zomato.com/SanchurroBangalore?cont...   \n3  https://www.zomato.com/bangalore/addhuri-udupi...   \n4  https://www.zomato.com/bangalore/grand-village...   \n\n                                             address                   name  \\\n0  942, 21st Main Road, 2nd Stage, Banashankari, ...                  Jalsa   \n1  2nd Floor, 80 Feet Road, Near Big Bazaar, 6th ...         Spice Elephant   \n2  1112, Next to KIMS Medical College, 17th Cross...        San Churro Cafe   \n3  1st Floor, Annakuteera, 3rd Stage, Banashankar...  Addhuri Udupi Bhojana   \n4  10, 3rd Floor, Lakshmi Associates, Gandhi Baza...          Grand Village   \n\n  online_order book_table   rate  votes                             phone  \\\n0          Yes        Yes  4.1/5    775    080 42297555\\r\\n+91 9743772233   \n1          Yes         No  4.1/5    787                      080 41714161   \n2          Yes         No  3.8/5    918                    +91 9663487993   \n3           No         No  3.7/5     88                    +91 9620009302   \n4           No         No  3.8/5    166  +91 8026612447\\r\\n+91 9901210005   \n\n       location            rest_type  \\\n0  Banashankari        Casual Dining   \n1  Banashankari        Casual Dining   \n2  Banashankari  Cafe, Casual Dining   \n3  Banashankari          Quick Bites   \n4  Basavanagudi        Casual Dining   \n\n                                          dish_liked  \\\n0  Pasta, Lunch Buffet, Masala Papad, Paneer Laja...   \n1  Momos, Lunch Buffet, Chocolate Nirvana, Thai G...   \n2  Churros, Cannelloni, Minestrone Soup, Hot Choc...   \n3                                        Masala Dosa   \n4                                Panipuri, Gol Gappe   \n\n                         cuisines approx_cost(for two people)  \\\n0  North Indian, Mughlai, Chinese                         800   \n1     Chinese, North Indian, Thai                         800   \n2          Cafe, Mexican, Italian                         800   \n3      South Indian, North Indian                         300   \n4        North Indian, Rajasthani                         600   \n\n                                        reviews_list menu_item  \\\n0  [('Rated 4.0', 'RATED\\n  A beautiful place to ...        []   \n1  [('Rated 4.0', 'RATED\\n  Had been here for din...        []   \n2  [('Rated 3.0', \"RATED\\n  Ambience is not that ...        []   \n3  [('Rated 4.0', \"RATED\\n  Great food and proper...        []   \n4  [('Rated 4.0', 'RATED\\n  Very good restaurant ...        []   \n\n  listed_in(type) listed_in(city)  \n0          Buffet    Banashankari  \n1          Buffet    Banashankari  \n2          Buffet    Banashankari  \n3          Buffet    Banashankari  \n4          Buffet    Banashankari  ",
      "text/html": "<div>\n<style scoped>\n    .dataframe tbody tr th:only-of-type {\n        vertical-align: middle;\n    }\n\n    .dataframe tbody tr th {\n        vertical-align: top;\n    }\n\n    .dataframe thead th {\n        text-align: right;\n    }\n</style>\n<table border=\"1\" class=\"dataframe\">\n  <thead>\n    <tr style=\"text-align: right;\">\n      <th></th>\n      <th>url</th>\n      <th>address</th>\n      <th>name</th>\n      <th>online_order</th>\n      <th>book_table</th>\n      <th>rate</th>\n      <th>votes</th>\n      <th>phone</th>\n      <th>location</th>\n      <th>rest_type</th>\n      <th>dish_liked</th>\n      <th>cuisines</th>\n      <th>approx_cost(for two people)</th>\n      <th>reviews_list</th>\n      <th>menu_item</th>\n      <th>listed_in(type)</th>\n      <th>listed_in(city)</th>\n    </tr>\n  </thead>\n  <tbody>\n    <tr>\n      <th>0</th>\n      <td>https://www.zomato.com/bangalore/jalsa-banasha...</td>\n      <td>942, 21st Main Road, 2nd Stage, Banashankari, ...</td>\n      <td>Jalsa</td>\n      <td>Yes</td>\n      <td>Yes</td>\n      <td>4.1/5</td>\n      <td>775</td>\n      <td>080 42297555\\r\\n+91 9743772233</td>\n      <td>Banashankari</td>\n      <td>Casual Dining</td>\n      <td>Pasta, Lunch Buffet, Masala Papad, Paneer Laja...</td>\n      <td>North Indian, Mughlai, Chinese</td>\n      <td>800</td>\n      <td>[('Rated 4.0', 'RATED\\n  A beautiful place to ...</td>\n      <td>[]</td>\n      <td>Buffet</td>\n      <td>Banashankari</td>\n    </tr>\n    <tr>\n      <th>1</th>\n      <td>https://www.zomato.com/bangalore/spice-elephan...</td>\n      <td>2nd Floor, 80 Feet Road, Near Big Bazaar, 6th ...</td>\n      <td>Spice Elephant</td>\n      <td>Yes</td>\n      <td>No</td>\n      <td>4.1/5</td>\n      <td>787</td>\n      <td>080 41714161</td>\n      <td>Banashankari</td>\n      <td>Casual Dining</td>\n      <td>Momos, Lunch Buffet, Chocolate Nirvana, Thai G...</td>\n      <td>Chinese, North Indian, Thai</td>\n      <td>800</td>\n      <td>[('Rated 4.0', 'RATED\\n  Had been here for din...</td>\n      <td>[]</td>\n      <td>Buffet</td>\n      <td>Banashankari</td>\n    </tr>\n    <tr>\n      <th>2</th>\n      <td>https://www.zomato.com/SanchurroBangalore?cont...</td>\n      <td>1112, Next to KIMS Medical College, 17th Cross...</td>\n      <td>San Churro Cafe</td>\n      <td>Yes</td>\n      <td>No</td>\n      <td>3.8/5</td>\n      <td>918</td>\n      <td>+91 9663487993</td>\n      <td>Banashankari</td>\n      <td>Cafe, Casual Dining</td>\n      <td>Churros, Cannelloni, Minestrone Soup, Hot Choc...</td>\n      <td>Cafe, Mexican, Italian</td>\n      <td>800</td>\n      <td>[('Rated 3.0', \"RATED\\n  Ambience is not that ...</td>\n      <td>[]</td>\n      <td>Buffet</td>\n      <td>Banashankari</td>\n    </tr>\n    <tr>\n      <th>3</th>\n      <td>https://www.zomato.com/bangalore/addhuri-udupi...</td>\n      <td>1st Floor, Annakuteera, 3rd Stage, Banashankar...</td>\n      <td>Addhuri Udupi Bhojana</td>\n      <td>No</td>\n      <td>No</td>\n      <td>3.7/5</td>\n      <td>88</td>\n      <td>+91 9620009302</td>\n      <td>Banashankari</td>\n      <td>Quick Bites</td>\n      <td>Masala Dosa</td>\n      <td>South Indian, North Indian</td>\n      <td>300</td>\n      <td>[('Rated 4.0', \"RATED\\n  Great food and proper...</td>\n      <td>[]</td>\n      <td>Buffet</td>\n      <td>Banashankari</td>\n    </tr>\n    <tr>\n      <th>4</th>\n      <td>https://www.zomato.com/bangalore/grand-village...</td>\n      <td>10, 3rd Floor, Lakshmi Associates, Gandhi Baza...</td>\n      <td>Grand Village</td>\n      <td>No</td>\n      <td>No</td>\n      <td>3.8/5</td>\n      <td>166</td>\n      <td>+91 8026612447\\r\\n+91 9901210005</td>\n      <td>Basavanagudi</td>\n      <td>Casual Dining</td>\n      <td>Panipuri, Gol Gappe</td>\n      <td>North Indian, Rajasthani</td>\n      <td>600</td>\n      <td>[('Rated 4.0', 'RATED\\n  Very good restaurant ...</td>\n      <td>[]</td>\n      <td>Buffet</td>\n      <td>Banashankari</td>\n    </tr>\n  </tbody>\n</table>\n</div>"
     },
     "execution_count": 3,
     "metadata": {},
     "output_type": "execute_result"
    }
   ],
   "source": [
    "df.head()"
   ],
   "metadata": {
    "collapsed": false,
    "ExecuteTime": {
     "end_time": "2023-11-25T15:45:43.892039900Z",
     "start_time": "2023-11-25T15:45:43.803841200Z"
    }
   },
   "id": "f6e9cffcf3ddd054"
  },
  {
   "cell_type": "code",
   "execution_count": 4,
   "outputs": [
    {
     "data": {
      "text/plain": "url                                0\naddress                            0\nname                               0\nonline_order                       0\nbook_table                         0\nrate                            7775\nvotes                              0\nphone                           1208\nlocation                          21\nrest_type                        227\ndish_liked                     28078\ncuisines                          45\napprox_cost(for two people)      346\nreviews_list                       0\nmenu_item                          0\nlisted_in(type)                    0\nlisted_in(city)                    0\ndtype: int64"
     },
     "execution_count": 4,
     "metadata": {},
     "output_type": "execute_result"
    }
   ],
   "source": [
    "# Checking for missing values\n",
    "df.isna().sum()"
   ],
   "metadata": {
    "collapsed": false,
    "ExecuteTime": {
     "end_time": "2023-11-25T15:46:07.054511900Z",
     "start_time": "2023-11-25T15:46:06.989139800Z"
    }
   },
   "id": "61b504edf52cf1f3"
  },
  {
   "cell_type": "markdown",
   "source": [
    "Since we intend to perform spatial analysis on this dataset, we need to clean the missing values in the 'location' column. In this case, we drop the missing values."
   ],
   "metadata": {
    "collapsed": false
   },
   "id": "7a53fc9dc3d6060b"
  },
  {
   "cell_type": "code",
   "execution_count": 5,
   "outputs": [],
   "source": [
    "df.dropna(axis='index', subset=['location'], inplace=True)"
   ],
   "metadata": {
    "collapsed": false,
    "ExecuteTime": {
     "end_time": "2023-11-25T15:47:58.832609600Z",
     "start_time": "2023-11-25T15:47:58.745115900Z"
    }
   },
   "id": "a7cf5a68f497720b"
  },
  {
   "cell_type": "code",
   "execution_count": 6,
   "outputs": [
    {
     "data": {
      "text/plain": "url                                0\naddress                            0\nname                               0\nonline_order                       0\nbook_table                         0\nrate                            7754\nvotes                              0\nphone                           1187\nlocation                           0\nrest_type                        206\ndish_liked                     28057\ncuisines                          24\napprox_cost(for two people)      325\nreviews_list                       0\nmenu_item                          0\nlisted_in(type)                    0\nlisted_in(city)                    0\ndtype: int64"
     },
     "execution_count": 6,
     "metadata": {},
     "output_type": "execute_result"
    }
   ],
   "source": [
    "df.isna().sum()"
   ],
   "metadata": {
    "collapsed": false,
    "ExecuteTime": {
     "end_time": "2023-11-25T15:48:23.785402600Z",
     "start_time": "2023-11-25T15:48:23.702001600Z"
    }
   },
   "id": "6ace46c659210ee5"
  },
  {
   "cell_type": "code",
   "execution_count": 25,
   "outputs": [],
   "source": [
    "df.to_csv(os.path.join(path, 'Prepared Data', 'zomato_clean_data.csv'), index=False)"
   ],
   "metadata": {
    "collapsed": false,
    "ExecuteTime": {
     "end_time": "2023-11-25T16:34:35.845890300Z",
     "start_time": "2023-11-25T16:34:16.429936700Z"
    }
   },
   "id": "fd5c3eadd7204988"
  },
  {
   "cell_type": "markdown",
   "source": [
    "Creating a dataframe in which I will have the location column so we can search all the geographical coordinates from this location column."
   ],
   "metadata": {
    "collapsed": false
   },
   "id": "717e28287f76d3cd"
  },
  {
   "cell_type": "code",
   "execution_count": 7,
   "outputs": [
    {
     "data": {
      "text/plain": "array(['Banashankari', 'Basavanagudi', 'Mysore Road', 'Jayanagar',\n       'Kumaraswamy Layout', 'Rajarajeshwari Nagar', 'Vijay Nagar',\n       'Uttarahalli', 'JP Nagar', 'South Bangalore', 'City Market',\n       'Nagarbhavi', 'Bannerghatta Road', 'BTM', 'Kanakapura Road',\n       'Bommanahalli', 'CV Raman Nagar', 'Electronic City', 'HSR',\n       'Marathahalli', 'Sarjapur Road', 'Wilson Garden', 'Shanti Nagar',\n       'Koramangala 5th Block', 'Koramangala 8th Block', 'Richmond Road',\n       'Koramangala 7th Block', 'Jalahalli', 'Koramangala 4th Block',\n       'Bellandur', 'Whitefield', 'East Bangalore', 'Old Airport Road',\n       'Indiranagar', 'Koramangala 1st Block', 'Frazer Town', 'RT Nagar',\n       'MG Road', 'Brigade Road', 'Lavelle Road', 'Church Street',\n       'Ulsoor', 'Residency Road', 'Shivajinagar', 'Infantry Road',\n       'St. Marks Road', 'Cunningham Road', 'Race Course Road',\n       'Commercial Street', 'Vasanth Nagar', 'HBR Layout', 'Domlur',\n       'Ejipura', 'Jeevan Bhima Nagar', 'Old Madras Road', 'Malleshwaram',\n       'Seshadripuram', 'Kammanahalli', 'Koramangala 6th Block',\n       'Majestic', 'Langford Town', 'Central Bangalore', 'Sanjay Nagar',\n       'Brookefield', 'ITPL Main Road, Whitefield',\n       'Varthur Main Road, Whitefield', 'KR Puram',\n       'Koramangala 2nd Block', 'Koramangala 3rd Block', 'Koramangala',\n       'Hosur Road', 'Rajajinagar', 'Banaswadi', 'North Bangalore',\n       'Nagawara', 'Hennur', 'Kalyan Nagar', 'New BEL Road', 'Jakkur',\n       'Rammurthy Nagar', 'Thippasandra', 'Kaggadasapura', 'Hebbal',\n       'Kengeri', 'Sankey Road', 'Sadashiv Nagar', 'Basaveshwara Nagar',\n       'Yeshwantpur', 'West Bangalore', 'Magadi Road', 'Yelahanka',\n       'Sahakara Nagar', 'Peenya'], dtype=object)"
     },
     "execution_count": 7,
     "metadata": {},
     "output_type": "execute_result"
    }
   ],
   "source": [
    "df['location'].unique()"
   ],
   "metadata": {
    "collapsed": false,
    "ExecuteTime": {
     "end_time": "2023-11-25T15:49:09.959231300Z",
     "start_time": "2023-11-25T15:49:09.910146Z"
    }
   },
   "id": "ce42636d2f06132a"
  },
  {
   "cell_type": "code",
   "execution_count": 8,
   "outputs": [
    {
     "data": {
      "text/plain": "93"
     },
     "execution_count": 8,
     "metadata": {},
     "output_type": "execute_result"
    }
   ],
   "source": [
    "len(df['location'].unique())"
   ],
   "metadata": {
    "collapsed": false,
    "ExecuteTime": {
     "end_time": "2023-11-25T15:49:59.044625600Z",
     "start_time": "2023-11-25T15:49:58.995981400Z"
    }
   },
   "id": "fc7b0862394038a3"
  },
  {
   "cell_type": "code",
   "execution_count": null,
   "outputs": [],
   "source": [],
   "metadata": {
    "collapsed": false
   },
   "id": "ada557003b19736f"
  },
  {
   "cell_type": "markdown",
   "source": [
    "Data Wrangling"
   ],
   "metadata": {
    "collapsed": false
   },
   "id": "a8abf6a23563d076"
  },
  {
   "cell_type": "code",
   "execution_count": 9,
   "outputs": [],
   "source": [
    "locations = pd.DataFrame()"
   ],
   "metadata": {
    "collapsed": false,
    "ExecuteTime": {
     "end_time": "2023-11-25T15:50:41.594257400Z",
     "start_time": "2023-11-25T15:50:41.497795700Z"
    }
   },
   "id": "3ba4ba7fc1a827e3"
  },
  {
   "cell_type": "code",
   "execution_count": 10,
   "outputs": [],
   "source": [
    "locations['Name'] = df['location'].unique()"
   ],
   "metadata": {
    "collapsed": false,
    "ExecuteTime": {
     "end_time": "2023-11-25T15:51:01.616631300Z",
     "start_time": "2023-11-25T15:51:01.505410Z"
    }
   },
   "id": "efa45acfd1c111a0"
  },
  {
   "cell_type": "code",
   "execution_count": 11,
   "outputs": [
    {
     "data": {
      "text/plain": "                 Name\n0        Banashankari\n1        Basavanagudi\n2         Mysore Road\n3           Jayanagar\n4  Kumaraswamy Layout",
      "text/html": "<div>\n<style scoped>\n    .dataframe tbody tr th:only-of-type {\n        vertical-align: middle;\n    }\n\n    .dataframe tbody tr th {\n        vertical-align: top;\n    }\n\n    .dataframe thead th {\n        text-align: right;\n    }\n</style>\n<table border=\"1\" class=\"dataframe\">\n  <thead>\n    <tr style=\"text-align: right;\">\n      <th></th>\n      <th>Name</th>\n    </tr>\n  </thead>\n  <tbody>\n    <tr>\n      <th>0</th>\n      <td>Banashankari</td>\n    </tr>\n    <tr>\n      <th>1</th>\n      <td>Basavanagudi</td>\n    </tr>\n    <tr>\n      <th>2</th>\n      <td>Mysore Road</td>\n    </tr>\n    <tr>\n      <th>3</th>\n      <td>Jayanagar</td>\n    </tr>\n    <tr>\n      <th>4</th>\n      <td>Kumaraswamy Layout</td>\n    </tr>\n  </tbody>\n</table>\n</div>"
     },
     "execution_count": 11,
     "metadata": {},
     "output_type": "execute_result"
    }
   ],
   "source": [
    "locations.head()"
   ],
   "metadata": {
    "collapsed": false,
    "ExecuteTime": {
     "end_time": "2023-11-25T15:51:15.839179300Z",
     "start_time": "2023-11-25T15:51:15.715765400Z"
    }
   },
   "id": "4c2220c0fbe1e80e"
  },
  {
   "cell_type": "code",
   "execution_count": null,
   "outputs": [],
   "source": [],
   "metadata": {
    "collapsed": false
   },
   "id": "2de21f7baafd9148"
  },
  {
   "cell_type": "markdown",
   "source": [
    "Using Nominatim which is a tool to help extract the coordinates for each location"
   ],
   "metadata": {
    "collapsed": false
   },
   "id": "db5eec112cb84da2"
  },
  {
   "cell_type": "code",
   "execution_count": 12,
   "outputs": [],
   "source": [
    "geolocator = Nominatim(user_agent= \"my_application\") "
   ],
   "metadata": {
    "collapsed": false,
    "ExecuteTime": {
     "end_time": "2023-11-25T15:52:08.468307Z",
     "start_time": "2023-11-25T15:52:08.365242300Z"
    }
   },
   "id": "bf9905c672535446"
  },
  {
   "cell_type": "code",
   "execution_count": null,
   "outputs": [],
   "source": [],
   "metadata": {
    "collapsed": false
   },
   "id": "1c943dd88f3beea3"
  },
  {
   "cell_type": "markdown",
   "source": [
    "Creating list for latitude and longitude for the different locations in 'Name'"
   ],
   "metadata": {
    "collapsed": false
   },
   "id": "e47cadf473096192"
  },
  {
   "cell_type": "code",
   "execution_count": 13,
   "outputs": [],
   "source": [
    "lat=[]\n",
    "lon=[]\n",
    "for location in locations['Name']:\n",
    "    location=geolocator.geocode(location) # helps convert the location into some geographical format\n",
    "    if location is None:\n",
    "        lat.append(np.nan)\n",
    "        lon.append(np.nan)\n",
    "    else:\n",
    "        lat.append(location.latitude)\n",
    "        lon.append(location.longitude)"
   ],
   "metadata": {
    "collapsed": false,
    "ExecuteTime": {
     "end_time": "2023-11-25T15:53:45.331504Z",
     "start_time": "2023-11-25T15:52:59.205380200Z"
    }
   },
   "id": "ce092bbdd1f6f4c8"
  },
  {
   "cell_type": "code",
   "execution_count": null,
   "outputs": [],
   "source": [],
   "metadata": {
    "collapsed": false
   },
   "id": "217c6acf84d685f4"
  },
  {
   "cell_type": "markdown",
   "source": [
    "Creating two columns in the location list, and then inserting all the latitudes and longitudes."
   ],
   "metadata": {
    "collapsed": false
   },
   "id": "85bc3c683ea2752f"
  },
  {
   "cell_type": "code",
   "execution_count": 15,
   "outputs": [],
   "source": [
    "locations['lat'] = lat\n",
    "locations['lon'] = lon"
   ],
   "metadata": {
    "collapsed": false,
    "ExecuteTime": {
     "end_time": "2023-11-25T16:02:42.254231100Z",
     "start_time": "2023-11-25T16:02:42.210340100Z"
    }
   },
   "id": "d2a1c7bd990b9a74"
  },
  {
   "cell_type": "code",
   "execution_count": 16,
   "outputs": [
    {
     "data": {
      "text/plain": "                 Name        lat        lon\n0        Banashankari  15.887678  75.704678\n1        Basavanagudi  12.941726  77.575502\n2         Mysore Road  12.946662  77.530090\n3           Jayanagar  12.929273  77.582423\n4  Kumaraswamy Layout  12.908149  77.555318",
      "text/html": "<div>\n<style scoped>\n    .dataframe tbody tr th:only-of-type {\n        vertical-align: middle;\n    }\n\n    .dataframe tbody tr th {\n        vertical-align: top;\n    }\n\n    .dataframe thead th {\n        text-align: right;\n    }\n</style>\n<table border=\"1\" class=\"dataframe\">\n  <thead>\n    <tr style=\"text-align: right;\">\n      <th></th>\n      <th>Name</th>\n      <th>lat</th>\n      <th>lon</th>\n    </tr>\n  </thead>\n  <tbody>\n    <tr>\n      <th>0</th>\n      <td>Banashankari</td>\n      <td>15.887678</td>\n      <td>75.704678</td>\n    </tr>\n    <tr>\n      <th>1</th>\n      <td>Basavanagudi</td>\n      <td>12.941726</td>\n      <td>77.575502</td>\n    </tr>\n    <tr>\n      <th>2</th>\n      <td>Mysore Road</td>\n      <td>12.946662</td>\n      <td>77.530090</td>\n    </tr>\n    <tr>\n      <th>3</th>\n      <td>Jayanagar</td>\n      <td>12.929273</td>\n      <td>77.582423</td>\n    </tr>\n    <tr>\n      <th>4</th>\n      <td>Kumaraswamy Layout</td>\n      <td>12.908149</td>\n      <td>77.555318</td>\n    </tr>\n  </tbody>\n</table>\n</div>"
     },
     "execution_count": 16,
     "metadata": {},
     "output_type": "execute_result"
    }
   ],
   "source": [
    "locations.head()"
   ],
   "metadata": {
    "collapsed": false,
    "ExecuteTime": {
     "end_time": "2023-11-25T16:02:58.376711800Z",
     "start_time": "2023-11-25T16:02:58.243010300Z"
    }
   },
   "id": "39eb1b42bb0d0fcd"
  },
  {
   "cell_type": "code",
   "execution_count": 17,
   "outputs": [],
   "source": [
    "locations.to_csv(os.path.join(path, 'Prepared Data', 'zomato_bangalore_locations.csv'), index=False)"
   ],
   "metadata": {
    "collapsed": false,
    "ExecuteTime": {
     "end_time": "2023-11-25T16:06:17.260231600Z",
     "start_time": "2023-11-25T16:06:17.189345300Z"
    }
   },
   "id": "c55cfb8c62e4382a"
  },
  {
   "cell_type": "code",
   "execution_count": 19,
   "outputs": [
    {
     "data": {
      "text/plain": "                 location  count\n0                     BTM   5124\n1                     HSR   2523\n2   Koramangala 5th Block   2504\n3                JP Nagar   2235\n4              Whitefield   2144\n..                    ...    ...\n88         West Bangalore      6\n89              Yelahanka      6\n90                 Jakkur      3\n91   Rajarajeshwari Nagar      2\n92                 Peenya      1\n\n[93 rows x 2 columns]",
      "text/html": "<div>\n<style scoped>\n    .dataframe tbody tr th:only-of-type {\n        vertical-align: middle;\n    }\n\n    .dataframe tbody tr th {\n        vertical-align: top;\n    }\n\n    .dataframe thead th {\n        text-align: right;\n    }\n</style>\n<table border=\"1\" class=\"dataframe\">\n  <thead>\n    <tr style=\"text-align: right;\">\n      <th></th>\n      <th>location</th>\n      <th>count</th>\n    </tr>\n  </thead>\n  <tbody>\n    <tr>\n      <th>0</th>\n      <td>BTM</td>\n      <td>5124</td>\n    </tr>\n    <tr>\n      <th>1</th>\n      <td>HSR</td>\n      <td>2523</td>\n    </tr>\n    <tr>\n      <th>2</th>\n      <td>Koramangala 5th Block</td>\n      <td>2504</td>\n    </tr>\n    <tr>\n      <th>3</th>\n      <td>JP Nagar</td>\n      <td>2235</td>\n    </tr>\n    <tr>\n      <th>4</th>\n      <td>Whitefield</td>\n      <td>2144</td>\n    </tr>\n    <tr>\n      <th>...</th>\n      <td>...</td>\n      <td>...</td>\n    </tr>\n    <tr>\n      <th>88</th>\n      <td>West Bangalore</td>\n      <td>6</td>\n    </tr>\n    <tr>\n      <th>89</th>\n      <td>Yelahanka</td>\n      <td>6</td>\n    </tr>\n    <tr>\n      <th>90</th>\n      <td>Jakkur</td>\n      <td>3</td>\n    </tr>\n    <tr>\n      <th>91</th>\n      <td>Rajarajeshwari Nagar</td>\n      <td>2</td>\n    </tr>\n    <tr>\n      <th>92</th>\n      <td>Peenya</td>\n      <td>1</td>\n    </tr>\n  </tbody>\n</table>\n<p>93 rows × 2 columns</p>\n</div>"
     },
     "execution_count": 19,
     "metadata": {},
     "output_type": "execute_result"
    }
   ],
   "source": [
    "Rest_locations = df['location'].value_counts().reset_index()\n",
    "Rest_locations"
   ],
   "metadata": {
    "collapsed": false,
    "ExecuteTime": {
     "end_time": "2023-11-25T16:08:55.640525700Z",
     "start_time": "2023-11-25T16:08:55.491997Z"
    }
   },
   "id": "77ccba3d125d1d21"
  },
  {
   "cell_type": "code",
   "execution_count": 24,
   "outputs": [],
   "source": [
    "Rest_locations.to_csv(os.path.join(path, 'Prepared Data', 'zomato_restaurant_locations.csv'), index=False)"
   ],
   "metadata": {
    "collapsed": false,
    "ExecuteTime": {
     "end_time": "2023-11-25T16:30:09.029035500Z",
     "start_time": "2023-11-25T16:30:08.947386200Z"
    }
   },
   "id": "a49784f8f1396d7f"
  },
  {
   "cell_type": "code",
   "execution_count": 21,
   "outputs": [
    {
     "data": {
      "text/plain": "                     Name  count\n0                     BTM   5124\n1                     HSR   2523\n2   Koramangala 5th Block   2504\n3                JP Nagar   2235\n4              Whitefield   2144\n..                    ...    ...\n88         West Bangalore      6\n89              Yelahanka      6\n90                 Jakkur      3\n91   Rajarajeshwari Nagar      2\n92                 Peenya      1\n\n[93 rows x 2 columns]",
      "text/html": "<div>\n<style scoped>\n    .dataframe tbody tr th:only-of-type {\n        vertical-align: middle;\n    }\n\n    .dataframe tbody tr th {\n        vertical-align: top;\n    }\n\n    .dataframe thead th {\n        text-align: right;\n    }\n</style>\n<table border=\"1\" class=\"dataframe\">\n  <thead>\n    <tr style=\"text-align: right;\">\n      <th></th>\n      <th>Name</th>\n      <th>count</th>\n    </tr>\n  </thead>\n  <tbody>\n    <tr>\n      <th>0</th>\n      <td>BTM</td>\n      <td>5124</td>\n    </tr>\n    <tr>\n      <th>1</th>\n      <td>HSR</td>\n      <td>2523</td>\n    </tr>\n    <tr>\n      <th>2</th>\n      <td>Koramangala 5th Block</td>\n      <td>2504</td>\n    </tr>\n    <tr>\n      <th>3</th>\n      <td>JP Nagar</td>\n      <td>2235</td>\n    </tr>\n    <tr>\n      <th>4</th>\n      <td>Whitefield</td>\n      <td>2144</td>\n    </tr>\n    <tr>\n      <th>...</th>\n      <td>...</td>\n      <td>...</td>\n    </tr>\n    <tr>\n      <th>88</th>\n      <td>West Bangalore</td>\n      <td>6</td>\n    </tr>\n    <tr>\n      <th>89</th>\n      <td>Yelahanka</td>\n      <td>6</td>\n    </tr>\n    <tr>\n      <th>90</th>\n      <td>Jakkur</td>\n      <td>3</td>\n    </tr>\n    <tr>\n      <th>91</th>\n      <td>Rajarajeshwari Nagar</td>\n      <td>2</td>\n    </tr>\n    <tr>\n      <th>92</th>\n      <td>Peenya</td>\n      <td>1</td>\n    </tr>\n  </tbody>\n</table>\n<p>93 rows × 2 columns</p>\n</div>"
     },
     "execution_count": 21,
     "metadata": {},
     "output_type": "execute_result"
    }
   ],
   "source": [
    "Rest_locations.columns = ['Name', 'count']\n",
    "Rest_locations"
   ],
   "metadata": {
    "collapsed": false,
    "ExecuteTime": {
     "end_time": "2023-11-25T16:10:43.744083700Z",
     "start_time": "2023-11-25T16:10:43.598188900Z"
    }
   },
   "id": "83b8742fb4017cfa"
  },
  {
   "cell_type": "code",
   "execution_count": null,
   "outputs": [],
   "source": [],
   "metadata": {
    "collapsed": false
   },
   "id": "285fe40d51a2e6c8"
  },
  {
   "cell_type": "markdown",
   "source": [
    "Applying merge operations with the column \"Name\""
   ],
   "metadata": {
    "collapsed": false
   },
   "id": "ff55942d90145248"
  },
  {
   "cell_type": "code",
   "execution_count": 26,
   "outputs": [
    {
     "data": {
      "text/plain": "                    Name  count        lat        lon\n0                    BTM   5124  12.911276  77.604565\n1                    HSR   2523  29.152347  75.724580\n2  Koramangala 5th Block   2504  12.934843  77.618977\n3               JP Nagar   2235  12.265594  76.646540\n4             Whitefield   2144  53.553368  -2.296902",
      "text/html": "<div>\n<style scoped>\n    .dataframe tbody tr th:only-of-type {\n        vertical-align: middle;\n    }\n\n    .dataframe tbody tr th {\n        vertical-align: top;\n    }\n\n    .dataframe thead th {\n        text-align: right;\n    }\n</style>\n<table border=\"1\" class=\"dataframe\">\n  <thead>\n    <tr style=\"text-align: right;\">\n      <th></th>\n      <th>Name</th>\n      <th>count</th>\n      <th>lat</th>\n      <th>lon</th>\n    </tr>\n  </thead>\n  <tbody>\n    <tr>\n      <th>0</th>\n      <td>BTM</td>\n      <td>5124</td>\n      <td>12.911276</td>\n      <td>77.604565</td>\n    </tr>\n    <tr>\n      <th>1</th>\n      <td>HSR</td>\n      <td>2523</td>\n      <td>29.152347</td>\n      <td>75.724580</td>\n    </tr>\n    <tr>\n      <th>2</th>\n      <td>Koramangala 5th Block</td>\n      <td>2504</td>\n      <td>12.934843</td>\n      <td>77.618977</td>\n    </tr>\n    <tr>\n      <th>3</th>\n      <td>JP Nagar</td>\n      <td>2235</td>\n      <td>12.265594</td>\n      <td>76.646540</td>\n    </tr>\n    <tr>\n      <th>4</th>\n      <td>Whitefield</td>\n      <td>2144</td>\n      <td>53.553368</td>\n      <td>-2.296902</td>\n    </tr>\n  </tbody>\n</table>\n</div>"
     },
     "execution_count": 26,
     "metadata": {},
     "output_type": "execute_result"
    }
   ],
   "source": [
    "Restaurant_locations=Rest_locations.merge(locations, on='Name',how='left').dropna()\n",
    "Restaurant_locations.head()"
   ],
   "metadata": {
    "collapsed": false,
    "ExecuteTime": {
     "end_time": "2023-11-25T16:40:36.355941400Z",
     "start_time": "2023-11-25T16:40:36.290598100Z"
    }
   },
   "id": "fc1dd3e461541f5"
  },
  {
   "cell_type": "code",
   "execution_count": 27,
   "outputs": [],
   "source": [
    "Restaurant_locations.to_csv(os.path.join(path, 'Prepared Data', 'zomato_restaurant_locations_coordinates.csv'), index=False)"
   ],
   "metadata": {
    "collapsed": false,
    "ExecuteTime": {
     "end_time": "2023-11-25T16:42:08.104183100Z",
     "start_time": "2023-11-25T16:42:08.023718800Z"
    }
   },
   "id": "862ff22054abf1a0"
  },
  {
   "cell_type": "code",
   "execution_count": null,
   "outputs": [],
   "source": [],
   "metadata": {
    "collapsed": false
   },
   "id": "f785f351b2c6481"
  },
  {
   "cell_type": "markdown",
   "source": [
    "Let’s define a function, and its functionality is, whenever I need my base map, I can simply call up this function."
   ],
   "metadata": {
    "collapsed": false
   },
   "id": "c04de08d6a3b82"
  },
  {
   "cell_type": "code",
   "execution_count": null,
   "outputs": [],
   "source": [],
   "metadata": {
    "collapsed": false
   },
   "id": "722bcd601bb0d9a0"
  },
  {
   "cell_type": "code",
   "execution_count": 28,
   "outputs": [],
   "source": [
    "def generatebasemap(default_location=[12.97,77.59],default_zoom_start=12):\n",
    "    basemap=folium.Map(location=default_location,zoom_start=default_zoom_start)\n",
    "    return basemap"
   ],
   "metadata": {
    "collapsed": false,
    "ExecuteTime": {
     "end_time": "2023-11-25T16:47:36.418794300Z",
     "start_time": "2023-11-25T16:47:36.379729300Z"
    }
   },
   "id": "f604aca633bdc234"
  },
  {
   "cell_type": "code",
   "execution_count": 30,
   "outputs": [
    {
     "data": {
      "text/plain": "<folium.folium.Map at 0x2a8c25f5600>",
      "text/html": "<div style=\"width:100%;\"><div style=\"position:relative;width:100%;height:0;padding-bottom:60%;\"><span style=\"color:#565656\">Make this Notebook Trusted to load map: File -> Trust Notebook</span><iframe srcdoc=\"&lt;!DOCTYPE html&gt;\n&lt;html&gt;\n&lt;head&gt;\n    \n    &lt;meta http-equiv=&quot;content-type&quot; content=&quot;text/html; charset=UTF-8&quot; /&gt;\n    \n        &lt;script&gt;\n            L_NO_TOUCH = false;\n            L_DISABLE_3D = false;\n        &lt;/script&gt;\n    \n    &lt;style&gt;html, body {width: 100%;height: 100%;margin: 0;padding: 0;}&lt;/style&gt;\n    &lt;style&gt;#map {position:absolute;top:0;bottom:0;right:0;left:0;}&lt;/style&gt;\n    &lt;script src=&quot;https://cdn.jsdelivr.net/npm/leaflet@1.9.3/dist/leaflet.js&quot;&gt;&lt;/script&gt;\n    &lt;script src=&quot;https://code.jquery.com/jquery-3.7.1.min.js&quot;&gt;&lt;/script&gt;\n    &lt;script src=&quot;https://cdn.jsdelivr.net/npm/bootstrap@5.2.2/dist/js/bootstrap.bundle.min.js&quot;&gt;&lt;/script&gt;\n    &lt;script src=&quot;https://cdnjs.cloudflare.com/ajax/libs/Leaflet.awesome-markers/2.0.2/leaflet.awesome-markers.js&quot;&gt;&lt;/script&gt;\n    &lt;link rel=&quot;stylesheet&quot; href=&quot;https://cdn.jsdelivr.net/npm/leaflet@1.9.3/dist/leaflet.css&quot;/&gt;\n    &lt;link rel=&quot;stylesheet&quot; href=&quot;https://cdn.jsdelivr.net/npm/bootstrap@5.2.2/dist/css/bootstrap.min.css&quot;/&gt;\n    &lt;link rel=&quot;stylesheet&quot; href=&quot;https://netdna.bootstrapcdn.com/bootstrap/3.0.0/css/bootstrap.min.css&quot;/&gt;\n    &lt;link rel=&quot;stylesheet&quot; href=&quot;https://cdn.jsdelivr.net/npm/@fortawesome/fontawesome-free@6.2.0/css/all.min.css&quot;/&gt;\n    &lt;link rel=&quot;stylesheet&quot; href=&quot;https://cdnjs.cloudflare.com/ajax/libs/Leaflet.awesome-markers/2.0.2/leaflet.awesome-markers.css&quot;/&gt;\n    &lt;link rel=&quot;stylesheet&quot; href=&quot;https://cdn.jsdelivr.net/gh/python-visualization/folium/folium/templates/leaflet.awesome.rotate.min.css&quot;/&gt;\n    \n            &lt;meta name=&quot;viewport&quot; content=&quot;width=device-width,\n                initial-scale=1.0, maximum-scale=1.0, user-scalable=no&quot; /&gt;\n            &lt;style&gt;\n                #map_9f3bc7fb5f31c1861bf11c03ac694c71 {\n                    position: relative;\n                    width: 100.0%;\n                    height: 100.0%;\n                    left: 0.0%;\n                    top: 0.0%;\n                }\n                .leaflet-container { font-size: 1rem; }\n            &lt;/style&gt;\n        \n&lt;/head&gt;\n&lt;body&gt;\n    \n    \n            &lt;div class=&quot;folium-map&quot; id=&quot;map_9f3bc7fb5f31c1861bf11c03ac694c71&quot; &gt;&lt;/div&gt;\n        \n&lt;/body&gt;\n&lt;script&gt;\n    \n    \n            var map_9f3bc7fb5f31c1861bf11c03ac694c71 = L.map(\n                &quot;map_9f3bc7fb5f31c1861bf11c03ac694c71&quot;,\n                {\n                    center: [12.97, 77.59],\n                    crs: L.CRS.EPSG3857,\n                    zoom: 12,\n                    zoomControl: true,\n                    preferCanvas: false,\n                }\n            );\n\n            \n\n        \n    \n            var tile_layer_c9d5f40028351c9388b96f8131ac34bc = L.tileLayer(\n                &quot;https://{s}.tile.openstreetmap.org/{z}/{x}/{y}.png&quot;,\n                {&quot;attribution&quot;: &quot;Data by \\u0026copy; \\u003ca target=\\&quot;_blank\\&quot; href=\\&quot;http://openstreetmap.org\\&quot;\\u003eOpenStreetMap\\u003c/a\\u003e, under \\u003ca target=\\&quot;_blank\\&quot; href=\\&quot;http://www.openstreetmap.org/copyright\\&quot;\\u003eODbL\\u003c/a\\u003e.&quot;, &quot;detectRetina&quot;: false, &quot;maxNativeZoom&quot;: 18, &quot;maxZoom&quot;: 18, &quot;minZoom&quot;: 0, &quot;noWrap&quot;: false, &quot;opacity&quot;: 1, &quot;subdomains&quot;: &quot;abc&quot;, &quot;tms&quot;: false}\n            );\n        \n    \n                tile_layer_c9d5f40028351c9388b96f8131ac34bc.addTo(map_9f3bc7fb5f31c1861bf11c03ac694c71);\n&lt;/script&gt;\n&lt;/html&gt;\" style=\"position:absolute;width:100%;height:100%;left:0;top:0;border:none !important;\" allowfullscreen webkitallowfullscreen mozallowfullscreen></iframe></div></div>"
     },
     "execution_count": 30,
     "metadata": {},
     "output_type": "execute_result"
    }
   ],
   "source": [
    "basemap = generatebasemap()\n",
    "basemap"
   ],
   "metadata": {
    "collapsed": false,
    "ExecuteTime": {
     "end_time": "2023-11-25T16:48:34.461341700Z",
     "start_time": "2023-11-25T16:48:34.386057700Z"
    }
   },
   "id": "164ed60781381975"
  },
  {
   "cell_type": "code",
   "execution_count": null,
   "outputs": [],
   "source": [],
   "metadata": {
    "collapsed": false
   },
   "id": "191152393255e7fe"
  },
  {
   "cell_type": "markdown",
   "source": [
    "Creating HeatMap for Zomato Bangalore Restaurants."
   ],
   "metadata": {
    "collapsed": false
   },
   "id": "924b6e1fcc17f74b"
  },
  {
   "cell_type": "code",
   "execution_count": null,
   "outputs": [],
   "source": [],
   "metadata": {
    "collapsed": false
   },
   "id": "2e95a761eaf0f59f"
  },
  {
   "cell_type": "code",
   "execution_count": 31,
   "outputs": [],
   "source": [
    "from folium.plugins import HeatMap"
   ],
   "metadata": {
    "collapsed": false,
    "ExecuteTime": {
     "end_time": "2023-11-25T16:50:16.214315100Z",
     "start_time": "2023-11-25T16:50:16.172337500Z"
    }
   },
   "id": "cf759e62f2ff7139"
  },
  {
   "cell_type": "code",
   "execution_count": 32,
   "outputs": [
    {
     "data": {
      "text/plain": "<folium.plugins.heat_map.HeatMap at 0x2a8c2706140>"
     },
     "execution_count": 32,
     "metadata": {},
     "output_type": "execute_result"
    }
   ],
   "source": [
    "HeatMap(Restaurant_locations[['lat','lon','count']],zoom=20).add_to(basemap)"
   ],
   "metadata": {
    "collapsed": false,
    "ExecuteTime": {
     "end_time": "2023-11-25T16:50:41.747064400Z",
     "start_time": "2023-11-25T16:50:41.709392Z"
    }
   },
   "id": "5e5a47bd822d1a91"
  },
  {
   "cell_type": "code",
   "execution_count": 33,
   "outputs": [
    {
     "data": {
      "text/plain": "<folium.folium.Map at 0x2a8c25f5600>",
      "text/html": "<div style=\"width:100%;\"><div style=\"position:relative;width:100%;height:0;padding-bottom:60%;\"><span style=\"color:#565656\">Make this Notebook Trusted to load map: File -> Trust Notebook</span><iframe srcdoc=\"&lt;!DOCTYPE html&gt;\n&lt;html&gt;\n&lt;head&gt;\n    \n    &lt;meta http-equiv=&quot;content-type&quot; content=&quot;text/html; charset=UTF-8&quot; /&gt;\n    \n        &lt;script&gt;\n            L_NO_TOUCH = false;\n            L_DISABLE_3D = false;\n        &lt;/script&gt;\n    \n    &lt;style&gt;html, body {width: 100%;height: 100%;margin: 0;padding: 0;}&lt;/style&gt;\n    &lt;style&gt;#map {position:absolute;top:0;bottom:0;right:0;left:0;}&lt;/style&gt;\n    &lt;script src=&quot;https://cdn.jsdelivr.net/npm/leaflet@1.9.3/dist/leaflet.js&quot;&gt;&lt;/script&gt;\n    &lt;script src=&quot;https://code.jquery.com/jquery-3.7.1.min.js&quot;&gt;&lt;/script&gt;\n    &lt;script src=&quot;https://cdn.jsdelivr.net/npm/bootstrap@5.2.2/dist/js/bootstrap.bundle.min.js&quot;&gt;&lt;/script&gt;\n    &lt;script src=&quot;https://cdnjs.cloudflare.com/ajax/libs/Leaflet.awesome-markers/2.0.2/leaflet.awesome-markers.js&quot;&gt;&lt;/script&gt;\n    &lt;link rel=&quot;stylesheet&quot; href=&quot;https://cdn.jsdelivr.net/npm/leaflet@1.9.3/dist/leaflet.css&quot;/&gt;\n    &lt;link rel=&quot;stylesheet&quot; href=&quot;https://cdn.jsdelivr.net/npm/bootstrap@5.2.2/dist/css/bootstrap.min.css&quot;/&gt;\n    &lt;link rel=&quot;stylesheet&quot; href=&quot;https://netdna.bootstrapcdn.com/bootstrap/3.0.0/css/bootstrap.min.css&quot;/&gt;\n    &lt;link rel=&quot;stylesheet&quot; href=&quot;https://cdn.jsdelivr.net/npm/@fortawesome/fontawesome-free@6.2.0/css/all.min.css&quot;/&gt;\n    &lt;link rel=&quot;stylesheet&quot; href=&quot;https://cdnjs.cloudflare.com/ajax/libs/Leaflet.awesome-markers/2.0.2/leaflet.awesome-markers.css&quot;/&gt;\n    &lt;link rel=&quot;stylesheet&quot; href=&quot;https://cdn.jsdelivr.net/gh/python-visualization/folium/folium/templates/leaflet.awesome.rotate.min.css&quot;/&gt;\n    \n            &lt;meta name=&quot;viewport&quot; content=&quot;width=device-width,\n                initial-scale=1.0, maximum-scale=1.0, user-scalable=no&quot; /&gt;\n            &lt;style&gt;\n                #map_9f3bc7fb5f31c1861bf11c03ac694c71 {\n                    position: relative;\n                    width: 100.0%;\n                    height: 100.0%;\n                    left: 0.0%;\n                    top: 0.0%;\n                }\n                .leaflet-container { font-size: 1rem; }\n            &lt;/style&gt;\n        \n    &lt;script src=&quot;https://cdn.jsdelivr.net/gh/python-visualization/folium@main/folium/templates/leaflet_heat.min.js&quot;&gt;&lt;/script&gt;\n&lt;/head&gt;\n&lt;body&gt;\n    \n    \n            &lt;div class=&quot;folium-map&quot; id=&quot;map_9f3bc7fb5f31c1861bf11c03ac694c71&quot; &gt;&lt;/div&gt;\n        \n&lt;/body&gt;\n&lt;script&gt;\n    \n    \n            var map_9f3bc7fb5f31c1861bf11c03ac694c71 = L.map(\n                &quot;map_9f3bc7fb5f31c1861bf11c03ac694c71&quot;,\n                {\n                    center: [12.97, 77.59],\n                    crs: L.CRS.EPSG3857,\n                    zoom: 12,\n                    zoomControl: true,\n                    preferCanvas: false,\n                }\n            );\n\n            \n\n        \n    \n            var tile_layer_c9d5f40028351c9388b96f8131ac34bc = L.tileLayer(\n                &quot;https://{s}.tile.openstreetmap.org/{z}/{x}/{y}.png&quot;,\n                {&quot;attribution&quot;: &quot;Data by \\u0026copy; \\u003ca target=\\&quot;_blank\\&quot; href=\\&quot;http://openstreetmap.org\\&quot;\\u003eOpenStreetMap\\u003c/a\\u003e, under \\u003ca target=\\&quot;_blank\\&quot; href=\\&quot;http://www.openstreetmap.org/copyright\\&quot;\\u003eODbL\\u003c/a\\u003e.&quot;, &quot;detectRetina&quot;: false, &quot;maxNativeZoom&quot;: 18, &quot;maxZoom&quot;: 18, &quot;minZoom&quot;: 0, &quot;noWrap&quot;: false, &quot;opacity&quot;: 1, &quot;subdomains&quot;: &quot;abc&quot;, &quot;tms&quot;: false}\n            );\n        \n    \n                tile_layer_c9d5f40028351c9388b96f8131ac34bc.addTo(map_9f3bc7fb5f31c1861bf11c03ac694c71);\n    \n            var heat_map_36a6ca2670f4ba50b08590725f98e73b = L.heatLayer(\n                [[12.911275849999999, 77.60456543431182, 5124.0], [29.1523467, 75.7245798, 2523.0], [12.9348429, 77.6189768, 2504.0], [12.2655944, 76.6465404, 2235.0], [53.5533682, -2.2969019, 2144.0], [12.9732913, 77.6404672, 2083.0], [12.9292731, 77.5824229, 1926.0], [12.9552572, 77.6984163, 1846.0], [12.8918931, 77.598608, 1630.0], [12.93103185, 77.6782471, 1286.0], [15.67509025, 73.81083634836561, 1258.0], [12.9277245, 77.6327822, 1238.0], [44.621621, -84.790422, 1218.0], [12.9364846, 77.6134783, 1181.0], [12.9390255, 77.6238477, 1156.0], [12.9238287, 77.6540991, 1065.0], [12.9778793, 77.6246697, 1023.0], [12.9327778, 77.6294052, 1017.0], [12.9755264, 77.6067902, 918.0], [15.8876779, 75.7046777, 906.0], [19.1602288, 76.2772822, 853.0], [40.5973154, -74.0929447, 812.0], [12.9986827, 77.615525, 727.0], [13.0027353, 77.5703253, 725.0], [12.9417261, 77.5755021, 684.0], [12.9660577, 77.5980135, 675.0], [13.0141618, 77.6518539, 664.0], [33.5935063, -79.0345627, 658.0], [13.0378334, 77.5652106, 649.0], [13.0093455, 77.6377094, 648.0], [12.9882338, 77.554883, 591.0], [52.984069, -6.0509213, 569.0], [40.7718677, -76.3704696, 529.0], [21.2742644, 79.4108959, 511.0], [18.532248199999998, 73.84990967997429, 499.0], [12.9624669, 77.6381958, 496.0], [34.05684, -81.091292, 491.0], [41.528338, -71.286422, 446.0], [12.945245, 77.6269144, 439.0], [51.5227907, -0.0775448, 370.0], [51.5238475, 0.5591096, 352.0], [12.9408685, 77.617338, 320.0], [12.988721250000001, 77.58516877601824, 295.0], [12.9678074, 77.6568367, 272.0], [12.9489339, 77.5968273, 246.0], [12.9089453, 77.6239038, 238.0], [12.9282918, 77.6254034, 216.0], [12.9081487, 77.5553179, 195.0], [12.973936, 77.6509982, 194.0], [12.9932236, 77.5391579, 191.0], [13.2227, 78.5541977, 187.0], [12.9931876, 77.5753419, 165.0], [13.0258087, 77.6305067, 161.0], [1.2847055, 103.84320655721689, 155.0], [13.0358698, 77.6323597, 153.0], [35.1463333, -111.688778, 151.0], [31.4343971, 73.081738, 139.0], [39.76880625, -86.15345077251979, 126.0], [13.02383, 77.5529215, 119.0], [12.9413238, 77.7471103, 117.0], [12.9768424, 77.7103746, 113.0], [52.49148485, 1.2372484335227272, 107.0], [12.9243692, 77.6242433, 102.0], [12.9224033, 77.6195407, 102.0], [12.9846713, 77.6790908, 101.0], [17.2510682, 80.1651978, 90.0], [6.9233338, 93.9046149, 80.0], [13.0227204, 77.595715, 80.0], [30.1915796, 74.9408769, 76.0], [15.8782951, 74.5084834, 63.0], [12.9950212, 77.5526703, 53.0], [12.9340114, 77.6222304, 48.0], [12.8504319, 77.6601401, 44.0], [16.3651178, 76.7808528, 38.0], [12.9756527, 77.5553548, 34.0], [12.957998, 77.6037312, 27.0], [52.6997314, -2.0180248, 27.0], [13.0076091, 77.6900228, 22.0], [12.9466619, 77.5300896, 22.0], [12.9366418, 77.5753914, 19.0], [13.007516, 77.695935, 18.0], [12.9055682, 77.5455438, 17.0], [13.0382184, 77.5919, 14.0], [12.9767936, 77.590082, 14.0], [12.9176571, 77.4837568, 9.0], [13.0138844, 77.5273194, 9.0], [12.9897994, 77.5717391, 8.0], [51.41300185, -1.3153145080163684, 6.0], [13.1006982, 77.5963454, 6.0], [13.0784743, 77.6068938, 3.0], [12.9274413, 77.5155224, 2.0], [13.0329419, 77.5273253, 1.0]],\n                {&quot;blur&quot;: 15, &quot;maxZoom&quot;: 18, &quot;minOpacity&quot;: 0.5, &quot;radius&quot;: 25, &quot;zoom&quot;: 20}\n            );\n        \n    \n                heat_map_36a6ca2670f4ba50b08590725f98e73b.addTo(map_9f3bc7fb5f31c1861bf11c03ac694c71);\n&lt;/script&gt;\n&lt;/html&gt;\" style=\"position:absolute;width:100%;height:100%;left:0;top:0;border:none !important;\" allowfullscreen webkitallowfullscreen mozallowfullscreen></iframe></div></div>"
     },
     "execution_count": 33,
     "metadata": {},
     "output_type": "execute_result"
    }
   ],
   "source": [
    "basemap"
   ],
   "metadata": {
    "collapsed": false,
    "ExecuteTime": {
     "end_time": "2023-11-25T16:51:07.723608300Z",
     "start_time": "2023-11-25T16:51:07.662878700Z"
    }
   },
   "id": "cc7cee40c08d6124"
  },
  {
   "cell_type": "code",
   "execution_count": null,
   "outputs": [],
   "source": [],
   "metadata": {
    "collapsed": false
   },
   "id": "2238c9019b8e7d8c"
  },
  {
   "cell_type": "markdown",
   "source": [
    "The Heat map suggests that the restaurants tend to concentrate in central Bengaluru area, and there are lesser number of restaurants further out of the central area."
   ],
   "metadata": {
    "collapsed": false
   },
   "id": "f9e674ce6cbff0e4"
  },
  {
   "cell_type": "code",
   "execution_count": null,
   "outputs": [],
   "source": [],
   "metadata": {
    "collapsed": false
   },
   "id": "b21c7baadbbe9043"
  },
  {
   "cell_type": "markdown",
   "source": [
    "Conducting a Market Cluster Analysis"
   ],
   "metadata": {
    "collapsed": false
   },
   "id": "61e3c7975fd9b7af"
  },
  {
   "cell_type": "code",
   "execution_count": null,
   "outputs": [],
   "source": [],
   "metadata": {
    "collapsed": false
   },
   "id": "1072f7a39a8f48eb"
  },
  {
   "cell_type": "code",
   "execution_count": 34,
   "outputs": [
    {
     "data": {
      "text/plain": "<folium.plugins.fast_marker_cluster.FastMarkerCluster at 0x2a8c27048e0>"
     },
     "execution_count": 34,
     "metadata": {},
     "output_type": "execute_result"
    }
   ],
   "source": [
    "FastMarkerCluster(Restaurant_locations[['lat','lon','count']],zoom=20).add_to(basemap)"
   ],
   "metadata": {
    "collapsed": false,
    "ExecuteTime": {
     "end_time": "2023-11-25T16:52:59.047049500Z",
     "start_time": "2023-11-25T16:52:58.985215800Z"
    }
   },
   "id": "8b33322b75d44adc"
  },
  {
   "cell_type": "code",
   "execution_count": 35,
   "outputs": [
    {
     "data": {
      "text/plain": "<folium.folium.Map at 0x2a8c25f5600>",
      "text/html": "<div style=\"width:100%;\"><div style=\"position:relative;width:100%;height:0;padding-bottom:60%;\"><span style=\"color:#565656\">Make this Notebook Trusted to load map: File -> Trust Notebook</span><iframe srcdoc=\"&lt;!DOCTYPE html&gt;\n&lt;html&gt;\n&lt;head&gt;\n    \n    &lt;meta http-equiv=&quot;content-type&quot; content=&quot;text/html; charset=UTF-8&quot; /&gt;\n    \n        &lt;script&gt;\n            L_NO_TOUCH = false;\n            L_DISABLE_3D = false;\n        &lt;/script&gt;\n    \n    &lt;style&gt;html, body {width: 100%;height: 100%;margin: 0;padding: 0;}&lt;/style&gt;\n    &lt;style&gt;#map {position:absolute;top:0;bottom:0;right:0;left:0;}&lt;/style&gt;\n    &lt;script src=&quot;https://cdn.jsdelivr.net/npm/leaflet@1.9.3/dist/leaflet.js&quot;&gt;&lt;/script&gt;\n    &lt;script src=&quot;https://code.jquery.com/jquery-3.7.1.min.js&quot;&gt;&lt;/script&gt;\n    &lt;script src=&quot;https://cdn.jsdelivr.net/npm/bootstrap@5.2.2/dist/js/bootstrap.bundle.min.js&quot;&gt;&lt;/script&gt;\n    &lt;script src=&quot;https://cdnjs.cloudflare.com/ajax/libs/Leaflet.awesome-markers/2.0.2/leaflet.awesome-markers.js&quot;&gt;&lt;/script&gt;\n    &lt;link rel=&quot;stylesheet&quot; href=&quot;https://cdn.jsdelivr.net/npm/leaflet@1.9.3/dist/leaflet.css&quot;/&gt;\n    &lt;link rel=&quot;stylesheet&quot; href=&quot;https://cdn.jsdelivr.net/npm/bootstrap@5.2.2/dist/css/bootstrap.min.css&quot;/&gt;\n    &lt;link rel=&quot;stylesheet&quot; href=&quot;https://netdna.bootstrapcdn.com/bootstrap/3.0.0/css/bootstrap.min.css&quot;/&gt;\n    &lt;link rel=&quot;stylesheet&quot; href=&quot;https://cdn.jsdelivr.net/npm/@fortawesome/fontawesome-free@6.2.0/css/all.min.css&quot;/&gt;\n    &lt;link rel=&quot;stylesheet&quot; href=&quot;https://cdnjs.cloudflare.com/ajax/libs/Leaflet.awesome-markers/2.0.2/leaflet.awesome-markers.css&quot;/&gt;\n    &lt;link rel=&quot;stylesheet&quot; href=&quot;https://cdn.jsdelivr.net/gh/python-visualization/folium/folium/templates/leaflet.awesome.rotate.min.css&quot;/&gt;\n    \n            &lt;meta name=&quot;viewport&quot; content=&quot;width=device-width,\n                initial-scale=1.0, maximum-scale=1.0, user-scalable=no&quot; /&gt;\n            &lt;style&gt;\n                #map_9f3bc7fb5f31c1861bf11c03ac694c71 {\n                    position: relative;\n                    width: 100.0%;\n                    height: 100.0%;\n                    left: 0.0%;\n                    top: 0.0%;\n                }\n                .leaflet-container { font-size: 1rem; }\n            &lt;/style&gt;\n        \n    &lt;script src=&quot;https://cdn.jsdelivr.net/gh/python-visualization/folium@main/folium/templates/leaflet_heat.min.js&quot;&gt;&lt;/script&gt;\n    &lt;script src=&quot;https://cdnjs.cloudflare.com/ajax/libs/leaflet.markercluster/1.1.0/leaflet.markercluster.js&quot;&gt;&lt;/script&gt;\n    &lt;link rel=&quot;stylesheet&quot; href=&quot;https://cdnjs.cloudflare.com/ajax/libs/leaflet.markercluster/1.1.0/MarkerCluster.css&quot;/&gt;\n    &lt;link rel=&quot;stylesheet&quot; href=&quot;https://cdnjs.cloudflare.com/ajax/libs/leaflet.markercluster/1.1.0/MarkerCluster.Default.css&quot;/&gt;\n&lt;/head&gt;\n&lt;body&gt;\n    \n    \n            &lt;div class=&quot;folium-map&quot; id=&quot;map_9f3bc7fb5f31c1861bf11c03ac694c71&quot; &gt;&lt;/div&gt;\n        \n&lt;/body&gt;\n&lt;script&gt;\n    \n    \n            var map_9f3bc7fb5f31c1861bf11c03ac694c71 = L.map(\n                &quot;map_9f3bc7fb5f31c1861bf11c03ac694c71&quot;,\n                {\n                    center: [12.97, 77.59],\n                    crs: L.CRS.EPSG3857,\n                    zoom: 12,\n                    zoomControl: true,\n                    preferCanvas: false,\n                }\n            );\n\n            \n\n        \n    \n            var tile_layer_c9d5f40028351c9388b96f8131ac34bc = L.tileLayer(\n                &quot;https://{s}.tile.openstreetmap.org/{z}/{x}/{y}.png&quot;,\n                {&quot;attribution&quot;: &quot;Data by \\u0026copy; \\u003ca target=\\&quot;_blank\\&quot; href=\\&quot;http://openstreetmap.org\\&quot;\\u003eOpenStreetMap\\u003c/a\\u003e, under \\u003ca target=\\&quot;_blank\\&quot; href=\\&quot;http://www.openstreetmap.org/copyright\\&quot;\\u003eODbL\\u003c/a\\u003e.&quot;, &quot;detectRetina&quot;: false, &quot;maxNativeZoom&quot;: 18, &quot;maxZoom&quot;: 18, &quot;minZoom&quot;: 0, &quot;noWrap&quot;: false, &quot;opacity&quot;: 1, &quot;subdomains&quot;: &quot;abc&quot;, &quot;tms&quot;: false}\n            );\n        \n    \n                tile_layer_c9d5f40028351c9388b96f8131ac34bc.addTo(map_9f3bc7fb5f31c1861bf11c03ac694c71);\n    \n            var heat_map_36a6ca2670f4ba50b08590725f98e73b = L.heatLayer(\n                [[12.911275849999999, 77.60456543431182, 5124.0], [29.1523467, 75.7245798, 2523.0], [12.9348429, 77.6189768, 2504.0], [12.2655944, 76.6465404, 2235.0], [53.5533682, -2.2969019, 2144.0], [12.9732913, 77.6404672, 2083.0], [12.9292731, 77.5824229, 1926.0], [12.9552572, 77.6984163, 1846.0], [12.8918931, 77.598608, 1630.0], [12.93103185, 77.6782471, 1286.0], [15.67509025, 73.81083634836561, 1258.0], [12.9277245, 77.6327822, 1238.0], [44.621621, -84.790422, 1218.0], [12.9364846, 77.6134783, 1181.0], [12.9390255, 77.6238477, 1156.0], [12.9238287, 77.6540991, 1065.0], [12.9778793, 77.6246697, 1023.0], [12.9327778, 77.6294052, 1017.0], [12.9755264, 77.6067902, 918.0], [15.8876779, 75.7046777, 906.0], [19.1602288, 76.2772822, 853.0], [40.5973154, -74.0929447, 812.0], [12.9986827, 77.615525, 727.0], [13.0027353, 77.5703253, 725.0], [12.9417261, 77.5755021, 684.0], [12.9660577, 77.5980135, 675.0], [13.0141618, 77.6518539, 664.0], [33.5935063, -79.0345627, 658.0], [13.0378334, 77.5652106, 649.0], [13.0093455, 77.6377094, 648.0], [12.9882338, 77.554883, 591.0], [52.984069, -6.0509213, 569.0], [40.7718677, -76.3704696, 529.0], [21.2742644, 79.4108959, 511.0], [18.532248199999998, 73.84990967997429, 499.0], [12.9624669, 77.6381958, 496.0], [34.05684, -81.091292, 491.0], [41.528338, -71.286422, 446.0], [12.945245, 77.6269144, 439.0], [51.5227907, -0.0775448, 370.0], [51.5238475, 0.5591096, 352.0], [12.9408685, 77.617338, 320.0], [12.988721250000001, 77.58516877601824, 295.0], [12.9678074, 77.6568367, 272.0], [12.9489339, 77.5968273, 246.0], [12.9089453, 77.6239038, 238.0], [12.9282918, 77.6254034, 216.0], [12.9081487, 77.5553179, 195.0], [12.973936, 77.6509982, 194.0], [12.9932236, 77.5391579, 191.0], [13.2227, 78.5541977, 187.0], [12.9931876, 77.5753419, 165.0], [13.0258087, 77.6305067, 161.0], [1.2847055, 103.84320655721689, 155.0], [13.0358698, 77.6323597, 153.0], [35.1463333, -111.688778, 151.0], [31.4343971, 73.081738, 139.0], [39.76880625, -86.15345077251979, 126.0], [13.02383, 77.5529215, 119.0], [12.9413238, 77.7471103, 117.0], [12.9768424, 77.7103746, 113.0], [52.49148485, 1.2372484335227272, 107.0], [12.9243692, 77.6242433, 102.0], [12.9224033, 77.6195407, 102.0], [12.9846713, 77.6790908, 101.0], [17.2510682, 80.1651978, 90.0], [6.9233338, 93.9046149, 80.0], [13.0227204, 77.595715, 80.0], [30.1915796, 74.9408769, 76.0], [15.8782951, 74.5084834, 63.0], [12.9950212, 77.5526703, 53.0], [12.9340114, 77.6222304, 48.0], [12.8504319, 77.6601401, 44.0], [16.3651178, 76.7808528, 38.0], [12.9756527, 77.5553548, 34.0], [12.957998, 77.6037312, 27.0], [52.6997314, -2.0180248, 27.0], [13.0076091, 77.6900228, 22.0], [12.9466619, 77.5300896, 22.0], [12.9366418, 77.5753914, 19.0], [13.007516, 77.695935, 18.0], [12.9055682, 77.5455438, 17.0], [13.0382184, 77.5919, 14.0], [12.9767936, 77.590082, 14.0], [12.9176571, 77.4837568, 9.0], [13.0138844, 77.5273194, 9.0], [12.9897994, 77.5717391, 8.0], [51.41300185, -1.3153145080163684, 6.0], [13.1006982, 77.5963454, 6.0], [13.0784743, 77.6068938, 3.0], [12.9274413, 77.5155224, 2.0], [13.0329419, 77.5273253, 1.0]],\n                {&quot;blur&quot;: 15, &quot;maxZoom&quot;: 18, &quot;minOpacity&quot;: 0.5, &quot;radius&quot;: 25, &quot;zoom&quot;: 20}\n            );\n        \n    \n                heat_map_36a6ca2670f4ba50b08590725f98e73b.addTo(map_9f3bc7fb5f31c1861bf11c03ac694c71);\n    \n            var fast_marker_cluster_57963da266ed0fe83ea19069bf7081af = (function(){\n                \n                var callback = function (row) {\n                    var icon = L.AwesomeMarkers.icon();\n                    var marker = L.marker(new L.LatLng(row[0], row[1]));\n                    marker.setIcon(icon);\n                    return marker;\n                };\n\n                var data = [[12.911275849999999, 77.60456543431182, 5124.0], [29.1523467, 75.7245798, 2523.0], [12.9348429, 77.6189768, 2504.0], [12.2655944, 76.6465404, 2235.0], [53.5533682, -2.2969019, 2144.0], [12.9732913, 77.6404672, 2083.0], [12.9292731, 77.5824229, 1926.0], [12.9552572, 77.6984163, 1846.0], [12.8918931, 77.598608, 1630.0], [12.93103185, 77.6782471, 1286.0], [15.67509025, 73.81083634836561, 1258.0], [12.9277245, 77.6327822, 1238.0], [44.621621, -84.790422, 1218.0], [12.9364846, 77.6134783, 1181.0], [12.9390255, 77.6238477, 1156.0], [12.9238287, 77.6540991, 1065.0], [12.9778793, 77.6246697, 1023.0], [12.9327778, 77.6294052, 1017.0], [12.9755264, 77.6067902, 918.0], [15.8876779, 75.7046777, 906.0], [19.1602288, 76.2772822, 853.0], [40.5973154, -74.0929447, 812.0], [12.9986827, 77.615525, 727.0], [13.0027353, 77.5703253, 725.0], [12.9417261, 77.5755021, 684.0], [12.9660577, 77.5980135, 675.0], [13.0141618, 77.6518539, 664.0], [33.5935063, -79.0345627, 658.0], [13.0378334, 77.5652106, 649.0], [13.0093455, 77.6377094, 648.0], [12.9882338, 77.554883, 591.0], [52.984069, -6.0509213, 569.0], [40.7718677, -76.3704696, 529.0], [21.2742644, 79.4108959, 511.0], [18.532248199999998, 73.84990967997429, 499.0], [12.9624669, 77.6381958, 496.0], [34.05684, -81.091292, 491.0], [41.528338, -71.286422, 446.0], [12.945245, 77.6269144, 439.0], [51.5227907, -0.0775448, 370.0], [51.5238475, 0.5591096, 352.0], [12.9408685, 77.617338, 320.0], [12.988721250000001, 77.58516877601824, 295.0], [12.9678074, 77.6568367, 272.0], [12.9489339, 77.5968273, 246.0], [12.9089453, 77.6239038, 238.0], [12.9282918, 77.6254034, 216.0], [12.9081487, 77.5553179, 195.0], [12.973936, 77.6509982, 194.0], [12.9932236, 77.5391579, 191.0], [13.2227, 78.5541977, 187.0], [12.9931876, 77.5753419, 165.0], [13.0258087, 77.6305067, 161.0], [1.2847055, 103.84320655721689, 155.0], [13.0358698, 77.6323597, 153.0], [35.1463333, -111.688778, 151.0], [31.4343971, 73.081738, 139.0], [39.76880625, -86.15345077251979, 126.0], [13.02383, 77.5529215, 119.0], [12.9413238, 77.7471103, 117.0], [12.9768424, 77.7103746, 113.0], [52.49148485, 1.2372484335227272, 107.0], [12.9243692, 77.6242433, 102.0], [12.9224033, 77.6195407, 102.0], [12.9846713, 77.6790908, 101.0], [17.2510682, 80.1651978, 90.0], [6.9233338, 93.9046149, 80.0], [13.0227204, 77.595715, 80.0], [30.1915796, 74.9408769, 76.0], [15.8782951, 74.5084834, 63.0], [12.9950212, 77.5526703, 53.0], [12.9340114, 77.6222304, 48.0], [12.8504319, 77.6601401, 44.0], [16.3651178, 76.7808528, 38.0], [12.9756527, 77.5553548, 34.0], [12.957998, 77.6037312, 27.0], [52.6997314, -2.0180248, 27.0], [13.0076091, 77.6900228, 22.0], [12.9466619, 77.5300896, 22.0], [12.9366418, 77.5753914, 19.0], [13.007516, 77.695935, 18.0], [12.9055682, 77.5455438, 17.0], [13.0382184, 77.5919, 14.0], [12.9767936, 77.590082, 14.0], [12.9176571, 77.4837568, 9.0], [13.0138844, 77.5273194, 9.0], [12.9897994, 77.5717391, 8.0], [51.41300185, -1.3153145080163684, 6.0], [13.1006982, 77.5963454, 6.0], [13.0784743, 77.6068938, 3.0], [12.9274413, 77.5155224, 2.0], [13.0329419, 77.5273253, 1.0]];\n                var cluster = L.markerClusterGroup({&quot;zoom&quot;: 20});\n\n                for (var i = 0; i &lt; data.length; i++) {\n                    var row = data[i];\n                    var marker = callback(row);\n                    marker.addTo(cluster);\n                }\n\n                cluster.addTo(map_9f3bc7fb5f31c1861bf11c03ac694c71);\n                return cluster;\n            })();\n        \n    \n                fast_marker_cluster_57963da266ed0fe83ea19069bf7081af.addTo(map_9f3bc7fb5f31c1861bf11c03ac694c71);\n&lt;/script&gt;\n&lt;/html&gt;\" style=\"position:absolute;width:100%;height:100%;left:0;top:0;border:none !important;\" allowfullscreen webkitallowfullscreen mozallowfullscreen></iframe></div></div>"
     },
     "execution_count": 35,
     "metadata": {},
     "output_type": "execute_result"
    }
   ],
   "source": [
    "basemap"
   ],
   "metadata": {
    "collapsed": false,
    "ExecuteTime": {
     "end_time": "2023-11-25T16:53:09.301467900Z",
     "start_time": "2023-11-25T16:53:09.221801300Z"
    }
   },
   "id": "2994871598a1ab4f"
  },
  {
   "cell_type": "code",
   "execution_count": null,
   "outputs": [],
   "source": [],
   "metadata": {
    "collapsed": false
   },
   "id": "3f63f0a275359577"
  },
  {
   "cell_type": "markdown",
   "source": [
    "Let's analyse where are the restaurants with high average rating?"
   ],
   "metadata": {
    "collapsed": false
   },
   "id": "9741018d5d8afe1f"
  },
  {
   "cell_type": "code",
   "execution_count": null,
   "outputs": [],
   "source": [],
   "metadata": {
    "collapsed": false
   },
   "id": "58c81932b8ce82b2"
  },
  {
   "cell_type": "code",
   "execution_count": 36,
   "outputs": [
    {
     "data": {
      "text/plain": "                                                 url  \\\n0  https://www.zomato.com/bangalore/jalsa-banasha...   \n1  https://www.zomato.com/bangalore/spice-elephan...   \n2  https://www.zomato.com/SanchurroBangalore?cont...   \n3  https://www.zomato.com/bangalore/addhuri-udupi...   \n4  https://www.zomato.com/bangalore/grand-village...   \n\n                                             address                   name  \\\n0  942, 21st Main Road, 2nd Stage, Banashankari, ...                  Jalsa   \n1  2nd Floor, 80 Feet Road, Near Big Bazaar, 6th ...         Spice Elephant   \n2  1112, Next to KIMS Medical College, 17th Cross...        San Churro Cafe   \n3  1st Floor, Annakuteera, 3rd Stage, Banashankar...  Addhuri Udupi Bhojana   \n4  10, 3rd Floor, Lakshmi Associates, Gandhi Baza...          Grand Village   \n\n  online_order book_table   rate  votes                             phone  \\\n0          Yes        Yes  4.1/5    775    080 42297555\\r\\n+91 9743772233   \n1          Yes         No  4.1/5    787                      080 41714161   \n2          Yes         No  3.8/5    918                    +91 9663487993   \n3           No         No  3.7/5     88                    +91 9620009302   \n4           No         No  3.8/5    166  +91 8026612447\\r\\n+91 9901210005   \n\n       location            rest_type  \\\n0  Banashankari        Casual Dining   \n1  Banashankari        Casual Dining   \n2  Banashankari  Cafe, Casual Dining   \n3  Banashankari          Quick Bites   \n4  Basavanagudi        Casual Dining   \n\n                                          dish_liked  \\\n0  Pasta, Lunch Buffet, Masala Papad, Paneer Laja...   \n1  Momos, Lunch Buffet, Chocolate Nirvana, Thai G...   \n2  Churros, Cannelloni, Minestrone Soup, Hot Choc...   \n3                                        Masala Dosa   \n4                                Panipuri, Gol Gappe   \n\n                         cuisines approx_cost(for two people)  \\\n0  North Indian, Mughlai, Chinese                         800   \n1     Chinese, North Indian, Thai                         800   \n2          Cafe, Mexican, Italian                         800   \n3      South Indian, North Indian                         300   \n4        North Indian, Rajasthani                         600   \n\n                                        reviews_list menu_item  \\\n0  [('Rated 4.0', 'RATED\\n  A beautiful place to ...        []   \n1  [('Rated 4.0', 'RATED\\n  Had been here for din...        []   \n2  [('Rated 3.0', \"RATED\\n  Ambience is not that ...        []   \n3  [('Rated 4.0', \"RATED\\n  Great food and proper...        []   \n4  [('Rated 4.0', 'RATED\\n  Very good restaurant ...        []   \n\n  listed_in(type) listed_in(city)  \n0          Buffet    Banashankari  \n1          Buffet    Banashankari  \n2          Buffet    Banashankari  \n3          Buffet    Banashankari  \n4          Buffet    Banashankari  ",
      "text/html": "<div>\n<style scoped>\n    .dataframe tbody tr th:only-of-type {\n        vertical-align: middle;\n    }\n\n    .dataframe tbody tr th {\n        vertical-align: top;\n    }\n\n    .dataframe thead th {\n        text-align: right;\n    }\n</style>\n<table border=\"1\" class=\"dataframe\">\n  <thead>\n    <tr style=\"text-align: right;\">\n      <th></th>\n      <th>url</th>\n      <th>address</th>\n      <th>name</th>\n      <th>online_order</th>\n      <th>book_table</th>\n      <th>rate</th>\n      <th>votes</th>\n      <th>phone</th>\n      <th>location</th>\n      <th>rest_type</th>\n      <th>dish_liked</th>\n      <th>cuisines</th>\n      <th>approx_cost(for two people)</th>\n      <th>reviews_list</th>\n      <th>menu_item</th>\n      <th>listed_in(type)</th>\n      <th>listed_in(city)</th>\n    </tr>\n  </thead>\n  <tbody>\n    <tr>\n      <th>0</th>\n      <td>https://www.zomato.com/bangalore/jalsa-banasha...</td>\n      <td>942, 21st Main Road, 2nd Stage, Banashankari, ...</td>\n      <td>Jalsa</td>\n      <td>Yes</td>\n      <td>Yes</td>\n      <td>4.1/5</td>\n      <td>775</td>\n      <td>080 42297555\\r\\n+91 9743772233</td>\n      <td>Banashankari</td>\n      <td>Casual Dining</td>\n      <td>Pasta, Lunch Buffet, Masala Papad, Paneer Laja...</td>\n      <td>North Indian, Mughlai, Chinese</td>\n      <td>800</td>\n      <td>[('Rated 4.0', 'RATED\\n  A beautiful place to ...</td>\n      <td>[]</td>\n      <td>Buffet</td>\n      <td>Banashankari</td>\n    </tr>\n    <tr>\n      <th>1</th>\n      <td>https://www.zomato.com/bangalore/spice-elephan...</td>\n      <td>2nd Floor, 80 Feet Road, Near Big Bazaar, 6th ...</td>\n      <td>Spice Elephant</td>\n      <td>Yes</td>\n      <td>No</td>\n      <td>4.1/5</td>\n      <td>787</td>\n      <td>080 41714161</td>\n      <td>Banashankari</td>\n      <td>Casual Dining</td>\n      <td>Momos, Lunch Buffet, Chocolate Nirvana, Thai G...</td>\n      <td>Chinese, North Indian, Thai</td>\n      <td>800</td>\n      <td>[('Rated 4.0', 'RATED\\n  Had been here for din...</td>\n      <td>[]</td>\n      <td>Buffet</td>\n      <td>Banashankari</td>\n    </tr>\n    <tr>\n      <th>2</th>\n      <td>https://www.zomato.com/SanchurroBangalore?cont...</td>\n      <td>1112, Next to KIMS Medical College, 17th Cross...</td>\n      <td>San Churro Cafe</td>\n      <td>Yes</td>\n      <td>No</td>\n      <td>3.8/5</td>\n      <td>918</td>\n      <td>+91 9663487993</td>\n      <td>Banashankari</td>\n      <td>Cafe, Casual Dining</td>\n      <td>Churros, Cannelloni, Minestrone Soup, Hot Choc...</td>\n      <td>Cafe, Mexican, Italian</td>\n      <td>800</td>\n      <td>[('Rated 3.0', \"RATED\\n  Ambience is not that ...</td>\n      <td>[]</td>\n      <td>Buffet</td>\n      <td>Banashankari</td>\n    </tr>\n    <tr>\n      <th>3</th>\n      <td>https://www.zomato.com/bangalore/addhuri-udupi...</td>\n      <td>1st Floor, Annakuteera, 3rd Stage, Banashankar...</td>\n      <td>Addhuri Udupi Bhojana</td>\n      <td>No</td>\n      <td>No</td>\n      <td>3.7/5</td>\n      <td>88</td>\n      <td>+91 9620009302</td>\n      <td>Banashankari</td>\n      <td>Quick Bites</td>\n      <td>Masala Dosa</td>\n      <td>South Indian, North Indian</td>\n      <td>300</td>\n      <td>[('Rated 4.0', \"RATED\\n  Great food and proper...</td>\n      <td>[]</td>\n      <td>Buffet</td>\n      <td>Banashankari</td>\n    </tr>\n    <tr>\n      <th>4</th>\n      <td>https://www.zomato.com/bangalore/grand-village...</td>\n      <td>10, 3rd Floor, Lakshmi Associates, Gandhi Baza...</td>\n      <td>Grand Village</td>\n      <td>No</td>\n      <td>No</td>\n      <td>3.8/5</td>\n      <td>166</td>\n      <td>+91 8026612447\\r\\n+91 9901210005</td>\n      <td>Basavanagudi</td>\n      <td>Casual Dining</td>\n      <td>Panipuri, Gol Gappe</td>\n      <td>North Indian, Rajasthani</td>\n      <td>600</td>\n      <td>[('Rated 4.0', 'RATED\\n  Very good restaurant ...</td>\n      <td>[]</td>\n      <td>Buffet</td>\n      <td>Banashankari</td>\n    </tr>\n  </tbody>\n</table>\n</div>"
     },
     "execution_count": 36,
     "metadata": {},
     "output_type": "execute_result"
    }
   ],
   "source": [
    "df.head()"
   ],
   "metadata": {
    "collapsed": false,
    "ExecuteTime": {
     "end_time": "2023-11-25T16:54:25.850397300Z",
     "start_time": "2023-11-25T16:54:25.786991900Z"
    }
   },
   "id": "206b6cb2fa454d87"
  },
  {
   "cell_type": "code",
   "execution_count": 37,
   "outputs": [
    {
     "data": {
      "text/plain": "array(['4.1/5', '3.8/5', '3.7/5', '3.6/5', '4.6/5', '4.0/5', '4.2/5',\n       '3.9/5', '3.1/5', '3.0/5', '3.2/5', '3.3/5', '2.8/5', '4.4/5',\n       '4.3/5', 'NEW', '2.9/5', '3.5/5', nan, '2.6/5', '3.8 /5', '3.4/5',\n       '4.5/5', '2.5/5', '2.7/5', '4.7/5', '2.4/5', '2.2/5', '2.3/5',\n       '3.4 /5', '-', '3.6 /5', '4.8/5', '3.9 /5', '4.2 /5', '4.0 /5',\n       '4.1 /5', '3.7 /5', '3.1 /5', '2.9 /5', '3.3 /5', '2.8 /5',\n       '3.5 /5', '2.7 /5', '2.5 /5', '3.2 /5', '2.6 /5', '4.5 /5',\n       '4.3 /5', '4.4 /5', '4.9/5', '2.1/5', '2.0/5', '1.8/5', '4.6 /5',\n       '4.9 /5', '3.0 /5', '4.8 /5', '2.3 /5', '4.7 /5', '2.4 /5',\n       '2.1 /5', '2.2 /5', '2.0 /5', '1.8 /5'], dtype=object)"
     },
     "execution_count": 37,
     "metadata": {},
     "output_type": "execute_result"
    }
   ],
   "source": [
    "df['rate'].unique()"
   ],
   "metadata": {
    "collapsed": false,
    "ExecuteTime": {
     "end_time": "2023-11-25T17:15:38.924655700Z",
     "start_time": "2023-11-25T17:15:38.859319900Z"
    }
   },
   "id": "dfb72ab39ceecdd8"
  },
  {
   "cell_type": "code",
   "execution_count": null,
   "outputs": [],
   "source": [],
   "metadata": {
    "collapsed": false
   },
   "id": "16fc9f83a5288932"
  },
  {
   "cell_type": "markdown",
   "source": [
    "Removing 'nan' values from this column"
   ],
   "metadata": {
    "collapsed": false
   },
   "id": "b3a99b18abddf2fc"
  },
  {
   "cell_type": "code",
   "execution_count": 38,
   "outputs": [],
   "source": [
    "df.dropna(axis=0,subset=['rate'],inplace=True)"
   ],
   "metadata": {
    "collapsed": false,
    "ExecuteTime": {
     "end_time": "2023-11-25T17:18:01.990123100Z",
     "start_time": "2023-11-25T17:18:01.909799300Z"
    }
   },
   "id": "b014b7affe940d64"
  },
  {
   "cell_type": "code",
   "execution_count": 39,
   "outputs": [],
   "source": [
    "# Extracting the data without the '/5'\n",
    "def split(x):\n",
    "    return x.split('/')[0]"
   ],
   "metadata": {
    "collapsed": false,
    "ExecuteTime": {
     "end_time": "2023-11-25T17:18:27.797945600Z",
     "start_time": "2023-11-25T17:18:27.718177800Z"
    }
   },
   "id": "d68d44fd036fff54"
  },
  {
   "cell_type": "code",
   "execution_count": 41,
   "outputs": [
    {
     "data": {
      "text/plain": "                                                 url  \\\n0  https://www.zomato.com/bangalore/jalsa-banasha...   \n1  https://www.zomato.com/bangalore/spice-elephan...   \n2  https://www.zomato.com/SanchurroBangalore?cont...   \n3  https://www.zomato.com/bangalore/addhuri-udupi...   \n4  https://www.zomato.com/bangalore/grand-village...   \n\n                                             address                   name  \\\n0  942, 21st Main Road, 2nd Stage, Banashankari, ...                  Jalsa   \n1  2nd Floor, 80 Feet Road, Near Big Bazaar, 6th ...         Spice Elephant   \n2  1112, Next to KIMS Medical College, 17th Cross...        San Churro Cafe   \n3  1st Floor, Annakuteera, 3rd Stage, Banashankar...  Addhuri Udupi Bhojana   \n4  10, 3rd Floor, Lakshmi Associates, Gandhi Baza...          Grand Village   \n\n  online_order book_table   rate  votes                             phone  \\\n0          Yes        Yes  4.1/5    775    080 42297555\\r\\n+91 9743772233   \n1          Yes         No  4.1/5    787                      080 41714161   \n2          Yes         No  3.8/5    918                    +91 9663487993   \n3           No         No  3.7/5     88                    +91 9620009302   \n4           No         No  3.8/5    166  +91 8026612447\\r\\n+91 9901210005   \n\n       location            rest_type  \\\n0  Banashankari        Casual Dining   \n1  Banashankari        Casual Dining   \n2  Banashankari  Cafe, Casual Dining   \n3  Banashankari          Quick Bites   \n4  Basavanagudi        Casual Dining   \n\n                                          dish_liked  \\\n0  Pasta, Lunch Buffet, Masala Papad, Paneer Laja...   \n1  Momos, Lunch Buffet, Chocolate Nirvana, Thai G...   \n2  Churros, Cannelloni, Minestrone Soup, Hot Choc...   \n3                                        Masala Dosa   \n4                                Panipuri, Gol Gappe   \n\n                         cuisines approx_cost(for two people)  \\\n0  North Indian, Mughlai, Chinese                         800   \n1     Chinese, North Indian, Thai                         800   \n2          Cafe, Mexican, Italian                         800   \n3      South Indian, North Indian                         300   \n4        North Indian, Rajasthani                         600   \n\n                                        reviews_list menu_item  \\\n0  [('Rated 4.0', 'RATED\\n  A beautiful place to ...        []   \n1  [('Rated 4.0', 'RATED\\n  Had been here for din...        []   \n2  [('Rated 3.0', \"RATED\\n  Ambience is not that ...        []   \n3  [('Rated 4.0', \"RATED\\n  Great food and proper...        []   \n4  [('Rated 4.0', 'RATED\\n  Very good restaurant ...        []   \n\n  listed_in(type) listed_in(city) rating  \n0          Buffet    Banashankari    4.1  \n1          Buffet    Banashankari    4.1  \n2          Buffet    Banashankari    3.8  \n3          Buffet    Banashankari    3.7  \n4          Buffet    Banashankari    3.8  ",
      "text/html": "<div>\n<style scoped>\n    .dataframe tbody tr th:only-of-type {\n        vertical-align: middle;\n    }\n\n    .dataframe tbody tr th {\n        vertical-align: top;\n    }\n\n    .dataframe thead th {\n        text-align: right;\n    }\n</style>\n<table border=\"1\" class=\"dataframe\">\n  <thead>\n    <tr style=\"text-align: right;\">\n      <th></th>\n      <th>url</th>\n      <th>address</th>\n      <th>name</th>\n      <th>online_order</th>\n      <th>book_table</th>\n      <th>rate</th>\n      <th>votes</th>\n      <th>phone</th>\n      <th>location</th>\n      <th>rest_type</th>\n      <th>dish_liked</th>\n      <th>cuisines</th>\n      <th>approx_cost(for two people)</th>\n      <th>reviews_list</th>\n      <th>menu_item</th>\n      <th>listed_in(type)</th>\n      <th>listed_in(city)</th>\n      <th>rating</th>\n    </tr>\n  </thead>\n  <tbody>\n    <tr>\n      <th>0</th>\n      <td>https://www.zomato.com/bangalore/jalsa-banasha...</td>\n      <td>942, 21st Main Road, 2nd Stage, Banashankari, ...</td>\n      <td>Jalsa</td>\n      <td>Yes</td>\n      <td>Yes</td>\n      <td>4.1/5</td>\n      <td>775</td>\n      <td>080 42297555\\r\\n+91 9743772233</td>\n      <td>Banashankari</td>\n      <td>Casual Dining</td>\n      <td>Pasta, Lunch Buffet, Masala Papad, Paneer Laja...</td>\n      <td>North Indian, Mughlai, Chinese</td>\n      <td>800</td>\n      <td>[('Rated 4.0', 'RATED\\n  A beautiful place to ...</td>\n      <td>[]</td>\n      <td>Buffet</td>\n      <td>Banashankari</td>\n      <td>4.1</td>\n    </tr>\n    <tr>\n      <th>1</th>\n      <td>https://www.zomato.com/bangalore/spice-elephan...</td>\n      <td>2nd Floor, 80 Feet Road, Near Big Bazaar, 6th ...</td>\n      <td>Spice Elephant</td>\n      <td>Yes</td>\n      <td>No</td>\n      <td>4.1/5</td>\n      <td>787</td>\n      <td>080 41714161</td>\n      <td>Banashankari</td>\n      <td>Casual Dining</td>\n      <td>Momos, Lunch Buffet, Chocolate Nirvana, Thai G...</td>\n      <td>Chinese, North Indian, Thai</td>\n      <td>800</td>\n      <td>[('Rated 4.0', 'RATED\\n  Had been here for din...</td>\n      <td>[]</td>\n      <td>Buffet</td>\n      <td>Banashankari</td>\n      <td>4.1</td>\n    </tr>\n    <tr>\n      <th>2</th>\n      <td>https://www.zomato.com/SanchurroBangalore?cont...</td>\n      <td>1112, Next to KIMS Medical College, 17th Cross...</td>\n      <td>San Churro Cafe</td>\n      <td>Yes</td>\n      <td>No</td>\n      <td>3.8/5</td>\n      <td>918</td>\n      <td>+91 9663487993</td>\n      <td>Banashankari</td>\n      <td>Cafe, Casual Dining</td>\n      <td>Churros, Cannelloni, Minestrone Soup, Hot Choc...</td>\n      <td>Cafe, Mexican, Italian</td>\n      <td>800</td>\n      <td>[('Rated 3.0', \"RATED\\n  Ambience is not that ...</td>\n      <td>[]</td>\n      <td>Buffet</td>\n      <td>Banashankari</td>\n      <td>3.8</td>\n    </tr>\n    <tr>\n      <th>3</th>\n      <td>https://www.zomato.com/bangalore/addhuri-udupi...</td>\n      <td>1st Floor, Annakuteera, 3rd Stage, Banashankar...</td>\n      <td>Addhuri Udupi Bhojana</td>\n      <td>No</td>\n      <td>No</td>\n      <td>3.7/5</td>\n      <td>88</td>\n      <td>+91 9620009302</td>\n      <td>Banashankari</td>\n      <td>Quick Bites</td>\n      <td>Masala Dosa</td>\n      <td>South Indian, North Indian</td>\n      <td>300</td>\n      <td>[('Rated 4.0', \"RATED\\n  Great food and proper...</td>\n      <td>[]</td>\n      <td>Buffet</td>\n      <td>Banashankari</td>\n      <td>3.7</td>\n    </tr>\n    <tr>\n      <th>4</th>\n      <td>https://www.zomato.com/bangalore/grand-village...</td>\n      <td>10, 3rd Floor, Lakshmi Associates, Gandhi Baza...</td>\n      <td>Grand Village</td>\n      <td>No</td>\n      <td>No</td>\n      <td>3.8/5</td>\n      <td>166</td>\n      <td>+91 8026612447\\r\\n+91 9901210005</td>\n      <td>Basavanagudi</td>\n      <td>Casual Dining</td>\n      <td>Panipuri, Gol Gappe</td>\n      <td>North Indian, Rajasthani</td>\n      <td>600</td>\n      <td>[('Rated 4.0', 'RATED\\n  Very good restaurant ...</td>\n      <td>[]</td>\n      <td>Buffet</td>\n      <td>Banashankari</td>\n      <td>3.8</td>\n    </tr>\n  </tbody>\n</table>\n</div>"
     },
     "execution_count": 41,
     "metadata": {},
     "output_type": "execute_result"
    }
   ],
   "source": [
    "df['rating'] = df['rate'].apply(split)\n",
    "df.head()"
   ],
   "metadata": {
    "collapsed": false,
    "ExecuteTime": {
     "end_time": "2023-11-25T17:19:12.458800400Z",
     "start_time": "2023-11-25T17:19:12.385938600Z"
    }
   },
   "id": "31d8038af2e57340"
  },
  {
   "cell_type": "code",
   "execution_count": 42,
   "outputs": [
    {
     "data": {
      "text/plain": "array(['4.1', '3.8', '3.7', '3.6', '4.6', '4.0', '4.2', '3.9', '3.1',\n       '3.0', '3.2', '3.3', '2.8', '4.4', '4.3', 'NEW', '2.9', '3.5',\n       '2.6', '3.8 ', '3.4', '4.5', '2.5', '2.7', '4.7', '2.4', '2.2',\n       '2.3', '3.4 ', '-', '3.6 ', '4.8', '3.9 ', '4.2 ', '4.0 ', '4.1 ',\n       '3.7 ', '3.1 ', '2.9 ', '3.3 ', '2.8 ', '3.5 ', '2.7 ', '2.5 ',\n       '3.2 ', '2.6 ', '4.5 ', '4.3 ', '4.4 ', '4.9', '2.1', '2.0', '1.8',\n       '4.6 ', '4.9 ', '3.0 ', '4.8 ', '2.3 ', '4.7 ', '2.4 ', '2.1 ',\n       '2.2 ', '2.0 ', '1.8 '], dtype=object)"
     },
     "execution_count": 42,
     "metadata": {},
     "output_type": "execute_result"
    }
   ],
   "source": [
    "df['rating'].unique()"
   ],
   "metadata": {
    "collapsed": false,
    "ExecuteTime": {
     "end_time": "2023-11-25T17:21:10.234896400Z",
     "start_time": "2023-11-25T17:21:10.175078600Z"
    }
   },
   "id": "b7a3f18530743059"
  },
  {
   "cell_type": "code",
   "execution_count": 43,
   "outputs": [],
   "source": [
    "df.replace('NEW',0,inplace=True)"
   ],
   "metadata": {
    "collapsed": false,
    "ExecuteTime": {
     "end_time": "2023-11-25T17:21:42.018384300Z",
     "start_time": "2023-11-25T17:21:41.924839700Z"
    }
   },
   "id": "bbb392644f6bacfe"
  },
  {
   "cell_type": "code",
   "execution_count": 44,
   "outputs": [],
   "source": [
    "df.replace('-',0,inplace=True)"
   ],
   "metadata": {
    "collapsed": false,
    "ExecuteTime": {
     "end_time": "2023-11-25T17:22:08.985813800Z",
     "start_time": "2023-11-25T17:22:08.884082400Z"
    }
   },
   "id": "62e015f94b5c3842"
  },
  {
   "cell_type": "code",
   "execution_count": 45,
   "outputs": [
    {
     "data": {
      "text/plain": "                                                 url  \\\n0  https://www.zomato.com/bangalore/jalsa-banasha...   \n1  https://www.zomato.com/bangalore/spice-elephan...   \n2  https://www.zomato.com/SanchurroBangalore?cont...   \n3  https://www.zomato.com/bangalore/addhuri-udupi...   \n4  https://www.zomato.com/bangalore/grand-village...   \n\n                                             address                   name  \\\n0  942, 21st Main Road, 2nd Stage, Banashankari, ...                  Jalsa   \n1  2nd Floor, 80 Feet Road, Near Big Bazaar, 6th ...         Spice Elephant   \n2  1112, Next to KIMS Medical College, 17th Cross...        San Churro Cafe   \n3  1st Floor, Annakuteera, 3rd Stage, Banashankar...  Addhuri Udupi Bhojana   \n4  10, 3rd Floor, Lakshmi Associates, Gandhi Baza...          Grand Village   \n\n  online_order book_table   rate  votes                             phone  \\\n0          Yes        Yes  4.1/5    775    080 42297555\\r\\n+91 9743772233   \n1          Yes         No  4.1/5    787                      080 41714161   \n2          Yes         No  3.8/5    918                    +91 9663487993   \n3           No         No  3.7/5     88                    +91 9620009302   \n4           No         No  3.8/5    166  +91 8026612447\\r\\n+91 9901210005   \n\n       location            rest_type  \\\n0  Banashankari        Casual Dining   \n1  Banashankari        Casual Dining   \n2  Banashankari  Cafe, Casual Dining   \n3  Banashankari          Quick Bites   \n4  Basavanagudi        Casual Dining   \n\n                                          dish_liked  \\\n0  Pasta, Lunch Buffet, Masala Papad, Paneer Laja...   \n1  Momos, Lunch Buffet, Chocolate Nirvana, Thai G...   \n2  Churros, Cannelloni, Minestrone Soup, Hot Choc...   \n3                                        Masala Dosa   \n4                                Panipuri, Gol Gappe   \n\n                         cuisines approx_cost(for two people)  \\\n0  North Indian, Mughlai, Chinese                         800   \n1     Chinese, North Indian, Thai                         800   \n2          Cafe, Mexican, Italian                         800   \n3      South Indian, North Indian                         300   \n4        North Indian, Rajasthani                         600   \n\n                                        reviews_list menu_item  \\\n0  [('Rated 4.0', 'RATED\\n  A beautiful place to ...        []   \n1  [('Rated 4.0', 'RATED\\n  Had been here for din...        []   \n2  [('Rated 3.0', \"RATED\\n  Ambience is not that ...        []   \n3  [('Rated 4.0', \"RATED\\n  Great food and proper...        []   \n4  [('Rated 4.0', 'RATED\\n  Very good restaurant ...        []   \n\n  listed_in(type) listed_in(city) rating  \n0          Buffet    Banashankari    4.1  \n1          Buffet    Banashankari    4.1  \n2          Buffet    Banashankari    3.8  \n3          Buffet    Banashankari    3.7  \n4          Buffet    Banashankari    3.8  ",
      "text/html": "<div>\n<style scoped>\n    .dataframe tbody tr th:only-of-type {\n        vertical-align: middle;\n    }\n\n    .dataframe tbody tr th {\n        vertical-align: top;\n    }\n\n    .dataframe thead th {\n        text-align: right;\n    }\n</style>\n<table border=\"1\" class=\"dataframe\">\n  <thead>\n    <tr style=\"text-align: right;\">\n      <th></th>\n      <th>url</th>\n      <th>address</th>\n      <th>name</th>\n      <th>online_order</th>\n      <th>book_table</th>\n      <th>rate</th>\n      <th>votes</th>\n      <th>phone</th>\n      <th>location</th>\n      <th>rest_type</th>\n      <th>dish_liked</th>\n      <th>cuisines</th>\n      <th>approx_cost(for two people)</th>\n      <th>reviews_list</th>\n      <th>menu_item</th>\n      <th>listed_in(type)</th>\n      <th>listed_in(city)</th>\n      <th>rating</th>\n    </tr>\n  </thead>\n  <tbody>\n    <tr>\n      <th>0</th>\n      <td>https://www.zomato.com/bangalore/jalsa-banasha...</td>\n      <td>942, 21st Main Road, 2nd Stage, Banashankari, ...</td>\n      <td>Jalsa</td>\n      <td>Yes</td>\n      <td>Yes</td>\n      <td>4.1/5</td>\n      <td>775</td>\n      <td>080 42297555\\r\\n+91 9743772233</td>\n      <td>Banashankari</td>\n      <td>Casual Dining</td>\n      <td>Pasta, Lunch Buffet, Masala Papad, Paneer Laja...</td>\n      <td>North Indian, Mughlai, Chinese</td>\n      <td>800</td>\n      <td>[('Rated 4.0', 'RATED\\n  A beautiful place to ...</td>\n      <td>[]</td>\n      <td>Buffet</td>\n      <td>Banashankari</td>\n      <td>4.1</td>\n    </tr>\n    <tr>\n      <th>1</th>\n      <td>https://www.zomato.com/bangalore/spice-elephan...</td>\n      <td>2nd Floor, 80 Feet Road, Near Big Bazaar, 6th ...</td>\n      <td>Spice Elephant</td>\n      <td>Yes</td>\n      <td>No</td>\n      <td>4.1/5</td>\n      <td>787</td>\n      <td>080 41714161</td>\n      <td>Banashankari</td>\n      <td>Casual Dining</td>\n      <td>Momos, Lunch Buffet, Chocolate Nirvana, Thai G...</td>\n      <td>Chinese, North Indian, Thai</td>\n      <td>800</td>\n      <td>[('Rated 4.0', 'RATED\\n  Had been here for din...</td>\n      <td>[]</td>\n      <td>Buffet</td>\n      <td>Banashankari</td>\n      <td>4.1</td>\n    </tr>\n    <tr>\n      <th>2</th>\n      <td>https://www.zomato.com/SanchurroBangalore?cont...</td>\n      <td>1112, Next to KIMS Medical College, 17th Cross...</td>\n      <td>San Churro Cafe</td>\n      <td>Yes</td>\n      <td>No</td>\n      <td>3.8/5</td>\n      <td>918</td>\n      <td>+91 9663487993</td>\n      <td>Banashankari</td>\n      <td>Cafe, Casual Dining</td>\n      <td>Churros, Cannelloni, Minestrone Soup, Hot Choc...</td>\n      <td>Cafe, Mexican, Italian</td>\n      <td>800</td>\n      <td>[('Rated 3.0', \"RATED\\n  Ambience is not that ...</td>\n      <td>[]</td>\n      <td>Buffet</td>\n      <td>Banashankari</td>\n      <td>3.8</td>\n    </tr>\n    <tr>\n      <th>3</th>\n      <td>https://www.zomato.com/bangalore/addhuri-udupi...</td>\n      <td>1st Floor, Annakuteera, 3rd Stage, Banashankar...</td>\n      <td>Addhuri Udupi Bhojana</td>\n      <td>No</td>\n      <td>No</td>\n      <td>3.7/5</td>\n      <td>88</td>\n      <td>+91 9620009302</td>\n      <td>Banashankari</td>\n      <td>Quick Bites</td>\n      <td>Masala Dosa</td>\n      <td>South Indian, North Indian</td>\n      <td>300</td>\n      <td>[('Rated 4.0', \"RATED\\n  Great food and proper...</td>\n      <td>[]</td>\n      <td>Buffet</td>\n      <td>Banashankari</td>\n      <td>3.7</td>\n    </tr>\n    <tr>\n      <th>4</th>\n      <td>https://www.zomato.com/bangalore/grand-village...</td>\n      <td>10, 3rd Floor, Lakshmi Associates, Gandhi Baza...</td>\n      <td>Grand Village</td>\n      <td>No</td>\n      <td>No</td>\n      <td>3.8/5</td>\n      <td>166</td>\n      <td>+91 8026612447\\r\\n+91 9901210005</td>\n      <td>Basavanagudi</td>\n      <td>Casual Dining</td>\n      <td>Panipuri, Gol Gappe</td>\n      <td>North Indian, Rajasthani</td>\n      <td>600</td>\n      <td>[('Rated 4.0', 'RATED\\n  Very good restaurant ...</td>\n      <td>[]</td>\n      <td>Buffet</td>\n      <td>Banashankari</td>\n      <td>3.8</td>\n    </tr>\n  </tbody>\n</table>\n</div>"
     },
     "execution_count": 45,
     "metadata": {},
     "output_type": "execute_result"
    }
   ],
   "source": [
    "df.head()"
   ],
   "metadata": {
    "collapsed": false,
    "ExecuteTime": {
     "end_time": "2023-11-25T17:22:29.105582400Z",
     "start_time": "2023-11-25T17:22:29.031265700Z"
    }
   },
   "id": "9249e7f0f8a729c6"
  },
  {
   "cell_type": "code",
   "execution_count": 46,
   "outputs": [
    {
     "data": {
      "text/plain": "array(['4.1', '3.8', '3.7', '3.6', '4.6', '4.0', '4.2', '3.9', '3.1',\n       '3.0', '3.2', '3.3', '2.8', '4.4', '4.3', 0, '2.9', '3.5', '2.6',\n       '3.8 ', '3.4', '4.5', '2.5', '2.7', '4.7', '2.4', '2.2', '2.3',\n       '3.4 ', '3.6 ', '4.8', '3.9 ', '4.2 ', '4.0 ', '4.1 ', '3.7 ',\n       '3.1 ', '2.9 ', '3.3 ', '2.8 ', '3.5 ', '2.7 ', '2.5 ', '3.2 ',\n       '2.6 ', '4.5 ', '4.3 ', '4.4 ', '4.9', '2.1', '2.0', '1.8', '4.6 ',\n       '4.9 ', '3.0 ', '4.8 ', '2.3 ', '4.7 ', '2.4 ', '2.1 ', '2.2 ',\n       '2.0 ', '1.8 '], dtype=object)"
     },
     "execution_count": 46,
     "metadata": {},
     "output_type": "execute_result"
    }
   ],
   "source": [
    "df['rating'].unique()"
   ],
   "metadata": {
    "collapsed": false,
    "ExecuteTime": {
     "end_time": "2023-11-25T17:22:58.662648800Z",
     "start_time": "2023-11-25T17:22:58.611414700Z"
    }
   },
   "id": "6d8152cfd513b9a3"
  },
  {
   "cell_type": "code",
   "execution_count": 47,
   "outputs": [
    {
     "data": {
      "text/plain": "url                            object\naddress                        object\nname                           object\nonline_order                   object\nbook_table                     object\nrate                           object\nvotes                           int64\nphone                          object\nlocation                       object\nrest_type                      object\ndish_liked                     object\ncuisines                       object\napprox_cost(for two people)    object\nreviews_list                   object\nmenu_item                      object\nlisted_in(type)                object\nlisted_in(city)                object\nrating                         object\ndtype: object"
     },
     "execution_count": 47,
     "metadata": {},
     "output_type": "execute_result"
    }
   ],
   "source": [
    "df.dtypes"
   ],
   "metadata": {
    "collapsed": false,
    "ExecuteTime": {
     "end_time": "2023-11-25T17:23:34.516783400Z",
     "start_time": "2023-11-25T17:23:34.464597Z"
    }
   },
   "id": "6f34d562b0331d9e"
  },
  {
   "cell_type": "code",
   "execution_count": 48,
   "outputs": [],
   "source": [
    "df['rating'] = pd.to_numeric(df['rating']) #changing 'rating' dtype from object to numeric"
   ],
   "metadata": {
    "collapsed": false,
    "ExecuteTime": {
     "end_time": "2023-11-25T17:25:12.707374900Z",
     "start_time": "2023-11-25T17:25:12.628040300Z"
    }
   },
   "id": "60a8e399b363be2"
  },
  {
   "cell_type": "code",
   "execution_count": 49,
   "outputs": [
    {
     "data": {
      "text/plain": "location\nBTM                  3.296128\nBanashankari         3.373292\nBanaswadi            3.362926\nBannerghatta Road    3.271677\nBasavanagudi         3.478185\n                       ...   \nWest Bangalore       2.020000\nWhitefield           3.384170\nWilson Garden        3.257635\nYelahanka            3.640000\nYeshwantpur          3.502679\nName: rating, Length: 92, dtype: float64"
     },
     "execution_count": 49,
     "metadata": {},
     "output_type": "execute_result"
    }
   ],
   "source": [
    "df.groupby('location')['rating'].mean()"
   ],
   "metadata": {
    "collapsed": false,
    "ExecuteTime": {
     "end_time": "2023-11-25T17:25:41.551543100Z",
     "start_time": "2023-11-25T17:25:41.487225100Z"
    }
   },
   "id": "7010bdf13c87a4ba"
  },
  {
   "cell_type": "code",
   "execution_count": 50,
   "outputs": [
    {
     "data": {
      "text/plain": "location\nLavelle Road             4.042886\nSt. Marks Road           4.017201\nKoramangala 3rd Block    3.978756\nSankey Road              3.965385\nChurch Street            3.963091\n                           ...   \nElectronic City          3.041909\nBommanahalli             2.926752\nHebbal                   2.880000\nNorth Bangalore          2.385714\nWest Bangalore           2.020000\nName: rating, Length: 92, dtype: float64"
     },
     "execution_count": 50,
     "metadata": {},
     "output_type": "execute_result"
    }
   ],
   "source": [
    "df.groupby('location')['rating'].mean().sort_values(ascending=False)"
   ],
   "metadata": {
    "collapsed": false,
    "ExecuteTime": {
     "end_time": "2023-11-25T17:26:18.897849300Z",
     "start_time": "2023-11-25T17:26:18.787638500Z"
    }
   },
   "id": "c8ddb87c040893d"
  },
  {
   "cell_type": "code",
   "execution_count": 51,
   "outputs": [],
   "source": [
    "avg_rating=df.groupby('location')['rating'].mean().sort_values(ascending=False).values"
   ],
   "metadata": {
    "collapsed": false,
    "ExecuteTime": {
     "end_time": "2023-11-25T17:27:20.490040400Z",
     "start_time": "2023-11-25T17:27:20.418811400Z"
    }
   },
   "id": "90560f6aa7c0e893"
  },
  {
   "cell_type": "code",
   "execution_count": 52,
   "outputs": [],
   "source": [
    "location=df.groupby('location')['rating'].mean().sort_values(ascending=False).index"
   ],
   "metadata": {
    "collapsed": false,
    "ExecuteTime": {
     "end_time": "2023-11-25T17:27:55.889886Z",
     "start_time": "2023-11-25T17:27:55.811579800Z"
    }
   },
   "id": "2ffba06c73625bf7"
  },
  {
   "cell_type": "code",
   "execution_count": 53,
   "outputs": [
    {
     "data": {
      "text/plain": "Index(['Lavelle Road', 'St. Marks Road', 'Koramangala 3rd Block',\n       'Sankey Road', 'Church Street', 'Koramangala 5th Block',\n       'Cunningham Road', 'Rajarajeshwari Nagar', 'Residency Road',\n       'Sadashiv Nagar', 'Koramangala 4th Block', 'Langford Town',\n       'Infantry Road', 'Koramangala 7th Block', 'MG Road', 'Race Course Road',\n       'Kengeri', 'Seshadripuram', 'Richmond Road', 'Hosur Road',\n       'Malleshwaram', 'Koramangala 6th Block', 'Indiranagar', 'Yelahanka',\n       'Central Bangalore', 'Jayanagar', 'Koramangala 8th Block',\n       'Koramangala', 'Brigade Road', 'New BEL Road', 'Vasanth Nagar',\n       'Frazer Town', 'Koramangala 2nd Block', 'Ulsoor', 'Kalyan Nagar',\n       'Uttarahalli', 'Yeshwantpur', 'Kammanahalli', 'Shivajinagar',\n       'Jalahalli', 'HSR', 'Kanakapura Road', 'Sahakara Nagar', 'Basavanagudi',\n       'Kaggadasapura', 'Sarjapur Road', 'Mysore Road', 'City Market',\n       'Basaveshwara Nagar', 'Magadi Road', 'Jeevan Bhima Nagar',\n       'Rajajinagar', 'South Bangalore', 'JP Nagar', 'Marathahalli',\n       'Nagarbhavi', 'Old Airport Road', 'Domlur', 'Whitefield', 'Brookefield',\n       'Banashankari', 'Banaswadi', 'Sanjay Nagar', 'Nagawara', 'Shanti Nagar',\n       'ITPL Main Road, Whitefield', 'Kumaraswamy Layout', 'Bellandur',\n       'Varthur Main Road, Whitefield', 'BTM', 'Majestic', 'HBR Layout',\n       'RT Nagar', 'Bannerghatta Road', 'Koramangala 1st Block',\n       'Wilson Garden', 'Vijay Nagar', 'East Bangalore', 'KR Puram',\n       'CV Raman Nagar', 'Peenya', 'Old Madras Road', 'Commercial Street',\n       'Rammurthy Nagar', 'Thippasandra', 'Hennur', 'Ejipura',\n       'Electronic City', 'Bommanahalli', 'Hebbal', 'North Bangalore',\n       'West Bangalore'],\n      dtype='object', name='location')"
     },
     "execution_count": 53,
     "metadata": {},
     "output_type": "execute_result"
    }
   ],
   "source": [
    "location"
   ],
   "metadata": {
    "collapsed": false,
    "ExecuteTime": {
     "end_time": "2023-11-25T17:28:21.739106500Z",
     "start_time": "2023-11-25T17:28:21.663682100Z"
    }
   },
   "id": "6a2b6ffed71cd72c"
  },
  {
   "cell_type": "code",
   "execution_count": 54,
   "outputs": [],
   "source": [
    "# Creating new dataframe as 'rating'\n",
    "rating = pd.DataFrame()"
   ],
   "metadata": {
    "collapsed": false,
    "ExecuteTime": {
     "end_time": "2023-11-25T17:33:04.142130700Z",
     "start_time": "2023-11-25T17:33:04.088696500Z"
    }
   },
   "id": "4dae59180248dab4"
  },
  {
   "cell_type": "code",
   "execution_count": null,
   "outputs": [],
   "source": [],
   "metadata": {
    "collapsed": false
   },
   "id": "fbc42c122ab9ca2f"
  },
  {
   "cell_type": "code",
   "execution_count": 55,
   "outputs": [],
   "source": [
    "lat=[]\n",
    "lon=[]\n",
    "for loc in location:\n",
    "    loc=geolocator.geocode(loc)\n",
    "    if loc is None:\n",
    "        lat.append(np.nan)\n",
    "        lon.append(np.nan)\n",
    "    else:\n",
    "        lat.append(loc.latitude)\n",
    "        lon.append(loc.longitude)"
   ],
   "metadata": {
    "collapsed": false,
    "ExecuteTime": {
     "end_time": "2023-11-25T17:35:53.268631100Z",
     "start_time": "2023-11-25T17:35:07.578741Z"
    }
   },
   "id": "b068fdd52f0df5c2"
  },
  {
   "cell_type": "code",
   "execution_count": 63,
   "outputs": [],
   "source": [
    "rating = pd.DataFrame({\n",
    "    'location': location,\n",
    "    'lat': lat,\n",
    "    'lon': lon,\n",
    "    'avg_rating': avg_rating\n",
    "})"
   ],
   "metadata": {
    "collapsed": false,
    "ExecuteTime": {
     "end_time": "2023-11-25T19:45:00.250835700Z",
     "start_time": "2023-11-25T19:45:00.203417400Z"
    }
   },
   "id": "2c5319c3de5f06bd"
  },
  {
   "cell_type": "code",
   "execution_count": 64,
   "outputs": [
    {
     "data": {
      "text/plain": "                location        lat        lon  avg_rating\n0           Lavelle Road  40.771868 -76.370470    4.042886\n1         St. Marks Road  51.523848   0.559110    4.017201\n2  Koramangala 3rd Block  12.928292  77.625403    3.978756\n3            Sankey Road  52.699731  -2.018025    3.965385\n4          Church Street  52.984069  -6.050921    3.963091",
      "text/html": "<div>\n<style scoped>\n    .dataframe tbody tr th:only-of-type {\n        vertical-align: middle;\n    }\n\n    .dataframe tbody tr th {\n        vertical-align: top;\n    }\n\n    .dataframe thead th {\n        text-align: right;\n    }\n</style>\n<table border=\"1\" class=\"dataframe\">\n  <thead>\n    <tr style=\"text-align: right;\">\n      <th></th>\n      <th>location</th>\n      <th>lat</th>\n      <th>lon</th>\n      <th>avg_rating</th>\n    </tr>\n  </thead>\n  <tbody>\n    <tr>\n      <th>0</th>\n      <td>Lavelle Road</td>\n      <td>40.771868</td>\n      <td>-76.370470</td>\n      <td>4.042886</td>\n    </tr>\n    <tr>\n      <th>1</th>\n      <td>St. Marks Road</td>\n      <td>51.523848</td>\n      <td>0.559110</td>\n      <td>4.017201</td>\n    </tr>\n    <tr>\n      <th>2</th>\n      <td>Koramangala 3rd Block</td>\n      <td>12.928292</td>\n      <td>77.625403</td>\n      <td>3.978756</td>\n    </tr>\n    <tr>\n      <th>3</th>\n      <td>Sankey Road</td>\n      <td>52.699731</td>\n      <td>-2.018025</td>\n      <td>3.965385</td>\n    </tr>\n    <tr>\n      <th>4</th>\n      <td>Church Street</td>\n      <td>52.984069</td>\n      <td>-6.050921</td>\n      <td>3.963091</td>\n    </tr>\n  </tbody>\n</table>\n</div>"
     },
     "execution_count": 64,
     "metadata": {},
     "output_type": "execute_result"
    }
   ],
   "source": [
    "rating.head()"
   ],
   "metadata": {
    "collapsed": false,
    "ExecuteTime": {
     "end_time": "2023-11-25T19:45:11.914210700Z",
     "start_time": "2023-11-25T19:45:11.851346600Z"
    }
   },
   "id": "cc42c124937c1e6f"
  },
  {
   "cell_type": "code",
   "execution_count": 65,
   "outputs": [
    {
     "data": {
      "text/plain": "location      0\nlat           1\nlon           1\navg_rating    0\ndtype: int64"
     },
     "execution_count": 65,
     "metadata": {},
     "output_type": "execute_result"
    }
   ],
   "source": [
    "rating.isna().sum()"
   ],
   "metadata": {
    "collapsed": false,
    "ExecuteTime": {
     "end_time": "2023-11-25T19:54:50.428722400Z",
     "start_time": "2023-11-25T19:54:50.348321500Z"
    }
   },
   "id": "de53f18022bb52c9"
  },
  {
   "cell_type": "code",
   "execution_count": 66,
   "outputs": [],
   "source": [
    "rating.dropna(inplace=True)"
   ],
   "metadata": {
    "collapsed": false,
    "ExecuteTime": {
     "end_time": "2023-11-25T19:55:29.238522900Z",
     "start_time": "2023-11-25T19:55:29.115279Z"
    }
   },
   "id": "18f33a4ef71009dd"
  },
  {
   "cell_type": "code",
   "execution_count": 67,
   "outputs": [
    {
     "data": {
      "text/plain": "location      0\nlat           0\nlon           0\navg_rating    0\ndtype: int64"
     },
     "execution_count": 67,
     "metadata": {},
     "output_type": "execute_result"
    }
   ],
   "source": [
    "rating.isna().sum()"
   ],
   "metadata": {
    "collapsed": false,
    "ExecuteTime": {
     "end_time": "2023-11-25T19:55:52.006578400Z",
     "start_time": "2023-11-25T19:55:51.932386700Z"
    }
   },
   "id": "ec93e9c31e0ff4f7"
  },
  {
   "cell_type": "code",
   "execution_count": 68,
   "outputs": [],
   "source": [
    "rating.to_csv(os.path.join(path, 'Prepared Data', 'zomato_rating_locations_coordinates.csv'), index=False)"
   ],
   "metadata": {
    "collapsed": false,
    "ExecuteTime": {
     "end_time": "2023-11-25T19:58:23.887265500Z",
     "start_time": "2023-11-25T19:58:23.812117500Z"
    }
   },
   "id": "574d6862d088a8c9"
  },
  {
   "cell_type": "code",
   "execution_count": null,
   "outputs": [],
   "source": [],
   "metadata": {
    "collapsed": false
   },
   "id": "8b71fa5f645f3ad3"
  },
  {
   "cell_type": "code",
   "execution_count": 70,
   "outputs": [
    {
     "data": {
      "text/plain": "<folium.folium.Map at 0x2a8c25f5600>",
      "text/html": "<div style=\"width:100%;\"><div style=\"position:relative;width:100%;height:0;padding-bottom:60%;\"><span style=\"color:#565656\">Make this Notebook Trusted to load map: File -> Trust Notebook</span><iframe srcdoc=\"&lt;!DOCTYPE html&gt;\n&lt;html&gt;\n&lt;head&gt;\n    \n    &lt;meta http-equiv=&quot;content-type&quot; content=&quot;text/html; charset=UTF-8&quot; /&gt;\n    \n        &lt;script&gt;\n            L_NO_TOUCH = false;\n            L_DISABLE_3D = false;\n        &lt;/script&gt;\n    \n    &lt;style&gt;html, body {width: 100%;height: 100%;margin: 0;padding: 0;}&lt;/style&gt;\n    &lt;style&gt;#map {position:absolute;top:0;bottom:0;right:0;left:0;}&lt;/style&gt;\n    &lt;script src=&quot;https://cdn.jsdelivr.net/npm/leaflet@1.9.3/dist/leaflet.js&quot;&gt;&lt;/script&gt;\n    &lt;script src=&quot;https://code.jquery.com/jquery-3.7.1.min.js&quot;&gt;&lt;/script&gt;\n    &lt;script src=&quot;https://cdn.jsdelivr.net/npm/bootstrap@5.2.2/dist/js/bootstrap.bundle.min.js&quot;&gt;&lt;/script&gt;\n    &lt;script src=&quot;https://cdnjs.cloudflare.com/ajax/libs/Leaflet.awesome-markers/2.0.2/leaflet.awesome-markers.js&quot;&gt;&lt;/script&gt;\n    &lt;link rel=&quot;stylesheet&quot; href=&quot;https://cdn.jsdelivr.net/npm/leaflet@1.9.3/dist/leaflet.css&quot;/&gt;\n    &lt;link rel=&quot;stylesheet&quot; href=&quot;https://cdn.jsdelivr.net/npm/bootstrap@5.2.2/dist/css/bootstrap.min.css&quot;/&gt;\n    &lt;link rel=&quot;stylesheet&quot; href=&quot;https://netdna.bootstrapcdn.com/bootstrap/3.0.0/css/bootstrap.min.css&quot;/&gt;\n    &lt;link rel=&quot;stylesheet&quot; href=&quot;https://cdn.jsdelivr.net/npm/@fortawesome/fontawesome-free@6.2.0/css/all.min.css&quot;/&gt;\n    &lt;link rel=&quot;stylesheet&quot; href=&quot;https://cdnjs.cloudflare.com/ajax/libs/Leaflet.awesome-markers/2.0.2/leaflet.awesome-markers.css&quot;/&gt;\n    &lt;link rel=&quot;stylesheet&quot; href=&quot;https://cdn.jsdelivr.net/gh/python-visualization/folium/folium/templates/leaflet.awesome.rotate.min.css&quot;/&gt;\n    \n            &lt;meta name=&quot;viewport&quot; content=&quot;width=device-width,\n                initial-scale=1.0, maximum-scale=1.0, user-scalable=no&quot; /&gt;\n            &lt;style&gt;\n                #map_9f3bc7fb5f31c1861bf11c03ac694c71 {\n                    position: relative;\n                    width: 100.0%;\n                    height: 100.0%;\n                    left: 0.0%;\n                    top: 0.0%;\n                }\n                .leaflet-container { font-size: 1rem; }\n            &lt;/style&gt;\n        \n    &lt;script src=&quot;https://cdn.jsdelivr.net/gh/python-visualization/folium@main/folium/templates/leaflet_heat.min.js&quot;&gt;&lt;/script&gt;\n    &lt;script src=&quot;https://cdnjs.cloudflare.com/ajax/libs/leaflet.markercluster/1.1.0/leaflet.markercluster.js&quot;&gt;&lt;/script&gt;\n    &lt;link rel=&quot;stylesheet&quot; href=&quot;https://cdnjs.cloudflare.com/ajax/libs/leaflet.markercluster/1.1.0/MarkerCluster.css&quot;/&gt;\n    &lt;link rel=&quot;stylesheet&quot; href=&quot;https://cdnjs.cloudflare.com/ajax/libs/leaflet.markercluster/1.1.0/MarkerCluster.Default.css&quot;/&gt;\n&lt;/head&gt;\n&lt;body&gt;\n    \n    \n            &lt;div class=&quot;folium-map&quot; id=&quot;map_9f3bc7fb5f31c1861bf11c03ac694c71&quot; &gt;&lt;/div&gt;\n        \n&lt;/body&gt;\n&lt;script&gt;\n    \n    \n            var map_9f3bc7fb5f31c1861bf11c03ac694c71 = L.map(\n                &quot;map_9f3bc7fb5f31c1861bf11c03ac694c71&quot;,\n                {\n                    center: [12.97, 77.59],\n                    crs: L.CRS.EPSG3857,\n                    zoom: 12,\n                    zoomControl: true,\n                    preferCanvas: false,\n                }\n            );\n\n            \n\n        \n    \n            var tile_layer_c9d5f40028351c9388b96f8131ac34bc = L.tileLayer(\n                &quot;https://{s}.tile.openstreetmap.org/{z}/{x}/{y}.png&quot;,\n                {&quot;attribution&quot;: &quot;Data by \\u0026copy; \\u003ca target=\\&quot;_blank\\&quot; href=\\&quot;http://openstreetmap.org\\&quot;\\u003eOpenStreetMap\\u003c/a\\u003e, under \\u003ca target=\\&quot;_blank\\&quot; href=\\&quot;http://www.openstreetmap.org/copyright\\&quot;\\u003eODbL\\u003c/a\\u003e.&quot;, &quot;detectRetina&quot;: false, &quot;maxNativeZoom&quot;: 18, &quot;maxZoom&quot;: 18, &quot;minZoom&quot;: 0, &quot;noWrap&quot;: false, &quot;opacity&quot;: 1, &quot;subdomains&quot;: &quot;abc&quot;, &quot;tms&quot;: false}\n            );\n        \n    \n                tile_layer_c9d5f40028351c9388b96f8131ac34bc.addTo(map_9f3bc7fb5f31c1861bf11c03ac694c71);\n    \n            var heat_map_36a6ca2670f4ba50b08590725f98e73b = L.heatLayer(\n                [[12.911275849999999, 77.60456543431182, 5124.0], [29.1523467, 75.7245798, 2523.0], [12.9348429, 77.6189768, 2504.0], [12.2655944, 76.6465404, 2235.0], [53.5533682, -2.2969019, 2144.0], [12.9732913, 77.6404672, 2083.0], [12.9292731, 77.5824229, 1926.0], [12.9552572, 77.6984163, 1846.0], [12.8918931, 77.598608, 1630.0], [12.93103185, 77.6782471, 1286.0], [15.67509025, 73.81083634836561, 1258.0], [12.9277245, 77.6327822, 1238.0], [44.621621, -84.790422, 1218.0], [12.9364846, 77.6134783, 1181.0], [12.9390255, 77.6238477, 1156.0], [12.9238287, 77.6540991, 1065.0], [12.9778793, 77.6246697, 1023.0], [12.9327778, 77.6294052, 1017.0], [12.9755264, 77.6067902, 918.0], [15.8876779, 75.7046777, 906.0], [19.1602288, 76.2772822, 853.0], [40.5973154, -74.0929447, 812.0], [12.9986827, 77.615525, 727.0], [13.0027353, 77.5703253, 725.0], [12.9417261, 77.5755021, 684.0], [12.9660577, 77.5980135, 675.0], [13.0141618, 77.6518539, 664.0], [33.5935063, -79.0345627, 658.0], [13.0378334, 77.5652106, 649.0], [13.0093455, 77.6377094, 648.0], [12.9882338, 77.554883, 591.0], [52.984069, -6.0509213, 569.0], [40.7718677, -76.3704696, 529.0], [21.2742644, 79.4108959, 511.0], [18.532248199999998, 73.84990967997429, 499.0], [12.9624669, 77.6381958, 496.0], [34.05684, -81.091292, 491.0], [41.528338, -71.286422, 446.0], [12.945245, 77.6269144, 439.0], [51.5227907, -0.0775448, 370.0], [51.5238475, 0.5591096, 352.0], [12.9408685, 77.617338, 320.0], [12.988721250000001, 77.58516877601824, 295.0], [12.9678074, 77.6568367, 272.0], [12.9489339, 77.5968273, 246.0], [12.9089453, 77.6239038, 238.0], [12.9282918, 77.6254034, 216.0], [12.9081487, 77.5553179, 195.0], [12.973936, 77.6509982, 194.0], [12.9932236, 77.5391579, 191.0], [13.2227, 78.5541977, 187.0], [12.9931876, 77.5753419, 165.0], [13.0258087, 77.6305067, 161.0], [1.2847055, 103.84320655721689, 155.0], [13.0358698, 77.6323597, 153.0], [35.1463333, -111.688778, 151.0], [31.4343971, 73.081738, 139.0], [39.76880625, -86.15345077251979, 126.0], [13.02383, 77.5529215, 119.0], [12.9413238, 77.7471103, 117.0], [12.9768424, 77.7103746, 113.0], [52.49148485, 1.2372484335227272, 107.0], [12.9243692, 77.6242433, 102.0], [12.9224033, 77.6195407, 102.0], [12.9846713, 77.6790908, 101.0], [17.2510682, 80.1651978, 90.0], [6.9233338, 93.9046149, 80.0], [13.0227204, 77.595715, 80.0], [30.1915796, 74.9408769, 76.0], [15.8782951, 74.5084834, 63.0], [12.9950212, 77.5526703, 53.0], [12.9340114, 77.6222304, 48.0], [12.8504319, 77.6601401, 44.0], [16.3651178, 76.7808528, 38.0], [12.9756527, 77.5553548, 34.0], [12.957998, 77.6037312, 27.0], [52.6997314, -2.0180248, 27.0], [13.0076091, 77.6900228, 22.0], [12.9466619, 77.5300896, 22.0], [12.9366418, 77.5753914, 19.0], [13.007516, 77.695935, 18.0], [12.9055682, 77.5455438, 17.0], [13.0382184, 77.5919, 14.0], [12.9767936, 77.590082, 14.0], [12.9176571, 77.4837568, 9.0], [13.0138844, 77.5273194, 9.0], [12.9897994, 77.5717391, 8.0], [51.41300185, -1.3153145080163684, 6.0], [13.1006982, 77.5963454, 6.0], [13.0784743, 77.6068938, 3.0], [12.9274413, 77.5155224, 2.0], [13.0329419, 77.5273253, 1.0]],\n                {&quot;blur&quot;: 15, &quot;maxZoom&quot;: 18, &quot;minOpacity&quot;: 0.5, &quot;radius&quot;: 25, &quot;zoom&quot;: 20}\n            );\n        \n    \n                heat_map_36a6ca2670f4ba50b08590725f98e73b.addTo(map_9f3bc7fb5f31c1861bf11c03ac694c71);\n    \n            var fast_marker_cluster_57963da266ed0fe83ea19069bf7081af = (function(){\n                \n                var callback = function (row) {\n                    var icon = L.AwesomeMarkers.icon();\n                    var marker = L.marker(new L.LatLng(row[0], row[1]));\n                    marker.setIcon(icon);\n                    return marker;\n                };\n\n                var data = [[12.911275849999999, 77.60456543431182, 5124.0], [29.1523467, 75.7245798, 2523.0], [12.9348429, 77.6189768, 2504.0], [12.2655944, 76.6465404, 2235.0], [53.5533682, -2.2969019, 2144.0], [12.9732913, 77.6404672, 2083.0], [12.9292731, 77.5824229, 1926.0], [12.9552572, 77.6984163, 1846.0], [12.8918931, 77.598608, 1630.0], [12.93103185, 77.6782471, 1286.0], [15.67509025, 73.81083634836561, 1258.0], [12.9277245, 77.6327822, 1238.0], [44.621621, -84.790422, 1218.0], [12.9364846, 77.6134783, 1181.0], [12.9390255, 77.6238477, 1156.0], [12.9238287, 77.6540991, 1065.0], [12.9778793, 77.6246697, 1023.0], [12.9327778, 77.6294052, 1017.0], [12.9755264, 77.6067902, 918.0], [15.8876779, 75.7046777, 906.0], [19.1602288, 76.2772822, 853.0], [40.5973154, -74.0929447, 812.0], [12.9986827, 77.615525, 727.0], [13.0027353, 77.5703253, 725.0], [12.9417261, 77.5755021, 684.0], [12.9660577, 77.5980135, 675.0], [13.0141618, 77.6518539, 664.0], [33.5935063, -79.0345627, 658.0], [13.0378334, 77.5652106, 649.0], [13.0093455, 77.6377094, 648.0], [12.9882338, 77.554883, 591.0], [52.984069, -6.0509213, 569.0], [40.7718677, -76.3704696, 529.0], [21.2742644, 79.4108959, 511.0], [18.532248199999998, 73.84990967997429, 499.0], [12.9624669, 77.6381958, 496.0], [34.05684, -81.091292, 491.0], [41.528338, -71.286422, 446.0], [12.945245, 77.6269144, 439.0], [51.5227907, -0.0775448, 370.0], [51.5238475, 0.5591096, 352.0], [12.9408685, 77.617338, 320.0], [12.988721250000001, 77.58516877601824, 295.0], [12.9678074, 77.6568367, 272.0], [12.9489339, 77.5968273, 246.0], [12.9089453, 77.6239038, 238.0], [12.9282918, 77.6254034, 216.0], [12.9081487, 77.5553179, 195.0], [12.973936, 77.6509982, 194.0], [12.9932236, 77.5391579, 191.0], [13.2227, 78.5541977, 187.0], [12.9931876, 77.5753419, 165.0], [13.0258087, 77.6305067, 161.0], [1.2847055, 103.84320655721689, 155.0], [13.0358698, 77.6323597, 153.0], [35.1463333, -111.688778, 151.0], [31.4343971, 73.081738, 139.0], [39.76880625, -86.15345077251979, 126.0], [13.02383, 77.5529215, 119.0], [12.9413238, 77.7471103, 117.0], [12.9768424, 77.7103746, 113.0], [52.49148485, 1.2372484335227272, 107.0], [12.9243692, 77.6242433, 102.0], [12.9224033, 77.6195407, 102.0], [12.9846713, 77.6790908, 101.0], [17.2510682, 80.1651978, 90.0], [6.9233338, 93.9046149, 80.0], [13.0227204, 77.595715, 80.0], [30.1915796, 74.9408769, 76.0], [15.8782951, 74.5084834, 63.0], [12.9950212, 77.5526703, 53.0], [12.9340114, 77.6222304, 48.0], [12.8504319, 77.6601401, 44.0], [16.3651178, 76.7808528, 38.0], [12.9756527, 77.5553548, 34.0], [12.957998, 77.6037312, 27.0], [52.6997314, -2.0180248, 27.0], [13.0076091, 77.6900228, 22.0], [12.9466619, 77.5300896, 22.0], [12.9366418, 77.5753914, 19.0], [13.007516, 77.695935, 18.0], [12.9055682, 77.5455438, 17.0], [13.0382184, 77.5919, 14.0], [12.9767936, 77.590082, 14.0], [12.9176571, 77.4837568, 9.0], [13.0138844, 77.5273194, 9.0], [12.9897994, 77.5717391, 8.0], [51.41300185, -1.3153145080163684, 6.0], [13.1006982, 77.5963454, 6.0], [13.0784743, 77.6068938, 3.0], [12.9274413, 77.5155224, 2.0], [13.0329419, 77.5273253, 1.0]];\n                var cluster = L.markerClusterGroup({&quot;zoom&quot;: 20});\n\n                for (var i = 0; i &lt; data.length; i++) {\n                    var row = data[i];\n                    var marker = callback(row);\n                    marker.addTo(cluster);\n                }\n\n                cluster.addTo(map_9f3bc7fb5f31c1861bf11c03ac694c71);\n                return cluster;\n            })();\n        \n    \n                fast_marker_cluster_57963da266ed0fe83ea19069bf7081af.addTo(map_9f3bc7fb5f31c1861bf11c03ac694c71);\n    \n            var heat_map_818772bb123fc3ab865907df64bb2738 = L.heatLayer(\n                [[40.7718677, -76.3704696, 4.042885771543086], [51.5238475, 0.5591096, 4.017201166180758], [12.9282918, 77.6254034, 3.978756476683938], [52.6997314, -2.0180248, 3.965384615384615], [52.984069, -6.0509213, 3.9630909090909086], [12.9348429, 77.6189768, 3.901511969760605], [34.05684, -81.091292, 3.9010526315789473], [12.9274413, 77.5155224, 3.85], [12.9660577, 77.5980135, 3.8445723684210527], [15.8782951, 74.5084834, 3.839655172413793], [12.9327778, 77.6294052, 3.8143518518518515], [12.957998, 77.6037312, 3.8074074074074074], [35.1463333, -111.688778, 3.7964285714285713], [12.9364846, 77.6134783, 3.7478420569329662], [12.9755264, 77.6067902, 3.74055023923445], [31.4343971, 73.081738, 3.727007299270073], [12.9176571, 77.4837568, 3.7222222222222223], [12.9931876, 77.5753419, 3.704929577464789], [40.5973154, -74.0929447, 3.6880126182965296], [12.9224033, 77.6195407, 3.6878378378378374], [13.0027353, 77.5703253, 3.668237082066869], [12.9390255, 77.6238477, 3.6624662466246622], [12.9732913, 77.6404672, 3.6521694214876037], [13.1006982, 77.5963454, 3.6399999999999997], [12.9897994, 77.5717391, 3.625], [12.9292731, 77.5824229, 3.6152502910360886], [12.9408685, 77.617338, 3.6075], [12.9340114, 77.6222304, 3.606451612903226], [44.621621, -84.790422, 3.595848708487085], [13.0378334, 77.5652106, 3.5831739961759084], [12.988721250000001, 77.58516877601824, 3.5809523809523807], [12.9986827, 77.615525, 3.564878892733564], [12.9243692, 77.6242433, 3.5456521739130435], [12.9778793, 77.6246697, 3.5413984461709216], [19.1602288, 76.2772822, 3.529144385026738], [12.9055682, 77.5455438, 3.511111111111111], [13.02383, 77.5529215, 3.5026785714285715], [13.0093455, 77.6377094, 3.499809523809524], [18.532248199999998, 73.84990967997429, 3.4989169675090253], [16.3651178, 76.7808528, 3.4869565217391307], [29.1523467, 75.7245798, 3.4840695488721805], [12.9366418, 77.5753914, 3.478947368421052], [12.9950212, 77.5526703, 3.478723404255319], [12.9417261, 77.5755021, 3.4781847133757964], [12.9846713, 77.6790908, 3.4736263736263737], [12.9238287, 77.6540991, 3.4735582154515776], [12.9466619, 77.5300896, 3.4555555555555557], [39.76880625, -86.15345077251979, 3.4461538461538463], [12.9932236, 77.5391579, 3.4455172413793105], [12.9756527, 77.5553548, 3.4375], [12.9678074, 77.6568367, 3.429770992366412], [12.9882338, 77.554883, 3.422381930184805], [52.49148485, 1.2372484335227272, 3.4197802197802196], [12.2655944, 76.6465404, 3.4129259058950785], [12.9552572, 77.6984163, 3.4005322687957418], [13.0138844, 77.5273194, 3.4], [41.528338, -71.286422, 3.389119170984456], [12.9624669, 77.6381958, 3.385547785547786], [53.5533682, -2.2969019, 3.384170112226816], [33.5935063, -79.0345627, 3.374698795180723], [15.8876779, 75.7046777, 3.3732919254658387], [13.0141618, 77.6518539, 3.3629258517034066], [30.1915796, 74.9408769, 3.36], [13.2227, 78.5541977, 3.3333333333333335], [21.2742644, 79.4108959, 3.3235897435897437], [12.9768424, 77.7103746, 3.320238095238095], [12.9081487, 77.5553179, 3.320238095238095], [12.93103185, 77.6782471, 3.3098330241187384], [12.9413238, 77.7471103, 3.2989247311827956], [12.911275849999999, 77.60456543431182, 3.2961276695611357], [1.2847055, 103.84320655721689, 3.2940677966101695], [13.0358698, 77.6323597, 3.279279279279279], [13.0227204, 77.595715, 3.278125], [12.8918931, 77.598608, 3.2716767371601208], [12.9277245, 77.6327822, 3.2639378238341967], [12.9489339, 77.5968273, 3.2576354679802955], [6.9233338, 93.9046149, 3.249295774647887], [12.8504319, 77.6601401, 3.243333333333333], [13.007516, 77.695935, 3.2181818181818183], [17.2510682, 80.1651978, 3.215151515151515], [13.0329419, 77.5273253, 3.2], [13.0076091, 77.6900228, 3.1818181818181817], [51.5227907, -0.0775448, 3.1097087378640778], [12.973936, 77.6509982, 3.0953947368421053], [13.0258087, 77.6305067, 3.0938931297709926], [12.945245, 77.6269144, 3.05472972972973], [15.67509025, 73.81083634836561, 3.0419087136929464], [12.9089453, 77.6239038, 2.926751592356688], [13.0382184, 77.5919, 2.88], [12.9767936, 77.590082, 2.3857142857142857], [51.41300185, -1.3153145080163684, 2.02]],\n                {&quot;blur&quot;: 15, &quot;maxZoom&quot;: 18, &quot;minOpacity&quot;: 0.5, &quot;radius&quot;: 25}\n            );\n        \n    \n                heat_map_818772bb123fc3ab865907df64bb2738.addTo(map_9f3bc7fb5f31c1861bf11c03ac694c71);\n    \n            var heat_map_982ff2aefbb18941b54fddec22957d03 = L.heatLayer(\n                [[40.7718677, -76.3704696, 4.042885771543086], [51.5238475, 0.5591096, 4.017201166180758], [12.9282918, 77.6254034, 3.978756476683938], [52.6997314, -2.0180248, 3.965384615384615], [52.984069, -6.0509213, 3.9630909090909086], [12.9348429, 77.6189768, 3.901511969760605], [34.05684, -81.091292, 3.9010526315789473], [12.9274413, 77.5155224, 3.85], [12.9660577, 77.5980135, 3.8445723684210527], [15.8782951, 74.5084834, 3.839655172413793], [12.9327778, 77.6294052, 3.8143518518518515], [12.957998, 77.6037312, 3.8074074074074074], [35.1463333, -111.688778, 3.7964285714285713], [12.9364846, 77.6134783, 3.7478420569329662], [12.9755264, 77.6067902, 3.74055023923445], [31.4343971, 73.081738, 3.727007299270073], [12.9176571, 77.4837568, 3.7222222222222223], [12.9931876, 77.5753419, 3.704929577464789], [40.5973154, -74.0929447, 3.6880126182965296], [12.9224033, 77.6195407, 3.6878378378378374], [13.0027353, 77.5703253, 3.668237082066869], [12.9390255, 77.6238477, 3.6624662466246622], [12.9732913, 77.6404672, 3.6521694214876037], [13.1006982, 77.5963454, 3.6399999999999997], [12.9897994, 77.5717391, 3.625], [12.9292731, 77.5824229, 3.6152502910360886], [12.9408685, 77.617338, 3.6075], [12.9340114, 77.6222304, 3.606451612903226], [44.621621, -84.790422, 3.595848708487085], [13.0378334, 77.5652106, 3.5831739961759084], [12.988721250000001, 77.58516877601824, 3.5809523809523807], [12.9986827, 77.615525, 3.564878892733564], [12.9243692, 77.6242433, 3.5456521739130435], [12.9778793, 77.6246697, 3.5413984461709216], [19.1602288, 76.2772822, 3.529144385026738], [12.9055682, 77.5455438, 3.511111111111111], [13.02383, 77.5529215, 3.5026785714285715], [13.0093455, 77.6377094, 3.499809523809524], [18.532248199999998, 73.84990967997429, 3.4989169675090253], [16.3651178, 76.7808528, 3.4869565217391307], [29.1523467, 75.7245798, 3.4840695488721805], [12.9366418, 77.5753914, 3.478947368421052], [12.9950212, 77.5526703, 3.478723404255319], [12.9417261, 77.5755021, 3.4781847133757964], [12.9846713, 77.6790908, 3.4736263736263737], [12.9238287, 77.6540991, 3.4735582154515776], [12.9466619, 77.5300896, 3.4555555555555557], [39.76880625, -86.15345077251979, 3.4461538461538463], [12.9932236, 77.5391579, 3.4455172413793105], [12.9756527, 77.5553548, 3.4375], [12.9678074, 77.6568367, 3.429770992366412], [12.9882338, 77.554883, 3.422381930184805], [52.49148485, 1.2372484335227272, 3.4197802197802196], [12.2655944, 76.6465404, 3.4129259058950785], [12.9552572, 77.6984163, 3.4005322687957418], [13.0138844, 77.5273194, 3.4], [41.528338, -71.286422, 3.389119170984456], [12.9624669, 77.6381958, 3.385547785547786], [53.5533682, -2.2969019, 3.384170112226816], [33.5935063, -79.0345627, 3.374698795180723], [15.8876779, 75.7046777, 3.3732919254658387], [13.0141618, 77.6518539, 3.3629258517034066], [30.1915796, 74.9408769, 3.36], [13.2227, 78.5541977, 3.3333333333333335], [21.2742644, 79.4108959, 3.3235897435897437], [12.9768424, 77.7103746, 3.320238095238095], [12.9081487, 77.5553179, 3.320238095238095], [12.93103185, 77.6782471, 3.3098330241187384], [12.9413238, 77.7471103, 3.2989247311827956], [12.911275849999999, 77.60456543431182, 3.2961276695611357], [1.2847055, 103.84320655721689, 3.2940677966101695], [13.0358698, 77.6323597, 3.279279279279279], [13.0227204, 77.595715, 3.278125], [12.8918931, 77.598608, 3.2716767371601208], [12.9277245, 77.6327822, 3.2639378238341967], [12.9489339, 77.5968273, 3.2576354679802955], [6.9233338, 93.9046149, 3.249295774647887], [12.8504319, 77.6601401, 3.243333333333333], [13.007516, 77.695935, 3.2181818181818183], [17.2510682, 80.1651978, 3.215151515151515], [13.0329419, 77.5273253, 3.2], [13.0076091, 77.6900228, 3.1818181818181817], [51.5227907, -0.0775448, 3.1097087378640778], [12.973936, 77.6509982, 3.0953947368421053], [13.0258087, 77.6305067, 3.0938931297709926], [12.945245, 77.6269144, 3.05472972972973], [15.67509025, 73.81083634836561, 3.0419087136929464], [12.9089453, 77.6239038, 2.926751592356688], [13.0382184, 77.5919, 2.88], [12.9767936, 77.590082, 2.3857142857142857], [51.41300185, -1.3153145080163684, 2.02]],\n                {&quot;blur&quot;: 15, &quot;maxZoom&quot;: 18, &quot;minOpacity&quot;: 0.5, &quot;radius&quot;: 25}\n            );\n        \n    \n                heat_map_982ff2aefbb18941b54fddec22957d03.addTo(map_9f3bc7fb5f31c1861bf11c03ac694c71);\n&lt;/script&gt;\n&lt;/html&gt;\" style=\"position:absolute;width:100%;height:100%;left:0;top:0;border:none !important;\" allowfullscreen webkitallowfullscreen mozallowfullscreen></iframe></div></div>"
     },
     "execution_count": 70,
     "metadata": {},
     "output_type": "execute_result"
    }
   ],
   "source": [
    "HeatMap(rating[['lat','lon','avg_rating']]).add_to(basemap)\n",
    "basemap"
   ],
   "metadata": {
    "collapsed": false,
    "ExecuteTime": {
     "end_time": "2023-11-25T20:01:15.107565200Z",
     "start_time": "2023-11-25T20:01:15.025237300Z"
    }
   },
   "id": "db0b199854071de0"
  },
  {
   "cell_type": "markdown",
   "source": [
    "The zone with the largest red color has the highest restaurants with the highest ratings."
   ],
   "metadata": {
    "collapsed": false
   },
   "id": "fea3828e9ad51c22"
  },
  {
   "cell_type": "code",
   "execution_count": null,
   "outputs": [],
   "source": [],
   "metadata": {
    "collapsed": false
   },
   "id": "14156f5b9f4e7d0b"
  },
  {
   "cell_type": "markdown",
   "source": [
    "Analysing Heat maps of a type of cuisine in a particular zone."
   ],
   "metadata": {
    "collapsed": false
   },
   "id": "dadeb032aaa88fb"
  },
  {
   "cell_type": "code",
   "execution_count": null,
   "outputs": [],
   "source": [],
   "metadata": {
    "collapsed": false
   },
   "id": "267d2c349d3603dd"
  },
  {
   "cell_type": "code",
   "execution_count": 71,
   "outputs": [
    {
     "data": {
      "text/plain": "                                                 url  \\\n0  https://www.zomato.com/bangalore/jalsa-banasha...   \n1  https://www.zomato.com/bangalore/spice-elephan...   \n2  https://www.zomato.com/SanchurroBangalore?cont...   \n3  https://www.zomato.com/bangalore/addhuri-udupi...   \n4  https://www.zomato.com/bangalore/grand-village...   \n\n                                             address                   name  \\\n0  942, 21st Main Road, 2nd Stage, Banashankari, ...                  Jalsa   \n1  2nd Floor, 80 Feet Road, Near Big Bazaar, 6th ...         Spice Elephant   \n2  1112, Next to KIMS Medical College, 17th Cross...        San Churro Cafe   \n3  1st Floor, Annakuteera, 3rd Stage, Banashankar...  Addhuri Udupi Bhojana   \n4  10, 3rd Floor, Lakshmi Associates, Gandhi Baza...          Grand Village   \n\n  online_order book_table   rate  votes                             phone  \\\n0          Yes        Yes  4.1/5    775    080 42297555\\r\\n+91 9743772233   \n1          Yes         No  4.1/5    787                      080 41714161   \n2          Yes         No  3.8/5    918                    +91 9663487993   \n3           No         No  3.7/5     88                    +91 9620009302   \n4           No         No  3.8/5    166  +91 8026612447\\r\\n+91 9901210005   \n\n       location            rest_type  \\\n0  Banashankari        Casual Dining   \n1  Banashankari        Casual Dining   \n2  Banashankari  Cafe, Casual Dining   \n3  Banashankari          Quick Bites   \n4  Basavanagudi        Casual Dining   \n\n                                          dish_liked  \\\n0  Pasta, Lunch Buffet, Masala Papad, Paneer Laja...   \n1  Momos, Lunch Buffet, Chocolate Nirvana, Thai G...   \n2  Churros, Cannelloni, Minestrone Soup, Hot Choc...   \n3                                        Masala Dosa   \n4                                Panipuri, Gol Gappe   \n\n                         cuisines approx_cost(for two people)  \\\n0  North Indian, Mughlai, Chinese                         800   \n1     Chinese, North Indian, Thai                         800   \n2          Cafe, Mexican, Italian                         800   \n3      South Indian, North Indian                         300   \n4        North Indian, Rajasthani                         600   \n\n                                        reviews_list menu_item  \\\n0  [('Rated 4.0', 'RATED\\n  A beautiful place to ...        []   \n1  [('Rated 4.0', 'RATED\\n  Had been here for din...        []   \n2  [('Rated 3.0', \"RATED\\n  Ambience is not that ...        []   \n3  [('Rated 4.0', \"RATED\\n  Great food and proper...        []   \n4  [('Rated 4.0', 'RATED\\n  Very good restaurant ...        []   \n\n  listed_in(type) listed_in(city)  rating  \n0          Buffet    Banashankari     4.1  \n1          Buffet    Banashankari     4.1  \n2          Buffet    Banashankari     3.8  \n3          Buffet    Banashankari     3.7  \n4          Buffet    Banashankari     3.8  ",
      "text/html": "<div>\n<style scoped>\n    .dataframe tbody tr th:only-of-type {\n        vertical-align: middle;\n    }\n\n    .dataframe tbody tr th {\n        vertical-align: top;\n    }\n\n    .dataframe thead th {\n        text-align: right;\n    }\n</style>\n<table border=\"1\" class=\"dataframe\">\n  <thead>\n    <tr style=\"text-align: right;\">\n      <th></th>\n      <th>url</th>\n      <th>address</th>\n      <th>name</th>\n      <th>online_order</th>\n      <th>book_table</th>\n      <th>rate</th>\n      <th>votes</th>\n      <th>phone</th>\n      <th>location</th>\n      <th>rest_type</th>\n      <th>dish_liked</th>\n      <th>cuisines</th>\n      <th>approx_cost(for two people)</th>\n      <th>reviews_list</th>\n      <th>menu_item</th>\n      <th>listed_in(type)</th>\n      <th>listed_in(city)</th>\n      <th>rating</th>\n    </tr>\n  </thead>\n  <tbody>\n    <tr>\n      <th>0</th>\n      <td>https://www.zomato.com/bangalore/jalsa-banasha...</td>\n      <td>942, 21st Main Road, 2nd Stage, Banashankari, ...</td>\n      <td>Jalsa</td>\n      <td>Yes</td>\n      <td>Yes</td>\n      <td>4.1/5</td>\n      <td>775</td>\n      <td>080 42297555\\r\\n+91 9743772233</td>\n      <td>Banashankari</td>\n      <td>Casual Dining</td>\n      <td>Pasta, Lunch Buffet, Masala Papad, Paneer Laja...</td>\n      <td>North Indian, Mughlai, Chinese</td>\n      <td>800</td>\n      <td>[('Rated 4.0', 'RATED\\n  A beautiful place to ...</td>\n      <td>[]</td>\n      <td>Buffet</td>\n      <td>Banashankari</td>\n      <td>4.1</td>\n    </tr>\n    <tr>\n      <th>1</th>\n      <td>https://www.zomato.com/bangalore/spice-elephan...</td>\n      <td>2nd Floor, 80 Feet Road, Near Big Bazaar, 6th ...</td>\n      <td>Spice Elephant</td>\n      <td>Yes</td>\n      <td>No</td>\n      <td>4.1/5</td>\n      <td>787</td>\n      <td>080 41714161</td>\n      <td>Banashankari</td>\n      <td>Casual Dining</td>\n      <td>Momos, Lunch Buffet, Chocolate Nirvana, Thai G...</td>\n      <td>Chinese, North Indian, Thai</td>\n      <td>800</td>\n      <td>[('Rated 4.0', 'RATED\\n  Had been here for din...</td>\n      <td>[]</td>\n      <td>Buffet</td>\n      <td>Banashankari</td>\n      <td>4.1</td>\n    </tr>\n    <tr>\n      <th>2</th>\n      <td>https://www.zomato.com/SanchurroBangalore?cont...</td>\n      <td>1112, Next to KIMS Medical College, 17th Cross...</td>\n      <td>San Churro Cafe</td>\n      <td>Yes</td>\n      <td>No</td>\n      <td>3.8/5</td>\n      <td>918</td>\n      <td>+91 9663487993</td>\n      <td>Banashankari</td>\n      <td>Cafe, Casual Dining</td>\n      <td>Churros, Cannelloni, Minestrone Soup, Hot Choc...</td>\n      <td>Cafe, Mexican, Italian</td>\n      <td>800</td>\n      <td>[('Rated 3.0', \"RATED\\n  Ambience is not that ...</td>\n      <td>[]</td>\n      <td>Buffet</td>\n      <td>Banashankari</td>\n      <td>3.8</td>\n    </tr>\n    <tr>\n      <th>3</th>\n      <td>https://www.zomato.com/bangalore/addhuri-udupi...</td>\n      <td>1st Floor, Annakuteera, 3rd Stage, Banashankar...</td>\n      <td>Addhuri Udupi Bhojana</td>\n      <td>No</td>\n      <td>No</td>\n      <td>3.7/5</td>\n      <td>88</td>\n      <td>+91 9620009302</td>\n      <td>Banashankari</td>\n      <td>Quick Bites</td>\n      <td>Masala Dosa</td>\n      <td>South Indian, North Indian</td>\n      <td>300</td>\n      <td>[('Rated 4.0', \"RATED\\n  Great food and proper...</td>\n      <td>[]</td>\n      <td>Buffet</td>\n      <td>Banashankari</td>\n      <td>3.7</td>\n    </tr>\n    <tr>\n      <th>4</th>\n      <td>https://www.zomato.com/bangalore/grand-village...</td>\n      <td>10, 3rd Floor, Lakshmi Associates, Gandhi Baza...</td>\n      <td>Grand Village</td>\n      <td>No</td>\n      <td>No</td>\n      <td>3.8/5</td>\n      <td>166</td>\n      <td>+91 8026612447\\r\\n+91 9901210005</td>\n      <td>Basavanagudi</td>\n      <td>Casual Dining</td>\n      <td>Panipuri, Gol Gappe</td>\n      <td>North Indian, Rajasthani</td>\n      <td>600</td>\n      <td>[('Rated 4.0', 'RATED\\n  Very good restaurant ...</td>\n      <td>[]</td>\n      <td>Buffet</td>\n      <td>Banashankari</td>\n      <td>3.8</td>\n    </tr>\n  </tbody>\n</table>\n</div>"
     },
     "execution_count": 71,
     "metadata": {},
     "output_type": "execute_result"
    }
   ],
   "source": [
    "df.head()"
   ],
   "metadata": {
    "collapsed": false,
    "ExecuteTime": {
     "end_time": "2023-11-25T20:02:52.535542300Z",
     "start_time": "2023-11-25T20:02:52.449407800Z"
    }
   },
   "id": "731a4bf8ec3c0670"
  },
  {
   "cell_type": "code",
   "execution_count": null,
   "outputs": [],
   "source": [],
   "metadata": {
    "collapsed": false
   },
   "id": "2367b7d68694142"
  },
  {
   "cell_type": "code",
   "execution_count": 74,
   "outputs": [
    {
     "data": {
      "text/plain": "                                                  url  \\\n5   https://www.zomato.com/bangalore/timepass-dinn...   \n50  https://www.zomato.com/bangalore/petoo-banasha...   \n72  https://www.zomato.com/bangalore/spicy-tandoor...   \n87  https://www.zomato.com/bangalore/krishna-sagar...   \n94  https://www.zomato.com/bangalore/nandhini-delu...   \n\n                                              address             name  \\\n5   37, 5-1, 4th Floor, Bosco Court, Gandhi Bazaar...  Timepass Dinner   \n50  276, Ground Floor, 100 Feet Outer Ring Road, B...            Petoo   \n72  Opposite ICICi Bank, Hanuman Nagar, Banashanka...    Spicy Tandoor   \n87  38, 22nd Main, 22nd Cross, Opposite BDA, 2nd S...    Krishna Sagar   \n94  304, Opposite Apollo Public School, 100 Feet R...  Nandhini Deluxe   \n\n   online_order book_table   rate  votes                             phone  \\\n5           Yes         No  3.8/5    286  +91 9980040002\\r\\n+91 9980063005   \n50           No         No  3.7/5     21                    +91 8026893211   \n72           No         No      0      0                    +91 8050884222   \n87           No         No  3.5/5     31  +91 8892752997\\r\\n+91 7204780429   \n94           No         No  2.6/5    283      080 26890011\\r\\n080 26890033   \n\n        location      rest_type  \\\n5   Basavanagudi  Casual Dining   \n50  Banashankari    Quick Bites   \n72  Banashankari    Quick Bites   \n87  Banashankari    Quick Bites   \n94  Banashankari  Casual Dining   \n\n                                           dish_liked      cuisines  \\\n5   Onion Rings, Pasta, Kadhai Paneer, Salads, Sal...  North Indian   \n50                                                NaN  North Indian   \n72                                                NaN  North Indian   \n87                                                NaN  North Indian   \n94  Biryani, Chicken Guntur, Thali, Buttermilk, Ma...  North Indian   \n\n   approx_cost(for two people)  \\\n5                          600   \n50                         450   \n72                         150   \n87                         200   \n94                         600   \n\n                                         reviews_list menu_item  \\\n5   [('Rated 3.0', 'RATED\\n  Food 3/5\\nAmbience 3/...        []   \n50  [('Rated 2.0', 'RATED\\n  This is a neatly made...        []   \n72  [('Rated 4.0', 'RATED\\n  cost for chicken roll...        []   \n87  [('Rated 1.0', 'RATED\\n  Worst experience with...        []   \n94  [('Rated 3.0', 'RATED\\n  Ididnt like much.\\n\\n...        []   \n\n   listed_in(type) listed_in(city)  rating  \n5           Buffet    Banashankari     3.8  \n50        Delivery    Banashankari     3.7  \n72        Delivery    Banashankari     0.0  \n87        Delivery    Banashankari     3.5  \n94        Delivery    Banashankari     2.6  ",
      "text/html": "<div>\n<style scoped>\n    .dataframe tbody tr th:only-of-type {\n        vertical-align: middle;\n    }\n\n    .dataframe tbody tr th {\n        vertical-align: top;\n    }\n\n    .dataframe thead th {\n        text-align: right;\n    }\n</style>\n<table border=\"1\" class=\"dataframe\">\n  <thead>\n    <tr style=\"text-align: right;\">\n      <th></th>\n      <th>url</th>\n      <th>address</th>\n      <th>name</th>\n      <th>online_order</th>\n      <th>book_table</th>\n      <th>rate</th>\n      <th>votes</th>\n      <th>phone</th>\n      <th>location</th>\n      <th>rest_type</th>\n      <th>dish_liked</th>\n      <th>cuisines</th>\n      <th>approx_cost(for two people)</th>\n      <th>reviews_list</th>\n      <th>menu_item</th>\n      <th>listed_in(type)</th>\n      <th>listed_in(city)</th>\n      <th>rating</th>\n    </tr>\n  </thead>\n  <tbody>\n    <tr>\n      <th>5</th>\n      <td>https://www.zomato.com/bangalore/timepass-dinn...</td>\n      <td>37, 5-1, 4th Floor, Bosco Court, Gandhi Bazaar...</td>\n      <td>Timepass Dinner</td>\n      <td>Yes</td>\n      <td>No</td>\n      <td>3.8/5</td>\n      <td>286</td>\n      <td>+91 9980040002\\r\\n+91 9980063005</td>\n      <td>Basavanagudi</td>\n      <td>Casual Dining</td>\n      <td>Onion Rings, Pasta, Kadhai Paneer, Salads, Sal...</td>\n      <td>North Indian</td>\n      <td>600</td>\n      <td>[('Rated 3.0', 'RATED\\n  Food 3/5\\nAmbience 3/...</td>\n      <td>[]</td>\n      <td>Buffet</td>\n      <td>Banashankari</td>\n      <td>3.8</td>\n    </tr>\n    <tr>\n      <th>50</th>\n      <td>https://www.zomato.com/bangalore/petoo-banasha...</td>\n      <td>276, Ground Floor, 100 Feet Outer Ring Road, B...</td>\n      <td>Petoo</td>\n      <td>No</td>\n      <td>No</td>\n      <td>3.7/5</td>\n      <td>21</td>\n      <td>+91 8026893211</td>\n      <td>Banashankari</td>\n      <td>Quick Bites</td>\n      <td>NaN</td>\n      <td>North Indian</td>\n      <td>450</td>\n      <td>[('Rated 2.0', 'RATED\\n  This is a neatly made...</td>\n      <td>[]</td>\n      <td>Delivery</td>\n      <td>Banashankari</td>\n      <td>3.7</td>\n    </tr>\n    <tr>\n      <th>72</th>\n      <td>https://www.zomato.com/bangalore/spicy-tandoor...</td>\n      <td>Opposite ICICi Bank, Hanuman Nagar, Banashanka...</td>\n      <td>Spicy Tandoor</td>\n      <td>No</td>\n      <td>No</td>\n      <td>0</td>\n      <td>0</td>\n      <td>+91 8050884222</td>\n      <td>Banashankari</td>\n      <td>Quick Bites</td>\n      <td>NaN</td>\n      <td>North Indian</td>\n      <td>150</td>\n      <td>[('Rated 4.0', 'RATED\\n  cost for chicken roll...</td>\n      <td>[]</td>\n      <td>Delivery</td>\n      <td>Banashankari</td>\n      <td>0.0</td>\n    </tr>\n    <tr>\n      <th>87</th>\n      <td>https://www.zomato.com/bangalore/krishna-sagar...</td>\n      <td>38, 22nd Main, 22nd Cross, Opposite BDA, 2nd S...</td>\n      <td>Krishna Sagar</td>\n      <td>No</td>\n      <td>No</td>\n      <td>3.5/5</td>\n      <td>31</td>\n      <td>+91 8892752997\\r\\n+91 7204780429</td>\n      <td>Banashankari</td>\n      <td>Quick Bites</td>\n      <td>NaN</td>\n      <td>North Indian</td>\n      <td>200</td>\n      <td>[('Rated 1.0', 'RATED\\n  Worst experience with...</td>\n      <td>[]</td>\n      <td>Delivery</td>\n      <td>Banashankari</td>\n      <td>3.5</td>\n    </tr>\n    <tr>\n      <th>94</th>\n      <td>https://www.zomato.com/bangalore/nandhini-delu...</td>\n      <td>304, Opposite Apollo Public School, 100 Feet R...</td>\n      <td>Nandhini Deluxe</td>\n      <td>No</td>\n      <td>No</td>\n      <td>2.6/5</td>\n      <td>283</td>\n      <td>080 26890011\\r\\n080 26890033</td>\n      <td>Banashankari</td>\n      <td>Casual Dining</td>\n      <td>Biryani, Chicken Guntur, Thali, Buttermilk, Ma...</td>\n      <td>North Indian</td>\n      <td>600</td>\n      <td>[('Rated 3.0', 'RATED\\n  Ididnt like much.\\n\\n...</td>\n      <td>[]</td>\n      <td>Delivery</td>\n      <td>Banashankari</td>\n      <td>2.6</td>\n    </tr>\n  </tbody>\n</table>\n</div>"
     },
     "execution_count": 74,
     "metadata": {},
     "output_type": "execute_result"
    }
   ],
   "source": [
    "filter = df['cuisines'] == \"North Indian\"\n",
    "df2 = df[filter]\n",
    "df2.head()"
   ],
   "metadata": {
    "collapsed": false,
    "ExecuteTime": {
     "end_time": "2023-11-25T20:04:05.929505400Z",
     "start_time": "2023-11-25T20:04:05.849656300Z"
    }
   },
   "id": "26b1cdba438ce81f"
  },
  {
   "cell_type": "code",
   "execution_count": 76,
   "outputs": [
    {
     "data": {
      "text/plain": "                         location  url\n0                             BTM  274\n1                    Banashankari   35\n2                       Banaswadi    9\n3               Bannerghatta Road   60\n4                    Basavanagudi   17\n..                            ...  ...\n59  Varthur Main Road, Whitefield    3\n60                  Vasanth Nagar   12\n61                     Whitefield  148\n62                  Wilson Garden   37\n63                    Yeshwantpur    3\n\n[64 rows x 2 columns]",
      "text/html": "<div>\n<style scoped>\n    .dataframe tbody tr th:only-of-type {\n        vertical-align: middle;\n    }\n\n    .dataframe tbody tr th {\n        vertical-align: top;\n    }\n\n    .dataframe thead th {\n        text-align: right;\n    }\n</style>\n<table border=\"1\" class=\"dataframe\">\n  <thead>\n    <tr style=\"text-align: right;\">\n      <th></th>\n      <th>location</th>\n      <th>url</th>\n    </tr>\n  </thead>\n  <tbody>\n    <tr>\n      <th>0</th>\n      <td>BTM</td>\n      <td>274</td>\n    </tr>\n    <tr>\n      <th>1</th>\n      <td>Banashankari</td>\n      <td>35</td>\n    </tr>\n    <tr>\n      <th>2</th>\n      <td>Banaswadi</td>\n      <td>9</td>\n    </tr>\n    <tr>\n      <th>3</th>\n      <td>Bannerghatta Road</td>\n      <td>60</td>\n    </tr>\n    <tr>\n      <th>4</th>\n      <td>Basavanagudi</td>\n      <td>17</td>\n    </tr>\n    <tr>\n      <th>...</th>\n      <td>...</td>\n      <td>...</td>\n    </tr>\n    <tr>\n      <th>59</th>\n      <td>Varthur Main Road, Whitefield</td>\n      <td>3</td>\n    </tr>\n    <tr>\n      <th>60</th>\n      <td>Vasanth Nagar</td>\n      <td>12</td>\n    </tr>\n    <tr>\n      <th>61</th>\n      <td>Whitefield</td>\n      <td>148</td>\n    </tr>\n    <tr>\n      <th>62</th>\n      <td>Wilson Garden</td>\n      <td>37</td>\n    </tr>\n    <tr>\n      <th>63</th>\n      <td>Yeshwantpur</td>\n      <td>3</td>\n    </tr>\n  </tbody>\n</table>\n<p>64 rows × 2 columns</p>\n</div>"
     },
     "execution_count": 76,
     "metadata": {},
     "output_type": "execute_result"
    }
   ],
   "source": [
    "north_india=df2.groupby('location')['url'].count().reset_index()\n",
    "north_india"
   ],
   "metadata": {
    "collapsed": false,
    "ExecuteTime": {
     "end_time": "2023-11-25T20:04:44.211022400Z",
     "start_time": "2023-11-25T20:04:44.119366800Z"
    }
   },
   "id": "3c6fb543b8be2678"
  },
  {
   "cell_type": "code",
   "execution_count": 78,
   "outputs": [
    {
     "data": {
      "text/plain": "                             Name  count\n0                             BTM    274\n1                    Banashankari     35\n2                       Banaswadi      9\n3               Bannerghatta Road     60\n4                    Basavanagudi     17\n..                            ...    ...\n59  Varthur Main Road, Whitefield      3\n60                  Vasanth Nagar     12\n61                     Whitefield    148\n62                  Wilson Garden     37\n63                    Yeshwantpur      3\n\n[64 rows x 2 columns]",
      "text/html": "<div>\n<style scoped>\n    .dataframe tbody tr th:only-of-type {\n        vertical-align: middle;\n    }\n\n    .dataframe tbody tr th {\n        vertical-align: top;\n    }\n\n    .dataframe thead th {\n        text-align: right;\n    }\n</style>\n<table border=\"1\" class=\"dataframe\">\n  <thead>\n    <tr style=\"text-align: right;\">\n      <th></th>\n      <th>Name</th>\n      <th>count</th>\n    </tr>\n  </thead>\n  <tbody>\n    <tr>\n      <th>0</th>\n      <td>BTM</td>\n      <td>274</td>\n    </tr>\n    <tr>\n      <th>1</th>\n      <td>Banashankari</td>\n      <td>35</td>\n    </tr>\n    <tr>\n      <th>2</th>\n      <td>Banaswadi</td>\n      <td>9</td>\n    </tr>\n    <tr>\n      <th>3</th>\n      <td>Bannerghatta Road</td>\n      <td>60</td>\n    </tr>\n    <tr>\n      <th>4</th>\n      <td>Basavanagudi</td>\n      <td>17</td>\n    </tr>\n    <tr>\n      <th>...</th>\n      <td>...</td>\n      <td>...</td>\n    </tr>\n    <tr>\n      <th>59</th>\n      <td>Varthur Main Road, Whitefield</td>\n      <td>3</td>\n    </tr>\n    <tr>\n      <th>60</th>\n      <td>Vasanth Nagar</td>\n      <td>12</td>\n    </tr>\n    <tr>\n      <th>61</th>\n      <td>Whitefield</td>\n      <td>148</td>\n    </tr>\n    <tr>\n      <th>62</th>\n      <td>Wilson Garden</td>\n      <td>37</td>\n    </tr>\n    <tr>\n      <th>63</th>\n      <td>Yeshwantpur</td>\n      <td>3</td>\n    </tr>\n  </tbody>\n</table>\n<p>64 rows × 2 columns</p>\n</div>"
     },
     "execution_count": 78,
     "metadata": {},
     "output_type": "execute_result"
    }
   ],
   "source": [
    "north_india.columns=['Name','count'] # So I can merge to the 'location' dataframe with the common column 'Name'\n",
    "north_india"
   ],
   "metadata": {
    "collapsed": false,
    "ExecuteTime": {
     "end_time": "2023-11-25T20:07:34.754935400Z",
     "start_time": "2023-11-25T20:07:34.697816200Z"
    }
   },
   "id": "7809b51dede3f6a3"
  },
  {
   "cell_type": "code",
   "execution_count": 82,
   "outputs": [
    {
     "data": {
      "text/plain": "                             Name  count      lat_x      lon_x      lat_y  \\\n0                             BTM    274  12.911276  77.604565  12.911276   \n1                    Banashankari     35  15.887678  75.704678  15.887678   \n2                       Banaswadi      9  13.014162  77.651854  13.014162   \n3               Bannerghatta Road     60  12.891893  77.598608  12.891893   \n4                    Basavanagudi     17  12.941726  77.575502  12.941726   \n..                            ...    ...        ...        ...        ...   \n59  Varthur Main Road, Whitefield      3  12.941324  77.747110  12.941324   \n60                  Vasanth Nagar     12  12.988721  77.585169  12.988721   \n61                     Whitefield    148  53.553368  -2.296902  53.553368   \n62                  Wilson Garden     37  12.948934  77.596827  12.948934   \n63                    Yeshwantpur      3  13.023830  77.552921  13.023830   \n\n        lon_y        lat        lon  \n0   77.604565  12.911276  77.604565  \n1   75.704678  15.887678  75.704678  \n2   77.651854  13.014162  77.651854  \n3   77.598608  12.891893  77.598608  \n4   77.575502  12.941726  77.575502  \n..        ...        ...        ...  \n59  77.747110  12.941324  77.747110  \n60  77.585169  12.988721  77.585169  \n61  -2.296902  53.553368  -2.296902  \n62  77.596827  12.948934  77.596827  \n63  77.552921  13.023830  77.552921  \n\n[64 rows x 8 columns]",
      "text/html": "<div>\n<style scoped>\n    .dataframe tbody tr th:only-of-type {\n        vertical-align: middle;\n    }\n\n    .dataframe tbody tr th {\n        vertical-align: top;\n    }\n\n    .dataframe thead th {\n        text-align: right;\n    }\n</style>\n<table border=\"1\" class=\"dataframe\">\n  <thead>\n    <tr style=\"text-align: right;\">\n      <th></th>\n      <th>Name</th>\n      <th>count</th>\n      <th>lat_x</th>\n      <th>lon_x</th>\n      <th>lat_y</th>\n      <th>lon_y</th>\n      <th>lat</th>\n      <th>lon</th>\n    </tr>\n  </thead>\n  <tbody>\n    <tr>\n      <th>0</th>\n      <td>BTM</td>\n      <td>274</td>\n      <td>12.911276</td>\n      <td>77.604565</td>\n      <td>12.911276</td>\n      <td>77.604565</td>\n      <td>12.911276</td>\n      <td>77.604565</td>\n    </tr>\n    <tr>\n      <th>1</th>\n      <td>Banashankari</td>\n      <td>35</td>\n      <td>15.887678</td>\n      <td>75.704678</td>\n      <td>15.887678</td>\n      <td>75.704678</td>\n      <td>15.887678</td>\n      <td>75.704678</td>\n    </tr>\n    <tr>\n      <th>2</th>\n      <td>Banaswadi</td>\n      <td>9</td>\n      <td>13.014162</td>\n      <td>77.651854</td>\n      <td>13.014162</td>\n      <td>77.651854</td>\n      <td>13.014162</td>\n      <td>77.651854</td>\n    </tr>\n    <tr>\n      <th>3</th>\n      <td>Bannerghatta Road</td>\n      <td>60</td>\n      <td>12.891893</td>\n      <td>77.598608</td>\n      <td>12.891893</td>\n      <td>77.598608</td>\n      <td>12.891893</td>\n      <td>77.598608</td>\n    </tr>\n    <tr>\n      <th>4</th>\n      <td>Basavanagudi</td>\n      <td>17</td>\n      <td>12.941726</td>\n      <td>77.575502</td>\n      <td>12.941726</td>\n      <td>77.575502</td>\n      <td>12.941726</td>\n      <td>77.575502</td>\n    </tr>\n    <tr>\n      <th>...</th>\n      <td>...</td>\n      <td>...</td>\n      <td>...</td>\n      <td>...</td>\n      <td>...</td>\n      <td>...</td>\n      <td>...</td>\n      <td>...</td>\n    </tr>\n    <tr>\n      <th>59</th>\n      <td>Varthur Main Road, Whitefield</td>\n      <td>3</td>\n      <td>12.941324</td>\n      <td>77.747110</td>\n      <td>12.941324</td>\n      <td>77.747110</td>\n      <td>12.941324</td>\n      <td>77.747110</td>\n    </tr>\n    <tr>\n      <th>60</th>\n      <td>Vasanth Nagar</td>\n      <td>12</td>\n      <td>12.988721</td>\n      <td>77.585169</td>\n      <td>12.988721</td>\n      <td>77.585169</td>\n      <td>12.988721</td>\n      <td>77.585169</td>\n    </tr>\n    <tr>\n      <th>61</th>\n      <td>Whitefield</td>\n      <td>148</td>\n      <td>53.553368</td>\n      <td>-2.296902</td>\n      <td>53.553368</td>\n      <td>-2.296902</td>\n      <td>53.553368</td>\n      <td>-2.296902</td>\n    </tr>\n    <tr>\n      <th>62</th>\n      <td>Wilson Garden</td>\n      <td>37</td>\n      <td>12.948934</td>\n      <td>77.596827</td>\n      <td>12.948934</td>\n      <td>77.596827</td>\n      <td>12.948934</td>\n      <td>77.596827</td>\n    </tr>\n    <tr>\n      <th>63</th>\n      <td>Yeshwantpur</td>\n      <td>3</td>\n      <td>13.023830</td>\n      <td>77.552921</td>\n      <td>13.023830</td>\n      <td>77.552921</td>\n      <td>13.023830</td>\n      <td>77.552921</td>\n    </tr>\n  </tbody>\n</table>\n<p>64 rows × 8 columns</p>\n</div>"
     },
     "execution_count": 82,
     "metadata": {},
     "output_type": "execute_result"
    }
   ],
   "source": [
    "north_indian = north_india.merge(locations,on='Name',how='left').dropna()\n",
    "north_indian"
   ],
   "metadata": {
    "collapsed": false,
    "ExecuteTime": {
     "end_time": "2023-11-25T20:16:04.790484700Z",
     "start_time": "2023-11-25T20:16:04.679967100Z"
    }
   },
   "id": "365a7976cdc2a26a"
  },
  {
   "cell_type": "code",
   "execution_count": 83,
   "outputs": [],
   "source": [
    "north_indian.drop(['lat_x', 'lon_x', 'lat_y', 'lon_y'], axis=1, inplace=True)"
   ],
   "metadata": {
    "collapsed": false,
    "ExecuteTime": {
     "end_time": "2023-11-25T20:20:10.146277Z",
     "start_time": "2023-11-25T20:20:10.048087400Z"
    }
   },
   "id": "af04cf3235d30451"
  },
  {
   "cell_type": "code",
   "execution_count": 84,
   "outputs": [
    {
     "data": {
      "text/plain": "                             Name  count        lat        lon\n0                             BTM    274  12.911276  77.604565\n1                    Banashankari     35  15.887678  75.704678\n2                       Banaswadi      9  13.014162  77.651854\n3               Bannerghatta Road     60  12.891893  77.598608\n4                    Basavanagudi     17  12.941726  77.575502\n..                            ...    ...        ...        ...\n59  Varthur Main Road, Whitefield      3  12.941324  77.747110\n60                  Vasanth Nagar     12  12.988721  77.585169\n61                     Whitefield    148  53.553368  -2.296902\n62                  Wilson Garden     37  12.948934  77.596827\n63                    Yeshwantpur      3  13.023830  77.552921\n\n[64 rows x 4 columns]",
      "text/html": "<div>\n<style scoped>\n    .dataframe tbody tr th:only-of-type {\n        vertical-align: middle;\n    }\n\n    .dataframe tbody tr th {\n        vertical-align: top;\n    }\n\n    .dataframe thead th {\n        text-align: right;\n    }\n</style>\n<table border=\"1\" class=\"dataframe\">\n  <thead>\n    <tr style=\"text-align: right;\">\n      <th></th>\n      <th>Name</th>\n      <th>count</th>\n      <th>lat</th>\n      <th>lon</th>\n    </tr>\n  </thead>\n  <tbody>\n    <tr>\n      <th>0</th>\n      <td>BTM</td>\n      <td>274</td>\n      <td>12.911276</td>\n      <td>77.604565</td>\n    </tr>\n    <tr>\n      <th>1</th>\n      <td>Banashankari</td>\n      <td>35</td>\n      <td>15.887678</td>\n      <td>75.704678</td>\n    </tr>\n    <tr>\n      <th>2</th>\n      <td>Banaswadi</td>\n      <td>9</td>\n      <td>13.014162</td>\n      <td>77.651854</td>\n    </tr>\n    <tr>\n      <th>3</th>\n      <td>Bannerghatta Road</td>\n      <td>60</td>\n      <td>12.891893</td>\n      <td>77.598608</td>\n    </tr>\n    <tr>\n      <th>4</th>\n      <td>Basavanagudi</td>\n      <td>17</td>\n      <td>12.941726</td>\n      <td>77.575502</td>\n    </tr>\n    <tr>\n      <th>...</th>\n      <td>...</td>\n      <td>...</td>\n      <td>...</td>\n      <td>...</td>\n    </tr>\n    <tr>\n      <th>59</th>\n      <td>Varthur Main Road, Whitefield</td>\n      <td>3</td>\n      <td>12.941324</td>\n      <td>77.747110</td>\n    </tr>\n    <tr>\n      <th>60</th>\n      <td>Vasanth Nagar</td>\n      <td>12</td>\n      <td>12.988721</td>\n      <td>77.585169</td>\n    </tr>\n    <tr>\n      <th>61</th>\n      <td>Whitefield</td>\n      <td>148</td>\n      <td>53.553368</td>\n      <td>-2.296902</td>\n    </tr>\n    <tr>\n      <th>62</th>\n      <td>Wilson Garden</td>\n      <td>37</td>\n      <td>12.948934</td>\n      <td>77.596827</td>\n    </tr>\n    <tr>\n      <th>63</th>\n      <td>Yeshwantpur</td>\n      <td>3</td>\n      <td>13.023830</td>\n      <td>77.552921</td>\n    </tr>\n  </tbody>\n</table>\n<p>64 rows × 4 columns</p>\n</div>"
     },
     "execution_count": 84,
     "metadata": {},
     "output_type": "execute_result"
    }
   ],
   "source": [
    "north_indian"
   ],
   "metadata": {
    "collapsed": false,
    "ExecuteTime": {
     "end_time": "2023-11-25T20:20:23.348498100Z",
     "start_time": "2023-11-25T20:20:23.208351200Z"
    }
   },
   "id": "f073dd9fd1eba78"
  },
  {
   "cell_type": "code",
   "execution_count": null,
   "outputs": [],
   "source": [],
   "metadata": {
    "collapsed": false
   },
   "id": "d97770d42c820c23"
  },
  {
   "cell_type": "code",
   "execution_count": 86,
   "outputs": [
    {
     "data": {
      "text/plain": "<folium.folium.Map at 0x2a8c25f5600>",
      "text/html": "<div style=\"width:100%;\"><div style=\"position:relative;width:100%;height:0;padding-bottom:60%;\"><span style=\"color:#565656\">Make this Notebook Trusted to load map: File -> Trust Notebook</span><iframe srcdoc=\"&lt;!DOCTYPE html&gt;\n&lt;html&gt;\n&lt;head&gt;\n    \n    &lt;meta http-equiv=&quot;content-type&quot; content=&quot;text/html; charset=UTF-8&quot; /&gt;\n    \n        &lt;script&gt;\n            L_NO_TOUCH = false;\n            L_DISABLE_3D = false;\n        &lt;/script&gt;\n    \n    &lt;style&gt;html, body {width: 100%;height: 100%;margin: 0;padding: 0;}&lt;/style&gt;\n    &lt;style&gt;#map {position:absolute;top:0;bottom:0;right:0;left:0;}&lt;/style&gt;\n    &lt;script src=&quot;https://cdn.jsdelivr.net/npm/leaflet@1.9.3/dist/leaflet.js&quot;&gt;&lt;/script&gt;\n    &lt;script src=&quot;https://code.jquery.com/jquery-3.7.1.min.js&quot;&gt;&lt;/script&gt;\n    &lt;script src=&quot;https://cdn.jsdelivr.net/npm/bootstrap@5.2.2/dist/js/bootstrap.bundle.min.js&quot;&gt;&lt;/script&gt;\n    &lt;script src=&quot;https://cdnjs.cloudflare.com/ajax/libs/Leaflet.awesome-markers/2.0.2/leaflet.awesome-markers.js&quot;&gt;&lt;/script&gt;\n    &lt;link rel=&quot;stylesheet&quot; href=&quot;https://cdn.jsdelivr.net/npm/leaflet@1.9.3/dist/leaflet.css&quot;/&gt;\n    &lt;link rel=&quot;stylesheet&quot; href=&quot;https://cdn.jsdelivr.net/npm/bootstrap@5.2.2/dist/css/bootstrap.min.css&quot;/&gt;\n    &lt;link rel=&quot;stylesheet&quot; href=&quot;https://netdna.bootstrapcdn.com/bootstrap/3.0.0/css/bootstrap.min.css&quot;/&gt;\n    &lt;link rel=&quot;stylesheet&quot; href=&quot;https://cdn.jsdelivr.net/npm/@fortawesome/fontawesome-free@6.2.0/css/all.min.css&quot;/&gt;\n    &lt;link rel=&quot;stylesheet&quot; href=&quot;https://cdnjs.cloudflare.com/ajax/libs/Leaflet.awesome-markers/2.0.2/leaflet.awesome-markers.css&quot;/&gt;\n    &lt;link rel=&quot;stylesheet&quot; href=&quot;https://cdn.jsdelivr.net/gh/python-visualization/folium/folium/templates/leaflet.awesome.rotate.min.css&quot;/&gt;\n    \n            &lt;meta name=&quot;viewport&quot; content=&quot;width=device-width,\n                initial-scale=1.0, maximum-scale=1.0, user-scalable=no&quot; /&gt;\n            &lt;style&gt;\n                #map_9f3bc7fb5f31c1861bf11c03ac694c71 {\n                    position: relative;\n                    width: 100.0%;\n                    height: 100.0%;\n                    left: 0.0%;\n                    top: 0.0%;\n                }\n                .leaflet-container { font-size: 1rem; }\n            &lt;/style&gt;\n        \n    &lt;script src=&quot;https://cdn.jsdelivr.net/gh/python-visualization/folium@main/folium/templates/leaflet_heat.min.js&quot;&gt;&lt;/script&gt;\n    &lt;script src=&quot;https://cdnjs.cloudflare.com/ajax/libs/leaflet.markercluster/1.1.0/leaflet.markercluster.js&quot;&gt;&lt;/script&gt;\n    &lt;link rel=&quot;stylesheet&quot; href=&quot;https://cdnjs.cloudflare.com/ajax/libs/leaflet.markercluster/1.1.0/MarkerCluster.css&quot;/&gt;\n    &lt;link rel=&quot;stylesheet&quot; href=&quot;https://cdnjs.cloudflare.com/ajax/libs/leaflet.markercluster/1.1.0/MarkerCluster.Default.css&quot;/&gt;\n&lt;/head&gt;\n&lt;body&gt;\n    \n    \n            &lt;div class=&quot;folium-map&quot; id=&quot;map_9f3bc7fb5f31c1861bf11c03ac694c71&quot; &gt;&lt;/div&gt;\n        \n&lt;/body&gt;\n&lt;script&gt;\n    \n    \n            var map_9f3bc7fb5f31c1861bf11c03ac694c71 = L.map(\n                &quot;map_9f3bc7fb5f31c1861bf11c03ac694c71&quot;,\n                {\n                    center: [12.97, 77.59],\n                    crs: L.CRS.EPSG3857,\n                    zoom: 12,\n                    zoomControl: true,\n                    preferCanvas: false,\n                }\n            );\n\n            \n\n        \n    \n            var tile_layer_c9d5f40028351c9388b96f8131ac34bc = L.tileLayer(\n                &quot;https://{s}.tile.openstreetmap.org/{z}/{x}/{y}.png&quot;,\n                {&quot;attribution&quot;: &quot;Data by \\u0026copy; \\u003ca target=\\&quot;_blank\\&quot; href=\\&quot;http://openstreetmap.org\\&quot;\\u003eOpenStreetMap\\u003c/a\\u003e, under \\u003ca target=\\&quot;_blank\\&quot; href=\\&quot;http://www.openstreetmap.org/copyright\\&quot;\\u003eODbL\\u003c/a\\u003e.&quot;, &quot;detectRetina&quot;: false, &quot;maxNativeZoom&quot;: 18, &quot;maxZoom&quot;: 18, &quot;minZoom&quot;: 0, &quot;noWrap&quot;: false, &quot;opacity&quot;: 1, &quot;subdomains&quot;: &quot;abc&quot;, &quot;tms&quot;: false}\n            );\n        \n    \n                tile_layer_c9d5f40028351c9388b96f8131ac34bc.addTo(map_9f3bc7fb5f31c1861bf11c03ac694c71);\n    \n            var heat_map_36a6ca2670f4ba50b08590725f98e73b = L.heatLayer(\n                [[12.911275849999999, 77.60456543431182, 5124.0], [29.1523467, 75.7245798, 2523.0], [12.9348429, 77.6189768, 2504.0], [12.2655944, 76.6465404, 2235.0], [53.5533682, -2.2969019, 2144.0], [12.9732913, 77.6404672, 2083.0], [12.9292731, 77.5824229, 1926.0], [12.9552572, 77.6984163, 1846.0], [12.8918931, 77.598608, 1630.0], [12.93103185, 77.6782471, 1286.0], [15.67509025, 73.81083634836561, 1258.0], [12.9277245, 77.6327822, 1238.0], [44.621621, -84.790422, 1218.0], [12.9364846, 77.6134783, 1181.0], [12.9390255, 77.6238477, 1156.0], [12.9238287, 77.6540991, 1065.0], [12.9778793, 77.6246697, 1023.0], [12.9327778, 77.6294052, 1017.0], [12.9755264, 77.6067902, 918.0], [15.8876779, 75.7046777, 906.0], [19.1602288, 76.2772822, 853.0], [40.5973154, -74.0929447, 812.0], [12.9986827, 77.615525, 727.0], [13.0027353, 77.5703253, 725.0], [12.9417261, 77.5755021, 684.0], [12.9660577, 77.5980135, 675.0], [13.0141618, 77.6518539, 664.0], [33.5935063, -79.0345627, 658.0], [13.0378334, 77.5652106, 649.0], [13.0093455, 77.6377094, 648.0], [12.9882338, 77.554883, 591.0], [52.984069, -6.0509213, 569.0], [40.7718677, -76.3704696, 529.0], [21.2742644, 79.4108959, 511.0], [18.532248199999998, 73.84990967997429, 499.0], [12.9624669, 77.6381958, 496.0], [34.05684, -81.091292, 491.0], [41.528338, -71.286422, 446.0], [12.945245, 77.6269144, 439.0], [51.5227907, -0.0775448, 370.0], [51.5238475, 0.5591096, 352.0], [12.9408685, 77.617338, 320.0], [12.988721250000001, 77.58516877601824, 295.0], [12.9678074, 77.6568367, 272.0], [12.9489339, 77.5968273, 246.0], [12.9089453, 77.6239038, 238.0], [12.9282918, 77.6254034, 216.0], [12.9081487, 77.5553179, 195.0], [12.973936, 77.6509982, 194.0], [12.9932236, 77.5391579, 191.0], [13.2227, 78.5541977, 187.0], [12.9931876, 77.5753419, 165.0], [13.0258087, 77.6305067, 161.0], [1.2847055, 103.84320655721689, 155.0], [13.0358698, 77.6323597, 153.0], [35.1463333, -111.688778, 151.0], [31.4343971, 73.081738, 139.0], [39.76880625, -86.15345077251979, 126.0], [13.02383, 77.5529215, 119.0], [12.9413238, 77.7471103, 117.0], [12.9768424, 77.7103746, 113.0], [52.49148485, 1.2372484335227272, 107.0], [12.9243692, 77.6242433, 102.0], [12.9224033, 77.6195407, 102.0], [12.9846713, 77.6790908, 101.0], [17.2510682, 80.1651978, 90.0], [6.9233338, 93.9046149, 80.0], [13.0227204, 77.595715, 80.0], [30.1915796, 74.9408769, 76.0], [15.8782951, 74.5084834, 63.0], [12.9950212, 77.5526703, 53.0], [12.9340114, 77.6222304, 48.0], [12.8504319, 77.6601401, 44.0], [16.3651178, 76.7808528, 38.0], [12.9756527, 77.5553548, 34.0], [12.957998, 77.6037312, 27.0], [52.6997314, -2.0180248, 27.0], [13.0076091, 77.6900228, 22.0], [12.9466619, 77.5300896, 22.0], [12.9366418, 77.5753914, 19.0], [13.007516, 77.695935, 18.0], [12.9055682, 77.5455438, 17.0], [13.0382184, 77.5919, 14.0], [12.9767936, 77.590082, 14.0], [12.9176571, 77.4837568, 9.0], [13.0138844, 77.5273194, 9.0], [12.9897994, 77.5717391, 8.0], [51.41300185, -1.3153145080163684, 6.0], [13.1006982, 77.5963454, 6.0], [13.0784743, 77.6068938, 3.0], [12.9274413, 77.5155224, 2.0], [13.0329419, 77.5273253, 1.0]],\n                {&quot;blur&quot;: 15, &quot;maxZoom&quot;: 18, &quot;minOpacity&quot;: 0.5, &quot;radius&quot;: 25, &quot;zoom&quot;: 20}\n            );\n        \n    \n                heat_map_36a6ca2670f4ba50b08590725f98e73b.addTo(map_9f3bc7fb5f31c1861bf11c03ac694c71);\n    \n            var fast_marker_cluster_57963da266ed0fe83ea19069bf7081af = (function(){\n                \n                var callback = function (row) {\n                    var icon = L.AwesomeMarkers.icon();\n                    var marker = L.marker(new L.LatLng(row[0], row[1]));\n                    marker.setIcon(icon);\n                    return marker;\n                };\n\n                var data = [[12.911275849999999, 77.60456543431182, 5124.0], [29.1523467, 75.7245798, 2523.0], [12.9348429, 77.6189768, 2504.0], [12.2655944, 76.6465404, 2235.0], [53.5533682, -2.2969019, 2144.0], [12.9732913, 77.6404672, 2083.0], [12.9292731, 77.5824229, 1926.0], [12.9552572, 77.6984163, 1846.0], [12.8918931, 77.598608, 1630.0], [12.93103185, 77.6782471, 1286.0], [15.67509025, 73.81083634836561, 1258.0], [12.9277245, 77.6327822, 1238.0], [44.621621, -84.790422, 1218.0], [12.9364846, 77.6134783, 1181.0], [12.9390255, 77.6238477, 1156.0], [12.9238287, 77.6540991, 1065.0], [12.9778793, 77.6246697, 1023.0], [12.9327778, 77.6294052, 1017.0], [12.9755264, 77.6067902, 918.0], [15.8876779, 75.7046777, 906.0], [19.1602288, 76.2772822, 853.0], [40.5973154, -74.0929447, 812.0], [12.9986827, 77.615525, 727.0], [13.0027353, 77.5703253, 725.0], [12.9417261, 77.5755021, 684.0], [12.9660577, 77.5980135, 675.0], [13.0141618, 77.6518539, 664.0], [33.5935063, -79.0345627, 658.0], [13.0378334, 77.5652106, 649.0], [13.0093455, 77.6377094, 648.0], [12.9882338, 77.554883, 591.0], [52.984069, -6.0509213, 569.0], [40.7718677, -76.3704696, 529.0], [21.2742644, 79.4108959, 511.0], [18.532248199999998, 73.84990967997429, 499.0], [12.9624669, 77.6381958, 496.0], [34.05684, -81.091292, 491.0], [41.528338, -71.286422, 446.0], [12.945245, 77.6269144, 439.0], [51.5227907, -0.0775448, 370.0], [51.5238475, 0.5591096, 352.0], [12.9408685, 77.617338, 320.0], [12.988721250000001, 77.58516877601824, 295.0], [12.9678074, 77.6568367, 272.0], [12.9489339, 77.5968273, 246.0], [12.9089453, 77.6239038, 238.0], [12.9282918, 77.6254034, 216.0], [12.9081487, 77.5553179, 195.0], [12.973936, 77.6509982, 194.0], [12.9932236, 77.5391579, 191.0], [13.2227, 78.5541977, 187.0], [12.9931876, 77.5753419, 165.0], [13.0258087, 77.6305067, 161.0], [1.2847055, 103.84320655721689, 155.0], [13.0358698, 77.6323597, 153.0], [35.1463333, -111.688778, 151.0], [31.4343971, 73.081738, 139.0], [39.76880625, -86.15345077251979, 126.0], [13.02383, 77.5529215, 119.0], [12.9413238, 77.7471103, 117.0], [12.9768424, 77.7103746, 113.0], [52.49148485, 1.2372484335227272, 107.0], [12.9243692, 77.6242433, 102.0], [12.9224033, 77.6195407, 102.0], [12.9846713, 77.6790908, 101.0], [17.2510682, 80.1651978, 90.0], [6.9233338, 93.9046149, 80.0], [13.0227204, 77.595715, 80.0], [30.1915796, 74.9408769, 76.0], [15.8782951, 74.5084834, 63.0], [12.9950212, 77.5526703, 53.0], [12.9340114, 77.6222304, 48.0], [12.8504319, 77.6601401, 44.0], [16.3651178, 76.7808528, 38.0], [12.9756527, 77.5553548, 34.0], [12.957998, 77.6037312, 27.0], [52.6997314, -2.0180248, 27.0], [13.0076091, 77.6900228, 22.0], [12.9466619, 77.5300896, 22.0], [12.9366418, 77.5753914, 19.0], [13.007516, 77.695935, 18.0], [12.9055682, 77.5455438, 17.0], [13.0382184, 77.5919, 14.0], [12.9767936, 77.590082, 14.0], [12.9176571, 77.4837568, 9.0], [13.0138844, 77.5273194, 9.0], [12.9897994, 77.5717391, 8.0], [51.41300185, -1.3153145080163684, 6.0], [13.1006982, 77.5963454, 6.0], [13.0784743, 77.6068938, 3.0], [12.9274413, 77.5155224, 2.0], [13.0329419, 77.5273253, 1.0]];\n                var cluster = L.markerClusterGroup({&quot;zoom&quot;: 20});\n\n                for (var i = 0; i &lt; data.length; i++) {\n                    var row = data[i];\n                    var marker = callback(row);\n                    marker.addTo(cluster);\n                }\n\n                cluster.addTo(map_9f3bc7fb5f31c1861bf11c03ac694c71);\n                return cluster;\n            })();\n        \n    \n                fast_marker_cluster_57963da266ed0fe83ea19069bf7081af.addTo(map_9f3bc7fb5f31c1861bf11c03ac694c71);\n    \n            var heat_map_818772bb123fc3ab865907df64bb2738 = L.heatLayer(\n                [[40.7718677, -76.3704696, 4.042885771543086], [51.5238475, 0.5591096, 4.017201166180758], [12.9282918, 77.6254034, 3.978756476683938], [52.6997314, -2.0180248, 3.965384615384615], [52.984069, -6.0509213, 3.9630909090909086], [12.9348429, 77.6189768, 3.901511969760605], [34.05684, -81.091292, 3.9010526315789473], [12.9274413, 77.5155224, 3.85], [12.9660577, 77.5980135, 3.8445723684210527], [15.8782951, 74.5084834, 3.839655172413793], [12.9327778, 77.6294052, 3.8143518518518515], [12.957998, 77.6037312, 3.8074074074074074], [35.1463333, -111.688778, 3.7964285714285713], [12.9364846, 77.6134783, 3.7478420569329662], [12.9755264, 77.6067902, 3.74055023923445], [31.4343971, 73.081738, 3.727007299270073], [12.9176571, 77.4837568, 3.7222222222222223], [12.9931876, 77.5753419, 3.704929577464789], [40.5973154, -74.0929447, 3.6880126182965296], [12.9224033, 77.6195407, 3.6878378378378374], [13.0027353, 77.5703253, 3.668237082066869], [12.9390255, 77.6238477, 3.6624662466246622], [12.9732913, 77.6404672, 3.6521694214876037], [13.1006982, 77.5963454, 3.6399999999999997], [12.9897994, 77.5717391, 3.625], [12.9292731, 77.5824229, 3.6152502910360886], [12.9408685, 77.617338, 3.6075], [12.9340114, 77.6222304, 3.606451612903226], [44.621621, -84.790422, 3.595848708487085], [13.0378334, 77.5652106, 3.5831739961759084], [12.988721250000001, 77.58516877601824, 3.5809523809523807], [12.9986827, 77.615525, 3.564878892733564], [12.9243692, 77.6242433, 3.5456521739130435], [12.9778793, 77.6246697, 3.5413984461709216], [19.1602288, 76.2772822, 3.529144385026738], [12.9055682, 77.5455438, 3.511111111111111], [13.02383, 77.5529215, 3.5026785714285715], [13.0093455, 77.6377094, 3.499809523809524], [18.532248199999998, 73.84990967997429, 3.4989169675090253], [16.3651178, 76.7808528, 3.4869565217391307], [29.1523467, 75.7245798, 3.4840695488721805], [12.9366418, 77.5753914, 3.478947368421052], [12.9950212, 77.5526703, 3.478723404255319], [12.9417261, 77.5755021, 3.4781847133757964], [12.9846713, 77.6790908, 3.4736263736263737], [12.9238287, 77.6540991, 3.4735582154515776], [12.9466619, 77.5300896, 3.4555555555555557], [39.76880625, -86.15345077251979, 3.4461538461538463], [12.9932236, 77.5391579, 3.4455172413793105], [12.9756527, 77.5553548, 3.4375], [12.9678074, 77.6568367, 3.429770992366412], [12.9882338, 77.554883, 3.422381930184805], [52.49148485, 1.2372484335227272, 3.4197802197802196], [12.2655944, 76.6465404, 3.4129259058950785], [12.9552572, 77.6984163, 3.4005322687957418], [13.0138844, 77.5273194, 3.4], [41.528338, -71.286422, 3.389119170984456], [12.9624669, 77.6381958, 3.385547785547786], [53.5533682, -2.2969019, 3.384170112226816], [33.5935063, -79.0345627, 3.374698795180723], [15.8876779, 75.7046777, 3.3732919254658387], [13.0141618, 77.6518539, 3.3629258517034066], [30.1915796, 74.9408769, 3.36], [13.2227, 78.5541977, 3.3333333333333335], [21.2742644, 79.4108959, 3.3235897435897437], [12.9768424, 77.7103746, 3.320238095238095], [12.9081487, 77.5553179, 3.320238095238095], [12.93103185, 77.6782471, 3.3098330241187384], [12.9413238, 77.7471103, 3.2989247311827956], [12.911275849999999, 77.60456543431182, 3.2961276695611357], [1.2847055, 103.84320655721689, 3.2940677966101695], [13.0358698, 77.6323597, 3.279279279279279], [13.0227204, 77.595715, 3.278125], [12.8918931, 77.598608, 3.2716767371601208], [12.9277245, 77.6327822, 3.2639378238341967], [12.9489339, 77.5968273, 3.2576354679802955], [6.9233338, 93.9046149, 3.249295774647887], [12.8504319, 77.6601401, 3.243333333333333], [13.007516, 77.695935, 3.2181818181818183], [17.2510682, 80.1651978, 3.215151515151515], [13.0329419, 77.5273253, 3.2], [13.0076091, 77.6900228, 3.1818181818181817], [51.5227907, -0.0775448, 3.1097087378640778], [12.973936, 77.6509982, 3.0953947368421053], [13.0258087, 77.6305067, 3.0938931297709926], [12.945245, 77.6269144, 3.05472972972973], [15.67509025, 73.81083634836561, 3.0419087136929464], [12.9089453, 77.6239038, 2.926751592356688], [13.0382184, 77.5919, 2.88], [12.9767936, 77.590082, 2.3857142857142857], [51.41300185, -1.3153145080163684, 2.02]],\n                {&quot;blur&quot;: 15, &quot;maxZoom&quot;: 18, &quot;minOpacity&quot;: 0.5, &quot;radius&quot;: 25}\n            );\n        \n    \n                heat_map_818772bb123fc3ab865907df64bb2738.addTo(map_9f3bc7fb5f31c1861bf11c03ac694c71);\n    \n            var heat_map_982ff2aefbb18941b54fddec22957d03 = L.heatLayer(\n                [[40.7718677, -76.3704696, 4.042885771543086], [51.5238475, 0.5591096, 4.017201166180758], [12.9282918, 77.6254034, 3.978756476683938], [52.6997314, -2.0180248, 3.965384615384615], [52.984069, -6.0509213, 3.9630909090909086], [12.9348429, 77.6189768, 3.901511969760605], [34.05684, -81.091292, 3.9010526315789473], [12.9274413, 77.5155224, 3.85], [12.9660577, 77.5980135, 3.8445723684210527], [15.8782951, 74.5084834, 3.839655172413793], [12.9327778, 77.6294052, 3.8143518518518515], [12.957998, 77.6037312, 3.8074074074074074], [35.1463333, -111.688778, 3.7964285714285713], [12.9364846, 77.6134783, 3.7478420569329662], [12.9755264, 77.6067902, 3.74055023923445], [31.4343971, 73.081738, 3.727007299270073], [12.9176571, 77.4837568, 3.7222222222222223], [12.9931876, 77.5753419, 3.704929577464789], [40.5973154, -74.0929447, 3.6880126182965296], [12.9224033, 77.6195407, 3.6878378378378374], [13.0027353, 77.5703253, 3.668237082066869], [12.9390255, 77.6238477, 3.6624662466246622], [12.9732913, 77.6404672, 3.6521694214876037], [13.1006982, 77.5963454, 3.6399999999999997], [12.9897994, 77.5717391, 3.625], [12.9292731, 77.5824229, 3.6152502910360886], [12.9408685, 77.617338, 3.6075], [12.9340114, 77.6222304, 3.606451612903226], [44.621621, -84.790422, 3.595848708487085], [13.0378334, 77.5652106, 3.5831739961759084], [12.988721250000001, 77.58516877601824, 3.5809523809523807], [12.9986827, 77.615525, 3.564878892733564], [12.9243692, 77.6242433, 3.5456521739130435], [12.9778793, 77.6246697, 3.5413984461709216], [19.1602288, 76.2772822, 3.529144385026738], [12.9055682, 77.5455438, 3.511111111111111], [13.02383, 77.5529215, 3.5026785714285715], [13.0093455, 77.6377094, 3.499809523809524], [18.532248199999998, 73.84990967997429, 3.4989169675090253], [16.3651178, 76.7808528, 3.4869565217391307], [29.1523467, 75.7245798, 3.4840695488721805], [12.9366418, 77.5753914, 3.478947368421052], [12.9950212, 77.5526703, 3.478723404255319], [12.9417261, 77.5755021, 3.4781847133757964], [12.9846713, 77.6790908, 3.4736263736263737], [12.9238287, 77.6540991, 3.4735582154515776], [12.9466619, 77.5300896, 3.4555555555555557], [39.76880625, -86.15345077251979, 3.4461538461538463], [12.9932236, 77.5391579, 3.4455172413793105], [12.9756527, 77.5553548, 3.4375], [12.9678074, 77.6568367, 3.429770992366412], [12.9882338, 77.554883, 3.422381930184805], [52.49148485, 1.2372484335227272, 3.4197802197802196], [12.2655944, 76.6465404, 3.4129259058950785], [12.9552572, 77.6984163, 3.4005322687957418], [13.0138844, 77.5273194, 3.4], [41.528338, -71.286422, 3.389119170984456], [12.9624669, 77.6381958, 3.385547785547786], [53.5533682, -2.2969019, 3.384170112226816], [33.5935063, -79.0345627, 3.374698795180723], [15.8876779, 75.7046777, 3.3732919254658387], [13.0141618, 77.6518539, 3.3629258517034066], [30.1915796, 74.9408769, 3.36], [13.2227, 78.5541977, 3.3333333333333335], [21.2742644, 79.4108959, 3.3235897435897437], [12.9768424, 77.7103746, 3.320238095238095], [12.9081487, 77.5553179, 3.320238095238095], [12.93103185, 77.6782471, 3.3098330241187384], [12.9413238, 77.7471103, 3.2989247311827956], [12.911275849999999, 77.60456543431182, 3.2961276695611357], [1.2847055, 103.84320655721689, 3.2940677966101695], [13.0358698, 77.6323597, 3.279279279279279], [13.0227204, 77.595715, 3.278125], [12.8918931, 77.598608, 3.2716767371601208], [12.9277245, 77.6327822, 3.2639378238341967], [12.9489339, 77.5968273, 3.2576354679802955], [6.9233338, 93.9046149, 3.249295774647887], [12.8504319, 77.6601401, 3.243333333333333], [13.007516, 77.695935, 3.2181818181818183], [17.2510682, 80.1651978, 3.215151515151515], [13.0329419, 77.5273253, 3.2], [13.0076091, 77.6900228, 3.1818181818181817], [51.5227907, -0.0775448, 3.1097087378640778], [12.973936, 77.6509982, 3.0953947368421053], [13.0258087, 77.6305067, 3.0938931297709926], [12.945245, 77.6269144, 3.05472972972973], [15.67509025, 73.81083634836561, 3.0419087136929464], [12.9089453, 77.6239038, 2.926751592356688], [13.0382184, 77.5919, 2.88], [12.9767936, 77.590082, 2.3857142857142857], [51.41300185, -1.3153145080163684, 2.02]],\n                {&quot;blur&quot;: 15, &quot;maxZoom&quot;: 18, &quot;minOpacity&quot;: 0.5, &quot;radius&quot;: 25}\n            );\n        \n    \n                heat_map_982ff2aefbb18941b54fddec22957d03.addTo(map_9f3bc7fb5f31c1861bf11c03ac694c71);\n    \n            var heat_map_64df548623677567ddec4466ee96e43f = L.heatLayer(\n                [[12.911275849999999, 77.60456543431182, 274.0], [15.8876779, 75.7046777, 35.0], [13.0141618, 77.6518539, 9.0], [12.8918931, 77.598608, 60.0], [12.9417261, 77.5755021, 17.0], [12.9932236, 77.5391579, 1.0], [12.93103185, 77.6782471, 131.0], [12.9089453, 77.6239038, 6.0], [44.621621, -84.790422, 39.0], [33.5935063, -79.0345627, 42.0], [17.2510682, 80.1651978, 9.0], [52.984069, -6.0509213, 29.0], [51.5227907, -0.0775448, 11.0], [12.9624669, 77.6381958, 29.0], [12.8504319, 77.6601401, 2.0], [12.945245, 77.6269144, 36.0], [15.67509025, 73.81083634836561, 46.0], [12.9986827, 77.615525, 27.0], [13.0358698, 77.6323597, 4.0], [29.1523467, 75.7245798, 131.0], [13.0258087, 77.6305067, 2.0], [12.9224033, 77.6195407, 8.0], [12.9768424, 77.7103746, 8.0], [12.9732913, 77.6404672, 85.0], [12.2655944, 76.6465404, 135.0], [12.9292731, 77.5824229, 25.0], [12.9678074, 77.6568367, 22.0], [12.9846713, 77.6790908, 5.0], [19.1602288, 76.2772822, 30.0], [13.0093455, 77.6377094, 6.0], [12.9277245, 77.6327822, 106.0], [12.9282918, 77.6254034, 6.0], [12.9327778, 77.6294052, 54.0], [12.9348429, 77.6189768, 38.0], [12.9390255, 77.6238477, 45.0], [12.9364846, 77.6134783, 98.0], [12.9408685, 77.617338, 10.0], [12.9081487, 77.5553179, 21.0], [12.9755264, 77.6067902, 22.0], [1.2847055, 103.84320655721689, 4.0], [13.0027353, 77.5703253, 16.0], [12.9552572, 77.6984163, 109.0], [13.2227, 78.5541977, 7.0], [13.0378334, 77.5652106, 23.0], [12.9767936, 77.590082, 1.0], [41.528338, -71.286422, 15.0], [13.0227204, 77.595715, 2.0], [12.9882338, 77.554883, 12.0], [12.9660577, 77.5980135, 19.0], [40.5973154, -74.0929447, 36.0], [15.8782951, 74.5084834, 5.0], [30.1915796, 74.9408769, 3.0], [52.6997314, -2.0180248, 3.0], [12.9238287, 77.6540991, 50.0], [12.9931876, 77.5753419, 6.0], [21.2742644, 79.4108959, 34.0], [18.532248199999998, 73.84990967997429, 12.0], [12.973936, 77.6509982, 13.0], [12.9778793, 77.6246697, 57.0], [12.9413238, 77.7471103, 3.0], [12.988721250000001, 77.58516877601824, 12.0], [53.5533682, -2.2969019, 148.0], [12.9489339, 77.5968273, 37.0], [13.02383, 77.5529215, 3.0]],\n                {&quot;blur&quot;: 15, &quot;maxZoom&quot;: 18, &quot;minOpacity&quot;: 0.5, &quot;radius&quot;: 15, &quot;zoom&quot;: 20}\n            );\n        \n    \n                heat_map_64df548623677567ddec4466ee96e43f.addTo(map_9f3bc7fb5f31c1861bf11c03ac694c71);\n    \n            var heat_map_7407d65030d74816b983f21a94d163eb = L.heatLayer(\n                [[12.911275849999999, 77.60456543431182, 274.0], [15.8876779, 75.7046777, 35.0], [13.0141618, 77.6518539, 9.0], [12.8918931, 77.598608, 60.0], [12.9417261, 77.5755021, 17.0], [12.9932236, 77.5391579, 1.0], [12.93103185, 77.6782471, 131.0], [12.9089453, 77.6239038, 6.0], [44.621621, -84.790422, 39.0], [33.5935063, -79.0345627, 42.0], [17.2510682, 80.1651978, 9.0], [52.984069, -6.0509213, 29.0], [51.5227907, -0.0775448, 11.0], [12.9624669, 77.6381958, 29.0], [12.8504319, 77.6601401, 2.0], [12.945245, 77.6269144, 36.0], [15.67509025, 73.81083634836561, 46.0], [12.9986827, 77.615525, 27.0], [13.0358698, 77.6323597, 4.0], [29.1523467, 75.7245798, 131.0], [13.0258087, 77.6305067, 2.0], [12.9224033, 77.6195407, 8.0], [12.9768424, 77.7103746, 8.0], [12.9732913, 77.6404672, 85.0], [12.2655944, 76.6465404, 135.0], [12.9292731, 77.5824229, 25.0], [12.9678074, 77.6568367, 22.0], [12.9846713, 77.6790908, 5.0], [19.1602288, 76.2772822, 30.0], [13.0093455, 77.6377094, 6.0], [12.9277245, 77.6327822, 106.0], [12.9282918, 77.6254034, 6.0], [12.9327778, 77.6294052, 54.0], [12.9348429, 77.6189768, 38.0], [12.9390255, 77.6238477, 45.0], [12.9364846, 77.6134783, 98.0], [12.9408685, 77.617338, 10.0], [12.9081487, 77.5553179, 21.0], [12.9755264, 77.6067902, 22.0], [1.2847055, 103.84320655721689, 4.0], [13.0027353, 77.5703253, 16.0], [12.9552572, 77.6984163, 109.0], [13.2227, 78.5541977, 7.0], [13.0378334, 77.5652106, 23.0], [12.9767936, 77.590082, 1.0], [41.528338, -71.286422, 15.0], [13.0227204, 77.595715, 2.0], [12.9882338, 77.554883, 12.0], [12.9660577, 77.5980135, 19.0], [40.5973154, -74.0929447, 36.0], [15.8782951, 74.5084834, 5.0], [30.1915796, 74.9408769, 3.0], [52.6997314, -2.0180248, 3.0], [12.9238287, 77.6540991, 50.0], [12.9931876, 77.5753419, 6.0], [21.2742644, 79.4108959, 34.0], [18.532248199999998, 73.84990967997429, 12.0], [12.973936, 77.6509982, 13.0], [12.9778793, 77.6246697, 57.0], [12.9413238, 77.7471103, 3.0], [12.988721250000001, 77.58516877601824, 12.0], [53.5533682, -2.2969019, 148.0], [12.9489339, 77.5968273, 37.0], [13.02383, 77.5529215, 3.0]],\n                {&quot;blur&quot;: 15, &quot;maxZoom&quot;: 18, &quot;minOpacity&quot;: 0.5, &quot;radius&quot;: 15, &quot;zoom&quot;: 20}\n            );\n        \n    \n                heat_map_7407d65030d74816b983f21a94d163eb.addTo(map_9f3bc7fb5f31c1861bf11c03ac694c71);\n&lt;/script&gt;\n&lt;/html&gt;\" style=\"position:absolute;width:100%;height:100%;left:0;top:0;border:none !important;\" allowfullscreen webkitallowfullscreen mozallowfullscreen></iframe></div></div>"
     },
     "execution_count": 86,
     "metadata": {},
     "output_type": "execute_result"
    }
   ],
   "source": [
    "HeatMap(north_indian[['lat','lon','count']], zoom=20, radius=15).add_to(basemap)\n",
    "basemap"
   ],
   "metadata": {
    "collapsed": false,
    "ExecuteTime": {
     "end_time": "2023-11-25T20:22:46.281666Z",
     "start_time": "2023-11-25T20:22:46.181112600Z"
    }
   },
   "id": "fb7f90584db26a25"
  },
  {
   "cell_type": "markdown",
   "source": [
    "This is the Heatmap of North Indian restaurant in Bengaluru, and the restaurant are more dense in the Koramangala Zone."
   ],
   "metadata": {
    "collapsed": false
   },
   "id": "a1061c6a1d09c67d"
  },
  {
   "cell_type": "code",
   "execution_count": null,
   "outputs": [],
   "source": [],
   "metadata": {
    "collapsed": false
   },
   "id": "e179ce89575f1625"
  },
  {
   "cell_type": "markdown",
   "source": [
    "This analysis provides valuable information as regards the correlation between the location of restaurants and their ratings.It also shed some insights as to the density and distribution, of say, the North Indian restaurants in Bengaluru.\n",
    "New Research questions:\n",
    "The observation that the highest-rated restaurants are concentrated in a specific zone might lead to new questions about the factors influencing these ratings. What specific features or characteristics contribute to the success of restaurants there?\n",
    "The heat map indicating lower restaurant density further from the central area might lead to questions about competition and market saturation. Are there opportunities for new restaurants in less dense areas? What challenges might restaurants face in more saturated zones?"
   ],
   "metadata": {
    "collapsed": false
   },
   "id": "f2176228d8eb4a8a"
  }
 ],
 "metadata": {
  "kernelspec": {
   "display_name": "Python 3",
   "language": "python",
   "name": "python3"
  },
  "language_info": {
   "codemirror_mode": {
    "name": "ipython",
    "version": 2
   },
   "file_extension": ".py",
   "mimetype": "text/x-python",
   "name": "python",
   "nbconvert_exporter": "python",
   "pygments_lexer": "ipython2",
   "version": "2.7.6"
  }
 },
 "nbformat": 4,
 "nbformat_minor": 5
}
